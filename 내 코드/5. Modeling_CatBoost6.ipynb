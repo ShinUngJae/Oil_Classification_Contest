{
 "cells": [
  {
   "cell_type": "markdown",
   "id": "zWzj1-XWrnE0",
   "metadata": {
    "id": "zWzj1-XWrnE0"
   },
   "source": [
    "# 0. 패키지 불러오기"
   ]
  },
  {
   "cell_type": "code",
   "execution_count": 1,
   "id": "rXsH1aGL8u0-",
   "metadata": {
    "colab": {
     "base_uri": "https://localhost:8080/",
     "height": 1000
    },
    "executionInfo": {
     "elapsed": 119297,
     "status": "ok",
     "timestamp": 1669475935855,
     "user": {
      "displayName": "신웅재",
      "userId": "08301511488967665306"
     },
     "user_tz": -540
    },
    "id": "rXsH1aGL8u0-",
    "outputId": "4a8ded32-8e7d-4f38-a004-5f1ce6a458af"
   },
   "outputs": [
    {
     "name": "stdout",
     "output_type": "stream",
     "text": [
      "Looking in indexes: https://pypi.org/simple, https://us-python.pkg.dev/colab-wheels/public/simple/\n",
      "Collecting catboost\n",
      "  Downloading catboost-1.1.1-cp37-none-manylinux1_x86_64.whl (76.6 MB)\n",
      "\u001b[K     |████████████████████████████████| 76.6 MB 1.2 MB/s \n",
      "\u001b[?25hRequirement already satisfied: matplotlib in /usr/local/lib/python3.7/dist-packages (from catboost) (3.2.2)\n",
      "Requirement already satisfied: numpy>=1.16.0 in /usr/local/lib/python3.7/dist-packages (from catboost) (1.21.6)\n",
      "Requirement already satisfied: pandas>=0.24.0 in /usr/local/lib/python3.7/dist-packages (from catboost) (1.3.5)\n",
      "Requirement already satisfied: plotly in /usr/local/lib/python3.7/dist-packages (from catboost) (5.5.0)\n",
      "Requirement already satisfied: six in /usr/local/lib/python3.7/dist-packages (from catboost) (1.15.0)\n",
      "Requirement already satisfied: scipy in /usr/local/lib/python3.7/dist-packages (from catboost) (1.7.3)\n",
      "Requirement already satisfied: graphviz in /usr/local/lib/python3.7/dist-packages (from catboost) (0.10.1)\n",
      "Requirement already satisfied: python-dateutil>=2.7.3 in /usr/local/lib/python3.7/dist-packages (from pandas>=0.24.0->catboost) (2.8.2)\n",
      "Requirement already satisfied: pytz>=2017.3 in /usr/local/lib/python3.7/dist-packages (from pandas>=0.24.0->catboost) (2022.6)\n",
      "Requirement already satisfied: kiwisolver>=1.0.1 in /usr/local/lib/python3.7/dist-packages (from matplotlib->catboost) (1.4.4)\n",
      "Requirement already satisfied: cycler>=0.10 in /usr/local/lib/python3.7/dist-packages (from matplotlib->catboost) (0.11.0)\n",
      "Requirement already satisfied: pyparsing!=2.0.4,!=2.1.2,!=2.1.6,>=2.0.1 in /usr/local/lib/python3.7/dist-packages (from matplotlib->catboost) (3.0.9)\n",
      "Requirement already satisfied: typing-extensions in /usr/local/lib/python3.7/dist-packages (from kiwisolver>=1.0.1->matplotlib->catboost) (4.1.1)\n",
      "Requirement already satisfied: tenacity>=6.2.0 in /usr/local/lib/python3.7/dist-packages (from plotly->catboost) (8.1.0)\n",
      "Installing collected packages: catboost\n",
      "Successfully installed catboost-1.1.1\n",
      "Looking in indexes: https://pypi.org/simple, https://us-python.pkg.dev/colab-wheels/public/simple/\n",
      "Collecting category_encoders\n",
      "  Downloading category_encoders-2.5.1.post0-py2.py3-none-any.whl (72 kB)\n",
      "\u001b[K     |████████████████████████████████| 72 kB 661 kB/s \n",
      "\u001b[?25hRequirement already satisfied: patsy>=0.5.1 in /usr/local/lib/python3.7/dist-packages (from category_encoders) (0.5.3)\n",
      "Requirement already satisfied: numpy>=1.14.0 in /usr/local/lib/python3.7/dist-packages (from category_encoders) (1.21.6)\n",
      "Requirement already satisfied: scipy>=1.0.0 in /usr/local/lib/python3.7/dist-packages (from category_encoders) (1.7.3)\n",
      "Requirement already satisfied: scikit-learn>=0.20.0 in /usr/local/lib/python3.7/dist-packages (from category_encoders) (1.0.2)\n",
      "Requirement already satisfied: statsmodels>=0.9.0 in /usr/local/lib/python3.7/dist-packages (from category_encoders) (0.12.2)\n",
      "Requirement already satisfied: pandas>=1.0.5 in /usr/local/lib/python3.7/dist-packages (from category_encoders) (1.3.5)\n",
      "Requirement already satisfied: python-dateutil>=2.7.3 in /usr/local/lib/python3.7/dist-packages (from pandas>=1.0.5->category_encoders) (2.8.2)\n",
      "Requirement already satisfied: pytz>=2017.3 in /usr/local/lib/python3.7/dist-packages (from pandas>=1.0.5->category_encoders) (2022.6)\n",
      "Requirement already satisfied: six in /usr/local/lib/python3.7/dist-packages (from patsy>=0.5.1->category_encoders) (1.15.0)\n",
      "Requirement already satisfied: joblib>=0.11 in /usr/local/lib/python3.7/dist-packages (from scikit-learn>=0.20.0->category_encoders) (1.2.0)\n",
      "Requirement already satisfied: threadpoolctl>=2.0.0 in /usr/local/lib/python3.7/dist-packages (from scikit-learn>=0.20.0->category_encoders) (3.1.0)\n",
      "Installing collected packages: category-encoders\n",
      "Successfully installed category-encoders-2.5.1.post0\n",
      "Looking in indexes: https://pypi.org/simple, https://us-python.pkg.dev/colab-wheels/public/simple/\n",
      "Collecting optuna\n",
      "  Downloading optuna-3.0.3-py3-none-any.whl (348 kB)\n",
      "\u001b[K     |████████████████████████████████| 348 kB 32.8 MB/s \n",
      "\u001b[?25hRequirement already satisfied: numpy in /usr/local/lib/python3.7/dist-packages (from optuna) (1.21.6)\n",
      "Requirement already satisfied: importlib-metadata<5.0.0 in /usr/local/lib/python3.7/dist-packages (from optuna) (4.13.0)\n",
      "Requirement already satisfied: tqdm in /usr/local/lib/python3.7/dist-packages (from optuna) (4.64.1)\n",
      "Requirement already satisfied: packaging>=20.0 in /usr/local/lib/python3.7/dist-packages (from optuna) (21.3)\n",
      "Requirement already satisfied: sqlalchemy>=1.3.0 in /usr/local/lib/python3.7/dist-packages (from optuna) (1.4.44)\n",
      "Collecting alembic>=1.5.0\n",
      "  Downloading alembic-1.8.1-py3-none-any.whl (209 kB)\n",
      "\u001b[K     |████████████████████████████████| 209 kB 45.2 MB/s \n",
      "\u001b[?25hRequirement already satisfied: PyYAML in /usr/local/lib/python3.7/dist-packages (from optuna) (6.0)\n",
      "Collecting cliff\n",
      "  Downloading cliff-3.10.1-py3-none-any.whl (81 kB)\n",
      "\u001b[K     |████████████████████████████████| 81 kB 11.2 MB/s \n",
      "\u001b[?25hRequirement already satisfied: scipy<1.9.0,>=1.7.0 in /usr/local/lib/python3.7/dist-packages (from optuna) (1.7.3)\n",
      "Collecting cmaes>=0.8.2\n",
      "  Downloading cmaes-0.9.0-py3-none-any.whl (23 kB)\n",
      "Collecting colorlog\n",
      "  Downloading colorlog-6.7.0-py2.py3-none-any.whl (11 kB)\n",
      "Collecting Mako\n",
      "  Downloading Mako-1.2.4-py3-none-any.whl (78 kB)\n",
      "\u001b[K     |████████████████████████████████| 78 kB 8.4 MB/s \n",
      "\u001b[?25hRequirement already satisfied: importlib-resources in /usr/local/lib/python3.7/dist-packages (from alembic>=1.5.0->optuna) (5.10.0)\n",
      "Requirement already satisfied: zipp>=0.5 in /usr/local/lib/python3.7/dist-packages (from importlib-metadata<5.0.0->optuna) (3.10.0)\n",
      "Requirement already satisfied: typing-extensions>=3.6.4 in /usr/local/lib/python3.7/dist-packages (from importlib-metadata<5.0.0->optuna) (4.1.1)\n",
      "Requirement already satisfied: pyparsing!=3.0.5,>=2.0.2 in /usr/local/lib/python3.7/dist-packages (from packaging>=20.0->optuna) (3.0.9)\n",
      "Requirement already satisfied: greenlet!=0.4.17 in /usr/local/lib/python3.7/dist-packages (from sqlalchemy>=1.3.0->optuna) (2.0.1)\n",
      "Collecting cmd2>=1.0.0\n",
      "  Downloading cmd2-2.4.2-py3-none-any.whl (147 kB)\n",
      "\u001b[K     |████████████████████████████████| 147 kB 78.8 MB/s \n",
      "\u001b[?25hCollecting stevedore>=2.0.1\n",
      "  Downloading stevedore-3.5.2-py3-none-any.whl (50 kB)\n",
      "\u001b[K     |████████████████████████████████| 50 kB 7.1 MB/s \n",
      "\u001b[?25hCollecting pbr!=2.1.0,>=2.0.0\n",
      "  Downloading pbr-5.11.0-py2.py3-none-any.whl (112 kB)\n",
      "\u001b[K     |████████████████████████████████| 112 kB 54.0 MB/s \n",
      "\u001b[?25hCollecting autopage>=0.4.0\n",
      "  Downloading autopage-0.5.1-py3-none-any.whl (29 kB)\n",
      "Requirement already satisfied: PrettyTable>=0.7.2 in /usr/local/lib/python3.7/dist-packages (from cliff->optuna) (3.5.0)\n",
      "Requirement already satisfied: wcwidth>=0.1.7 in /usr/local/lib/python3.7/dist-packages (from cmd2>=1.0.0->cliff->optuna) (0.2.5)\n",
      "Collecting pyperclip>=1.6\n",
      "  Downloading pyperclip-1.8.2.tar.gz (20 kB)\n",
      "Requirement already satisfied: attrs>=16.3.0 in /usr/local/lib/python3.7/dist-packages (from cmd2>=1.0.0->cliff->optuna) (22.1.0)\n",
      "Requirement already satisfied: MarkupSafe>=0.9.2 in /usr/local/lib/python3.7/dist-packages (from Mako->alembic>=1.5.0->optuna) (2.0.1)\n",
      "Building wheels for collected packages: pyperclip\n",
      "  Building wheel for pyperclip (setup.py) ... \u001b[?25l\u001b[?25hdone\n",
      "  Created wheel for pyperclip: filename=pyperclip-1.8.2-py3-none-any.whl size=11136 sha256=b18a42cec8fa45ab59e938af598e8417be2275f8f6c28ee044e6373c92c3b354\n",
      "  Stored in directory: /root/.cache/pip/wheels/9f/18/84/8f69f8b08169c7bae2dde6bd7daf0c19fca8c8e500ee620a28\n",
      "Successfully built pyperclip\n",
      "Installing collected packages: pyperclip, pbr, stevedore, Mako, cmd2, autopage, colorlog, cmaes, cliff, alembic, optuna\n",
      "Successfully installed Mako-1.2.4 alembic-1.8.1 autopage-0.5.1 cliff-3.10.1 cmaes-0.9.0 cmd2-2.4.2 colorlog-6.7.0 optuna-3.0.3 pbr-5.11.0 pyperclip-1.8.2 stevedore-3.5.2\n",
      "Looking in indexes: https://pypi.org/simple, https://us-python.pkg.dev/colab-wheels/public/simple/\n",
      "Collecting kmodes\n",
      "  Downloading kmodes-0.12.2-py2.py3-none-any.whl (20 kB)\n",
      "Requirement already satisfied: scipy>=0.13.3 in /usr/local/lib/python3.7/dist-packages (from kmodes) (1.7.3)\n",
      "Requirement already satisfied: scikit-learn>=0.22.0 in /usr/local/lib/python3.7/dist-packages (from kmodes) (1.0.2)\n",
      "Requirement already satisfied: numpy>=1.10.4 in /usr/local/lib/python3.7/dist-packages (from kmodes) (1.21.6)\n",
      "Requirement already satisfied: joblib>=0.11 in /usr/local/lib/python3.7/dist-packages (from kmodes) (1.2.0)\n",
      "Requirement already satisfied: threadpoolctl>=2.0.0 in /usr/local/lib/python3.7/dist-packages (from scikit-learn>=0.22.0->kmodes) (3.1.0)\n",
      "Installing collected packages: kmodes\n",
      "Successfully installed kmodes-0.12.2\n",
      "Looking in indexes: https://pypi.org/simple, https://us-python.pkg.dev/colab-wheels/public/simple/\n",
      "Collecting pycaret\n",
      "  Downloading pycaret-2.3.10-py3-none-any.whl (320 kB)\n",
      "\u001b[K     |████████████████████████████████| 320 kB 32.4 MB/s \n",
      "\u001b[?25hRequirement already satisfied: matplotlib in /usr/local/lib/python3.7/dist-packages (from pycaret) (3.2.2)\n",
      "Requirement already satisfied: textblob in /usr/local/lib/python3.7/dist-packages (from pycaret) (0.15.3)\n",
      "Collecting scikit-learn==0.23.2\n",
      "  Downloading scikit_learn-0.23.2-cp37-cp37m-manylinux1_x86_64.whl (6.8 MB)\n",
      "\u001b[K     |████████████████████████████████| 6.8 MB 54.6 MB/s \n",
      "\u001b[?25hCollecting spacy<2.4.0\n",
      "  Downloading spacy-2.3.8-cp37-cp37m-manylinux_2_17_x86_64.manylinux2014_x86_64.whl (4.8 MB)\n",
      "\u001b[K     |████████████████████████████████| 4.8 MB 48.9 MB/s \n",
      "\u001b[?25hCollecting lightgbm>=2.3.1\n",
      "  Downloading lightgbm-3.3.3-py3-none-manylinux1_x86_64.whl (2.0 MB)\n",
      "\u001b[K     |████████████████████████████████| 2.0 MB 57.1 MB/s \n",
      "\u001b[?25hCollecting mlxtend>=0.17.0\n",
      "  Downloading mlxtend-0.21.0-py2.py3-none-any.whl (1.3 MB)\n",
      "\u001b[K     |████████████████████████████████| 1.3 MB 79.7 MB/s \n",
      "\u001b[?25hCollecting imbalanced-learn==0.7.0\n",
      "  Downloading imbalanced_learn-0.7.0-py3-none-any.whl (167 kB)\n",
      "\u001b[K     |████████████████████████████████| 167 kB 68.1 MB/s \n",
      "\u001b[?25hRequirement already satisfied: pandas in /usr/local/lib/python3.7/dist-packages (from pycaret) (1.3.5)\n",
      "Requirement already satisfied: joblib in /usr/local/lib/python3.7/dist-packages (from pycaret) (1.2.0)\n",
      "Collecting numba<0.55\n",
      "  Downloading numba-0.54.1-cp37-cp37m-manylinux2014_x86_64.manylinux_2_17_x86_64.whl (3.3 MB)\n",
      "\u001b[K     |████████████████████████████████| 3.3 MB 52.1 MB/s \n",
      "\u001b[?25hCollecting scipy<=1.5.4\n",
      "  Downloading scipy-1.5.4-cp37-cp37m-manylinux1_x86_64.whl (25.9 MB)\n",
      "\u001b[K     |████████████████████████████████| 25.9 MB 1.3 MB/s \n",
      "\u001b[?25hRequirement already satisfied: cufflinks>=0.17.0 in /usr/local/lib/python3.7/dist-packages (from pycaret) (0.17.3)\n",
      "Requirement already satisfied: gensim<4.0.0 in /usr/local/lib/python3.7/dist-packages (from pycaret) (3.6.0)\n",
      "Requirement already satisfied: ipywidgets in /usr/local/lib/python3.7/dist-packages (from pycaret) (7.7.1)\n",
      "Collecting pyod\n",
      "  Downloading pyod-1.0.6.tar.gz (141 kB)\n",
      "\u001b[K     |████████████████████████████████| 141 kB 71.0 MB/s \n",
      "\u001b[?25hCollecting pandas-profiling>=2.8.0\n",
      "  Downloading pandas_profiling-3.5.0-py2.py3-none-any.whl (325 kB)\n",
      "\u001b[K     |████████████████████████████████| 325 kB 59.3 MB/s \n",
      "\u001b[?25hCollecting mlflow\n",
      "  Downloading mlflow-1.30.0-py3-none-any.whl (17.0 MB)\n",
      "\u001b[K     |████████████████████████████████| 17.0 MB 66.1 MB/s \n",
      "\u001b[?25hRequirement already satisfied: wordcloud in /usr/local/lib/python3.7/dist-packages (from pycaret) (1.8.2.2)\n",
      "Collecting pyLDAvis\n",
      "  Downloading pyLDAvis-3.3.1.tar.gz (1.7 MB)\n",
      "\u001b[K     |████████████████████████████████| 1.7 MB 58.7 MB/s \n",
      "\u001b[?25h  Installing build dependencies ... \u001b[?25l\u001b[?25hdone\n",
      "  Getting requirements to build wheel ... \u001b[?25l\u001b[?25hdone\n",
      "  Installing backend dependencies ... \u001b[?25l\u001b[?25hdone\n",
      "    Preparing wheel metadata ... \u001b[?25l\u001b[?25hdone\n",
      "Requirement already satisfied: yellowbrick>=1.0.1 in /usr/local/lib/python3.7/dist-packages (from pycaret) (1.5)\n",
      "Requirement already satisfied: plotly>=4.4.1 in /usr/local/lib/python3.7/dist-packages (from pycaret) (5.5.0)\n",
      "Requirement already satisfied: nltk in /usr/local/lib/python3.7/dist-packages (from pycaret) (3.7)\n",
      "Requirement already satisfied: IPython in /usr/local/lib/python3.7/dist-packages (from pycaret) (7.9.0)\n",
      "Collecting scikit-plot\n",
      "  Downloading scikit_plot-0.3.7-py3-none-any.whl (33 kB)\n",
      "Collecting umap-learn\n",
      "  Downloading umap-learn-0.5.3.tar.gz (88 kB)\n",
      "\u001b[K     |████████████████████████████████| 88 kB 7.7 MB/s \n",
      "\u001b[?25hRequirement already satisfied: kmodes>=0.10.1 in /usr/local/lib/python3.7/dist-packages (from pycaret) (0.12.2)\n",
      "Requirement already satisfied: seaborn in /usr/local/lib/python3.7/dist-packages (from pycaret) (0.11.2)\n",
      "Collecting pyyaml<6.0.0\n",
      "  Downloading PyYAML-5.4.1-cp37-cp37m-manylinux1_x86_64.whl (636 kB)\n",
      "\u001b[K     |████████████████████████████████| 636 kB 63.6 MB/s \n",
      "\u001b[?25hCollecting Boruta\n",
      "  Downloading Boruta-0.3-py3-none-any.whl (56 kB)\n",
      "\u001b[K     |████████████████████████████████| 56 kB 4.6 MB/s \n",
      "\u001b[?25hRequirement already satisfied: numpy>=1.13.3 in /usr/local/lib/python3.7/dist-packages (from imbalanced-learn==0.7.0->pycaret) (1.21.6)\n",
      "Requirement already satisfied: threadpoolctl>=2.0.0 in /usr/local/lib/python3.7/dist-packages (from scikit-learn==0.23.2->pycaret) (3.1.0)\n",
      "Requirement already satisfied: colorlover>=0.2.1 in /usr/local/lib/python3.7/dist-packages (from cufflinks>=0.17.0->pycaret) (0.3.0)\n",
      "Requirement already satisfied: six>=1.9.0 in /usr/local/lib/python3.7/dist-packages (from cufflinks>=0.17.0->pycaret) (1.15.0)\n",
      "Requirement already satisfied: setuptools>=34.4.1 in /usr/local/lib/python3.7/dist-packages (from cufflinks>=0.17.0->pycaret) (57.4.0)\n",
      "Requirement already satisfied: smart-open>=1.2.1 in /usr/local/lib/python3.7/dist-packages (from gensim<4.0.0->pycaret) (5.2.1)\n",
      "Requirement already satisfied: pexpect in /usr/local/lib/python3.7/dist-packages (from IPython->pycaret) (4.8.0)\n",
      "Requirement already satisfied: backcall in /usr/local/lib/python3.7/dist-packages (from IPython->pycaret) (0.2.0)\n",
      "Collecting jedi>=0.10\n",
      "  Downloading jedi-0.18.2-py2.py3-none-any.whl (1.6 MB)\n",
      "\u001b[K     |████████████████████████████████| 1.6 MB 69.9 MB/s \n",
      "\u001b[?25hRequirement already satisfied: decorator in /usr/local/lib/python3.7/dist-packages (from IPython->pycaret) (4.4.2)\n",
      "Requirement already satisfied: pygments in /usr/local/lib/python3.7/dist-packages (from IPython->pycaret) (2.6.1)\n",
      "Requirement already satisfied: prompt-toolkit<2.1.0,>=2.0.0 in /usr/local/lib/python3.7/dist-packages (from IPython->pycaret) (2.0.10)\n",
      "Requirement already satisfied: traitlets>=4.2 in /usr/local/lib/python3.7/dist-packages (from IPython->pycaret) (5.1.1)\n",
      "Requirement already satisfied: pickleshare in /usr/local/lib/python3.7/dist-packages (from IPython->pycaret) (0.7.5)\n",
      "Requirement already satisfied: ipython-genutils~=0.2.0 in /usr/local/lib/python3.7/dist-packages (from ipywidgets->pycaret) (0.2.0)\n",
      "Requirement already satisfied: ipykernel>=4.5.1 in /usr/local/lib/python3.7/dist-packages (from ipywidgets->pycaret) (5.3.4)\n",
      "Requirement already satisfied: widgetsnbextension~=3.6.0 in /usr/local/lib/python3.7/dist-packages (from ipywidgets->pycaret) (3.6.1)\n",
      "Requirement already satisfied: jupyterlab-widgets>=1.0.0 in /usr/local/lib/python3.7/dist-packages (from ipywidgets->pycaret) (3.0.3)\n",
      "Requirement already satisfied: tornado>=4.2 in /usr/local/lib/python3.7/dist-packages (from ipykernel>=4.5.1->ipywidgets->pycaret) (6.0.4)\n",
      "Requirement already satisfied: jupyter-client in /usr/local/lib/python3.7/dist-packages (from ipykernel>=4.5.1->ipywidgets->pycaret) (6.1.12)\n",
      "Requirement already satisfied: parso<0.9.0,>=0.8.0 in /usr/local/lib/python3.7/dist-packages (from jedi>=0.10->IPython->pycaret) (0.8.3)\n",
      "Requirement already satisfied: wheel in /usr/local/lib/python3.7/dist-packages (from lightgbm>=2.3.1->pycaret) (0.38.4)\n",
      "Collecting mlxtend>=0.17.0\n",
      "  Downloading mlxtend-0.20.0-py2.py3-none-any.whl (1.3 MB)\n",
      "\u001b[K     |████████████████████████████████| 1.3 MB 55.4 MB/s \n",
      "\u001b[?25h  Downloading mlxtend-0.19.0-py2.py3-none-any.whl (1.3 MB)\n",
      "\u001b[K     |████████████████████████████████| 1.3 MB 72.1 MB/s \n",
      "\u001b[?25hRequirement already satisfied: python-dateutil>=2.1 in /usr/local/lib/python3.7/dist-packages (from matplotlib->pycaret) (2.8.2)\n",
      "Requirement already satisfied: kiwisolver>=1.0.1 in /usr/local/lib/python3.7/dist-packages (from matplotlib->pycaret) (1.4.4)\n",
      "Requirement already satisfied: cycler>=0.10 in /usr/local/lib/python3.7/dist-packages (from matplotlib->pycaret) (0.11.0)\n",
      "Requirement already satisfied: pyparsing!=2.0.4,!=2.1.2,!=2.1.6,>=2.0.1 in /usr/local/lib/python3.7/dist-packages (from matplotlib->pycaret) (3.0.9)\n",
      "Requirement already satisfied: typing-extensions in /usr/local/lib/python3.7/dist-packages (from kiwisolver>=1.0.1->matplotlib->pycaret) (4.1.1)\n",
      "Collecting numpy>=1.13.3\n",
      "  Downloading numpy-1.20.3-cp37-cp37m-manylinux_2_12_x86_64.manylinux2010_x86_64.whl (15.3 MB)\n",
      "\u001b[K     |████████████████████████████████| 15.3 MB 43.2 MB/s \n",
      "\u001b[?25hCollecting llvmlite<0.38,>=0.37.0rc1\n",
      "  Downloading llvmlite-0.37.0-cp37-cp37m-manylinux2014_x86_64.whl (26.3 MB)\n",
      "\u001b[K     |████████████████████████████████| 26.3 MB 36.7 MB/s \n",
      "\u001b[?25hRequirement already satisfied: pytz>=2017.3 in /usr/local/lib/python3.7/dist-packages (from pandas->pycaret) (2022.6)\n",
      "Requirement already satisfied: pydantic<1.11,>=1.8.1 in /usr/local/lib/python3.7/dist-packages (from pandas-profiling>=2.8.0->pycaret) (1.10.2)\n",
      "Collecting phik<0.13,>=0.11.1\n",
      "  Downloading phik-0.12.2-cp37-cp37m-manylinux_2_17_x86_64.manylinux2014_x86_64.whl (690 kB)\n",
      "\u001b[K     |████████████████████████████████| 690 kB 63.7 MB/s \n",
      "\u001b[?25hRequirement already satisfied: jinja2<3.2,>=2.11.1 in /usr/local/lib/python3.7/dist-packages (from pandas-profiling>=2.8.0->pycaret) (2.11.3)\n",
      "Collecting requests<2.29,>=2.24.0\n",
      "  Downloading requests-2.28.1-py3-none-any.whl (62 kB)\n",
      "\u001b[K     |████████████████████████████████| 62 kB 1.3 MB/s \n",
      "\u001b[?25hRequirement already satisfied: tqdm<4.65,>=4.48.2 in /usr/local/lib/python3.7/dist-packages (from pandas-profiling>=2.8.0->pycaret) (4.64.1)\n",
      "Collecting typeguard<2.14,>=2.13.2\n",
      "  Downloading typeguard-2.13.3-py3-none-any.whl (17 kB)\n",
      "Collecting statsmodels<0.14,>=0.13.2\n",
      "  Downloading statsmodels-0.13.5-cp37-cp37m-manylinux_2_17_x86_64.manylinux2014_x86_64.whl (9.9 MB)\n",
      "\u001b[K     |████████████████████████████████| 9.9 MB 51.6 MB/s \n",
      "\u001b[?25hCollecting htmlmin==0.1.12\n",
      "  Downloading htmlmin-0.1.12.tar.gz (19 kB)\n",
      "Collecting visions[type_image_path]==0.7.5\n",
      "  Downloading visions-0.7.5-py3-none-any.whl (102 kB)\n",
      "\u001b[K     |████████████████████████████████| 102 kB 70.5 MB/s \n",
      "\u001b[?25hCollecting multimethod<1.10,>=1.4\n",
      "  Downloading multimethod-1.9-py3-none-any.whl (10 kB)\n",
      "Collecting tangled-up-in-unicode>=0.0.4\n",
      "  Downloading tangled_up_in_unicode-0.2.0-py3-none-any.whl (4.7 MB)\n",
      "\u001b[K     |████████████████████████████████| 4.7 MB 56.4 MB/s \n",
      "\u001b[?25hRequirement already satisfied: networkx>=2.4 in /usr/local/lib/python3.7/dist-packages (from visions[type_image_path]==0.7.5->pandas-profiling>=2.8.0->pycaret) (2.6.3)\n",
      "Requirement already satisfied: attrs>=19.3.0 in /usr/local/lib/python3.7/dist-packages (from visions[type_image_path]==0.7.5->pandas-profiling>=2.8.0->pycaret) (22.1.0)\n",
      "Requirement already satisfied: Pillow in /usr/local/lib/python3.7/dist-packages (from visions[type_image_path]==0.7.5->pandas-profiling>=2.8.0->pycaret) (7.1.2)\n",
      "Collecting imagehash\n",
      "  Downloading ImageHash-4.3.1-py2.py3-none-any.whl (296 kB)\n",
      "\u001b[K     |████████████████████████████████| 296 kB 68.3 MB/s \n",
      "\u001b[?25hRequirement already satisfied: MarkupSafe>=0.23 in /usr/local/lib/python3.7/dist-packages (from jinja2<3.2,>=2.11.1->pandas-profiling>=2.8.0->pycaret) (2.0.1)\n",
      "Requirement already satisfied: tenacity>=6.2.0 in /usr/local/lib/python3.7/dist-packages (from plotly>=4.4.1->pycaret) (8.1.0)\n",
      "Requirement already satisfied: wcwidth in /usr/local/lib/python3.7/dist-packages (from prompt-toolkit<2.1.0,>=2.0.0->IPython->pycaret) (0.2.5)\n",
      "Requirement already satisfied: urllib3<1.27,>=1.21.1 in /usr/local/lib/python3.7/dist-packages (from requests<2.29,>=2.24.0->pandas-profiling>=2.8.0->pycaret) (1.24.3)\n",
      "Requirement already satisfied: idna<4,>=2.5 in /usr/local/lib/python3.7/dist-packages (from requests<2.29,>=2.24.0->pandas-profiling>=2.8.0->pycaret) (2.10)\n",
      "Requirement already satisfied: certifi>=2017.4.17 in /usr/local/lib/python3.7/dist-packages (from requests<2.29,>=2.24.0->pandas-profiling>=2.8.0->pycaret) (2022.9.24)\n",
      "Requirement already satisfied: charset-normalizer<3,>=2 in /usr/local/lib/python3.7/dist-packages (from requests<2.29,>=2.24.0->pandas-profiling>=2.8.0->pycaret) (2.1.1)\n",
      "Requirement already satisfied: murmurhash<1.1.0,>=0.28.0 in /usr/local/lib/python3.7/dist-packages (from spacy<2.4.0->pycaret) (1.0.9)\n",
      "Collecting srsly<1.1.0,>=1.0.2\n",
      "  Downloading srsly-1.0.6-cp37-cp37m-manylinux_2_17_x86_64.manylinux2014_x86_64.whl (208 kB)\n",
      "\u001b[K     |████████████████████████████████| 208 kB 66.9 MB/s \n",
      "\u001b[?25hCollecting plac<1.2.0,>=0.9.6\n",
      "  Downloading plac-1.1.3-py2.py3-none-any.whl (20 kB)\n",
      "Collecting thinc<7.5.0,>=7.4.1\n",
      "  Downloading thinc-7.4.6-cp37-cp37m-manylinux_2_17_x86_64.manylinux2014_x86_64.whl (1.0 MB)\n",
      "\u001b[K     |████████████████████████████████| 1.0 MB 73.5 MB/s \n",
      "\u001b[?25hCollecting catalogue<1.1.0,>=0.0.7\n",
      "  Downloading catalogue-1.0.2-py2.py3-none-any.whl (16 kB)\n",
      "Requirement already satisfied: blis<0.8.0,>=0.4.0 in /usr/local/lib/python3.7/dist-packages (from spacy<2.4.0->pycaret) (0.7.9)\n",
      "Requirement already satisfied: wasabi<1.1.0,>=0.4.0 in /usr/local/lib/python3.7/dist-packages (from spacy<2.4.0->pycaret) (0.10.1)\n",
      "Requirement already satisfied: cymem<2.1.0,>=2.0.2 in /usr/local/lib/python3.7/dist-packages (from spacy<2.4.0->pycaret) (2.0.7)\n",
      "Requirement already satisfied: preshed<3.1.0,>=3.0.2 in /usr/local/lib/python3.7/dist-packages (from spacy<2.4.0->pycaret) (3.0.8)\n",
      "Requirement already satisfied: zipp>=0.5 in /usr/local/lib/python3.7/dist-packages (from catalogue<1.1.0,>=0.0.7->spacy<2.4.0->pycaret) (3.10.0)\n",
      "Requirement already satisfied: packaging>=21.3 in /usr/local/lib/python3.7/dist-packages (from statsmodels<0.14,>=0.13.2->pandas-profiling>=2.8.0->pycaret) (21.3)\n",
      "Requirement already satisfied: patsy>=0.5.2 in /usr/local/lib/python3.7/dist-packages (from statsmodels<0.14,>=0.13.2->pandas-profiling>=2.8.0->pycaret) (0.5.3)\n",
      "Requirement already satisfied: notebook>=4.4.1 in /usr/local/lib/python3.7/dist-packages (from widgetsnbextension~=3.6.0->ipywidgets->pycaret) (5.7.16)\n",
      "Requirement already satisfied: terminado>=0.8.1 in /usr/local/lib/python3.7/dist-packages (from notebook>=4.4.1->widgetsnbextension~=3.6.0->ipywidgets->pycaret) (0.13.3)\n",
      "Requirement already satisfied: nbconvert<6.0 in /usr/local/lib/python3.7/dist-packages (from notebook>=4.4.1->widgetsnbextension~=3.6.0->ipywidgets->pycaret) (5.6.1)\n",
      "Requirement already satisfied: jupyter-core>=4.4.0 in /usr/local/lib/python3.7/dist-packages (from notebook>=4.4.1->widgetsnbextension~=3.6.0->ipywidgets->pycaret) (4.11.2)\n",
      "Requirement already satisfied: pyzmq>=17 in /usr/local/lib/python3.7/dist-packages (from notebook>=4.4.1->widgetsnbextension~=3.6.0->ipywidgets->pycaret) (23.2.1)\n",
      "Requirement already satisfied: nbformat in /usr/local/lib/python3.7/dist-packages (from notebook>=4.4.1->widgetsnbextension~=3.6.0->ipywidgets->pycaret) (5.7.0)\n",
      "Requirement already satisfied: prometheus-client in /usr/local/lib/python3.7/dist-packages (from notebook>=4.4.1->widgetsnbextension~=3.6.0->ipywidgets->pycaret) (0.15.0)\n",
      "Requirement already satisfied: Send2Trash in /usr/local/lib/python3.7/dist-packages (from notebook>=4.4.1->widgetsnbextension~=3.6.0->ipywidgets->pycaret) (1.8.0)\n",
      "Requirement already satisfied: pandocfilters>=1.4.1 in /usr/local/lib/python3.7/dist-packages (from nbconvert<6.0->notebook>=4.4.1->widgetsnbextension~=3.6.0->ipywidgets->pycaret) (1.5.0)\n",
      "Requirement already satisfied: entrypoints>=0.2.2 in /usr/local/lib/python3.7/dist-packages (from nbconvert<6.0->notebook>=4.4.1->widgetsnbextension~=3.6.0->ipywidgets->pycaret) (0.4)\n",
      "Requirement already satisfied: testpath in /usr/local/lib/python3.7/dist-packages (from nbconvert<6.0->notebook>=4.4.1->widgetsnbextension~=3.6.0->ipywidgets->pycaret) (0.6.0)\n",
      "Requirement already satisfied: defusedxml in /usr/local/lib/python3.7/dist-packages (from nbconvert<6.0->notebook>=4.4.1->widgetsnbextension~=3.6.0->ipywidgets->pycaret) (0.7.1)\n",
      "Requirement already satisfied: bleach in /usr/local/lib/python3.7/dist-packages (from nbconvert<6.0->notebook>=4.4.1->widgetsnbextension~=3.6.0->ipywidgets->pycaret) (5.0.1)\n",
      "Requirement already satisfied: mistune<2,>=0.8.1 in /usr/local/lib/python3.7/dist-packages (from nbconvert<6.0->notebook>=4.4.1->widgetsnbextension~=3.6.0->ipywidgets->pycaret) (0.8.4)\n",
      "Requirement already satisfied: importlib-metadata>=3.6 in /usr/local/lib/python3.7/dist-packages (from nbformat->notebook>=4.4.1->widgetsnbextension~=3.6.0->ipywidgets->pycaret) (4.13.0)\n",
      "Requirement already satisfied: fastjsonschema in /usr/local/lib/python3.7/dist-packages (from nbformat->notebook>=4.4.1->widgetsnbextension~=3.6.0->ipywidgets->pycaret) (2.16.2)\n",
      "Requirement already satisfied: jsonschema>=2.6 in /usr/local/lib/python3.7/dist-packages (from nbformat->notebook>=4.4.1->widgetsnbextension~=3.6.0->ipywidgets->pycaret) (4.3.3)\n",
      "Requirement already satisfied: pyrsistent!=0.17.0,!=0.17.1,!=0.17.2,>=0.14.0 in /usr/local/lib/python3.7/dist-packages (from jsonschema>=2.6->nbformat->notebook>=4.4.1->widgetsnbextension~=3.6.0->ipywidgets->pycaret) (0.19.2)\n",
      "Requirement already satisfied: importlib-resources>=1.4.0 in /usr/local/lib/python3.7/dist-packages (from jsonschema>=2.6->nbformat->notebook>=4.4.1->widgetsnbextension~=3.6.0->ipywidgets->pycaret) (5.10.0)\n",
      "Requirement already satisfied: ptyprocess in /usr/local/lib/python3.7/dist-packages (from terminado>=0.8.1->notebook>=4.4.1->widgetsnbextension~=3.6.0->ipywidgets->pycaret) (0.7.0)\n",
      "Collecting yellowbrick>=1.0.1\n",
      "  Downloading yellowbrick-1.4-py3-none-any.whl (274 kB)\n",
      "\u001b[K     |████████████████████████████████| 274 kB 35.9 MB/s \n",
      "\u001b[?25h  Downloading yellowbrick-1.3.post1-py3-none-any.whl (271 kB)\n",
      "\u001b[K     |████████████████████████████████| 271 kB 54.4 MB/s \n",
      "\u001b[?25hCollecting numpy>=1.13.3\n",
      "  Downloading numpy-1.19.5-cp37-cp37m-manylinux2010_x86_64.whl (14.8 MB)\n",
      "\u001b[K     |████████████████████████████████| 14.8 MB 54.1 MB/s \n",
      "\u001b[?25hRequirement already satisfied: webencodings in /usr/local/lib/python3.7/dist-packages (from bleach->nbconvert<6.0->notebook>=4.4.1->widgetsnbextension~=3.6.0->ipywidgets->pycaret) (0.5.1)\n",
      "Requirement already satisfied: PyWavelets in /usr/local/lib/python3.7/dist-packages (from imagehash->visions[type_image_path]==0.7.5->pandas-profiling>=2.8.0->pycaret) (1.3.0)\n",
      "Requirement already satisfied: sqlalchemy<2,>=1.4.0 in /usr/local/lib/python3.7/dist-packages (from mlflow->pycaret) (1.4.44)\n",
      "Collecting docker<7,>=4.0.0\n",
      "  Downloading docker-6.0.1-py3-none-any.whl (147 kB)\n",
      "\u001b[K     |████████████████████████████████| 147 kB 65.8 MB/s \n",
      "\u001b[?25hCollecting gitpython<4,>=2.1.0\n",
      "  Downloading GitPython-3.1.29-py3-none-any.whl (182 kB)\n",
      "\u001b[K     |████████████████████████████████| 182 kB 69.1 MB/s \n",
      "\u001b[?25hRequirement already satisfied: cloudpickle<3 in /usr/local/lib/python3.7/dist-packages (from mlflow->pycaret) (1.5.0)\n",
      "Collecting databricks-cli<1,>=0.8.7\n",
      "  Downloading databricks-cli-0.17.3.tar.gz (77 kB)\n",
      "\u001b[K     |████████████████████████████████| 77 kB 5.8 MB/s \n",
      "\u001b[?25hCollecting gunicorn<21\n",
      "  Downloading gunicorn-20.1.0-py3-none-any.whl (79 kB)\n",
      "\u001b[K     |████████████████████████████████| 79 kB 6.9 MB/s \n",
      "\u001b[?25hRequirement already satisfied: protobuf<5,>=3.12.0 in /usr/local/lib/python3.7/dist-packages (from mlflow->pycaret) (3.19.6)\n",
      "Collecting querystring-parser<2\n",
      "  Downloading querystring_parser-1.2.4-py2.py3-none-any.whl (7.9 kB)\n",
      "Requirement already satisfied: Flask<3 in /usr/local/lib/python3.7/dist-packages (from mlflow->pycaret) (1.1.4)\n",
      "Requirement already satisfied: click<9,>=7.0 in /usr/local/lib/python3.7/dist-packages (from mlflow->pycaret) (7.1.2)\n",
      "Requirement already satisfied: sqlparse<1,>=0.4.0 in /usr/local/lib/python3.7/dist-packages (from mlflow->pycaret) (0.4.3)\n",
      "Requirement already satisfied: alembic<2 in /usr/local/lib/python3.7/dist-packages (from mlflow->pycaret) (1.8.1)\n",
      "Collecting prometheus-flask-exporter<1\n",
      "  Downloading prometheus_flask_exporter-0.21.0-py3-none-any.whl (18 kB)\n",
      "Requirement already satisfied: Mako in /usr/local/lib/python3.7/dist-packages (from alembic<2->mlflow->pycaret) (1.2.4)\n",
      "Collecting pyjwt>=1.7.0\n",
      "  Downloading PyJWT-2.6.0-py3-none-any.whl (20 kB)\n",
      "Requirement already satisfied: oauthlib>=3.1.0 in /usr/local/lib/python3.7/dist-packages (from databricks-cli<1,>=0.8.7->mlflow->pycaret) (3.2.2)\n",
      "Requirement already satisfied: tabulate>=0.7.7 in /usr/local/lib/python3.7/dist-packages (from databricks-cli<1,>=0.8.7->mlflow->pycaret) (0.8.10)\n",
      "Collecting urllib3<1.27,>=1.21.1\n",
      "  Downloading urllib3-1.26.13-py2.py3-none-any.whl (140 kB)\n",
      "\u001b[K     |████████████████████████████████| 140 kB 60.6 MB/s \n",
      "\u001b[?25hCollecting websocket-client>=0.32.0\n",
      "  Downloading websocket_client-1.4.2-py3-none-any.whl (55 kB)\n",
      "\u001b[K     |████████████████████████████████| 55 kB 3.2 MB/s \n",
      "\u001b[?25hRequirement already satisfied: Werkzeug<2.0,>=0.15 in /usr/local/lib/python3.7/dist-packages (from Flask<3->mlflow->pycaret) (1.0.1)\n",
      "Requirement already satisfied: itsdangerous<2.0,>=0.24 in /usr/local/lib/python3.7/dist-packages (from Flask<3->mlflow->pycaret) (1.1.0)\n",
      "Collecting gitdb<5,>=4.0.1\n",
      "  Downloading gitdb-4.0.10-py3-none-any.whl (62 kB)\n",
      "\u001b[K     |████████████████████████████████| 62 kB 1.4 MB/s \n",
      "\u001b[?25hCollecting smmap<6,>=3.0.1\n",
      "  Downloading smmap-5.0.0-py3-none-any.whl (24 kB)\n",
      "Requirement already satisfied: greenlet!=0.4.17 in /usr/local/lib/python3.7/dist-packages (from sqlalchemy<2,>=1.4.0->mlflow->pycaret) (2.0.1)\n",
      "Requirement already satisfied: regex>=2021.8.3 in /usr/local/lib/python3.7/dist-packages (from nltk->pycaret) (2022.6.2)\n",
      "Requirement already satisfied: future in /usr/local/lib/python3.7/dist-packages (from pyLDAvis->pycaret) (0.16.0)\n",
      "Collecting pyLDAvis\n",
      "  Downloading pyLDAvis-3.3.0.tar.gz (1.7 MB)\n",
      "\u001b[K     |████████████████████████████████| 1.7 MB 56.7 MB/s \n",
      "\u001b[?25h  Installing build dependencies ... \u001b[?25l\u001b[?25hdone\n",
      "  Getting requirements to build wheel ... \u001b[?25l\u001b[?25hdone\n",
      "  Installing backend dependencies ... \u001b[?25l\u001b[?25hdone\n",
      "    Preparing wheel metadata ... \u001b[?25l\u001b[?25hdone\n",
      "  Downloading pyLDAvis-3.2.2.tar.gz (1.7 MB)\n",
      "\u001b[K     |████████████████████████████████| 1.7 MB 50.2 MB/s \n",
      "\u001b[?25hRequirement already satisfied: numexpr in /usr/local/lib/python3.7/dist-packages (from pyLDAvis->pycaret) (2.8.4)\n",
      "Collecting funcy\n",
      "  Downloading funcy-1.17-py2.py3-none-any.whl (33 kB)\n",
      "Collecting pynndescent>=0.5\n",
      "  Downloading pynndescent-0.5.8.tar.gz (1.1 MB)\n",
      "\u001b[K     |████████████████████████████████| 1.1 MB 53.5 MB/s \n",
      "\u001b[?25hBuilding wheels for collected packages: htmlmin, databricks-cli, pyLDAvis, pyod, umap-learn, pynndescent\n",
      "  Building wheel for htmlmin (setup.py) ... \u001b[?25l\u001b[?25hdone\n",
      "  Created wheel for htmlmin: filename=htmlmin-0.1.12-py3-none-any.whl size=27098 sha256=6f6401512fc1829b96d8a08ff172ec354216bafbff0d793414ed85abb83c768f\n",
      "  Stored in directory: /root/.cache/pip/wheels/70/e1/52/5b14d250ba868768823940c3229e9950d201a26d0bd3ee8655\n",
      "  Building wheel for databricks-cli (setup.py) ... \u001b[?25l\u001b[?25hdone\n",
      "  Created wheel for databricks-cli: filename=databricks_cli-0.17.3-py3-none-any.whl size=139102 sha256=8104d3302430324a55257773a77bbbd3ce20d8d3566ba2b85aef97b2ee94f27e\n",
      "  Stored in directory: /root/.cache/pip/wheels/3f/73/87/c1e4b2145eb6049bb6c9aaf7ea1e38302b77ca219b6fef5d5c\n",
      "  Building wheel for pyLDAvis (setup.py) ... \u001b[?25l\u001b[?25hdone\n",
      "  Created wheel for pyLDAvis: filename=pyLDAvis-3.2.2-py2.py3-none-any.whl size=135618 sha256=4f8d210c3d1d5d82902078e30eec710e9af852ee2f79ecda90b745340a9d03f0\n",
      "  Stored in directory: /root/.cache/pip/wheels/f8/b1/9b/560ac1931796b7303f7b517b949d2d31a4fbc512aad3b9f284\n",
      "  Building wheel for pyod (setup.py) ... \u001b[?25l\u001b[?25hdone\n",
      "  Created wheel for pyod: filename=pyod-1.0.6-py3-none-any.whl size=175098 sha256=615eeea2d58ad8e7646b72bc3f1350ae536a957da1135953b0b1942f49fa8b26\n",
      "  Stored in directory: /root/.cache/pip/wheels/5f/24/ba/b986cd4be81d12d0d11130aed62674291bf2da1b891de49aa1\n",
      "  Building wheel for umap-learn (setup.py) ... \u001b[?25l\u001b[?25hdone\n",
      "  Created wheel for umap-learn: filename=umap_learn-0.5.3-py3-none-any.whl size=82829 sha256=3ca45d2764b8749ea6aba2d5f89e9187da9e2d42986b8d3239968a237ca533db\n",
      "  Stored in directory: /root/.cache/pip/wheels/b3/52/a5/1fd9e3e76a7ab34f134c07469cd6f16e27ef3a37aeff1fe821\n",
      "  Building wheel for pynndescent (setup.py) ... \u001b[?25l\u001b[?25hdone\n",
      "  Created wheel for pynndescent: filename=pynndescent-0.5.8-py3-none-any.whl size=55513 sha256=512bd3d539a7077c5d4bb23a99c945a54e19a236c246ef0851aef2de54b701e3\n",
      "  Stored in directory: /root/.cache/pip/wheels/19/bc/eb/974072a56a7082a302f8b4be1ad6d21bf5019235c2eff65928\n",
      "Successfully built htmlmin databricks-cli pyLDAvis pyod umap-learn pynndescent\n",
      "Installing collected packages: jedi, numpy, urllib3, tangled-up-in-unicode, smmap, scipy, multimethod, llvmlite, websocket-client, visions, srsly, scikit-learn, requests, pyjwt, plac, numba, imagehash, gitdb, catalogue, typeguard, thinc, statsmodels, querystring-parser, pyyaml, pynndescent, prometheus-flask-exporter, phik, htmlmin, gunicorn, gitpython, funcy, docker, databricks-cli, yellowbrick, umap-learn, spacy, scikit-plot, pyod, pyLDAvis, pandas-profiling, mlxtend, mlflow, lightgbm, imbalanced-learn, Boruta, pycaret\n",
      "  Attempting uninstall: numpy\n",
      "    Found existing installation: numpy 1.21.6\n",
      "    Uninstalling numpy-1.21.6:\n",
      "      Successfully uninstalled numpy-1.21.6\n",
      "  Attempting uninstall: urllib3\n",
      "    Found existing installation: urllib3 1.24.3\n",
      "    Uninstalling urllib3-1.24.3:\n",
      "      Successfully uninstalled urllib3-1.24.3\n",
      "  Attempting uninstall: scipy\n",
      "    Found existing installation: scipy 1.7.3\n",
      "    Uninstalling scipy-1.7.3:\n",
      "      Successfully uninstalled scipy-1.7.3\n",
      "  Attempting uninstall: llvmlite\n",
      "    Found existing installation: llvmlite 0.39.1\n",
      "    Uninstalling llvmlite-0.39.1:\n",
      "      Successfully uninstalled llvmlite-0.39.1\n",
      "  Attempting uninstall: srsly\n",
      "    Found existing installation: srsly 2.4.5\n",
      "    Uninstalling srsly-2.4.5:\n",
      "      Successfully uninstalled srsly-2.4.5\n",
      "  Attempting uninstall: scikit-learn\n",
      "    Found existing installation: scikit-learn 1.0.2\n",
      "    Uninstalling scikit-learn-1.0.2:\n",
      "      Successfully uninstalled scikit-learn-1.0.2\n",
      "  Attempting uninstall: requests\n",
      "    Found existing installation: requests 2.23.0\n",
      "    Uninstalling requests-2.23.0:\n",
      "      Successfully uninstalled requests-2.23.0\n",
      "  Attempting uninstall: numba\n",
      "    Found existing installation: numba 0.56.4\n",
      "    Uninstalling numba-0.56.4:\n",
      "      Successfully uninstalled numba-0.56.4\n",
      "  Attempting uninstall: catalogue\n",
      "    Found existing installation: catalogue 2.0.8\n",
      "    Uninstalling catalogue-2.0.8:\n",
      "      Successfully uninstalled catalogue-2.0.8\n",
      "  Attempting uninstall: typeguard\n",
      "    Found existing installation: typeguard 2.7.1\n",
      "    Uninstalling typeguard-2.7.1:\n",
      "      Successfully uninstalled typeguard-2.7.1\n",
      "  Attempting uninstall: thinc\n",
      "    Found existing installation: thinc 8.1.5\n",
      "    Uninstalling thinc-8.1.5:\n",
      "      Successfully uninstalled thinc-8.1.5\n",
      "  Attempting uninstall: statsmodels\n",
      "    Found existing installation: statsmodels 0.12.2\n",
      "    Uninstalling statsmodels-0.12.2:\n",
      "      Successfully uninstalled statsmodels-0.12.2\n",
      "  Attempting uninstall: pyyaml\n",
      "    Found existing installation: PyYAML 6.0\n",
      "    Uninstalling PyYAML-6.0:\n",
      "      Successfully uninstalled PyYAML-6.0\n",
      "  Attempting uninstall: yellowbrick\n",
      "    Found existing installation: yellowbrick 1.5\n",
      "    Uninstalling yellowbrick-1.5:\n",
      "      Successfully uninstalled yellowbrick-1.5\n",
      "  Attempting uninstall: spacy\n",
      "    Found existing installation: spacy 3.4.3\n",
      "    Uninstalling spacy-3.4.3:\n",
      "      Successfully uninstalled spacy-3.4.3\n",
      "  Attempting uninstall: pandas-profiling\n",
      "    Found existing installation: pandas-profiling 1.4.1\n",
      "    Uninstalling pandas-profiling-1.4.1:\n",
      "      Successfully uninstalled pandas-profiling-1.4.1\n",
      "  Attempting uninstall: mlxtend\n",
      "    Found existing installation: mlxtend 0.14.0\n",
      "    Uninstalling mlxtend-0.14.0:\n",
      "      Successfully uninstalled mlxtend-0.14.0\n",
      "  Attempting uninstall: lightgbm\n",
      "    Found existing installation: lightgbm 2.2.3\n",
      "    Uninstalling lightgbm-2.2.3:\n",
      "      Successfully uninstalled lightgbm-2.2.3\n",
      "  Attempting uninstall: imbalanced-learn\n",
      "    Found existing installation: imbalanced-learn 0.8.1\n",
      "    Uninstalling imbalanced-learn-0.8.1:\n",
      "      Successfully uninstalled imbalanced-learn-0.8.1\n",
      "\u001b[31mERROR: pip's dependency resolver does not currently take into account all the packages that are installed. This behaviour is the source of the following dependency conflicts.\n",
      "xarray-einstats 0.2.2 requires numpy>=1.21, but you have numpy 1.19.5 which is incompatible.\n",
      "tensorflow 2.9.2 requires numpy>=1.20, but you have numpy 1.19.5 which is incompatible.\n",
      "optuna 3.0.3 requires scipy<1.9.0,>=1.7.0, but you have scipy 1.5.4 which is incompatible.\n",
      "jaxlib 0.3.25+cuda11.cudnn805 requires numpy>=1.20, but you have numpy 1.19.5 which is incompatible.\n",
      "jax 0.3.25 requires numpy>=1.20, but you have numpy 1.19.5 which is incompatible.\n",
      "en-core-web-sm 3.4.1 requires spacy<3.5.0,>=3.4.0, but you have spacy 2.3.8 which is incompatible.\n",
      "confection 0.0.3 requires srsly<3.0.0,>=2.4.0, but you have srsly 1.0.6 which is incompatible.\n",
      "cmdstanpy 1.0.8 requires numpy>=1.21, but you have numpy 1.19.5 which is incompatible.\u001b[0m\n",
      "Successfully installed Boruta-0.3 catalogue-1.0.2 databricks-cli-0.17.3 docker-6.0.1 funcy-1.17 gitdb-4.0.10 gitpython-3.1.29 gunicorn-20.1.0 htmlmin-0.1.12 imagehash-4.3.1 imbalanced-learn-0.7.0 jedi-0.18.2 lightgbm-3.3.3 llvmlite-0.37.0 mlflow-1.30.0 mlxtend-0.19.0 multimethod-1.9 numba-0.54.1 numpy-1.19.5 pandas-profiling-3.5.0 phik-0.12.2 plac-1.1.3 prometheus-flask-exporter-0.21.0 pyLDAvis-3.2.2 pycaret-2.3.10 pyjwt-2.6.0 pynndescent-0.5.8 pyod-1.0.6 pyyaml-5.4.1 querystring-parser-1.2.4 requests-2.28.1 scikit-learn-0.23.2 scikit-plot-0.3.7 scipy-1.5.4 smmap-5.0.0 spacy-2.3.8 srsly-1.0.6 statsmodels-0.13.5 tangled-up-in-unicode-0.2.0 thinc-7.4.6 typeguard-2.13.3 umap-learn-0.5.3 urllib3-1.26.13 visions-0.7.5 websocket-client-1.4.2 yellowbrick-1.3.post1\n"
     ]
    },
    {
     "data": {
      "application/vnd.colab-display-data+json": {
       "pip_warning": {
        "packages": [
         "numpy"
        ]
       }
      }
     },
     "metadata": {},
     "output_type": "display_data"
    }
   ],
   "source": [
    "!pip install catboost\n",
    "!pip install category_encoders\n",
    "!pip install optuna\n",
    "!pip install kmodes\n",
    "!pip install pycaret"
   ]
  },
  {
   "cell_type": "code",
   "execution_count": 3,
   "id": "j5Gvu4xG7hER",
   "metadata": {
    "executionInfo": {
     "elapsed": 816,
     "status": "ok",
     "timestamp": 1669476063063,
     "user": {
      "displayName": "신웅재",
      "userId": "08301511488967665306"
     },
     "user_tz": -540
    },
    "id": "j5Gvu4xG7hER"
   },
   "outputs": [],
   "source": [
    "import pandas as pd\n",
    "import numpy as np\n",
    "import plotly.express as px\n",
    "import plotly.graph_objects as go\n",
    "from plotly.subplots import make_subplots\n",
    "import plotly.figure_factory as ff\n",
    "import math\n",
    "\n",
    "from sklearn.ensemble import * # ExtraTreesRegressor, RandomForestClassifier\n",
    "from sklearn.model_selection import * # KFold, cross_val_score, train_test_split\n",
    "from sklearn.metrics import *  # make_scorer : MSE 대신 사용자가 정의한 손실함수를 사용하고 싶을 때\n",
    "from sklearn.preprocessing import * # LabelEncoder, StandardScaler\n",
    "from sklearn.svm import * # SVC, SVR\n",
    "from sklearn.inspection import *\n",
    "from sklearn.linear_model import * # LogisticRegression, RANSACRegressor, Ridge, Lasso, ElasticNet\n",
    "from sklearn.decomposition import * # PCA\n",
    "\n",
    "from category_encoders.ordinal import OrdinalEncoder\n",
    "from catboost import CatBoostClassifier, Pool\n",
    "from sklearn.cluster import KMeans\n",
    "from kmodes.kmodes import KModes\n",
    "import optuna\n",
    "from optuna import Trial\n",
    "from optuna.samplers import TPESampler\n",
    "from pycaret.classification import *\n",
    "import random\n",
    "\n",
    "from lightgbm import *\n",
    "import lightgbm as lgb\n",
    "import xgboost as xgb\n",
    "from datetime import datetime\n",
    "import calendar\n",
    "from collections import *\n",
    "\n",
    "import warnings\n",
    "warnings.filterwarnings(action = 'ignore') # 경고메세지를 무시하거나 숨긴다."
   ]
  },
  {
   "cell_type": "markdown",
   "id": "sNPY6Cr-qWwi",
   "metadata": {
    "id": "sNPY6Cr-qWwi"
   },
   "source": [
    "# 1. 데이터 확인"
   ]
  },
  {
   "cell_type": "code",
   "execution_count": 4,
   "id": "_BDy0t6yr09H",
   "metadata": {
    "colab": {
     "base_uri": "https://localhost:8080/"
    },
    "executionInfo": {
     "elapsed": 17536,
     "status": "ok",
     "timestamp": 1669476084726,
     "user": {
      "displayName": "신웅재",
      "userId": "08301511488967665306"
     },
     "user_tz": -540
    },
    "id": "_BDy0t6yr09H",
    "outputId": "8332defe-b150-4081-e166-794882825e5f"
   },
   "outputs": [
    {
     "name": "stdout",
     "output_type": "stream",
     "text": [
      "Mounted at /content/drive\n"
     ]
    }
   ],
   "source": [
    "# 구글 드라이브 입력\n",
    "from google.colab import drive\n",
    "drive.mount('/content/drive')"
   ]
  },
  {
   "cell_type": "code",
   "execution_count": 5,
   "id": "FK8Pjv-dr6Pu",
   "metadata": {
    "colab": {
     "base_uri": "https://localhost:8080/"
    },
    "executionInfo": {
     "elapsed": 1419,
     "status": "ok",
     "timestamp": 1669476086141,
     "user": {
      "displayName": "신웅재",
      "userId": "08301511488967665306"
     },
     "user_tz": -540
    },
    "id": "FK8Pjv-dr6Pu",
    "outputId": "82a93c3a-66b7-4656-e7e1-2d63aa4e259f"
   },
   "outputs": [
    {
     "name": "stdout",
     "output_type": "stream",
     "text": [
      "data_info.xlsx\tsample_submission.csv  test.csv  train.csv\n"
     ]
    }
   ],
   "source": [
    "!ls '/content/drive/MyDrive/Colab Notebooks/공모전/건설기계 오일 상태 분류 AI 경진대회/open/'"
   ]
  },
  {
   "cell_type": "code",
   "execution_count": 6,
   "id": "dc8vGBU5qcR8",
   "metadata": {
    "colab": {
     "base_uri": "https://localhost:8080/",
     "height": 344
    },
    "executionInfo": {
     "elapsed": 942,
     "status": "ok",
     "timestamp": 1669476088940,
     "user": {
      "displayName": "신웅재",
      "userId": "08301511488967665306"
     },
     "user_tz": -540
    },
    "id": "dc8vGBU5qcR8",
    "outputId": "a8774e9a-874d-45ec-9c34-b333cc36b52b"
   },
   "outputs": [
    {
     "name": "stdout",
     "output_type": "stream",
     "text": [
      "(14095, 54)\n",
      "761130\n",
      "(6041, 19)\n",
      "114779\n"
     ]
    },
    {
     "data": {
      "text/html": [
       "\n",
       "  <div id=\"df-66ac7ffc-92bb-44df-a8ad-16d0c1fa63b5\">\n",
       "    <div class=\"colab-df-container\">\n",
       "      <div>\n",
       "<style scoped>\n",
       "    .dataframe tbody tr th:only-of-type {\n",
       "        vertical-align: middle;\n",
       "    }\n",
       "\n",
       "    .dataframe tbody tr th {\n",
       "        vertical-align: top;\n",
       "    }\n",
       "\n",
       "    .dataframe thead th {\n",
       "        text-align: right;\n",
       "    }\n",
       "</style>\n",
       "<table border=\"1\" class=\"dataframe\">\n",
       "  <thead>\n",
       "    <tr style=\"text-align: right;\">\n",
       "      <th></th>\n",
       "      <th>ID</th>\n",
       "      <th>COMPONENT_ARBITRARY</th>\n",
       "      <th>ANONYMOUS_1</th>\n",
       "      <th>YEAR</th>\n",
       "      <th>SAMPLE_TRANSFER_DAY</th>\n",
       "      <th>ANONYMOUS_2</th>\n",
       "      <th>AG</th>\n",
       "      <th>AL</th>\n",
       "      <th>B</th>\n",
       "      <th>BA</th>\n",
       "      <th>BE</th>\n",
       "      <th>CA</th>\n",
       "      <th>CD</th>\n",
       "      <th>CO</th>\n",
       "      <th>CR</th>\n",
       "      <th>CU</th>\n",
       "      <th>FH2O</th>\n",
       "      <th>FNOX</th>\n",
       "      <th>FOPTIMETHGLY</th>\n",
       "      <th>FOXID</th>\n",
       "      <th>FSO4</th>\n",
       "      <th>FTBN</th>\n",
       "      <th>FE</th>\n",
       "      <th>FUEL</th>\n",
       "      <th>H2O</th>\n",
       "      <th>K</th>\n",
       "      <th>LI</th>\n",
       "      <th>MG</th>\n",
       "      <th>MN</th>\n",
       "      <th>MO</th>\n",
       "      <th>NA</th>\n",
       "      <th>NI</th>\n",
       "      <th>P</th>\n",
       "      <th>PB</th>\n",
       "      <th>PQINDEX</th>\n",
       "      <th>S</th>\n",
       "      <th>SB</th>\n",
       "      <th>SI</th>\n",
       "      <th>SN</th>\n",
       "      <th>SOOTPERCENTAGE</th>\n",
       "      <th>TI</th>\n",
       "      <th>U100</th>\n",
       "      <th>U75</th>\n",
       "      <th>U50</th>\n",
       "      <th>U25</th>\n",
       "      <th>U20</th>\n",
       "      <th>U14</th>\n",
       "      <th>U6</th>\n",
       "      <th>U4</th>\n",
       "      <th>V</th>\n",
       "      <th>V100</th>\n",
       "      <th>V40</th>\n",
       "      <th>ZN</th>\n",
       "      <th>Y_LABEL</th>\n",
       "    </tr>\n",
       "  </thead>\n",
       "  <tbody>\n",
       "    <tr>\n",
       "      <th>0</th>\n",
       "      <td>TRAIN_00000</td>\n",
       "      <td>COMPONENT3</td>\n",
       "      <td>1486</td>\n",
       "      <td>2011</td>\n",
       "      <td>7</td>\n",
       "      <td>200</td>\n",
       "      <td>0</td>\n",
       "      <td>3</td>\n",
       "      <td>93</td>\n",
       "      <td>0</td>\n",
       "      <td>0</td>\n",
       "      <td>3059</td>\n",
       "      <td>0.0</td>\n",
       "      <td>0</td>\n",
       "      <td>13</td>\n",
       "      <td>78</td>\n",
       "      <td>NaN</td>\n",
       "      <td>NaN</td>\n",
       "      <td>NaN</td>\n",
       "      <td>NaN</td>\n",
       "      <td>NaN</td>\n",
       "      <td>NaN</td>\n",
       "      <td>888</td>\n",
       "      <td>NaN</td>\n",
       "      <td>0.0</td>\n",
       "      <td>27.0</td>\n",
       "      <td>1</td>\n",
       "      <td>14</td>\n",
       "      <td>16</td>\n",
       "      <td>1</td>\n",
       "      <td>16</td>\n",
       "      <td>6</td>\n",
       "      <td>1951</td>\n",
       "      <td>0</td>\n",
       "      <td>8504</td>\n",
       "      <td>21370</td>\n",
       "      <td>0</td>\n",
       "      <td>427</td>\n",
       "      <td>2</td>\n",
       "      <td>NaN</td>\n",
       "      <td>5</td>\n",
       "      <td>NaN</td>\n",
       "      <td>NaN</td>\n",
       "      <td>NaN</td>\n",
       "      <td>NaN</td>\n",
       "      <td>NaN</td>\n",
       "      <td>NaN</td>\n",
       "      <td>NaN</td>\n",
       "      <td>NaN</td>\n",
       "      <td>0</td>\n",
       "      <td>NaN</td>\n",
       "      <td>154.0</td>\n",
       "      <td>75</td>\n",
       "      <td>0</td>\n",
       "    </tr>\n",
       "    <tr>\n",
       "      <th>1</th>\n",
       "      <td>TRAIN_00001</td>\n",
       "      <td>COMPONENT2</td>\n",
       "      <td>1350</td>\n",
       "      <td>2021</td>\n",
       "      <td>51</td>\n",
       "      <td>375</td>\n",
       "      <td>0</td>\n",
       "      <td>2</td>\n",
       "      <td>19</td>\n",
       "      <td>0</td>\n",
       "      <td>0</td>\n",
       "      <td>2978</td>\n",
       "      <td>0.0</td>\n",
       "      <td>0</td>\n",
       "      <td>0</td>\n",
       "      <td>31</td>\n",
       "      <td>NaN</td>\n",
       "      <td>NaN</td>\n",
       "      <td>NaN</td>\n",
       "      <td>NaN</td>\n",
       "      <td>NaN</td>\n",
       "      <td>NaN</td>\n",
       "      <td>2</td>\n",
       "      <td>NaN</td>\n",
       "      <td>0.0</td>\n",
       "      <td>NaN</td>\n",
       "      <td>0</td>\n",
       "      <td>1</td>\n",
       "      <td>0</td>\n",
       "      <td>0</td>\n",
       "      <td>1</td>\n",
       "      <td>0</td>\n",
       "      <td>572</td>\n",
       "      <td>2</td>\n",
       "      <td>19</td>\n",
       "      <td>1117</td>\n",
       "      <td>0</td>\n",
       "      <td>0</td>\n",
       "      <td>0</td>\n",
       "      <td>NaN</td>\n",
       "      <td>0</td>\n",
       "      <td>0.0</td>\n",
       "      <td>0.0</td>\n",
       "      <td>1.0</td>\n",
       "      <td>2.0</td>\n",
       "      <td>4.0</td>\n",
       "      <td>6.0</td>\n",
       "      <td>216.0</td>\n",
       "      <td>1454.0</td>\n",
       "      <td>0</td>\n",
       "      <td>NaN</td>\n",
       "      <td>44.0</td>\n",
       "      <td>652</td>\n",
       "      <td>0</td>\n",
       "    </tr>\n",
       "    <tr>\n",
       "      <th>2</th>\n",
       "      <td>TRAIN_00002</td>\n",
       "      <td>COMPONENT2</td>\n",
       "      <td>2415</td>\n",
       "      <td>2015</td>\n",
       "      <td>2</td>\n",
       "      <td>200</td>\n",
       "      <td>0</td>\n",
       "      <td>110</td>\n",
       "      <td>1</td>\n",
       "      <td>1</td>\n",
       "      <td>0</td>\n",
       "      <td>17</td>\n",
       "      <td>0.0</td>\n",
       "      <td>0</td>\n",
       "      <td>1</td>\n",
       "      <td>2</td>\n",
       "      <td>NaN</td>\n",
       "      <td>NaN</td>\n",
       "      <td>NaN</td>\n",
       "      <td>NaN</td>\n",
       "      <td>NaN</td>\n",
       "      <td>NaN</td>\n",
       "      <td>4</td>\n",
       "      <td>NaN</td>\n",
       "      <td>0.0</td>\n",
       "      <td>0.0</td>\n",
       "      <td>0</td>\n",
       "      <td>0</td>\n",
       "      <td>0</td>\n",
       "      <td>0</td>\n",
       "      <td>2</td>\n",
       "      <td>0</td>\n",
       "      <td>328</td>\n",
       "      <td>0</td>\n",
       "      <td>17</td>\n",
       "      <td>1334</td>\n",
       "      <td>0</td>\n",
       "      <td>0</td>\n",
       "      <td>1</td>\n",
       "      <td>NaN</td>\n",
       "      <td>0</td>\n",
       "      <td>0.0</td>\n",
       "      <td>0.0</td>\n",
       "      <td>0.0</td>\n",
       "      <td>0.0</td>\n",
       "      <td>3.0</td>\n",
       "      <td>39.0</td>\n",
       "      <td>11261.0</td>\n",
       "      <td>41081.0</td>\n",
       "      <td>0</td>\n",
       "      <td>NaN</td>\n",
       "      <td>72.6</td>\n",
       "      <td>412</td>\n",
       "      <td>1</td>\n",
       "    </tr>\n",
       "    <tr>\n",
       "      <th>3</th>\n",
       "      <td>TRAIN_00003</td>\n",
       "      <td>COMPONENT3</td>\n",
       "      <td>7389</td>\n",
       "      <td>2010</td>\n",
       "      <td>2</td>\n",
       "      <td>200</td>\n",
       "      <td>0</td>\n",
       "      <td>8</td>\n",
       "      <td>3</td>\n",
       "      <td>0</td>\n",
       "      <td>0</td>\n",
       "      <td>1960</td>\n",
       "      <td>0.0</td>\n",
       "      <td>0</td>\n",
       "      <td>0</td>\n",
       "      <td>1</td>\n",
       "      <td>NaN</td>\n",
       "      <td>NaN</td>\n",
       "      <td>NaN</td>\n",
       "      <td>NaN</td>\n",
       "      <td>NaN</td>\n",
       "      <td>NaN</td>\n",
       "      <td>37</td>\n",
       "      <td>NaN</td>\n",
       "      <td>0.0</td>\n",
       "      <td>NaN</td>\n",
       "      <td>0</td>\n",
       "      <td>4</td>\n",
       "      <td>1</td>\n",
       "      <td>0</td>\n",
       "      <td>0</td>\n",
       "      <td>0</td>\n",
       "      <td>906</td>\n",
       "      <td>1</td>\n",
       "      <td>44</td>\n",
       "      <td>21774</td>\n",
       "      <td>2</td>\n",
       "      <td>1</td>\n",
       "      <td>1</td>\n",
       "      <td>NaN</td>\n",
       "      <td>0</td>\n",
       "      <td>NaN</td>\n",
       "      <td>NaN</td>\n",
       "      <td>NaN</td>\n",
       "      <td>NaN</td>\n",
       "      <td>NaN</td>\n",
       "      <td>NaN</td>\n",
       "      <td>NaN</td>\n",
       "      <td>NaN</td>\n",
       "      <td>0</td>\n",
       "      <td>NaN</td>\n",
       "      <td>133.3</td>\n",
       "      <td>7</td>\n",
       "      <td>0</td>\n",
       "    </tr>\n",
       "    <tr>\n",
       "      <th>4</th>\n",
       "      <td>TRAIN_00004</td>\n",
       "      <td>COMPONENT3</td>\n",
       "      <td>3954</td>\n",
       "      <td>2015</td>\n",
       "      <td>4</td>\n",
       "      <td>200</td>\n",
       "      <td>0</td>\n",
       "      <td>1</td>\n",
       "      <td>157</td>\n",
       "      <td>0</td>\n",
       "      <td>0</td>\n",
       "      <td>71</td>\n",
       "      <td>0.0</td>\n",
       "      <td>0</td>\n",
       "      <td>0</td>\n",
       "      <td>0</td>\n",
       "      <td>NaN</td>\n",
       "      <td>NaN</td>\n",
       "      <td>NaN</td>\n",
       "      <td>NaN</td>\n",
       "      <td>NaN</td>\n",
       "      <td>NaN</td>\n",
       "      <td>71</td>\n",
       "      <td>NaN</td>\n",
       "      <td>0.0</td>\n",
       "      <td>0.0</td>\n",
       "      <td>0</td>\n",
       "      <td>0</td>\n",
       "      <td>0</td>\n",
       "      <td>0</td>\n",
       "      <td>2</td>\n",
       "      <td>0</td>\n",
       "      <td>309</td>\n",
       "      <td>0</td>\n",
       "      <td>217</td>\n",
       "      <td>18470</td>\n",
       "      <td>0</td>\n",
       "      <td>2</td>\n",
       "      <td>0</td>\n",
       "      <td>NaN</td>\n",
       "      <td>0</td>\n",
       "      <td>NaN</td>\n",
       "      <td>NaN</td>\n",
       "      <td>NaN</td>\n",
       "      <td>NaN</td>\n",
       "      <td>NaN</td>\n",
       "      <td>NaN</td>\n",
       "      <td>NaN</td>\n",
       "      <td>NaN</td>\n",
       "      <td>0</td>\n",
       "      <td>NaN</td>\n",
       "      <td>133.1</td>\n",
       "      <td>128</td>\n",
       "      <td>0</td>\n",
       "    </tr>\n",
       "  </tbody>\n",
       "</table>\n",
       "</div>\n",
       "      <button class=\"colab-df-convert\" onclick=\"convertToInteractive('df-66ac7ffc-92bb-44df-a8ad-16d0c1fa63b5')\"\n",
       "              title=\"Convert this dataframe to an interactive table.\"\n",
       "              style=\"display:none;\">\n",
       "        \n",
       "  <svg xmlns=\"http://www.w3.org/2000/svg\" height=\"24px\"viewBox=\"0 0 24 24\"\n",
       "       width=\"24px\">\n",
       "    <path d=\"M0 0h24v24H0V0z\" fill=\"none\"/>\n",
       "    <path d=\"M18.56 5.44l.94 2.06.94-2.06 2.06-.94-2.06-.94-.94-2.06-.94 2.06-2.06.94zm-11 1L8.5 8.5l.94-2.06 2.06-.94-2.06-.94L8.5 2.5l-.94 2.06-2.06.94zm10 10l.94 2.06.94-2.06 2.06-.94-2.06-.94-.94-2.06-.94 2.06-2.06.94z\"/><path d=\"M17.41 7.96l-1.37-1.37c-.4-.4-.92-.59-1.43-.59-.52 0-1.04.2-1.43.59L10.3 9.45l-7.72 7.72c-.78.78-.78 2.05 0 2.83L4 21.41c.39.39.9.59 1.41.59.51 0 1.02-.2 1.41-.59l7.78-7.78 2.81-2.81c.8-.78.8-2.07 0-2.86zM5.41 20L4 18.59l7.72-7.72 1.47 1.35L5.41 20z\"/>\n",
       "  </svg>\n",
       "      </button>\n",
       "      \n",
       "  <style>\n",
       "    .colab-df-container {\n",
       "      display:flex;\n",
       "      flex-wrap:wrap;\n",
       "      gap: 12px;\n",
       "    }\n",
       "\n",
       "    .colab-df-convert {\n",
       "      background-color: #E8F0FE;\n",
       "      border: none;\n",
       "      border-radius: 50%;\n",
       "      cursor: pointer;\n",
       "      display: none;\n",
       "      fill: #1967D2;\n",
       "      height: 32px;\n",
       "      padding: 0 0 0 0;\n",
       "      width: 32px;\n",
       "    }\n",
       "\n",
       "    .colab-df-convert:hover {\n",
       "      background-color: #E2EBFA;\n",
       "      box-shadow: 0px 1px 2px rgba(60, 64, 67, 0.3), 0px 1px 3px 1px rgba(60, 64, 67, 0.15);\n",
       "      fill: #174EA6;\n",
       "    }\n",
       "\n",
       "    [theme=dark] .colab-df-convert {\n",
       "      background-color: #3B4455;\n",
       "      fill: #D2E3FC;\n",
       "    }\n",
       "\n",
       "    [theme=dark] .colab-df-convert:hover {\n",
       "      background-color: #434B5C;\n",
       "      box-shadow: 0px 1px 3px 1px rgba(0, 0, 0, 0.15);\n",
       "      filter: drop-shadow(0px 1px 2px rgba(0, 0, 0, 0.3));\n",
       "      fill: #FFFFFF;\n",
       "    }\n",
       "  </style>\n",
       "\n",
       "      <script>\n",
       "        const buttonEl =\n",
       "          document.querySelector('#df-66ac7ffc-92bb-44df-a8ad-16d0c1fa63b5 button.colab-df-convert');\n",
       "        buttonEl.style.display =\n",
       "          google.colab.kernel.accessAllowed ? 'block' : 'none';\n",
       "\n",
       "        async function convertToInteractive(key) {\n",
       "          const element = document.querySelector('#df-66ac7ffc-92bb-44df-a8ad-16d0c1fa63b5');\n",
       "          const dataTable =\n",
       "            await google.colab.kernel.invokeFunction('convertToInteractive',\n",
       "                                                     [key], {});\n",
       "          if (!dataTable) return;\n",
       "\n",
       "          const docLinkHtml = 'Like what you see? Visit the ' +\n",
       "            '<a target=\"_blank\" href=https://colab.research.google.com/notebooks/data_table.ipynb>data table notebook</a>'\n",
       "            + ' to learn more about interactive tables.';\n",
       "          element.innerHTML = '';\n",
       "          dataTable['output_type'] = 'display_data';\n",
       "          await google.colab.output.renderOutput(dataTable, element);\n",
       "          const docLink = document.createElement('div');\n",
       "          docLink.innerHTML = docLinkHtml;\n",
       "          element.appendChild(docLink);\n",
       "        }\n",
       "      </script>\n",
       "    </div>\n",
       "  </div>\n",
       "  "
      ],
      "text/plain": [
       "            ID COMPONENT_ARBITRARY  ANONYMOUS_1  YEAR  SAMPLE_TRANSFER_DAY  \\\n",
       "0  TRAIN_00000          COMPONENT3         1486  2011                    7   \n",
       "1  TRAIN_00001          COMPONENT2         1350  2021                   51   \n",
       "2  TRAIN_00002          COMPONENT2         2415  2015                    2   \n",
       "3  TRAIN_00003          COMPONENT3         7389  2010                    2   \n",
       "4  TRAIN_00004          COMPONENT3         3954  2015                    4   \n",
       "\n",
       "   ANONYMOUS_2  AG   AL    B  BA  BE    CA   CD  CO  CR  CU  FH2O  FNOX  \\\n",
       "0          200   0    3   93   0   0  3059  0.0   0  13  78   NaN   NaN   \n",
       "1          375   0    2   19   0   0  2978  0.0   0   0  31   NaN   NaN   \n",
       "2          200   0  110    1   1   0    17  0.0   0   1   2   NaN   NaN   \n",
       "3          200   0    8    3   0   0  1960  0.0   0   0   1   NaN   NaN   \n",
       "4          200   0    1  157   0   0    71  0.0   0   0   0   NaN   NaN   \n",
       "\n",
       "   FOPTIMETHGLY  FOXID  FSO4  FTBN   FE  FUEL  H2O     K  LI  MG  MN  MO  NA  \\\n",
       "0           NaN    NaN   NaN   NaN  888   NaN  0.0  27.0   1  14  16   1  16   \n",
       "1           NaN    NaN   NaN   NaN    2   NaN  0.0   NaN   0   1   0   0   1   \n",
       "2           NaN    NaN   NaN   NaN    4   NaN  0.0   0.0   0   0   0   0   2   \n",
       "3           NaN    NaN   NaN   NaN   37   NaN  0.0   NaN   0   4   1   0   0   \n",
       "4           NaN    NaN   NaN   NaN   71   NaN  0.0   0.0   0   0   0   0   2   \n",
       "\n",
       "   NI     P  PB  PQINDEX      S  SB   SI  SN  SOOTPERCENTAGE  TI  U100  U75  \\\n",
       "0   6  1951   0     8504  21370   0  427   2             NaN   5   NaN  NaN   \n",
       "1   0   572   2       19   1117   0    0   0             NaN   0   0.0  0.0   \n",
       "2   0   328   0       17   1334   0    0   1             NaN   0   0.0  0.0   \n",
       "3   0   906   1       44  21774   2    1   1             NaN   0   NaN  NaN   \n",
       "4   0   309   0      217  18470   0    2   0             NaN   0   NaN  NaN   \n",
       "\n",
       "   U50  U25  U20   U14       U6       U4  V  V100    V40   ZN  Y_LABEL  \n",
       "0  NaN  NaN  NaN   NaN      NaN      NaN  0   NaN  154.0   75        0  \n",
       "1  1.0  2.0  4.0   6.0    216.0   1454.0  0   NaN   44.0  652        0  \n",
       "2  0.0  0.0  3.0  39.0  11261.0  41081.0  0   NaN   72.6  412        1  \n",
       "3  NaN  NaN  NaN   NaN      NaN      NaN  0   NaN  133.3    7        0  \n",
       "4  NaN  NaN  NaN   NaN      NaN      NaN  0   NaN  133.1  128        0  "
      ]
     },
     "execution_count": 6,
     "metadata": {},
     "output_type": "execute_result"
    }
   ],
   "source": [
    "path = '/content/drive/MyDrive/Colab Notebooks/공모전/건설기계 오일 상태 분류 AI 경진대회/open/'\n",
    "\n",
    "Rdata_train = pd.read_csv(path + 'train.csv')\n",
    "Rdata_test = pd.read_csv(path + 'test.csv')\n",
    "\n",
    "print(Rdata_train.shape) # (14095, 54) -> 생각보다 데이터 수가 적다.\n",
    "print(Rdata_train.size)\n",
    "print(Rdata_test.shape) # (6041, 19)\n",
    "print(Rdata_test.size)\n",
    "Rdata_train.head()"
   ]
  },
  {
   "cell_type": "markdown",
   "id": "Pa1V9a6MlP17",
   "metadata": {
    "id": "Pa1V9a6MlP17"
   },
   "source": [
    "1. COMPONENT_ARBITRARY : 샘플 오일 관련 부품 (Component 4종, 비식별화) : 명목형\n",
    "2. ANONYMOUS_1 : 무명 Feautre 1. 수치형 데이터\n",
    "3. YEAR : 오일 샘플 및 진단 해 (Year)\n",
    "4. SAMPLE_TRANSFER_DAY : 오일 샘플링 후 진단 기관으로 이동한 기간 (Days)\n",
    "5. ANONYMOUS_2 : 무명 Feautre 2. 수치형 데이터\n",
    "6. AG : 원소기호 AG - Silver 함유량\n",
    "7. AL : 원소기호 AL - Aluminium 함유량\n",
    "8. B : 원소기호 B - Boron 함유량\n",
    "9. BA : 원소기호 BA -  Barium 함유량\n",
    "10. BE : 원소기호 BE - Beryllium 함유량\n",
    "11. CA : 원소기호 CA - Calcium 함유량\n",
    "12. CD : 원소기호 CD - Cadmium 함유량\n",
    "13. CO : 원소기호 CO - Cobolt 함유량\n",
    "14. CR : 원소기호 CR - Chromium 함유량\n",
    "15. CU : 원소기호 CU - Copper 함유량\n",
    "16. FH2O : Water 수치(By FT-IR)\n",
    "17. FNOX : NOx 수치(By FT-IR)\n",
    "18. FOPTIMETHGLY : 비식별화\n",
    "19. FOXID : Oxidation 수치(By FT-IR)\n",
    "20. FSO4 : SO4 수치(By FT-IR)\n",
    "21. FTBN : 염기성 첨가제물질 수치(By FT-IR)\n",
    "22. FE : 원소기호 FE - Iron 함유량\n",
    "23. FUEL : 연료 함유량\n",
    "24. H2O : Water 함유량\n",
    "25. K : 원소기호 K - Potassium 함유량\n",
    "26. LI : 원소기호 LI - Lithium 함유량\n",
    "27. MG : 원소기호 MG - Magnesium 함유량\n",
    "28. MN : 원소기호 MN - Manganese 함유량\n",
    "29. MO : 원소기호 MO - Molybdenum 함유량\n",
    "30. NA : 원소기호 NA - Sodium 함유량\n",
    "31. NI : 원소기호 NI - Nickel 함유량\n",
    "32. P : 원소기호 P - Phosphorus 함유량\n",
    "33. PB : 원소기호 PB - Lead 함유량\n",
    "34. PQINDEX : Particle Quantifier Index\n",
    "35. S : 원소기호 S - Sulphur 함유량\n",
    "36. SB : 원소기호 SB - Antimony 함유량\n",
    "37. SI : 원소기호 SI - Silicone 함유량\n",
    "38. SN : 원소기호 SN - Tin 함유량\n",
    "39. SOOTPERCENTAGE : Soot 함유량(%)\n",
    "40. TI : 원소기호 TI - Titanium 함유량\n",
    "41. U100 : Particle Count (100㎛ 이상 크기 입자)\n",
    "42. U75 : Particle Count (75㎛ 이상 크기 입자)\n",
    "43. U50 : Particle Count (50㎛ 이상 크기 입자)\n",
    "44. U25 : Particle Count (25㎛ 이상 크기 입자)\n",
    "45. U20 : Particle Count (20㎛ 이상 크기 입자)\n",
    "46. U14 : Particle Count (14㎛ 이상 크기 입자)\n",
    "47. U6 : Particle Count (6㎛ 이상 크기 입자)\n",
    "48. U4 : Particle Count (4㎛ 이상 크기 입자)\n",
    "49. V : 원소기호 V - Vanadium 함유량\n",
    "50. V100 : Viscosity @ 100 degrees\n",
    "51. V40 : Viscosity @ 40 degrees\n",
    "52. ZN : 원소기호 ZN - Zinc 함유량\n",
    "53. Y_LABEL : 오일 정상 여부 (0 : 정상, 1 : 이상)"
   ]
  },
  {
   "cell_type": "markdown",
   "id": "I7NsucoimacC",
   "metadata": {
    "id": "I7NsucoimacC"
   },
   "source": [
    "### 준비"
   ]
  },
  {
   "cell_type": "code",
   "execution_count": null,
   "id": "YWOlwhimZedA",
   "metadata": {
    "colab": {
     "base_uri": "https://localhost:8080/"
    },
    "executionInfo": {
     "elapsed": 10,
     "status": "ok",
     "timestamp": 1669120334426,
     "user": {
      "displayName": "신웅재",
      "userId": "08301511488967665306"
     },
     "user_tz": -540
    },
    "id": "YWOlwhimZedA",
    "outputId": "5a0845d2-8247-4361-839b-4dabe5a8f656"
   },
   "outputs": [
    {
     "data": {
      "text/plain": [
       "int64      31\n",
       "float64    21\n",
       "object      2\n",
       "dtype: int64"
      ]
     },
     "execution_count": 6,
     "metadata": {},
     "output_type": "execute_result"
    }
   ],
   "source": [
    "Rdata_train.dtypes.value_counts()\n",
    "\n",
    "# float로 되어있지만 사실 정수형인 변수들이 많다.\n",
    "# 결측치가 있으면 정수형이 아닌 float로 변환되는 것 같다."
   ]
  },
  {
   "cell_type": "code",
   "execution_count": null,
   "id": "6t1v903nqd4Q",
   "metadata": {
    "colab": {
     "base_uri": "https://localhost:8080/"
    },
    "executionInfo": {
     "elapsed": 10,
     "status": "ok",
     "timestamp": 1669120334427,
     "user": {
      "displayName": "신웅재",
      "userId": "08301511488967665306"
     },
     "user_tz": -540
    },
    "id": "6t1v903nqd4Q",
    "outputId": "1b48d7e5-a6ee-4d29-e7f7-5a8e6909a431"
   },
   "outputs": [
    {
     "data": {
      "text/plain": [
       "ANONYMOUS_1            2951\n",
       "YEAR                     16\n",
       "SAMPLE_TRANSFER_DAY     107\n",
       "ANONYMOUS_2             842\n",
       "AG                        4\n",
       "AL                      328\n",
       "B                       504\n",
       "BA                       38\n",
       "BE                        9\n",
       "CA                     2581\n",
       "CO                       10\n",
       "CR                      102\n",
       "CU                      496\n",
       "FE                     1281\n",
       "LI                       36\n",
       "MG                      554\n",
       "MN                      100\n",
       "MO                      298\n",
       "NA                       83\n",
       "NI                       57\n",
       "P                      2191\n",
       "PB                       73\n",
       "PQINDEX                1910\n",
       "S                      8076\n",
       "SB                       38\n",
       "SI                      514\n",
       "SN                       37\n",
       "TI                       71\n",
       "V                        15\n",
       "ZN                     1552\n",
       "Y_LABEL                   2\n",
       "dtype: int64"
      ]
     },
     "execution_count": 7,
     "metadata": {},
     "output_type": "execute_result"
    }
   ],
   "source": [
    "Rdata_train.select_dtypes('int64').apply(pd.Series.nunique, axis = 0)\n",
    "# nunique : 고윳값의 개수를 알려준다.\n",
    "# select_dtypes('int64') : int64인 변수들만 데이터로 불러온다."
   ]
  },
  {
   "cell_type": "code",
   "execution_count": null,
   "id": "gtPCJWa8qd16",
   "metadata": {
    "colab": {
     "base_uri": "https://localhost:8080/"
    },
    "executionInfo": {
     "elapsed": 11,
     "status": "ok",
     "timestamp": 1669120334429,
     "user": {
      "displayName": "신웅재",
      "userId": "08301511488967665306"
     },
     "user_tz": -540
    },
    "id": "gtPCJWa8qd16",
    "outputId": "c28c5b7b-d417-4434-b201-1eab5b1be28f"
   },
   "outputs": [
    {
     "data": {
      "text/plain": [
       "CD                   6\n",
       "FH2O                72\n",
       "FNOX                21\n",
       "FOPTIMETHGLY         8\n",
       "FOXID               34\n",
       "FSO4                35\n",
       "FTBN                99\n",
       "FUEL                21\n",
       "H2O                 47\n",
       "K                  102\n",
       "SOOTPERCENTAGE      55\n",
       "U100                14\n",
       "U75                 20\n",
       "U50                 90\n",
       "U25                195\n",
       "U20                275\n",
       "U14                549\n",
       "U6                1766\n",
       "U4                2053\n",
       "V100               106\n",
       "V40               1769\n",
       "dtype: int64"
      ]
     },
     "execution_count": 8,
     "metadata": {},
     "output_type": "execute_result"
    }
   ],
   "source": [
    "Rdata_train.select_dtypes('float64').apply(pd.Series.nunique, axis = 0)\n",
    "# 결측값은 제거한 채로 고윳값의 개수를 알려준다."
   ]
  },
  {
   "cell_type": "code",
   "execution_count": null,
   "id": "5_iPm04Fqdze",
   "metadata": {
    "colab": {
     "base_uri": "https://localhost:8080/"
    },
    "executionInfo": {
     "elapsed": 10,
     "status": "ok",
     "timestamp": 1669120334429,
     "user": {
      "displayName": "신웅재",
      "userId": "08301511488967665306"
     },
     "user_tz": -540
    },
    "id": "5_iPm04Fqdze",
    "outputId": "09a6aa11-6d1b-4bfa-b750-753b80953a26"
   },
   "outputs": [
    {
     "data": {
      "text/plain": [
       "ID                     14095\n",
       "COMPONENT_ARBITRARY        4\n",
       "dtype: int64"
      ]
     },
     "execution_count": 9,
     "metadata": {},
     "output_type": "execute_result"
    }
   ],
   "source": [
    "Rdata_train.select_dtypes('object').apply(pd.Series.nunique, axis = 0)"
   ]
  },
  {
   "cell_type": "code",
   "execution_count": null,
   "id": "WEJSsNsKqdxC",
   "metadata": {
    "colab": {
     "base_uri": "https://localhost:8080/"
    },
    "executionInfo": {
     "elapsed": 10,
     "status": "ok",
     "timestamp": 1669120334430,
     "user": {
      "displayName": "신웅재",
      "userId": "08301511488967665306"
     },
     "user_tz": -540
    },
    "id": "WEJSsNsKqdxC",
    "outputId": "27c38c26-3060-4fe6-e56e-8d8e45b9a6bb"
   },
   "outputs": [
    {
     "data": {
      "text/plain": [
       "Index(['ID', 'COMPONENT_ARBITRARY', 'ANONYMOUS_1', 'YEAR',\n",
       "       'SAMPLE_TRANSFER_DAY', 'ANONYMOUS_2', 'AG', 'AL', 'B', 'BA', 'BE', 'CA',\n",
       "       'CD', 'CO', 'CR', 'CU', 'FH2O', 'FNOX', 'FOPTIMETHGLY', 'FOXID', 'FSO4',\n",
       "       'FTBN', 'FE', 'FUEL', 'H2O', 'K', 'LI', 'MG', 'MN', 'MO', 'NA', 'NI',\n",
       "       'P', 'PB', 'PQINDEX', 'S', 'SB', 'SI', 'SN', 'SOOTPERCENTAGE', 'TI',\n",
       "       'U100', 'U75', 'U50', 'U25', 'U20', 'U14', 'U6', 'U4', 'V', 'V100',\n",
       "       'V40', 'ZN', 'Y_LABEL'],\n",
       "      dtype='object')"
      ]
     },
     "execution_count": 10,
     "metadata": {},
     "output_type": "execute_result"
    }
   ],
   "source": [
    "Rdata_train.columns"
   ]
  },
  {
   "cell_type": "markdown",
   "id": "xDZioui9emZl",
   "metadata": {
    "id": "xDZioui9emZl"
   },
   "source": [
    "# 2. Teacher model : AL, BA 사용하여 Catboost(변수 20개)  \n",
    "#    Student model : Catboost(변수 18개) "
   ]
  },
  {
   "cell_type": "markdown",
   "id": "eg0e9OOMemZl",
   "metadata": {
    "id": "eg0e9OOMemZl"
   },
   "source": [
    "## (1)  model1"
   ]
  },
  {
   "cell_type": "markdown",
   "id": "-C-94ErPVNBb",
   "metadata": {
    "id": "-C-94ErPVNBb"
   },
   "source": [
    "new_var_set = ['FOPTIMETHGLY', 'FE', 'ZN', 'NI', 'BA', \n",
    "               'FNOX', 'CR', 'SI', 'CA', 'U75', \n",
    "               'K', 'SN', 'AL', 'V40', 'NA', \n",
    "               'FH2O', 'U4', 'ANONYMOUS_1', 'S', 'SB', \n",
    "               'FTBN', 'CU', 'B', 'PQINDEX', 'ANONYMOUS_2',\n",
    "               'COMPONENT_ARBITRARY', 'YEAR']  \n",
    "주 변수 -> 'COMPONENT_ARBITRARY', 'ANONYMOUS_1', 'YEAR', 'ANONYMOUS_2', 'CR', 'CU', 'FE', 'NI', 'PQINDEX', 'V40', 'ZN' -> 11개  \n",
    "부 변수(결측 없음) -> 'BA', 'SI', 'CA', 'SN', 'AL', 'NA', 'S', 'SB', 'B' -> 9개  \n",
    "부 별수(결측 있음) -> 'FH2O', 'FNOX', 'FOPTIMETHGLY', 'FTBN', 'K', 'U75', 'U4' -> 7개  "
   ]
  },
  {
   "cell_type": "code",
   "execution_count": 53,
   "id": "7CIWT2P-emZm",
   "metadata": {
    "executionInfo": {
     "elapsed": 445,
     "status": "ok",
     "timestamp": 1669478199216,
     "user": {
      "displayName": "신웅재",
      "userId": "08301511488967665306"
     },
     "user_tz": -540
    },
    "id": "7CIWT2P-emZm"
   },
   "outputs": [],
   "source": [
    "train1 = Rdata_train.copy()\n",
    "test1 = Rdata_test.copy()"
   ]
  },
  {
   "cell_type": "code",
   "execution_count": 54,
   "id": "GWGsZlUSemZm",
   "metadata": {
    "colab": {
     "base_uri": "https://localhost:8080/"
    },
    "executionInfo": {
     "elapsed": 4,
     "status": "ok",
     "timestamp": 1669478199713,
     "user": {
      "displayName": "신웅재",
      "userId": "08301511488967665306"
     },
     "user_tz": -540
    },
    "id": "GWGsZlUSemZm",
    "outputId": "9f582e54-b048-46f1-e4f0-b5f7303486f0"
   },
   "outputs": [
    {
     "name": "stdout",
     "output_type": "stream",
     "text": [
      "(14095, 21)\n",
      "(6041, 18)\n"
     ]
    }
   ],
   "source": [
    "# AL과 BA만 추가하여 MODEL1을 만들자.\n",
    "train2 = train1.loc[:, ['COMPONENT_ARBITRARY', 'ANONYMOUS_1', 'YEAR', 'ANONYMOUS_2', 'AG',\n",
    "                                        'CO', 'CR', 'CU', 'FE', 'H2O', 'MN', 'MO', 'NI', 'PQINDEX', 'TI', 'V',\n",
    "                                        'V40', 'ZN', 'Y_LABEL', 'AL', 'BA']]\n",
    "test2 = test1.drop(['ID'], axis = 1)\n",
    "\n",
    "print(train2.shape) # 변수 20개\n",
    "print(test2.shape) # 변수 18개"
   ]
  },
  {
   "cell_type": "code",
   "execution_count": 55,
   "id": "6R6-BeqKemZm",
   "metadata": {
    "executionInfo": {
     "elapsed": 4,
     "status": "ok",
     "timestamp": 1669478199714,
     "user": {
      "displayName": "신웅재",
      "userId": "08301511488967665306"
     },
     "user_tz": -540
    },
    "id": "6R6-BeqKemZm"
   },
   "outputs": [],
   "source": [
    "# 이 작업을 수행하면 범주형 변수인 COMPONENT_ARBITRARY와 YEAR를 숫자로 바꿔준다.\n",
    "# 단 OneHotEncoder가 아님, 내가 쓴건 LabelEncoder\n",
    "# OneHotEncoder -> 개 : 1 0 0, 고양이 : 0 1 0, 사자 : 0 0 1\n",
    "# LabelEncoder -> 개 : 0, 고양이 : 1, 사자 : 2\n",
    "\n",
    "le1 = LabelEncoder()\n",
    "le2 = LabelEncoder()\n",
    "\n",
    "train2['COMPONENT_ARBITRARY_category'] = le1.fit_transform(train2['COMPONENT_ARBITRARY'])\n",
    "train2['YEAR_category'] = le2.fit_transform(train2['YEAR'])\n",
    "\n",
    "test2['COMPONENT_ARBITRARY_category'] = le1.transform(test2['COMPONENT_ARBITRARY'])\n",
    "test2['YEAR_category'] = le2.transform(test2['YEAR'])\n",
    "\n",
    "# 원래 범주형 변수는 제거해준다.\n",
    "train3 = train2.drop(['COMPONENT_ARBITRARY', 'YEAR'], axis = 1)\n",
    "test3 = test2.drop(['COMPONENT_ARBITRARY', 'YEAR'], axis = 1)"
   ]
  },
  {
   "cell_type": "code",
   "execution_count": 56,
   "id": "e6MyR14EemZm",
   "metadata": {
    "colab": {
     "base_uri": "https://localhost:8080/"
    },
    "executionInfo": {
     "elapsed": 4,
     "status": "ok",
     "timestamp": 1669478200230,
     "user": {
      "displayName": "신웅재",
      "userId": "08301511488967665306"
     },
     "user_tz": -540
    },
    "id": "e6MyR14EemZm",
    "outputId": "9d4955b7-10d3-47e6-80eb-f7b27fb91e27"
   },
   "outputs": [
    {
     "name": "stdout",
     "output_type": "stream",
     "text": [
      "(14095, 21)\n",
      "(6041, 18)\n"
     ]
    }
   ],
   "source": [
    "# 범주형 변수와 숫자형 변수를 나눠준다.\n",
    "categorical_features = ['COMPONENT_ARBITRARY_category', 'YEAR_category']\n",
    "numeric_features_train = ['ANONYMOUS_1', 'ANONYMOUS_2', 'AG', 'CO', 'CR', 'CU', \n",
    "                    'FE', 'H2O', 'MN', 'MO', 'NI', 'PQINDEX', 'TI', 'V', 'V40', 'ZN', 'AL', 'BA']\n",
    "numeric_features_test = ['ANONYMOUS_1', 'ANONYMOUS_2', 'AG', 'CO', 'CR', 'CU', \n",
    "                    'FE', 'H2O', 'MN', 'MO', 'NI', 'PQINDEX', 'TI', 'V', 'V40', 'ZN']\n",
    "\n",
    "print(train3.shape)\n",
    "print(test3.shape)"
   ]
  },
  {
   "cell_type": "code",
   "execution_count": 57,
   "id": "UJJUrj_BZYDL",
   "metadata": {
    "executionInfo": {
     "elapsed": 3,
     "status": "ok",
     "timestamp": 1669478200231,
     "user": {
      "displayName": "신웅재",
      "userId": "08301511488967665306"
     },
     "user_tz": -540
    },
    "id": "UJJUrj_BZYDL"
   },
   "outputs": [],
   "source": [
    "X_train = train3.drop(['Y_LABEL'], axis = 1)\n",
    "y_train = train3['Y_LABEL']\n",
    "X_test = test3"
   ]
  },
  {
   "cell_type": "code",
   "execution_count": 58,
   "id": "6YEw_EFuZHLH",
   "metadata": {
    "colab": {
     "base_uri": "https://localhost:8080/"
    },
    "executionInfo": {
     "elapsed": 304,
     "status": "ok",
     "timestamp": 1669478203335,
     "user": {
      "displayName": "신웅재",
      "userId": "08301511488967665306"
     },
     "user_tz": -540
    },
    "id": "6YEw_EFuZHLH",
    "outputId": "85e9b2c4-be8d-4467-baa1-0d66e85464c3"
   },
   "outputs": [
    {
     "name": "stdout",
     "output_type": "stream",
     "text": [
      "(9866, 20)\n",
      "(4229, 20)\n",
      "(9866,)\n",
      "(4229,)\n"
     ]
    }
   ],
   "source": [
    "# 교차 검증을 위해 train데이터를 partrain과 val로 나눠준다.\n",
    "\n",
    "X_partrain, X_val, y_partrain, y_val = train_test_split(X_train, y_train, test_size = 0.3, random_state = 39, stratify = y_train)\n",
    "print(X_partrain.shape)\n",
    "print(X_val.shape)\n",
    "print(y_partrain.shape)\n",
    "print(y_val.shape)"
   ]
  },
  {
   "cell_type": "code",
   "execution_count": 13,
   "id": "vNvhdKWuemZm",
   "metadata": {
    "executionInfo": {
     "elapsed": 523,
     "status": "ok",
     "timestamp": 1669476136387,
     "user": {
      "displayName": "신웅재",
      "userId": "08301511488967665306"
     },
     "user_tz": -540
    },
    "id": "vNvhdKWuemZm"
   },
   "outputs": [],
   "source": [
    "# 교차검증 패키지인 optuna 사용을 한다.\n",
    "# 이 작업은 어떤 초모수일때, 모델이 가장 좋은지 적합해준다.\n",
    "\n",
    "def objective(trial : Trial) -> float :\n",
    "\n",
    "    params_cat = {\n",
    "        \"random_state\" : 39,\n",
    "        'learning_rate' : trial.suggest_loguniform('learning_rate', 0.005, 0.5), # 학습률이 0.005와 0.5 사이의 랜덤한 값으로 정해줌\n",
    "        \"n_estimators\" : trial.suggest_int(\"n_estimators\", 400, 1000), # 400과 1000 사이에 랜덤한 값으로 정해줌\n",
    "        \"max_depth\" : trial.suggest_int(\"max_depth\", 3, 10) # 3과 10 사이에 랜덤한 값으로 정해줌\n",
    "  }\n",
    "    \n",
    "    model = CatBoostClassifier(**params_cat) # Catboost가 AutoML에서 가장 좋아서 Catboost로 했다.\n",
    "    model.fit(X_partrain, y_partrain, eval_set = [(X_val, y_val)],\n",
    "              early_stopping_rounds = 100, cat_features = categorical_features, verbose = False)\n",
    "\n",
    "    cat_pred = model.predict(X_val)\n",
    "    AUC = roc_auc_score(y_val, cat_pred)\n",
    "    \n",
    "    return AUC"
   ]
  },
  {
   "cell_type": "code",
   "execution_count": 14,
   "id": "pPlPtmj_emZm",
   "metadata": {
    "colab": {
     "base_uri": "https://localhost:8080/"
    },
    "executionInfo": {
     "elapsed": 591607,
     "status": "ok",
     "timestamp": 1669476734670,
     "user": {
      "displayName": "신웅재",
      "userId": "08301511488967665306"
     },
     "user_tz": -540
    },
    "id": "pPlPtmj_emZm",
    "outputId": "d0bb5841-604c-4539-8175-c41e256998a6"
   },
   "outputs": [
    {
     "name": "stderr",
     "output_type": "stream",
     "text": [
      "\u001b[32m[I 2022-11-26 15:22:23,676]\u001b[0m A new study created in memory with name: cat_parameter_opt\u001b[0m\n",
      "\u001b[32m[I 2022-11-26 15:22:31,789]\u001b[0m Trial 0 finished with value: 0.7639889912829753 and parameters: {'learning_rate': 0.06205093309656499, 'n_estimators': 879, 'max_depth': 9}. Best is trial 0 with value: 0.7639889912829753.\u001b[0m\n",
      "\u001b[32m[I 2022-11-26 15:22:41,024]\u001b[0m Trial 1 finished with value: 0.7626039497317288 and parameters: {'learning_rate': 0.008771416592003579, 'n_estimators': 761, 'max_depth': 7}. Best is trial 0 with value: 0.7639889912829753.\u001b[0m\n",
      "\u001b[32m[I 2022-11-26 15:22:46,599]\u001b[0m Trial 2 finished with value: 0.7652447670637978 and parameters: {'learning_rate': 0.04234350615938281, 'n_estimators': 683, 'max_depth': 8}. Best is trial 2 with value: 0.7652447670637978.\u001b[0m\n",
      "\u001b[32m[I 2022-11-26 15:22:50,371]\u001b[0m Trial 3 finished with value: 0.7548107635059454 and parameters: {'learning_rate': 0.35505674331734294, 'n_estimators': 890, 'max_depth': 10}. Best is trial 2 with value: 0.7652447670637978.\u001b[0m\n",
      "\u001b[32m[I 2022-11-26 15:22:53,565]\u001b[0m Trial 4 finished with value: 0.7568052519858948 and parameters: {'learning_rate': 0.3452552477828869, 'n_estimators': 649, 'max_depth': 9}. Best is trial 2 with value: 0.7652447670637978.\u001b[0m\n",
      "\u001b[32m[I 2022-11-26 15:22:54,732]\u001b[0m Trial 5 finished with value: 0.7608311108692102 and parameters: {'learning_rate': 0.39038241106633764, 'n_estimators': 777, 'max_depth': 5}. Best is trial 2 with value: 0.7652447670637978.\u001b[0m\n",
      "\u001b[32m[I 2022-11-26 15:22:57,452]\u001b[0m Trial 6 finished with value: 0.7633426624308554 and parameters: {'learning_rate': 0.07650182752532741, 'n_estimators': 917, 'max_depth': 3}. Best is trial 2 with value: 0.7652447670637978.\u001b[0m\n",
      "\u001b[32m[I 2022-11-26 15:22:59,413]\u001b[0m Trial 7 finished with value: 0.7649862355229499 and parameters: {'learning_rate': 0.2561929054277609, 'n_estimators': 832, 'max_depth': 5}. Best is trial 2 with value: 0.7652447670637978.\u001b[0m\n",
      "\u001b[32m[I 2022-11-26 15:23:04,653]\u001b[0m Trial 8 finished with value: 0.7643767885942473 and parameters: {'learning_rate': 0.046750143544503714, 'n_estimators': 907, 'max_depth': 7}. Best is trial 2 with value: 0.7652447670637978.\u001b[0m\n",
      "\u001b[32m[I 2022-11-26 15:23:10,509]\u001b[0m Trial 9 finished with value: 0.7624746839613048 and parameters: {'learning_rate': 0.01031007070552687, 'n_estimators': 716, 'max_depth': 4}. Best is trial 2 with value: 0.7652447670637978.\u001b[0m\n",
      "\u001b[32m[I 2022-11-26 15:23:16,898]\u001b[0m Trial 10 finished with value: 0.7641182570533993 and parameters: {'learning_rate': 0.037518601981394874, 'n_estimators': 472, 'max_depth': 8}. Best is trial 2 with value: 0.7652447670637978.\u001b[0m\n",
      "\u001b[32m[I 2022-11-26 15:23:18,741]\u001b[0m Trial 11 finished with value: 0.7623454181908809 and parameters: {'learning_rate': 0.14541088326572663, 'n_estimators': 589, 'max_depth': 5}. Best is trial 2 with value: 0.7652447670637978.\u001b[0m\n",
      "\u001b[32m[I 2022-11-26 15:23:27,530]\u001b[0m Trial 12 finished with value: 0.7636011939717033 and parameters: {'learning_rate': 0.0223680296790887, 'n_estimators': 1000, 'max_depth': 6}. Best is trial 2 with value: 0.7652447670637978.\u001b[0m\n",
      "\u001b[32m[I 2022-11-26 15:23:30,379]\u001b[0m Trial 13 finished with value: 0.7637304597421273 and parameters: {'learning_rate': 0.1355872776415002, 'n_estimators': 559, 'max_depth': 6}. Best is trial 2 with value: 0.7652447670637978.\u001b[0m\n",
      "\u001b[32m[I 2022-11-26 15:23:44,638]\u001b[0m Trial 14 finished with value: 0.7637304597421273 and parameters: {'learning_rate': 0.020135589640296575, 'n_estimators': 772, 'max_depth': 8}. Best is trial 2 with value: 0.7652447670637978.\u001b[0m\n",
      "\u001b[32m[I 2022-11-26 15:23:46,701]\u001b[0m Trial 15 finished with value: 0.7637304597421273 and parameters: {'learning_rate': 0.15372050854578423, 'n_estimators': 422, 'max_depth': 3}. Best is trial 2 with value: 0.7652447670637978.\u001b[0m\n",
      "\u001b[32m[I 2022-11-26 15:23:52,697]\u001b[0m Trial 16 finished with value: 0.7636011939717033 and parameters: {'learning_rate': 0.02446875261638101, 'n_estimators': 654, 'max_depth': 5}. Best is trial 2 with value: 0.7652447670637978.\u001b[0m\n",
      "\u001b[32m[I 2022-11-26 15:24:05,470]\u001b[0m Trial 17 finished with value: 0.7626039497317288 and parameters: {'learning_rate': 0.0055970615143262, 'n_estimators': 804, 'max_depth': 8}. Best is trial 2 with value: 0.7652447670637978.\u001b[0m\n",
      "\u001b[32m[I 2022-11-26 15:24:07,698]\u001b[0m Trial 18 finished with value: 0.7638597255125513 and parameters: {'learning_rate': 0.09743615141614058, 'n_estimators': 540, 'max_depth': 4}. Best is trial 2 with value: 0.7652447670637978.\u001b[0m\n",
      "\u001b[32m[I 2022-11-26 15:24:12,496]\u001b[0m Trial 19 finished with value: 0.7641182570533993 and parameters: {'learning_rate': 0.22256142467786946, 'n_estimators': 682, 'max_depth': 10}. Best is trial 2 with value: 0.7652447670637978.\u001b[0m\n",
      "\u001b[32m[I 2022-11-26 15:24:17,319]\u001b[0m Trial 20 finished with value: 0.7594460693179638 and parameters: {'learning_rate': 0.03809076086681471, 'n_estimators': 846, 'max_depth': 7}. Best is trial 2 with value: 0.7652447670637978.\u001b[0m\n",
      "\u001b[32m[I 2022-11-26 15:24:22,707]\u001b[0m Trial 21 finished with value: 0.7638597255125513 and parameters: {'learning_rate': 0.04529149313991322, 'n_estimators': 971, 'max_depth': 7}. Best is trial 2 with value: 0.7652447670637978.\u001b[0m\n",
      "\u001b[32m[I 2022-11-26 15:24:26,446]\u001b[0m Trial 22 finished with value: 0.7638597255125513 and parameters: {'learning_rate': 0.09334040185792877, 'n_estimators': 841, 'max_depth': 6}. Best is trial 2 with value: 0.7652447670637978.\u001b[0m\n",
      "\u001b[32m[I 2022-11-26 15:24:41,617]\u001b[0m Trial 23 finished with value: 0.7638597255125513 and parameters: {'learning_rate': 0.015386174694164216, 'n_estimators': 938, 'max_depth': 9}. Best is trial 2 with value: 0.7652447670637978.\u001b[0m\n",
      "\u001b[32m[I 2022-11-26 15:24:47,301]\u001b[0m Trial 24 finished with value: 0.7666298086150444 and parameters: {'learning_rate': 0.04944421230404053, 'n_estimators': 725, 'max_depth': 8}. Best is trial 24 with value: 0.7666298086150444.\u001b[0m\n",
      "\u001b[32m[I 2022-11-26 15:24:54,554]\u001b[0m Trial 25 finished with value: 0.7638597255125513 and parameters: {'learning_rate': 0.027673395438011984, 'n_estimators': 710, 'max_depth': 8}. Best is trial 24 with value: 0.7666298086150444.\u001b[0m\n",
      "\u001b[32m[I 2022-11-26 15:24:58,418]\u001b[0m Trial 26 finished with value: 0.7668883401558924 and parameters: {'learning_rate': 0.22206355526990482, 'n_estimators': 615, 'max_depth': 9}. Best is trial 26 with value: 0.7668883401558924.\u001b[0m\n",
      "\u001b[32m[I 2022-11-26 15:25:05,301]\u001b[0m Trial 27 finished with value: 0.7653740328342218 and parameters: {'learning_rate': 0.06315602684390904, 'n_estimators': 599, 'max_depth': 9}. Best is trial 26 with value: 0.7668883401558924.\u001b[0m\n",
      "\u001b[32m[I 2022-11-26 15:25:12,423]\u001b[0m Trial 28 finished with value: 0.7667590743854684 and parameters: {'learning_rate': 0.0629310882884366, 'n_estimators': 599, 'max_depth': 9}. Best is trial 26 with value: 0.7668883401558924.\u001b[0m\n",
      "\u001b[32m[I 2022-11-26 15:25:19,336]\u001b[0m Trial 29 finished with value: 0.7637304597421273 and parameters: {'learning_rate': 0.06336439528149944, 'n_estimators': 499, 'max_depth': 10}. Best is trial 26 with value: 0.7668883401558924.\u001b[0m\n",
      "\u001b[32m[I 2022-11-26 15:25:22,849]\u001b[0m Trial 30 finished with value: 0.7599631323996597 and parameters: {'learning_rate': 0.22915938983097967, 'n_estimators': 620, 'max_depth': 9}. Best is trial 26 with value: 0.7668883401558924.\u001b[0m\n",
      "\u001b[32m[I 2022-11-26 15:25:30,390]\u001b[0m Trial 31 finished with value: 0.7668883401558924 and parameters: {'learning_rate': 0.06210546831554587, 'n_estimators': 598, 'max_depth': 9}. Best is trial 26 with value: 0.7668883401558924.\u001b[0m\n",
      "\u001b[32m[I 2022-11-26 15:25:36,750]\u001b[0m Trial 32 finished with value: 0.7641182570533993 and parameters: {'learning_rate': 0.11102173299303661, 'n_estimators': 529, 'max_depth': 10}. Best is trial 26 with value: 0.7668883401558924.\u001b[0m\n",
      "\u001b[32m[I 2022-11-26 15:25:44,694]\u001b[0m Trial 33 finished with value: 0.7651155012933739 and parameters: {'learning_rate': 0.07077079336095865, 'n_estimators': 730, 'max_depth': 9}. Best is trial 26 with value: 0.7668883401558924.\u001b[0m\n",
      "\u001b[32m[I 2022-11-26 15:25:49,731]\u001b[0m Trial 34 finished with value: 0.7652447670637978 and parameters: {'learning_rate': 0.05627019182582296, 'n_estimators': 645, 'max_depth': 8}. Best is trial 26 with value: 0.7668883401558924.\u001b[0m\n",
      "\u001b[32m[I 2022-11-26 15:26:02,642]\u001b[0m Trial 35 finished with value: 0.7641182570533993 and parameters: {'learning_rate': 0.03354915396492247, 'n_estimators': 572, 'max_depth': 10}. Best is trial 26 with value: 0.7668883401558924.\u001b[0m\n",
      "\u001b[32m[I 2022-11-26 15:26:20,466]\u001b[0m Trial 36 finished with value: 0.7626039497317288 and parameters: {'learning_rate': 0.016024062848879396, 'n_estimators': 621, 'max_depth': 9}. Best is trial 26 with value: 0.7668883401558924.\u001b[0m\n",
      "\u001b[32m[I 2022-11-26 15:26:23,822]\u001b[0m Trial 37 finished with value: 0.7609603766396342 and parameters: {'learning_rate': 0.18285495671585397, 'n_estimators': 676, 'max_depth': 8}. Best is trial 26 with value: 0.7668883401558924.\u001b[0m\n",
      "\u001b[32m[I 2022-11-26 15:26:29,925]\u001b[0m Trial 38 finished with value: 0.7638597255125513 and parameters: {'learning_rate': 0.08652812178004095, 'n_estimators': 746, 'max_depth': 10}. Best is trial 26 with value: 0.7668883401558924.\u001b[0m\n",
      "\u001b[32m[I 2022-11-26 15:26:33,742]\u001b[0m Trial 39 finished with value: 0.755937273516344 and parameters: {'learning_rate': 0.307539101331396, 'n_estimators': 504, 'max_depth': 9}. Best is trial 26 with value: 0.7668883401558924.\u001b[0m\n",
      "\u001b[32m[I 2022-11-26 15:26:37,459]\u001b[0m Trial 40 finished with value: 0.7575439646850212 and parameters: {'learning_rate': 0.4416961286954092, 'n_estimators': 634, 'max_depth': 9}. Best is trial 26 with value: 0.7668883401558924.\u001b[0m\n",
      "\u001b[32m[I 2022-11-26 15:26:45,437]\u001b[0m Trial 41 finished with value: 0.7641182570533993 and parameters: {'learning_rate': 0.05681096881075825, 'n_estimators': 595, 'max_depth': 9}. Best is trial 26 with value: 0.7668883401558924.\u001b[0m\n",
      "\u001b[32m[I 2022-11-26 15:26:48,368]\u001b[0m Trial 42 finished with value: 0.7651155012933739 and parameters: {'learning_rate': 0.11609983504676633, 'n_estimators': 586, 'max_depth': 8}. Best is trial 26 with value: 0.7668883401558924.\u001b[0m\n",
      "\u001b[32m[I 2022-11-26 15:27:01,994]\u001b[0m Trial 43 finished with value: 0.7636011939717033 and parameters: {'learning_rate': 0.03047194010423936, 'n_estimators': 605, 'max_depth': 9}. Best is trial 26 with value: 0.7668883401558924.\u001b[0m\n",
      "\u001b[32m[I 2022-11-26 15:27:11,826]\u001b[0m Trial 44 finished with value: 0.7663712770741964 and parameters: {'learning_rate': 0.06849830788281339, 'n_estimators': 669, 'max_depth': 10}. Best is trial 26 with value: 0.7668883401558924.\u001b[0m\n",
      "\u001b[32m[I 2022-11-26 15:27:20,551]\u001b[0m Trial 45 finished with value: 0.7637304597421273 and parameters: {'learning_rate': 0.049850949846617, 'n_estimators': 669, 'max_depth': 10}. Best is trial 26 with value: 0.7668883401558924.\u001b[0m\n",
      "\u001b[32m[I 2022-11-26 15:27:27,451]\u001b[0m Trial 46 finished with value: 0.7638597255125513 and parameters: {'learning_rate': 0.08237943435172294, 'n_estimators': 702, 'max_depth': 10}. Best is trial 26 with value: 0.7668883401558924.\u001b[0m\n",
      "\u001b[32m[I 2022-11-26 15:27:36,750]\u001b[0m Trial 47 finished with value: 0.7641182570533993 and parameters: {'learning_rate': 0.07346188174099716, 'n_estimators': 552, 'max_depth': 10}. Best is trial 26 with value: 0.7668883401558924.\u001b[0m\n",
      "\u001b[32m[I 2022-11-26 15:27:42,002]\u001b[0m Trial 48 finished with value: 0.7626039497317288 and parameters: {'learning_rate': 0.11907512054214994, 'n_estimators': 450, 'max_depth': 9}. Best is trial 26 with value: 0.7668883401558924.\u001b[0m\n",
      "\u001b[32m[I 2022-11-26 15:27:46,908]\u001b[0m Trial 49 finished with value: 0.7641182570533993 and parameters: {'learning_rate': 0.04132395528377045, 'n_estimators': 797, 'max_depth': 7}. Best is trial 26 with value: 0.7668883401558924.\u001b[0m\n",
      "\u001b[32m[I 2022-11-26 15:27:49,685]\u001b[0m Trial 50 finished with value: 0.7663712770741964 and parameters: {'learning_rate': 0.19829051114235485, 'n_estimators': 510, 'max_depth': 8}. Best is trial 26 with value: 0.7668883401558924.\u001b[0m\n",
      "\u001b[32m[I 2022-11-26 15:27:52,497]\u001b[0m Trial 51 finished with value: 0.7626039497317288 and parameters: {'learning_rate': 0.1753920845155932, 'n_estimators': 506, 'max_depth': 8}. Best is trial 26 with value: 0.7668883401558924.\u001b[0m\n",
      "\u001b[32m[I 2022-11-26 15:27:55,190]\u001b[0m Trial 52 finished with value: 0.7692706259471136 and parameters: {'learning_rate': 0.26423614085760533, 'n_estimators': 473, 'max_depth': 8}. Best is trial 52 with value: 0.7692706259471136.\u001b[0m\n",
      "\u001b[32m[I 2022-11-26 15:27:57,273]\u001b[0m Trial 53 finished with value: 0.7610896424100582 and parameters: {'learning_rate': 0.325365137648931, 'n_estimators': 476, 'max_depth': 8}. Best is trial 52 with value: 0.7692706259471136.\u001b[0m\n",
      "\u001b[32m[I 2022-11-26 15:27:58,782]\u001b[0m Trial 54 finished with value: 0.752908658873003 and parameters: {'learning_rate': 0.49349208498403735, 'n_estimators': 739, 'max_depth': 7}. Best is trial 52 with value: 0.7692706259471136.\u001b[0m\n",
      "\u001b[32m[I 2022-11-26 15:28:01,200]\u001b[0m Trial 55 finished with value: 0.7609603766396342 and parameters: {'learning_rate': 0.2458942644173258, 'n_estimators': 436, 'max_depth': 8}. Best is trial 52 with value: 0.7692706259471136.\u001b[0m\n",
      "\u001b[32m[I 2022-11-26 15:28:03,061]\u001b[0m Trial 56 finished with value: 0.7636011939717033 and parameters: {'learning_rate': 0.3806049161487417, 'n_estimators': 528, 'max_depth': 7}. Best is trial 52 with value: 0.7692706259471136.\u001b[0m\n",
      "\u001b[32m[I 2022-11-26 15:28:07,815]\u001b[0m Trial 57 finished with value: 0.7593168035475397 and parameters: {'learning_rate': 0.13832566510676927, 'n_estimators': 691, 'max_depth': 9}. Best is trial 52 with value: 0.7692706259471136.\u001b[0m\n",
      "\u001b[32m[I 2022-11-26 15:28:15,904]\u001b[0m Trial 58 finished with value: 0.7624746839613048 and parameters: {'learning_rate': 0.04959787834444845, 'n_estimators': 666, 'max_depth': 9}. Best is trial 52 with value: 0.7692706259471136.\u001b[0m\n",
      "\u001b[32m[I 2022-11-26 15:28:18,469]\u001b[0m Trial 59 finished with value: 0.7585780908484131 and parameters: {'learning_rate': 0.167586738643748, 'n_estimators': 415, 'max_depth': 8}. Best is trial 52 with value: 0.7692706259471136.\u001b[0m\n",
      "\u001b[32m[I 2022-11-26 15:28:20,811]\u001b[0m Trial 60 finished with value: 0.7637304597421273 and parameters: {'learning_rate': 0.28198655172639603, 'n_estimators': 469, 'max_depth': 8}. Best is trial 52 with value: 0.7692706259471136.\u001b[0m\n",
      "\u001b[32m[I 2022-11-26 15:28:27,894]\u001b[0m Trial 61 finished with value: 0.7607018450987862 and parameters: {'learning_rate': 0.10026467445978694, 'n_estimators': 572, 'max_depth': 9}. Best is trial 52 with value: 0.7692706259471136.\u001b[0m\n",
      "\u001b[32m[I 2022-11-26 15:28:32,293]\u001b[0m Trial 62 finished with value: 0.7613481739509061 and parameters: {'learning_rate': 0.22339038518512688, 'n_estimators': 621, 'max_depth': 10}. Best is trial 52 with value: 0.7692706259471136.\u001b[0m\n",
      "\u001b[32m[I 2022-11-26 15:28:34,942]\u001b[0m Trial 63 finished with value: 0.7612189081804822 and parameters: {'learning_rate': 0.20985548760898223, 'n_estimators': 651, 'max_depth': 8}. Best is trial 52 with value: 0.7692706259471136.\u001b[0m\n",
      "\u001b[32m[I 2022-11-26 15:28:37,067]\u001b[0m Trial 64 finished with value: 0.7609603766396342 and parameters: {'learning_rate': 0.19535709150213404, 'n_estimators': 561, 'max_depth': 7}. Best is trial 52 with value: 0.7692706259471136.\u001b[0m\n",
      "\u001b[32m[I 2022-11-26 15:28:41,300]\u001b[0m Trial 65 finished with value: 0.7638597255125513 and parameters: {'learning_rate': 0.2732926616260504, 'n_estimators': 721, 'max_depth': 9}. Best is trial 52 with value: 0.7692706259471136.\u001b[0m\n",
      "\u001b[32m[I 2022-11-26 15:28:46,952]\u001b[0m Trial 66 finished with value: 0.7653740328342218 and parameters: {'learning_rate': 0.03914678043310917, 'n_estimators': 531, 'max_depth': 8}. Best is trial 52 with value: 0.7692706259471136.\u001b[0m\n",
      "\u001b[32m[I 2022-11-26 15:28:50,232]\u001b[0m Trial 67 finished with value: 0.7638597255125513 and parameters: {'learning_rate': 0.06180167843079774, 'n_estimators': 767, 'max_depth': 6}. Best is trial 52 with value: 0.7692706259471136.\u001b[0m\n",
      "\u001b[32m[I 2022-11-26 15:28:56,691]\u001b[0m Trial 68 finished with value: 0.7609603766396342 and parameters: {'learning_rate': 0.07301270263142542, 'n_estimators': 486, 'max_depth': 10}. Best is trial 52 with value: 0.7692706259471136.\u001b[0m\n",
      "\u001b[32m[I 2022-11-26 15:29:01,007]\u001b[0m Trial 69 finished with value: 0.7597046008588118 and parameters: {'learning_rate': 0.1435366590756631, 'n_estimators': 444, 'max_depth': 9}. Best is trial 52 with value: 0.7692706259471136.\u001b[0m\n",
      "\u001b[32m[I 2022-11-26 15:29:06,276]\u001b[0m Trial 70 finished with value: 0.7663712770741964 and parameters: {'learning_rate': 0.03450692667158508, 'n_estimators': 638, 'max_depth': 4}. Best is trial 52 with value: 0.7692706259471136.\u001b[0m\n",
      "\u001b[32m[I 2022-11-26 15:29:11,284]\u001b[0m Trial 71 finished with value: 0.7651155012933739 and parameters: {'learning_rate': 0.03388141451992673, 'n_estimators': 611, 'max_depth': 4}. Best is trial 52 with value: 0.7692706259471136.\u001b[0m\n",
      "\u001b[32m[I 2022-11-26 15:29:17,255]\u001b[0m Trial 72 finished with value: 0.7638597255125513 and parameters: {'learning_rate': 0.020893742282181948, 'n_estimators': 642, 'max_depth': 5}. Best is trial 52 with value: 0.7692706259471136.\u001b[0m\n",
      "\u001b[32m[I 2022-11-26 15:29:21,946]\u001b[0m Trial 73 finished with value: 0.7636011939717033 and parameters: {'learning_rate': 0.027690085848474353, 'n_estimators': 577, 'max_depth': 4}. Best is trial 52 with value: 0.7692706259471136.\u001b[0m\n",
      "\u001b[32m[I 2022-11-26 15:29:25,061]\u001b[0m Trial 74 finished with value: 0.7637304597421273 and parameters: {'learning_rate': 0.0552356490551112, 'n_estimators': 633, 'max_depth': 3}. Best is trial 52 with value: 0.7692706259471136.\u001b[0m\n",
      "\u001b[32m[I 2022-11-26 15:29:34,990]\u001b[0m Trial 75 finished with value: 0.7626039497317288 and parameters: {'learning_rate': 0.04492271281904442, 'n_estimators': 692, 'max_depth': 9}. Best is trial 52 with value: 0.7692706259471136.\u001b[0m\n",
      "\u001b[32m[I 2022-11-26 15:29:43,290]\u001b[0m Trial 76 finished with value: 0.7623454181908809 and parameters: {'learning_rate': 0.01826842386198535, 'n_estimators': 658, 'max_depth': 7}. Best is trial 52 with value: 0.7692706259471136.\u001b[0m\n",
      "\u001b[32m[I 2022-11-26 15:29:48,843]\u001b[0m Trial 77 finished with value: 0.7637304597421273 and parameters: {'learning_rate': 0.024210295793859398, 'n_estimators': 515, 'max_depth': 6}. Best is trial 52 with value: 0.7692706259471136.\u001b[0m\n",
      "\u001b[32m[I 2022-11-26 15:30:00,621]\u001b[0m Trial 78 finished with value: 0.7636011939717033 and parameters: {'learning_rate': 0.0322735467461138, 'n_estimators': 554, 'max_depth': 10}. Best is trial 52 with value: 0.7692706259471136.\u001b[0m\n",
      "\u001b[32m[I 2022-11-26 15:30:05,116]\u001b[0m Trial 79 finished with value: 0.7623454181908809 and parameters: {'learning_rate': 0.06701654085668964, 'n_estimators': 681, 'max_depth': 8}. Best is trial 52 with value: 0.7692706259471136.\u001b[0m\n",
      "\u001b[32m[I 2022-11-26 15:30:17,272]\u001b[0m Trial 80 finished with value: 0.7624746839613048 and parameters: {'learning_rate': 0.008206017745951278, 'n_estimators': 750, 'max_depth': 8}. Best is trial 52 with value: 0.7692706259471136.\u001b[0m\n",
      "\u001b[32m[I 2022-11-26 15:30:24,296]\u001b[0m Trial 81 finished with value: 0.7609603766396342 and parameters: {'learning_rate': 0.054344380705837046, 'n_estimators': 602, 'max_depth': 9}. Best is trial 52 with value: 0.7692706259471136.\u001b[0m\n",
      "\u001b[32m[I 2022-11-26 15:30:31,302]\u001b[0m Trial 82 finished with value: 0.7665005428446204 and parameters: {'learning_rate': 0.09019100315649707, 'n_estimators': 585, 'max_depth': 9}. Best is trial 52 with value: 0.7692706259471136.\u001b[0m\n",
      "\u001b[32m[I 2022-11-26 15:30:37,135]\u001b[0m Trial 83 finished with value: 0.7613481739509061 and parameters: {'learning_rate': 0.08105654384971744, 'n_estimators': 627, 'max_depth': 9}. Best is trial 52 with value: 0.7692706259471136.\u001b[0m\n",
      "\u001b[32m[I 2022-11-26 15:30:43,982]\u001b[0m Trial 84 finished with value: 0.7637304597421273 and parameters: {'learning_rate': 0.09279684844536182, 'n_estimators': 592, 'max_depth': 10}. Best is trial 52 with value: 0.7692706259471136.\u001b[0m\n",
      "\u001b[32m[I 2022-11-26 15:30:49,592]\u001b[0m Trial 85 finished with value: 0.7610896424100582 and parameters: {'learning_rate': 0.10777744508310354, 'n_estimators': 613, 'max_depth': 9}. Best is trial 52 with value: 0.7692706259471136.\u001b[0m\n",
      "\u001b[32m[I 2022-11-26 15:30:56,285]\u001b[0m Trial 86 finished with value: 0.7651155012933739 and parameters: {'learning_rate': 0.043570377983904375, 'n_estimators': 584, 'max_depth': 8}. Best is trial 52 with value: 0.7692706259471136.\u001b[0m\n",
      "\u001b[32m[I 2022-11-26 15:30:57,990]\u001b[0m Trial 87 finished with value: 0.7649862355229499 and parameters: {'learning_rate': 0.1602358505108214, 'n_estimators': 709, 'max_depth': 5}. Best is trial 52 with value: 0.7692706259471136.\u001b[0m\n",
      "\u001b[32m[I 2022-11-26 15:31:08,208]\u001b[0m Trial 88 finished with value: 0.7653740328342218 and parameters: {'learning_rate': 0.037161059789001014, 'n_estimators': 489, 'max_depth': 9}. Best is trial 52 with value: 0.7692706259471136.\u001b[0m\n",
      "\u001b[32m[I 2022-11-26 15:31:11,880]\u001b[0m Trial 89 finished with value: 0.7465005141984662 and parameters: {'learning_rate': 0.3539163317394563, 'n_estimators': 542, 'max_depth': 10}. Best is trial 52 with value: 0.7692706259471136.\u001b[0m\n",
      "\u001b[32m[I 2022-11-26 15:31:23,940]\u001b[0m Trial 90 finished with value: 0.7641182570533993 and parameters: {'learning_rate': 0.062026876476678906, 'n_estimators': 791, 'max_depth': 9}. Best is trial 52 with value: 0.7692706259471136.\u001b[0m\n",
      "\u001b[32m[I 2022-11-26 15:31:36,206]\u001b[0m Trial 91 finished with value: 0.7651155012933739 and parameters: {'learning_rate': 0.03685744266935198, 'n_estimators': 464, 'max_depth': 9}. Best is trial 52 with value: 0.7692706259471136.\u001b[0m\n",
      "\u001b[32m[I 2022-11-26 15:31:44,065]\u001b[0m Trial 92 finished with value: 0.7626039497317288 and parameters: {'learning_rate': 0.049955150634075456, 'n_estimators': 482, 'max_depth': 9}. Best is trial 52 with value: 0.7692706259471136.\u001b[0m\n",
      "\u001b[32m[I 2022-11-26 15:31:46,986]\u001b[0m Trial 93 finished with value: 0.7626039497317288 and parameters: {'learning_rate': 0.12374195452883865, 'n_estimators': 517, 'max_depth': 8}. Best is trial 52 with value: 0.7692706259471136.\u001b[0m\n",
      "\u001b[32m[I 2022-11-26 15:31:53,502]\u001b[0m Trial 94 finished with value: 0.7666298086150444 and parameters: {'learning_rate': 0.08731002987134508, 'n_estimators': 568, 'max_depth': 9}. Best is trial 52 with value: 0.7692706259471136.\u001b[0m\n",
      "\u001b[32m[I 2022-11-26 15:32:00,504]\u001b[0m Trial 95 finished with value: 0.7641182570533993 and parameters: {'learning_rate': 0.08723054811617241, 'n_estimators': 565, 'max_depth': 10}. Best is trial 52 with value: 0.7692706259471136.\u001b[0m\n",
      "\u001b[32m[I 2022-11-26 15:32:05,097]\u001b[0m Trial 96 finished with value: 0.7637304597421273 and parameters: {'learning_rate': 0.07560440300554476, 'n_estimators': 400, 'max_depth': 7}. Best is trial 52 with value: 0.7692706259471136.\u001b[0m\n",
      "\u001b[32m[I 2022-11-26 15:32:10,934]\u001b[0m Trial 97 finished with value: 0.7637304597421273 and parameters: {'learning_rate': 0.1026969507658563, 'n_estimators': 547, 'max_depth': 9}. Best is trial 52 with value: 0.7692706259471136.\u001b[0m\n",
      "\u001b[32m[I 2022-11-26 15:32:13,327]\u001b[0m Trial 98 finished with value: 0.758448825077989 and parameters: {'learning_rate': 0.2535231036798734, 'n_estimators': 633, 'max_depth': 8}. Best is trial 52 with value: 0.7692706259471136.\u001b[0m\n",
      "\u001b[32m[I 2022-11-26 15:32:14,979]\u001b[0m Trial 99 finished with value: 0.7624746839613048 and parameters: {'learning_rate': 0.31334648172612134, 'n_estimators': 582, 'max_depth': 6}. Best is trial 52 with value: 0.7692706259471136.\u001b[0m\n"
     ]
    }
   ],
   "source": [
    "# 이 작업을 해주면 어떤 초모수가 가장 좋은지를 얘가 판단을 해준다.\n",
    "# 나는 총 100번 돌렸지만, 원래는 1000번 정도 돌리는게 좋다.\n",
    "\n",
    "sampler = TPESampler(seed = 39)\n",
    "study = optuna.create_study(\n",
    "    study_name = \"cat_parameter_opt\",\n",
    "    direction = \"maximize\",\n",
    "    sampler = sampler)\n",
    "study.optimize(objective, n_trials = 100)"
   ]
  },
  {
   "cell_type": "code",
   "execution_count": 15,
   "id": "Y_HuSV4uemZn",
   "metadata": {
    "colab": {
     "base_uri": "https://localhost:8080/"
    },
    "executionInfo": {
     "elapsed": 305,
     "status": "ok",
     "timestamp": 1669476748702,
     "user": {
      "displayName": "신웅재",
      "userId": "08301511488967665306"
     },
     "user_tz": -540
    },
    "id": "Y_HuSV4uemZn",
    "outputId": "943221c7-febd-4f43-f572-0f858497b81a"
   },
   "outputs": [
    {
     "name": "stdout",
     "output_type": "stream",
     "text": [
      "Best Score : 0.7692706259471136\n",
      "Best trial : {'learning_rate': 0.26423614085760533, 'n_estimators': 473, 'max_depth': 8}\n"
     ]
    }
   ],
   "source": [
    "# 가장 좋은 초모수를 알려준다. \n",
    "\n",
    "print(\"Best Score :\", study.best_value)\n",
    "print(\"Best trial :\", study.best_trial.params)"
   ]
  },
  {
   "cell_type": "code",
   "execution_count": 16,
   "id": "4XeUXVtFemZn",
   "metadata": {
    "colab": {
     "base_uri": "https://localhost:8080/",
     "height": 542
    },
    "executionInfo": {
     "elapsed": 514,
     "status": "ok",
     "timestamp": 1669476753255,
     "user": {
      "displayName": "신웅재",
      "userId": "08301511488967665306"
     },
     "user_tz": -540
    },
    "id": "4XeUXVtFemZn",
    "outputId": "b03e1bfd-42ba-44a4-abd1-d43d3d064eec"
   },
   "outputs": [
    {
     "data": {
      "text/html": [
       "<html>\n",
       "<head><meta charset=\"utf-8\" /></head>\n",
       "<body>\n",
       "    <div>            <script src=\"https://cdnjs.cloudflare.com/ajax/libs/mathjax/2.7.5/MathJax.js?config=TeX-AMS-MML_SVG\"></script><script type=\"text/javascript\">if (window.MathJax) {MathJax.Hub.Config({SVG: {font: \"STIX-Web\"}});}</script>                <script type=\"text/javascript\">window.PlotlyConfig = {MathJaxConfig: 'local'};</script>\n",
       "        <script src=\"https://cdn.plot.ly/plotly-2.8.3.min.js\"></script>                <div id=\"c9226cb1-0e3c-43d0-8cdc-a8e1d0b0776a\" class=\"plotly-graph-div\" style=\"height:525px; width:100%;\"></div>            <script type=\"text/javascript\">                                    window.PLOTLYENV=window.PLOTLYENV || {};                                    if (document.getElementById(\"c9226cb1-0e3c-43d0-8cdc-a8e1d0b0776a\")) {                    Plotly.newPlot(                        \"c9226cb1-0e3c-43d0-8cdc-a8e1d0b0776a\",                        [{\"mode\":\"markers\",\"name\":\"Objective Value\",\"x\":[0,1,2,3,4,5,6,7,8,9,10,11,12,13,14,15,16,17,18,19,20,21,22,23,24,25,26,27,28,29,30,31,32,33,34,35,36,37,38,39,40,41,42,43,44,45,46,47,48,49,50,51,52,53,54,55,56,57,58,59,60,61,62,63,64,65,66,67,68,69,70,71,72,73,74,75,76,77,78,79,80,81,82,83,84,85,86,87,88,89,90,91,92,93,94,95,96,97,98,99],\"y\":[0.7639889912829753,0.7626039497317288,0.7652447670637978,0.7548107635059454,0.7568052519858948,0.7608311108692102,0.7633426624308554,0.7649862355229499,0.7643767885942473,0.7624746839613048,0.7641182570533993,0.7623454181908809,0.7636011939717033,0.7637304597421273,0.7637304597421273,0.7637304597421273,0.7636011939717033,0.7626039497317288,0.7638597255125513,0.7641182570533993,0.7594460693179638,0.7638597255125513,0.7638597255125513,0.7638597255125513,0.7666298086150444,0.7638597255125513,0.7668883401558924,0.7653740328342218,0.7667590743854684,0.7637304597421273,0.7599631323996597,0.7668883401558924,0.7641182570533993,0.7651155012933739,0.7652447670637978,0.7641182570533993,0.7626039497317288,0.7609603766396342,0.7638597255125513,0.755937273516344,0.7575439646850212,0.7641182570533993,0.7651155012933739,0.7636011939717033,0.7663712770741964,0.7637304597421273,0.7638597255125513,0.7641182570533993,0.7626039497317288,0.7641182570533993,0.7663712770741964,0.7626039497317288,0.7692706259471136,0.7610896424100582,0.752908658873003,0.7609603766396342,0.7636011939717033,0.7593168035475397,0.7624746839613048,0.7585780908484131,0.7637304597421273,0.7607018450987862,0.7613481739509061,0.7612189081804822,0.7609603766396342,0.7638597255125513,0.7653740328342218,0.7638597255125513,0.7609603766396342,0.7597046008588118,0.7663712770741964,0.7651155012933739,0.7638597255125513,0.7636011939717033,0.7637304597421273,0.7626039497317288,0.7623454181908809,0.7637304597421273,0.7636011939717033,0.7623454181908809,0.7624746839613048,0.7609603766396342,0.7665005428446204,0.7613481739509061,0.7637304597421273,0.7610896424100582,0.7651155012933739,0.7649862355229499,0.7653740328342218,0.7465005141984662,0.7641182570533993,0.7651155012933739,0.7626039497317288,0.7626039497317288,0.7666298086150444,0.7641182570533993,0.7637304597421273,0.7637304597421273,0.758448825077989,0.7624746839613048],\"type\":\"scatter\"},{\"name\":\"Best Value\",\"x\":[0,1,2,3,4,5,6,7,8,9,10,11,12,13,14,15,16,17,18,19,20,21,22,23,24,25,26,27,28,29,30,31,32,33,34,35,36,37,38,39,40,41,42,43,44,45,46,47,48,49,50,51,52,53,54,55,56,57,58,59,60,61,62,63,64,65,66,67,68,69,70,71,72,73,74,75,76,77,78,79,80,81,82,83,84,85,86,87,88,89,90,91,92,93,94,95,96,97,98,99],\"y\":[0.7639889912829753,0.7639889912829753,0.7652447670637978,0.7652447670637978,0.7652447670637978,0.7652447670637978,0.7652447670637978,0.7652447670637978,0.7652447670637978,0.7652447670637978,0.7652447670637978,0.7652447670637978,0.7652447670637978,0.7652447670637978,0.7652447670637978,0.7652447670637978,0.7652447670637978,0.7652447670637978,0.7652447670637978,0.7652447670637978,0.7652447670637978,0.7652447670637978,0.7652447670637978,0.7652447670637978,0.7666298086150444,0.7666298086150444,0.7668883401558924,0.7668883401558924,0.7668883401558924,0.7668883401558924,0.7668883401558924,0.7668883401558924,0.7668883401558924,0.7668883401558924,0.7668883401558924,0.7668883401558924,0.7668883401558924,0.7668883401558924,0.7668883401558924,0.7668883401558924,0.7668883401558924,0.7668883401558924,0.7668883401558924,0.7668883401558924,0.7668883401558924,0.7668883401558924,0.7668883401558924,0.7668883401558924,0.7668883401558924,0.7668883401558924,0.7668883401558924,0.7668883401558924,0.7692706259471136,0.7692706259471136,0.7692706259471136,0.7692706259471136,0.7692706259471136,0.7692706259471136,0.7692706259471136,0.7692706259471136,0.7692706259471136,0.7692706259471136,0.7692706259471136,0.7692706259471136,0.7692706259471136,0.7692706259471136,0.7692706259471136,0.7692706259471136,0.7692706259471136,0.7692706259471136,0.7692706259471136,0.7692706259471136,0.7692706259471136,0.7692706259471136,0.7692706259471136,0.7692706259471136,0.7692706259471136,0.7692706259471136,0.7692706259471136,0.7692706259471136,0.7692706259471136,0.7692706259471136,0.7692706259471136,0.7692706259471136,0.7692706259471136,0.7692706259471136,0.7692706259471136,0.7692706259471136,0.7692706259471136,0.7692706259471136,0.7692706259471136,0.7692706259471136,0.7692706259471136,0.7692706259471136,0.7692706259471136,0.7692706259471136,0.7692706259471136,0.7692706259471136,0.7692706259471136,0.7692706259471136],\"type\":\"scatter\"}],                        {\"title\":{\"text\":\"Optimization History Plot\"},\"xaxis\":{\"title\":{\"text\":\"Trial\"}},\"yaxis\":{\"title\":{\"text\":\"Objective Value\"}},\"template\":{\"data\":{\"bar\":[{\"error_x\":{\"color\":\"#2a3f5f\"},\"error_y\":{\"color\":\"#2a3f5f\"},\"marker\":{\"line\":{\"color\":\"#E5ECF6\",\"width\":0.5},\"pattern\":{\"fillmode\":\"overlay\",\"size\":10,\"solidity\":0.2}},\"type\":\"bar\"}],\"barpolar\":[{\"marker\":{\"line\":{\"color\":\"#E5ECF6\",\"width\":0.5},\"pattern\":{\"fillmode\":\"overlay\",\"size\":10,\"solidity\":0.2}},\"type\":\"barpolar\"}],\"carpet\":[{\"aaxis\":{\"endlinecolor\":\"#2a3f5f\",\"gridcolor\":\"white\",\"linecolor\":\"white\",\"minorgridcolor\":\"white\",\"startlinecolor\":\"#2a3f5f\"},\"baxis\":{\"endlinecolor\":\"#2a3f5f\",\"gridcolor\":\"white\",\"linecolor\":\"white\",\"minorgridcolor\":\"white\",\"startlinecolor\":\"#2a3f5f\"},\"type\":\"carpet\"}],\"choropleth\":[{\"colorbar\":{\"outlinewidth\":0,\"ticks\":\"\"},\"type\":\"choropleth\"}],\"contour\":[{\"colorbar\":{\"outlinewidth\":0,\"ticks\":\"\"},\"colorscale\":[[0.0,\"#0d0887\"],[0.1111111111111111,\"#46039f\"],[0.2222222222222222,\"#7201a8\"],[0.3333333333333333,\"#9c179e\"],[0.4444444444444444,\"#bd3786\"],[0.5555555555555556,\"#d8576b\"],[0.6666666666666666,\"#ed7953\"],[0.7777777777777778,\"#fb9f3a\"],[0.8888888888888888,\"#fdca26\"],[1.0,\"#f0f921\"]],\"type\":\"contour\"}],\"contourcarpet\":[{\"colorbar\":{\"outlinewidth\":0,\"ticks\":\"\"},\"type\":\"contourcarpet\"}],\"heatmap\":[{\"colorbar\":{\"outlinewidth\":0,\"ticks\":\"\"},\"colorscale\":[[0.0,\"#0d0887\"],[0.1111111111111111,\"#46039f\"],[0.2222222222222222,\"#7201a8\"],[0.3333333333333333,\"#9c179e\"],[0.4444444444444444,\"#bd3786\"],[0.5555555555555556,\"#d8576b\"],[0.6666666666666666,\"#ed7953\"],[0.7777777777777778,\"#fb9f3a\"],[0.8888888888888888,\"#fdca26\"],[1.0,\"#f0f921\"]],\"type\":\"heatmap\"}],\"heatmapgl\":[{\"colorbar\":{\"outlinewidth\":0,\"ticks\":\"\"},\"colorscale\":[[0.0,\"#0d0887\"],[0.1111111111111111,\"#46039f\"],[0.2222222222222222,\"#7201a8\"],[0.3333333333333333,\"#9c179e\"],[0.4444444444444444,\"#bd3786\"],[0.5555555555555556,\"#d8576b\"],[0.6666666666666666,\"#ed7953\"],[0.7777777777777778,\"#fb9f3a\"],[0.8888888888888888,\"#fdca26\"],[1.0,\"#f0f921\"]],\"type\":\"heatmapgl\"}],\"histogram\":[{\"marker\":{\"pattern\":{\"fillmode\":\"overlay\",\"size\":10,\"solidity\":0.2}},\"type\":\"histogram\"}],\"histogram2d\":[{\"colorbar\":{\"outlinewidth\":0,\"ticks\":\"\"},\"colorscale\":[[0.0,\"#0d0887\"],[0.1111111111111111,\"#46039f\"],[0.2222222222222222,\"#7201a8\"],[0.3333333333333333,\"#9c179e\"],[0.4444444444444444,\"#bd3786\"],[0.5555555555555556,\"#d8576b\"],[0.6666666666666666,\"#ed7953\"],[0.7777777777777778,\"#fb9f3a\"],[0.8888888888888888,\"#fdca26\"],[1.0,\"#f0f921\"]],\"type\":\"histogram2d\"}],\"histogram2dcontour\":[{\"colorbar\":{\"outlinewidth\":0,\"ticks\":\"\"},\"colorscale\":[[0.0,\"#0d0887\"],[0.1111111111111111,\"#46039f\"],[0.2222222222222222,\"#7201a8\"],[0.3333333333333333,\"#9c179e\"],[0.4444444444444444,\"#bd3786\"],[0.5555555555555556,\"#d8576b\"],[0.6666666666666666,\"#ed7953\"],[0.7777777777777778,\"#fb9f3a\"],[0.8888888888888888,\"#fdca26\"],[1.0,\"#f0f921\"]],\"type\":\"histogram2dcontour\"}],\"mesh3d\":[{\"colorbar\":{\"outlinewidth\":0,\"ticks\":\"\"},\"type\":\"mesh3d\"}],\"parcoords\":[{\"line\":{\"colorbar\":{\"outlinewidth\":0,\"ticks\":\"\"}},\"type\":\"parcoords\"}],\"pie\":[{\"automargin\":true,\"type\":\"pie\"}],\"scatter\":[{\"marker\":{\"colorbar\":{\"outlinewidth\":0,\"ticks\":\"\"}},\"type\":\"scatter\"}],\"scatter3d\":[{\"line\":{\"colorbar\":{\"outlinewidth\":0,\"ticks\":\"\"}},\"marker\":{\"colorbar\":{\"outlinewidth\":0,\"ticks\":\"\"}},\"type\":\"scatter3d\"}],\"scattercarpet\":[{\"marker\":{\"colorbar\":{\"outlinewidth\":0,\"ticks\":\"\"}},\"type\":\"scattercarpet\"}],\"scattergeo\":[{\"marker\":{\"colorbar\":{\"outlinewidth\":0,\"ticks\":\"\"}},\"type\":\"scattergeo\"}],\"scattergl\":[{\"marker\":{\"colorbar\":{\"outlinewidth\":0,\"ticks\":\"\"}},\"type\":\"scattergl\"}],\"scattermapbox\":[{\"marker\":{\"colorbar\":{\"outlinewidth\":0,\"ticks\":\"\"}},\"type\":\"scattermapbox\"}],\"scatterpolar\":[{\"marker\":{\"colorbar\":{\"outlinewidth\":0,\"ticks\":\"\"}},\"type\":\"scatterpolar\"}],\"scatterpolargl\":[{\"marker\":{\"colorbar\":{\"outlinewidth\":0,\"ticks\":\"\"}},\"type\":\"scatterpolargl\"}],\"scatterternary\":[{\"marker\":{\"colorbar\":{\"outlinewidth\":0,\"ticks\":\"\"}},\"type\":\"scatterternary\"}],\"surface\":[{\"colorbar\":{\"outlinewidth\":0,\"ticks\":\"\"},\"colorscale\":[[0.0,\"#0d0887\"],[0.1111111111111111,\"#46039f\"],[0.2222222222222222,\"#7201a8\"],[0.3333333333333333,\"#9c179e\"],[0.4444444444444444,\"#bd3786\"],[0.5555555555555556,\"#d8576b\"],[0.6666666666666666,\"#ed7953\"],[0.7777777777777778,\"#fb9f3a\"],[0.8888888888888888,\"#fdca26\"],[1.0,\"#f0f921\"]],\"type\":\"surface\"}],\"table\":[{\"cells\":{\"fill\":{\"color\":\"#EBF0F8\"},\"line\":{\"color\":\"white\"}},\"header\":{\"fill\":{\"color\":\"#C8D4E3\"},\"line\":{\"color\":\"white\"}},\"type\":\"table\"}]},\"layout\":{\"annotationdefaults\":{\"arrowcolor\":\"#2a3f5f\",\"arrowhead\":0,\"arrowwidth\":1},\"autotypenumbers\":\"strict\",\"coloraxis\":{\"colorbar\":{\"outlinewidth\":0,\"ticks\":\"\"}},\"colorscale\":{\"diverging\":[[0,\"#8e0152\"],[0.1,\"#c51b7d\"],[0.2,\"#de77ae\"],[0.3,\"#f1b6da\"],[0.4,\"#fde0ef\"],[0.5,\"#f7f7f7\"],[0.6,\"#e6f5d0\"],[0.7,\"#b8e186\"],[0.8,\"#7fbc41\"],[0.9,\"#4d9221\"],[1,\"#276419\"]],\"sequential\":[[0.0,\"#0d0887\"],[0.1111111111111111,\"#46039f\"],[0.2222222222222222,\"#7201a8\"],[0.3333333333333333,\"#9c179e\"],[0.4444444444444444,\"#bd3786\"],[0.5555555555555556,\"#d8576b\"],[0.6666666666666666,\"#ed7953\"],[0.7777777777777778,\"#fb9f3a\"],[0.8888888888888888,\"#fdca26\"],[1.0,\"#f0f921\"]],\"sequentialminus\":[[0.0,\"#0d0887\"],[0.1111111111111111,\"#46039f\"],[0.2222222222222222,\"#7201a8\"],[0.3333333333333333,\"#9c179e\"],[0.4444444444444444,\"#bd3786\"],[0.5555555555555556,\"#d8576b\"],[0.6666666666666666,\"#ed7953\"],[0.7777777777777778,\"#fb9f3a\"],[0.8888888888888888,\"#fdca26\"],[1.0,\"#f0f921\"]]},\"colorway\":[\"#636efa\",\"#EF553B\",\"#00cc96\",\"#ab63fa\",\"#FFA15A\",\"#19d3f3\",\"#FF6692\",\"#B6E880\",\"#FF97FF\",\"#FECB52\"],\"font\":{\"color\":\"#2a3f5f\"},\"geo\":{\"bgcolor\":\"white\",\"lakecolor\":\"white\",\"landcolor\":\"#E5ECF6\",\"showlakes\":true,\"showland\":true,\"subunitcolor\":\"white\"},\"hoverlabel\":{\"align\":\"left\"},\"hovermode\":\"closest\",\"mapbox\":{\"style\":\"light\"},\"paper_bgcolor\":\"white\",\"plot_bgcolor\":\"#E5ECF6\",\"polar\":{\"angularaxis\":{\"gridcolor\":\"white\",\"linecolor\":\"white\",\"ticks\":\"\"},\"bgcolor\":\"#E5ECF6\",\"radialaxis\":{\"gridcolor\":\"white\",\"linecolor\":\"white\",\"ticks\":\"\"}},\"scene\":{\"xaxis\":{\"backgroundcolor\":\"#E5ECF6\",\"gridcolor\":\"white\",\"gridwidth\":2,\"linecolor\":\"white\",\"showbackground\":true,\"ticks\":\"\",\"zerolinecolor\":\"white\"},\"yaxis\":{\"backgroundcolor\":\"#E5ECF6\",\"gridcolor\":\"white\",\"gridwidth\":2,\"linecolor\":\"white\",\"showbackground\":true,\"ticks\":\"\",\"zerolinecolor\":\"white\"},\"zaxis\":{\"backgroundcolor\":\"#E5ECF6\",\"gridcolor\":\"white\",\"gridwidth\":2,\"linecolor\":\"white\",\"showbackground\":true,\"ticks\":\"\",\"zerolinecolor\":\"white\"}},\"shapedefaults\":{\"line\":{\"color\":\"#2a3f5f\"}},\"ternary\":{\"aaxis\":{\"gridcolor\":\"white\",\"linecolor\":\"white\",\"ticks\":\"\"},\"baxis\":{\"gridcolor\":\"white\",\"linecolor\":\"white\",\"ticks\":\"\"},\"bgcolor\":\"#E5ECF6\",\"caxis\":{\"gridcolor\":\"white\",\"linecolor\":\"white\",\"ticks\":\"\"}},\"title\":{\"x\":0.05},\"xaxis\":{\"automargin\":true,\"gridcolor\":\"white\",\"linecolor\":\"white\",\"ticks\":\"\",\"title\":{\"standoff\":15},\"zerolinecolor\":\"white\",\"zerolinewidth\":2},\"yaxis\":{\"automargin\":true,\"gridcolor\":\"white\",\"linecolor\":\"white\",\"ticks\":\"\",\"title\":{\"standoff\":15},\"zerolinecolor\":\"white\",\"zerolinewidth\":2}}}},                        {\"responsive\": true}                    ).then(function(){\n",
       "                            \n",
       "var gd = document.getElementById('c9226cb1-0e3c-43d0-8cdc-a8e1d0b0776a');\n",
       "var x = new MutationObserver(function (mutations, observer) {{\n",
       "        var display = window.getComputedStyle(gd).display;\n",
       "        if (!display || display === 'none') {{\n",
       "            console.log([gd, 'removed!']);\n",
       "            Plotly.purge(gd);\n",
       "            observer.disconnect();\n",
       "        }}\n",
       "}});\n",
       "\n",
       "// Listen for the removal of the full notebook cells\n",
       "var notebookContainer = gd.closest('#notebook-container');\n",
       "if (notebookContainer) {{\n",
       "    x.observe(notebookContainer, {childList: true});\n",
       "}}\n",
       "\n",
       "// Listen for the clearing of the current output cell\n",
       "var outputEl = gd.closest('.output');\n",
       "if (outputEl) {{\n",
       "    x.observe(outputEl, {childList: true});\n",
       "}}\n",
       "\n",
       "                        })                };                            </script>        </div>\n",
       "</body>\n",
       "</html>"
      ]
     },
     "metadata": {},
     "output_type": "display_data"
    }
   ],
   "source": [
    "# 성능이 좋아지는 과정\n",
    "# 시각화\n",
    "\n",
    "optuna.visualization.plot_optimization_history(study)"
   ]
  },
  {
   "cell_type": "code",
   "execution_count": 17,
   "id": "-iLidGLvemZn",
   "metadata": {
    "colab": {
     "base_uri": "https://localhost:8080/",
     "height": 542
    },
    "executionInfo": {
     "elapsed": 339,
     "status": "ok",
     "timestamp": 1669476757244,
     "user": {
      "displayName": "신웅재",
      "userId": "08301511488967665306"
     },
     "user_tz": -540
    },
    "id": "-iLidGLvemZn",
    "outputId": "e0a48cd1-6127-4738-995b-89e61c57a48c"
   },
   "outputs": [
    {
     "data": {
      "text/html": [
       "<html>\n",
       "<head><meta charset=\"utf-8\" /></head>\n",
       "<body>\n",
       "    <div>            <script src=\"https://cdnjs.cloudflare.com/ajax/libs/mathjax/2.7.5/MathJax.js?config=TeX-AMS-MML_SVG\"></script><script type=\"text/javascript\">if (window.MathJax) {MathJax.Hub.Config({SVG: {font: \"STIX-Web\"}});}</script>                <script type=\"text/javascript\">window.PlotlyConfig = {MathJaxConfig: 'local'};</script>\n",
       "        <script src=\"https://cdn.plot.ly/plotly-2.8.3.min.js\"></script>                <div id=\"7321d77f-10a6-4cc9-9511-862de767343e\" class=\"plotly-graph-div\" style=\"height:525px; width:100%;\"></div>            <script type=\"text/javascript\">                                    window.PLOTLYENV=window.PLOTLYENV || {};                                    if (document.getElementById(\"7321d77f-10a6-4cc9-9511-862de767343e\")) {                    Plotly.newPlot(                        \"7321d77f-10a6-4cc9-9511-862de767343e\",                        [{\"dimensions\":[{\"label\":\"Objective Value\",\"range\":[0.7465005141984662,0.7692706259471136],\"values\":[0.7639889912829753,0.7626039497317288,0.7652447670637978,0.7548107635059454,0.7568052519858948,0.7608311108692102,0.7633426624308554,0.7649862355229499,0.7643767885942473,0.7624746839613048,0.7641182570533993,0.7623454181908809,0.7636011939717033,0.7637304597421273,0.7637304597421273,0.7637304597421273,0.7636011939717033,0.7626039497317288,0.7638597255125513,0.7641182570533993,0.7594460693179638,0.7638597255125513,0.7638597255125513,0.7638597255125513,0.7666298086150444,0.7638597255125513,0.7668883401558924,0.7653740328342218,0.7667590743854684,0.7637304597421273,0.7599631323996597,0.7668883401558924,0.7641182570533993,0.7651155012933739,0.7652447670637978,0.7641182570533993,0.7626039497317288,0.7609603766396342,0.7638597255125513,0.755937273516344,0.7575439646850212,0.7641182570533993,0.7651155012933739,0.7636011939717033,0.7663712770741964,0.7637304597421273,0.7638597255125513,0.7641182570533993,0.7626039497317288,0.7641182570533993,0.7663712770741964,0.7626039497317288,0.7692706259471136,0.7610896424100582,0.752908658873003,0.7609603766396342,0.7636011939717033,0.7593168035475397,0.7624746839613048,0.7585780908484131,0.7637304597421273,0.7607018450987862,0.7613481739509061,0.7612189081804822,0.7609603766396342,0.7638597255125513,0.7653740328342218,0.7638597255125513,0.7609603766396342,0.7597046008588118,0.7663712770741964,0.7651155012933739,0.7638597255125513,0.7636011939717033,0.7637304597421273,0.7626039497317288,0.7623454181908809,0.7637304597421273,0.7636011939717033,0.7623454181908809,0.7624746839613048,0.7609603766396342,0.7665005428446204,0.7613481739509061,0.7637304597421273,0.7610896424100582,0.7651155012933739,0.7649862355229499,0.7653740328342218,0.7465005141984662,0.7641182570533993,0.7651155012933739,0.7626039497317288,0.7626039497317288,0.7666298086150444,0.7641182570533993,0.7637304597421273,0.7637304597421273,0.758448825077989,0.7624746839613048]},{\"label\":\"learning_rate\",\"range\":[-2.2520399199673777,-0.3067198084965184],\"ticktext\":[\"0.0056\",\"0.01\",\"0.1\",\"0.493\"],\"tickvals\":[-2.2520399199673777,-2,-1,-0.3067198084965184],\"values\":[-1.2072516833732718,-2.0569302620035788,-1.3732131840438442,-0.4497022347186541,-0.4618597115449018,-0.40850975798514744,-1.1163281900138968,-0.5914329010403425,-1.3302170513050429,-1.9867383563542267,-1.4257533526777681,-0.8374030875253515,-1.6503722696890666,-0.8677810590626607,-1.6960356482131103,-0.8132681874508416,-1.611388169823964,-2.2520399199673777,-1.0112798783620838,-0.6525501073027977,-1.4191803521760509,-1.3439833615485317,-1.029930333681147,-1.8128693409038068,-1.305884537464681,-1.5579375510316917,-0.6535227113475925,-1.199585199342041,-1.2011347577872995,-1.1981547054669157,-0.6398623427908635,-1.2068701590068016,-0.954591997834289,-1.1501459358013377,-1.2497216043278911,-1.4743184272982228,-1.7952273603402922,-0.7378932625878083,-1.062842723182193,-0.5120996590336742,-0.3548764071567989,-1.2455678045340646,-0.935168397301306,-1.5160998939971464,-1.1643201567737593,-1.302326562343009,-1.0841811943991304,-1.1339379513070251,-0.9241789701710722,-1.3837981170723965,-0.7026980677266894,-0.7559900103358237,-0.578007782097772,-0.487628982861385,-0.3067198084965184,-0.6092516012367065,-0.4195256063735339,-0.8590972329048432,-1.304536900989766,-0.7757603506324043,-0.5497716032064742,-0.9988520519195744,-0.6509355230328704,-0.6780796697351247,-0.7091708191750767,-0.5633720296981204,-1.40730395002063,-1.2089997300352082,-1.1366015754574328,-0.8430371665187074,-1.4620937190338728,-1.4700384665415989,-1.6799837664848416,-1.5576756977950215,-1.2577805383804526,-1.347534025189589,-1.7382989204947612,-1.615999904451032,-1.4911533045798457,-1.1738179925798633,-2.085867548183098,-1.2648453559864241,-1.0448367825729503,-1.0912119179764623,-1.0324667729840513,-0.9674721157804591,-1.3608086724348711,-0.7952403101172916,-1.429911908942335,-0.4510993960494807,-1.2074200883029946,-1.4334748013230842,-1.3014197271249708,-0.9074830284939273,-1.0589358631950778,-1.0593313986111683,-1.1214529115711485,-0.9884424510981669,-0.5959824570664467,-0.5039751772222177]},{\"label\":\"max_depth\",\"range\":[3,10],\"values\":[9,7,8,10,9,5,3,5,7,4,8,5,6,6,8,3,5,8,4,10,7,7,6,9,8,8,9,9,9,10,9,9,10,9,8,10,9,8,10,9,9,9,8,9,10,10,10,10,9,7,8,8,8,8,7,8,7,9,9,8,8,9,10,8,7,9,8,6,10,9,4,4,5,4,3,9,7,6,10,8,8,9,9,9,10,9,8,5,9,10,9,9,9,8,9,10,7,9,8,6]},{\"label\":\"n_estimators\",\"range\":[400,1000],\"values\":[879,761,683,890,649,777,917,832,907,716,472,589,1000,559,772,422,654,804,540,682,846,971,841,938,725,710,615,599,599,499,620,598,529,730,645,572,621,676,746,504,634,595,586,605,669,669,702,552,450,797,510,506,473,476,739,436,528,691,666,415,469,572,621,651,561,721,531,767,486,444,638,611,642,577,633,692,658,515,554,681,750,602,585,627,592,613,584,709,489,542,791,464,482,517,568,565,400,547,633,582]}],\"labelangle\":30,\"labelside\":\"bottom\",\"line\":{\"color\":[0.7639889912829753,0.7626039497317288,0.7652447670637978,0.7548107635059454,0.7568052519858948,0.7608311108692102,0.7633426624308554,0.7649862355229499,0.7643767885942473,0.7624746839613048,0.7641182570533993,0.7623454181908809,0.7636011939717033,0.7637304597421273,0.7637304597421273,0.7637304597421273,0.7636011939717033,0.7626039497317288,0.7638597255125513,0.7641182570533993,0.7594460693179638,0.7638597255125513,0.7638597255125513,0.7638597255125513,0.7666298086150444,0.7638597255125513,0.7668883401558924,0.7653740328342218,0.7667590743854684,0.7637304597421273,0.7599631323996597,0.7668883401558924,0.7641182570533993,0.7651155012933739,0.7652447670637978,0.7641182570533993,0.7626039497317288,0.7609603766396342,0.7638597255125513,0.755937273516344,0.7575439646850212,0.7641182570533993,0.7651155012933739,0.7636011939717033,0.7663712770741964,0.7637304597421273,0.7638597255125513,0.7641182570533993,0.7626039497317288,0.7641182570533993,0.7663712770741964,0.7626039497317288,0.7692706259471136,0.7610896424100582,0.752908658873003,0.7609603766396342,0.7636011939717033,0.7593168035475397,0.7624746839613048,0.7585780908484131,0.7637304597421273,0.7607018450987862,0.7613481739509061,0.7612189081804822,0.7609603766396342,0.7638597255125513,0.7653740328342218,0.7638597255125513,0.7609603766396342,0.7597046008588118,0.7663712770741964,0.7651155012933739,0.7638597255125513,0.7636011939717033,0.7637304597421273,0.7626039497317288,0.7623454181908809,0.7637304597421273,0.7636011939717033,0.7623454181908809,0.7624746839613048,0.7609603766396342,0.7665005428446204,0.7613481739509061,0.7637304597421273,0.7610896424100582,0.7651155012933739,0.7649862355229499,0.7653740328342218,0.7465005141984662,0.7641182570533993,0.7651155012933739,0.7626039497317288,0.7626039497317288,0.7666298086150444,0.7641182570533993,0.7637304597421273,0.7637304597421273,0.758448825077989,0.7624746839613048],\"colorbar\":{\"title\":{\"text\":\"Objective Value\"}},\"colorscale\":[[0.0,\"rgb(247,251,255)\"],[0.125,\"rgb(222,235,247)\"],[0.25,\"rgb(198,219,239)\"],[0.375,\"rgb(158,202,225)\"],[0.5,\"rgb(107,174,214)\"],[0.625,\"rgb(66,146,198)\"],[0.75,\"rgb(33,113,181)\"],[0.875,\"rgb(8,81,156)\"],[1.0,\"rgb(8,48,107)\"]],\"reversescale\":false,\"showscale\":true},\"type\":\"parcoords\"}],                        {\"title\":{\"text\":\"Parallel Coordinate Plot\"},\"template\":{\"data\":{\"bar\":[{\"error_x\":{\"color\":\"#2a3f5f\"},\"error_y\":{\"color\":\"#2a3f5f\"},\"marker\":{\"line\":{\"color\":\"#E5ECF6\",\"width\":0.5},\"pattern\":{\"fillmode\":\"overlay\",\"size\":10,\"solidity\":0.2}},\"type\":\"bar\"}],\"barpolar\":[{\"marker\":{\"line\":{\"color\":\"#E5ECF6\",\"width\":0.5},\"pattern\":{\"fillmode\":\"overlay\",\"size\":10,\"solidity\":0.2}},\"type\":\"barpolar\"}],\"carpet\":[{\"aaxis\":{\"endlinecolor\":\"#2a3f5f\",\"gridcolor\":\"white\",\"linecolor\":\"white\",\"minorgridcolor\":\"white\",\"startlinecolor\":\"#2a3f5f\"},\"baxis\":{\"endlinecolor\":\"#2a3f5f\",\"gridcolor\":\"white\",\"linecolor\":\"white\",\"minorgridcolor\":\"white\",\"startlinecolor\":\"#2a3f5f\"},\"type\":\"carpet\"}],\"choropleth\":[{\"colorbar\":{\"outlinewidth\":0,\"ticks\":\"\"},\"type\":\"choropleth\"}],\"contour\":[{\"colorbar\":{\"outlinewidth\":0,\"ticks\":\"\"},\"colorscale\":[[0.0,\"#0d0887\"],[0.1111111111111111,\"#46039f\"],[0.2222222222222222,\"#7201a8\"],[0.3333333333333333,\"#9c179e\"],[0.4444444444444444,\"#bd3786\"],[0.5555555555555556,\"#d8576b\"],[0.6666666666666666,\"#ed7953\"],[0.7777777777777778,\"#fb9f3a\"],[0.8888888888888888,\"#fdca26\"],[1.0,\"#f0f921\"]],\"type\":\"contour\"}],\"contourcarpet\":[{\"colorbar\":{\"outlinewidth\":0,\"ticks\":\"\"},\"type\":\"contourcarpet\"}],\"heatmap\":[{\"colorbar\":{\"outlinewidth\":0,\"ticks\":\"\"},\"colorscale\":[[0.0,\"#0d0887\"],[0.1111111111111111,\"#46039f\"],[0.2222222222222222,\"#7201a8\"],[0.3333333333333333,\"#9c179e\"],[0.4444444444444444,\"#bd3786\"],[0.5555555555555556,\"#d8576b\"],[0.6666666666666666,\"#ed7953\"],[0.7777777777777778,\"#fb9f3a\"],[0.8888888888888888,\"#fdca26\"],[1.0,\"#f0f921\"]],\"type\":\"heatmap\"}],\"heatmapgl\":[{\"colorbar\":{\"outlinewidth\":0,\"ticks\":\"\"},\"colorscale\":[[0.0,\"#0d0887\"],[0.1111111111111111,\"#46039f\"],[0.2222222222222222,\"#7201a8\"],[0.3333333333333333,\"#9c179e\"],[0.4444444444444444,\"#bd3786\"],[0.5555555555555556,\"#d8576b\"],[0.6666666666666666,\"#ed7953\"],[0.7777777777777778,\"#fb9f3a\"],[0.8888888888888888,\"#fdca26\"],[1.0,\"#f0f921\"]],\"type\":\"heatmapgl\"}],\"histogram\":[{\"marker\":{\"pattern\":{\"fillmode\":\"overlay\",\"size\":10,\"solidity\":0.2}},\"type\":\"histogram\"}],\"histogram2d\":[{\"colorbar\":{\"outlinewidth\":0,\"ticks\":\"\"},\"colorscale\":[[0.0,\"#0d0887\"],[0.1111111111111111,\"#46039f\"],[0.2222222222222222,\"#7201a8\"],[0.3333333333333333,\"#9c179e\"],[0.4444444444444444,\"#bd3786\"],[0.5555555555555556,\"#d8576b\"],[0.6666666666666666,\"#ed7953\"],[0.7777777777777778,\"#fb9f3a\"],[0.8888888888888888,\"#fdca26\"],[1.0,\"#f0f921\"]],\"type\":\"histogram2d\"}],\"histogram2dcontour\":[{\"colorbar\":{\"outlinewidth\":0,\"ticks\":\"\"},\"colorscale\":[[0.0,\"#0d0887\"],[0.1111111111111111,\"#46039f\"],[0.2222222222222222,\"#7201a8\"],[0.3333333333333333,\"#9c179e\"],[0.4444444444444444,\"#bd3786\"],[0.5555555555555556,\"#d8576b\"],[0.6666666666666666,\"#ed7953\"],[0.7777777777777778,\"#fb9f3a\"],[0.8888888888888888,\"#fdca26\"],[1.0,\"#f0f921\"]],\"type\":\"histogram2dcontour\"}],\"mesh3d\":[{\"colorbar\":{\"outlinewidth\":0,\"ticks\":\"\"},\"type\":\"mesh3d\"}],\"parcoords\":[{\"line\":{\"colorbar\":{\"outlinewidth\":0,\"ticks\":\"\"}},\"type\":\"parcoords\"}],\"pie\":[{\"automargin\":true,\"type\":\"pie\"}],\"scatter\":[{\"marker\":{\"colorbar\":{\"outlinewidth\":0,\"ticks\":\"\"}},\"type\":\"scatter\"}],\"scatter3d\":[{\"line\":{\"colorbar\":{\"outlinewidth\":0,\"ticks\":\"\"}},\"marker\":{\"colorbar\":{\"outlinewidth\":0,\"ticks\":\"\"}},\"type\":\"scatter3d\"}],\"scattercarpet\":[{\"marker\":{\"colorbar\":{\"outlinewidth\":0,\"ticks\":\"\"}},\"type\":\"scattercarpet\"}],\"scattergeo\":[{\"marker\":{\"colorbar\":{\"outlinewidth\":0,\"ticks\":\"\"}},\"type\":\"scattergeo\"}],\"scattergl\":[{\"marker\":{\"colorbar\":{\"outlinewidth\":0,\"ticks\":\"\"}},\"type\":\"scattergl\"}],\"scattermapbox\":[{\"marker\":{\"colorbar\":{\"outlinewidth\":0,\"ticks\":\"\"}},\"type\":\"scattermapbox\"}],\"scatterpolar\":[{\"marker\":{\"colorbar\":{\"outlinewidth\":0,\"ticks\":\"\"}},\"type\":\"scatterpolar\"}],\"scatterpolargl\":[{\"marker\":{\"colorbar\":{\"outlinewidth\":0,\"ticks\":\"\"}},\"type\":\"scatterpolargl\"}],\"scatterternary\":[{\"marker\":{\"colorbar\":{\"outlinewidth\":0,\"ticks\":\"\"}},\"type\":\"scatterternary\"}],\"surface\":[{\"colorbar\":{\"outlinewidth\":0,\"ticks\":\"\"},\"colorscale\":[[0.0,\"#0d0887\"],[0.1111111111111111,\"#46039f\"],[0.2222222222222222,\"#7201a8\"],[0.3333333333333333,\"#9c179e\"],[0.4444444444444444,\"#bd3786\"],[0.5555555555555556,\"#d8576b\"],[0.6666666666666666,\"#ed7953\"],[0.7777777777777778,\"#fb9f3a\"],[0.8888888888888888,\"#fdca26\"],[1.0,\"#f0f921\"]],\"type\":\"surface\"}],\"table\":[{\"cells\":{\"fill\":{\"color\":\"#EBF0F8\"},\"line\":{\"color\":\"white\"}},\"header\":{\"fill\":{\"color\":\"#C8D4E3\"},\"line\":{\"color\":\"white\"}},\"type\":\"table\"}]},\"layout\":{\"annotationdefaults\":{\"arrowcolor\":\"#2a3f5f\",\"arrowhead\":0,\"arrowwidth\":1},\"autotypenumbers\":\"strict\",\"coloraxis\":{\"colorbar\":{\"outlinewidth\":0,\"ticks\":\"\"}},\"colorscale\":{\"diverging\":[[0,\"#8e0152\"],[0.1,\"#c51b7d\"],[0.2,\"#de77ae\"],[0.3,\"#f1b6da\"],[0.4,\"#fde0ef\"],[0.5,\"#f7f7f7\"],[0.6,\"#e6f5d0\"],[0.7,\"#b8e186\"],[0.8,\"#7fbc41\"],[0.9,\"#4d9221\"],[1,\"#276419\"]],\"sequential\":[[0.0,\"#0d0887\"],[0.1111111111111111,\"#46039f\"],[0.2222222222222222,\"#7201a8\"],[0.3333333333333333,\"#9c179e\"],[0.4444444444444444,\"#bd3786\"],[0.5555555555555556,\"#d8576b\"],[0.6666666666666666,\"#ed7953\"],[0.7777777777777778,\"#fb9f3a\"],[0.8888888888888888,\"#fdca26\"],[1.0,\"#f0f921\"]],\"sequentialminus\":[[0.0,\"#0d0887\"],[0.1111111111111111,\"#46039f\"],[0.2222222222222222,\"#7201a8\"],[0.3333333333333333,\"#9c179e\"],[0.4444444444444444,\"#bd3786\"],[0.5555555555555556,\"#d8576b\"],[0.6666666666666666,\"#ed7953\"],[0.7777777777777778,\"#fb9f3a\"],[0.8888888888888888,\"#fdca26\"],[1.0,\"#f0f921\"]]},\"colorway\":[\"#636efa\",\"#EF553B\",\"#00cc96\",\"#ab63fa\",\"#FFA15A\",\"#19d3f3\",\"#FF6692\",\"#B6E880\",\"#FF97FF\",\"#FECB52\"],\"font\":{\"color\":\"#2a3f5f\"},\"geo\":{\"bgcolor\":\"white\",\"lakecolor\":\"white\",\"landcolor\":\"#E5ECF6\",\"showlakes\":true,\"showland\":true,\"subunitcolor\":\"white\"},\"hoverlabel\":{\"align\":\"left\"},\"hovermode\":\"closest\",\"mapbox\":{\"style\":\"light\"},\"paper_bgcolor\":\"white\",\"plot_bgcolor\":\"#E5ECF6\",\"polar\":{\"angularaxis\":{\"gridcolor\":\"white\",\"linecolor\":\"white\",\"ticks\":\"\"},\"bgcolor\":\"#E5ECF6\",\"radialaxis\":{\"gridcolor\":\"white\",\"linecolor\":\"white\",\"ticks\":\"\"}},\"scene\":{\"xaxis\":{\"backgroundcolor\":\"#E5ECF6\",\"gridcolor\":\"white\",\"gridwidth\":2,\"linecolor\":\"white\",\"showbackground\":true,\"ticks\":\"\",\"zerolinecolor\":\"white\"},\"yaxis\":{\"backgroundcolor\":\"#E5ECF6\",\"gridcolor\":\"white\",\"gridwidth\":2,\"linecolor\":\"white\",\"showbackground\":true,\"ticks\":\"\",\"zerolinecolor\":\"white\"},\"zaxis\":{\"backgroundcolor\":\"#E5ECF6\",\"gridcolor\":\"white\",\"gridwidth\":2,\"linecolor\":\"white\",\"showbackground\":true,\"ticks\":\"\",\"zerolinecolor\":\"white\"}},\"shapedefaults\":{\"line\":{\"color\":\"#2a3f5f\"}},\"ternary\":{\"aaxis\":{\"gridcolor\":\"white\",\"linecolor\":\"white\",\"ticks\":\"\"},\"baxis\":{\"gridcolor\":\"white\",\"linecolor\":\"white\",\"ticks\":\"\"},\"bgcolor\":\"#E5ECF6\",\"caxis\":{\"gridcolor\":\"white\",\"linecolor\":\"white\",\"ticks\":\"\"}},\"title\":{\"x\":0.05},\"xaxis\":{\"automargin\":true,\"gridcolor\":\"white\",\"linecolor\":\"white\",\"ticks\":\"\",\"title\":{\"standoff\":15},\"zerolinecolor\":\"white\",\"zerolinewidth\":2},\"yaxis\":{\"automargin\":true,\"gridcolor\":\"white\",\"linecolor\":\"white\",\"ticks\":\"\",\"title\":{\"standoff\":15},\"zerolinecolor\":\"white\",\"zerolinewidth\":2}}}},                        {\"responsive\": true}                    ).then(function(){\n",
       "                            \n",
       "var gd = document.getElementById('7321d77f-10a6-4cc9-9511-862de767343e');\n",
       "var x = new MutationObserver(function (mutations, observer) {{\n",
       "        var display = window.getComputedStyle(gd).display;\n",
       "        if (!display || display === 'none') {{\n",
       "            console.log([gd, 'removed!']);\n",
       "            Plotly.purge(gd);\n",
       "            observer.disconnect();\n",
       "        }}\n",
       "}});\n",
       "\n",
       "// Listen for the removal of the full notebook cells\n",
       "var notebookContainer = gd.closest('#notebook-container');\n",
       "if (notebookContainer) {{\n",
       "    x.observe(notebookContainer, {childList: true});\n",
       "}}\n",
       "\n",
       "// Listen for the clearing of the current output cell\n",
       "var outputEl = gd.closest('.output');\n",
       "if (outputEl) {{\n",
       "    x.observe(outputEl, {childList: true});\n",
       "}}\n",
       "\n",
       "                        })                };                            </script>        </div>\n",
       "</body>\n",
       "</html>"
      ]
     },
     "metadata": {},
     "output_type": "display_data"
    }
   ],
   "source": [
    "# 파라미터들과의 관계\n",
    "# 이걸 보면 처음에 초모수 범위 정해줄때 어떤게 좋은지 내가 볼 수 있다.\n",
    "\n",
    "optuna.visualization.plot_parallel_coordinate(study)"
   ]
  },
  {
   "cell_type": "code",
   "execution_count": 18,
   "id": "SBIKBzrGemZn",
   "metadata": {
    "colab": {
     "base_uri": "https://localhost:8080/",
     "height": 542
    },
    "executionInfo": {
     "elapsed": 1533,
     "status": "ok",
     "timestamp": 1669476765274,
     "user": {
      "displayName": "신웅재",
      "userId": "08301511488967665306"
     },
     "user_tz": -540
    },
    "id": "SBIKBzrGemZn",
    "outputId": "21e2a618-7e95-4d7b-b779-dfa718391667"
   },
   "outputs": [
    {
     "data": {
      "text/html": [
       "<html>\n",
       "<head><meta charset=\"utf-8\" /></head>\n",
       "<body>\n",
       "    <div>            <script src=\"https://cdnjs.cloudflare.com/ajax/libs/mathjax/2.7.5/MathJax.js?config=TeX-AMS-MML_SVG\"></script><script type=\"text/javascript\">if (window.MathJax) {MathJax.Hub.Config({SVG: {font: \"STIX-Web\"}});}</script>                <script type=\"text/javascript\">window.PlotlyConfig = {MathJaxConfig: 'local'};</script>\n",
       "        <script src=\"https://cdn.plot.ly/plotly-2.8.3.min.js\"></script>                <div id=\"b57bc813-a171-4267-9f0f-02bd72579c43\" class=\"plotly-graph-div\" style=\"height:525px; width:100%;\"></div>            <script type=\"text/javascript\">                                    window.PLOTLYENV=window.PLOTLYENV || {};                                    if (document.getElementById(\"b57bc813-a171-4267-9f0f-02bd72579c43\")) {                    Plotly.newPlot(                        \"b57bc813-a171-4267-9f0f-02bd72579c43\",                        [{\"cliponaxis\":false,\"hovertemplate\":[\"n_estimators (IntDistribution): 0.08592103440525695<extra></extra>\",\"max_depth (IntDistribution): 0.0861689999581691<extra></extra>\",\"learning_rate (FloatDistribution): 0.827909965636574<extra></extra>\"],\"marker\":{\"color\":\"rgb(66,146,198)\"},\"orientation\":\"h\",\"text\":[\"0.09\",\"0.09\",\"0.83\"],\"textposition\":\"outside\",\"x\":[0.08592103440525695,0.0861689999581691,0.827909965636574],\"y\":[\"n_estimators\",\"max_depth\",\"learning_rate\"],\"type\":\"bar\"}],                        {\"showlegend\":false,\"title\":{\"text\":\"Hyperparameter Importances\"},\"xaxis\":{\"title\":{\"text\":\"Importance for Objective Value\"}},\"yaxis\":{\"title\":{\"text\":\"Hyperparameter\"}},\"template\":{\"data\":{\"bar\":[{\"error_x\":{\"color\":\"#2a3f5f\"},\"error_y\":{\"color\":\"#2a3f5f\"},\"marker\":{\"line\":{\"color\":\"#E5ECF6\",\"width\":0.5},\"pattern\":{\"fillmode\":\"overlay\",\"size\":10,\"solidity\":0.2}},\"type\":\"bar\"}],\"barpolar\":[{\"marker\":{\"line\":{\"color\":\"#E5ECF6\",\"width\":0.5},\"pattern\":{\"fillmode\":\"overlay\",\"size\":10,\"solidity\":0.2}},\"type\":\"barpolar\"}],\"carpet\":[{\"aaxis\":{\"endlinecolor\":\"#2a3f5f\",\"gridcolor\":\"white\",\"linecolor\":\"white\",\"minorgridcolor\":\"white\",\"startlinecolor\":\"#2a3f5f\"},\"baxis\":{\"endlinecolor\":\"#2a3f5f\",\"gridcolor\":\"white\",\"linecolor\":\"white\",\"minorgridcolor\":\"white\",\"startlinecolor\":\"#2a3f5f\"},\"type\":\"carpet\"}],\"choropleth\":[{\"colorbar\":{\"outlinewidth\":0,\"ticks\":\"\"},\"type\":\"choropleth\"}],\"contour\":[{\"colorbar\":{\"outlinewidth\":0,\"ticks\":\"\"},\"colorscale\":[[0.0,\"#0d0887\"],[0.1111111111111111,\"#46039f\"],[0.2222222222222222,\"#7201a8\"],[0.3333333333333333,\"#9c179e\"],[0.4444444444444444,\"#bd3786\"],[0.5555555555555556,\"#d8576b\"],[0.6666666666666666,\"#ed7953\"],[0.7777777777777778,\"#fb9f3a\"],[0.8888888888888888,\"#fdca26\"],[1.0,\"#f0f921\"]],\"type\":\"contour\"}],\"contourcarpet\":[{\"colorbar\":{\"outlinewidth\":0,\"ticks\":\"\"},\"type\":\"contourcarpet\"}],\"heatmap\":[{\"colorbar\":{\"outlinewidth\":0,\"ticks\":\"\"},\"colorscale\":[[0.0,\"#0d0887\"],[0.1111111111111111,\"#46039f\"],[0.2222222222222222,\"#7201a8\"],[0.3333333333333333,\"#9c179e\"],[0.4444444444444444,\"#bd3786\"],[0.5555555555555556,\"#d8576b\"],[0.6666666666666666,\"#ed7953\"],[0.7777777777777778,\"#fb9f3a\"],[0.8888888888888888,\"#fdca26\"],[1.0,\"#f0f921\"]],\"type\":\"heatmap\"}],\"heatmapgl\":[{\"colorbar\":{\"outlinewidth\":0,\"ticks\":\"\"},\"colorscale\":[[0.0,\"#0d0887\"],[0.1111111111111111,\"#46039f\"],[0.2222222222222222,\"#7201a8\"],[0.3333333333333333,\"#9c179e\"],[0.4444444444444444,\"#bd3786\"],[0.5555555555555556,\"#d8576b\"],[0.6666666666666666,\"#ed7953\"],[0.7777777777777778,\"#fb9f3a\"],[0.8888888888888888,\"#fdca26\"],[1.0,\"#f0f921\"]],\"type\":\"heatmapgl\"}],\"histogram\":[{\"marker\":{\"pattern\":{\"fillmode\":\"overlay\",\"size\":10,\"solidity\":0.2}},\"type\":\"histogram\"}],\"histogram2d\":[{\"colorbar\":{\"outlinewidth\":0,\"ticks\":\"\"},\"colorscale\":[[0.0,\"#0d0887\"],[0.1111111111111111,\"#46039f\"],[0.2222222222222222,\"#7201a8\"],[0.3333333333333333,\"#9c179e\"],[0.4444444444444444,\"#bd3786\"],[0.5555555555555556,\"#d8576b\"],[0.6666666666666666,\"#ed7953\"],[0.7777777777777778,\"#fb9f3a\"],[0.8888888888888888,\"#fdca26\"],[1.0,\"#f0f921\"]],\"type\":\"histogram2d\"}],\"histogram2dcontour\":[{\"colorbar\":{\"outlinewidth\":0,\"ticks\":\"\"},\"colorscale\":[[0.0,\"#0d0887\"],[0.1111111111111111,\"#46039f\"],[0.2222222222222222,\"#7201a8\"],[0.3333333333333333,\"#9c179e\"],[0.4444444444444444,\"#bd3786\"],[0.5555555555555556,\"#d8576b\"],[0.6666666666666666,\"#ed7953\"],[0.7777777777777778,\"#fb9f3a\"],[0.8888888888888888,\"#fdca26\"],[1.0,\"#f0f921\"]],\"type\":\"histogram2dcontour\"}],\"mesh3d\":[{\"colorbar\":{\"outlinewidth\":0,\"ticks\":\"\"},\"type\":\"mesh3d\"}],\"parcoords\":[{\"line\":{\"colorbar\":{\"outlinewidth\":0,\"ticks\":\"\"}},\"type\":\"parcoords\"}],\"pie\":[{\"automargin\":true,\"type\":\"pie\"}],\"scatter\":[{\"marker\":{\"colorbar\":{\"outlinewidth\":0,\"ticks\":\"\"}},\"type\":\"scatter\"}],\"scatter3d\":[{\"line\":{\"colorbar\":{\"outlinewidth\":0,\"ticks\":\"\"}},\"marker\":{\"colorbar\":{\"outlinewidth\":0,\"ticks\":\"\"}},\"type\":\"scatter3d\"}],\"scattercarpet\":[{\"marker\":{\"colorbar\":{\"outlinewidth\":0,\"ticks\":\"\"}},\"type\":\"scattercarpet\"}],\"scattergeo\":[{\"marker\":{\"colorbar\":{\"outlinewidth\":0,\"ticks\":\"\"}},\"type\":\"scattergeo\"}],\"scattergl\":[{\"marker\":{\"colorbar\":{\"outlinewidth\":0,\"ticks\":\"\"}},\"type\":\"scattergl\"}],\"scattermapbox\":[{\"marker\":{\"colorbar\":{\"outlinewidth\":0,\"ticks\":\"\"}},\"type\":\"scattermapbox\"}],\"scatterpolar\":[{\"marker\":{\"colorbar\":{\"outlinewidth\":0,\"ticks\":\"\"}},\"type\":\"scatterpolar\"}],\"scatterpolargl\":[{\"marker\":{\"colorbar\":{\"outlinewidth\":0,\"ticks\":\"\"}},\"type\":\"scatterpolargl\"}],\"scatterternary\":[{\"marker\":{\"colorbar\":{\"outlinewidth\":0,\"ticks\":\"\"}},\"type\":\"scatterternary\"}],\"surface\":[{\"colorbar\":{\"outlinewidth\":0,\"ticks\":\"\"},\"colorscale\":[[0.0,\"#0d0887\"],[0.1111111111111111,\"#46039f\"],[0.2222222222222222,\"#7201a8\"],[0.3333333333333333,\"#9c179e\"],[0.4444444444444444,\"#bd3786\"],[0.5555555555555556,\"#d8576b\"],[0.6666666666666666,\"#ed7953\"],[0.7777777777777778,\"#fb9f3a\"],[0.8888888888888888,\"#fdca26\"],[1.0,\"#f0f921\"]],\"type\":\"surface\"}],\"table\":[{\"cells\":{\"fill\":{\"color\":\"#EBF0F8\"},\"line\":{\"color\":\"white\"}},\"header\":{\"fill\":{\"color\":\"#C8D4E3\"},\"line\":{\"color\":\"white\"}},\"type\":\"table\"}]},\"layout\":{\"annotationdefaults\":{\"arrowcolor\":\"#2a3f5f\",\"arrowhead\":0,\"arrowwidth\":1},\"autotypenumbers\":\"strict\",\"coloraxis\":{\"colorbar\":{\"outlinewidth\":0,\"ticks\":\"\"}},\"colorscale\":{\"diverging\":[[0,\"#8e0152\"],[0.1,\"#c51b7d\"],[0.2,\"#de77ae\"],[0.3,\"#f1b6da\"],[0.4,\"#fde0ef\"],[0.5,\"#f7f7f7\"],[0.6,\"#e6f5d0\"],[0.7,\"#b8e186\"],[0.8,\"#7fbc41\"],[0.9,\"#4d9221\"],[1,\"#276419\"]],\"sequential\":[[0.0,\"#0d0887\"],[0.1111111111111111,\"#46039f\"],[0.2222222222222222,\"#7201a8\"],[0.3333333333333333,\"#9c179e\"],[0.4444444444444444,\"#bd3786\"],[0.5555555555555556,\"#d8576b\"],[0.6666666666666666,\"#ed7953\"],[0.7777777777777778,\"#fb9f3a\"],[0.8888888888888888,\"#fdca26\"],[1.0,\"#f0f921\"]],\"sequentialminus\":[[0.0,\"#0d0887\"],[0.1111111111111111,\"#46039f\"],[0.2222222222222222,\"#7201a8\"],[0.3333333333333333,\"#9c179e\"],[0.4444444444444444,\"#bd3786\"],[0.5555555555555556,\"#d8576b\"],[0.6666666666666666,\"#ed7953\"],[0.7777777777777778,\"#fb9f3a\"],[0.8888888888888888,\"#fdca26\"],[1.0,\"#f0f921\"]]},\"colorway\":[\"#636efa\",\"#EF553B\",\"#00cc96\",\"#ab63fa\",\"#FFA15A\",\"#19d3f3\",\"#FF6692\",\"#B6E880\",\"#FF97FF\",\"#FECB52\"],\"font\":{\"color\":\"#2a3f5f\"},\"geo\":{\"bgcolor\":\"white\",\"lakecolor\":\"white\",\"landcolor\":\"#E5ECF6\",\"showlakes\":true,\"showland\":true,\"subunitcolor\":\"white\"},\"hoverlabel\":{\"align\":\"left\"},\"hovermode\":\"closest\",\"mapbox\":{\"style\":\"light\"},\"paper_bgcolor\":\"white\",\"plot_bgcolor\":\"#E5ECF6\",\"polar\":{\"angularaxis\":{\"gridcolor\":\"white\",\"linecolor\":\"white\",\"ticks\":\"\"},\"bgcolor\":\"#E5ECF6\",\"radialaxis\":{\"gridcolor\":\"white\",\"linecolor\":\"white\",\"ticks\":\"\"}},\"scene\":{\"xaxis\":{\"backgroundcolor\":\"#E5ECF6\",\"gridcolor\":\"white\",\"gridwidth\":2,\"linecolor\":\"white\",\"showbackground\":true,\"ticks\":\"\",\"zerolinecolor\":\"white\"},\"yaxis\":{\"backgroundcolor\":\"#E5ECF6\",\"gridcolor\":\"white\",\"gridwidth\":2,\"linecolor\":\"white\",\"showbackground\":true,\"ticks\":\"\",\"zerolinecolor\":\"white\"},\"zaxis\":{\"backgroundcolor\":\"#E5ECF6\",\"gridcolor\":\"white\",\"gridwidth\":2,\"linecolor\":\"white\",\"showbackground\":true,\"ticks\":\"\",\"zerolinecolor\":\"white\"}},\"shapedefaults\":{\"line\":{\"color\":\"#2a3f5f\"}},\"ternary\":{\"aaxis\":{\"gridcolor\":\"white\",\"linecolor\":\"white\",\"ticks\":\"\"},\"baxis\":{\"gridcolor\":\"white\",\"linecolor\":\"white\",\"ticks\":\"\"},\"bgcolor\":\"#E5ECF6\",\"caxis\":{\"gridcolor\":\"white\",\"linecolor\":\"white\",\"ticks\":\"\"}},\"title\":{\"x\":0.05},\"xaxis\":{\"automargin\":true,\"gridcolor\":\"white\",\"linecolor\":\"white\",\"ticks\":\"\",\"title\":{\"standoff\":15},\"zerolinecolor\":\"white\",\"zerolinewidth\":2},\"yaxis\":{\"automargin\":true,\"gridcolor\":\"white\",\"linecolor\":\"white\",\"ticks\":\"\",\"title\":{\"standoff\":15},\"zerolinecolor\":\"white\",\"zerolinewidth\":2}}}},                        {\"responsive\": true}                    ).then(function(){\n",
       "                            \n",
       "var gd = document.getElementById('b57bc813-a171-4267-9f0f-02bd72579c43');\n",
       "var x = new MutationObserver(function (mutations, observer) {{\n",
       "        var display = window.getComputedStyle(gd).display;\n",
       "        if (!display || display === 'none') {{\n",
       "            console.log([gd, 'removed!']);\n",
       "            Plotly.purge(gd);\n",
       "            observer.disconnect();\n",
       "        }}\n",
       "}});\n",
       "\n",
       "// Listen for the removal of the full notebook cells\n",
       "var notebookContainer = gd.closest('#notebook-container');\n",
       "if (notebookContainer) {{\n",
       "    x.observe(notebookContainer, {childList: true});\n",
       "}}\n",
       "\n",
       "// Listen for the clearing of the current output cell\n",
       "var outputEl = gd.closest('.output');\n",
       "if (outputEl) {{\n",
       "    x.observe(outputEl, {childList: true});\n",
       "}}\n",
       "\n",
       "                        })                };                            </script>        </div>\n",
       "</body>\n",
       "</html>"
      ]
     },
     "metadata": {},
     "output_type": "display_data"
    }
   ],
   "source": [
    "# 하이퍼파라미터 중요도\n",
    "# 중요한 초모수를 파악할 수 있다.\n",
    "\n",
    "optuna.visualization.plot_param_importances(study)"
   ]
  },
  {
   "cell_type": "code",
   "execution_count": 59,
   "id": "ahdiMMnCemZn",
   "metadata": {
    "colab": {
     "base_uri": "https://localhost:8080/"
    },
    "executionInfo": {
     "elapsed": 37452,
     "status": "ok",
     "timestamp": 1669478246630,
     "user": {
      "displayName": "신웅재",
      "userId": "08301511488967665306"
     },
     "user_tz": -540
    },
    "id": "ahdiMMnCemZn",
    "outputId": "4639ea16-a477-4e8f-f72a-9384b7473887"
   },
   "outputs": [
    {
     "name": "stdout",
     "output_type": "stream",
     "text": [
      "(14095, 2)\n",
      "(9866, 2)\n",
      "training model for CV #1\n",
      "training model for CV #2\n",
      "training model for CV #3\n",
      "training model for CV #4\n",
      "training model for CV #5\n"
     ]
    }
   ],
   "source": [
    "# 교차 검증해서 얻은 초모수를 가지고 train 데이터의 예측 불량률을 파악한다.\n",
    "\n",
    "n_fold = 5\n",
    "cv = StratifiedKFold(n_splits = n_fold, shuffle = True, random_state = 39)\n",
    "\n",
    "cat_val = np.zeros((X_train.shape[0], 2))\n",
    "cat_partrain = np.zeros((X_partrain.shape[0], 2))\n",
    "\n",
    "print(cat_val.shape)\n",
    "print(cat_partrain.shape)\n",
    "\n",
    "for i, (i_trn, i_val) in enumerate(cv.split(X_train, y_train), 1):\n",
    "    print(f'training model for CV #{i}')\n",
    "    optuna_cat = CatBoostClassifier(\n",
    "        random_state = 39,\n",
    "        learning_rate = 0.03142344166841527, \n",
    "        n_estimators = 513, \n",
    "        max_depth = 6)\n",
    "\n",
    "    optuna_cat.fit(X_train.loc[i_trn, :], y_train[i_trn], verbose = False, cat_features = categorical_features)\n",
    "\n",
    "    cat_val[i_val, :] = optuna_cat.predict_proba(X_train.loc[i_val, :])\n",
    "    cat_partrain += optuna_cat.predict_proba(X_partrain) / n_fold"
   ]
  },
  {
   "cell_type": "code",
   "execution_count": 60,
   "id": "Yu4y86fWemZn",
   "metadata": {
    "colab": {
     "base_uri": "https://localhost:8080/"
    },
    "executionInfo": {
     "elapsed": 443,
     "status": "ok",
     "timestamp": 1669478254632,
     "user": {
      "displayName": "신웅재",
      "userId": "08301511488967665306"
     },
     "user_tz": -540
    },
    "id": "Yu4y86fWemZn",
    "outputId": "d06901d1-9f4e-4abd-bbfe-883cb1febf16"
   },
   "outputs": [
    {
     "name": "stdout",
     "output_type": "stream",
     "text": [
      "(14095, 2)\n",
      "(9866, 2)\n",
      "(14095, 22)\n"
     ]
    }
   ],
   "source": [
    "# 정상률 말고 불량률만 train 데이터에 따로 붙여서 train 데이터의 변수는 총 22개로 늘어났다.\n",
    "\n",
    "print(cat_val.shape)\n",
    "print(cat_partrain.shape)\n",
    "\n",
    "train3['model1_prob'] = cat_val[:, 1]\n",
    "print(train3.shape)"
   ]
  },
  {
   "cell_type": "markdown",
   "id": "PQB9KsuPptb-",
   "metadata": {
    "id": "PQB9KsuPptb-"
   },
   "source": [
    "## (2) model2"
   ]
  },
  {
   "cell_type": "code",
   "execution_count": 61,
   "id": "gNuYR_Wrpy2x",
   "metadata": {
    "colab": {
     "base_uri": "https://localhost:8080/"
    },
    "executionInfo": {
     "elapsed": 311,
     "status": "ok",
     "timestamp": 1669478257640,
     "user": {
      "displayName": "신웅재",
      "userId": "08301511488967665306"
     },
     "user_tz": -540
    },
    "id": "gNuYR_Wrpy2x",
    "outputId": "c2efd87a-8a5c-4e7e-82c5-b3f2b6fb31a0"
   },
   "outputs": [
    {
     "name": "stdout",
     "output_type": "stream",
     "text": [
      "(14095, 18)\n",
      "(14095,)\n"
     ]
    }
   ],
   "source": [
    "# y 값은 이제 Y_LABEL이 아닌 앞에서 구한 불량률인 model1_prob이다.\n",
    "\n",
    "X_train2 = train3.drop(['AL', 'BA', 'Y_LABEL', 'model1_prob'], axis = 1)\n",
    "y_train2 = train3['model1_prob']\n",
    "print(X_train2.shape)\n",
    "print(y_train2.shape)"
   ]
  },
  {
   "cell_type": "code",
   "execution_count": 62,
   "id": "AyMUZTYvpy20",
   "metadata": {
    "colab": {
     "base_uri": "https://localhost:8080/"
    },
    "executionInfo": {
     "elapsed": 2,
     "status": "ok",
     "timestamp": 1669478258116,
     "user": {
      "displayName": "신웅재",
      "userId": "08301511488967665306"
     },
     "user_tz": -540
    },
    "id": "AyMUZTYvpy20",
    "outputId": "5fd0d50d-5af3-4d2b-e816-821643b85cf1"
   },
   "outputs": [
    {
     "name": "stdout",
     "output_type": "stream",
     "text": [
      "(9866, 18)\n",
      "(4229, 18)\n",
      "(9866,)\n",
      "(4229,)\n"
     ]
    }
   ],
   "source": [
    "X_partrain, X_val, y_partrain, y_val = train_test_split(X_train2, y_train2, test_size = 0.3, random_state = 39)\n",
    "print(X_partrain.shape)\n",
    "print(X_val.shape)\n",
    "print(y_partrain.shape)\n",
    "print(y_val.shape)"
   ]
  },
  {
   "cell_type": "code",
   "execution_count": 65,
   "id": "gSKJW_c8py20",
   "metadata": {
    "executionInfo": {
     "elapsed": 308,
     "status": "ok",
     "timestamp": 1669478375924,
     "user": {
      "displayName": "신웅재",
      "userId": "08301511488967665306"
     },
     "user_tz": -540
    },
    "id": "gSKJW_c8py20"
   },
   "outputs": [],
   "source": [
    "# AutoML 보니까 분류모형도 회귀모형도 그냥 Catboost가 제일 좋았다.\n",
    "# 그래서 model2의 교차검증도 아래와 같이 했다.\n",
    "\n",
    "from catboost.core import CatBoostRegressor\n",
    "def objective(trial : Trial) -> float :\n",
    "\n",
    "    params_cat = {\n",
    "        \"random_state\" : 39,\n",
    "        'learning_rate' : trial.suggest_loguniform('learning_rate', 0.005, 0.5),\n",
    "        \"n_estimators\" : trial.suggest_int(\"n_estimators\", 400, 1000),\n",
    "        \"max_depth\" : trial.suggest_int(\"max_depth\", 3, 10)\n",
    "  }\n",
    "    \n",
    "    model = CatBoostRegressor(**params_cat)\n",
    "    model.fit(X_partrain, y_partrain, eval_set = [(X_val, y_val)],\n",
    "              early_stopping_rounds = 100, cat_features = categorical_features, verbose = False)\n",
    "\n",
    "    cat_pred = model.predict(X_val)\n",
    "    MAE = mean_absolute_error(y_val, cat_pred)\n",
    "    \n",
    "    return MAE"
   ]
  },
  {
   "cell_type": "code",
   "execution_count": 66,
   "id": "fDnXqyEWpy21",
   "metadata": {
    "colab": {
     "base_uri": "https://localhost:8080/",
     "height": 1000
    },
    "executionInfo": {
     "elapsed": 198898,
     "status": "error",
     "timestamp": 1669478575947,
     "user": {
      "displayName": "신웅재",
      "userId": "08301511488967665306"
     },
     "user_tz": -540
    },
    "id": "fDnXqyEWpy21",
    "outputId": "3ee23119-2665-453b-c3d9-39b1c13d5978"
   },
   "outputs": [
    {
     "name": "stderr",
     "output_type": "stream",
     "text": [
      "\u001b[32m[I 2022-11-26 15:59:37,943]\u001b[0m A new study created in memory with name: cat_parameter_opt\u001b[0m\n",
      "\u001b[32m[I 2022-11-26 15:59:43,349]\u001b[0m Trial 0 finished with value: 0.08179879034175916 and parameters: {'learning_rate': 0.06205093309656499, 'n_estimators': 879, 'max_depth': 9}. Best is trial 0 with value: 0.08179879034175916.\u001b[0m\n",
      "\u001b[32m[I 2022-11-26 15:59:49,847]\u001b[0m Trial 1 finished with value: 0.08190256238982123 and parameters: {'learning_rate': 0.008771416592003579, 'n_estimators': 761, 'max_depth': 7}. Best is trial 0 with value: 0.08179879034175916.\u001b[0m\n",
      "\u001b[32m[I 2022-11-26 15:59:54,384]\u001b[0m Trial 2 finished with value: 0.0818997637086993 and parameters: {'learning_rate': 0.04234350615938281, 'n_estimators': 683, 'max_depth': 8}. Best is trial 0 with value: 0.08179879034175916.\u001b[0m\n",
      "\u001b[32m[I 2022-11-26 15:59:57,630]\u001b[0m Trial 3 finished with value: 0.0821231625427511 and parameters: {'learning_rate': 0.35505674331734294, 'n_estimators': 890, 'max_depth': 10}. Best is trial 0 with value: 0.08179879034175916.\u001b[0m\n",
      "\u001b[32m[I 2022-11-26 16:00:00,363]\u001b[0m Trial 4 finished with value: 0.0836367370447773 and parameters: {'learning_rate': 0.3452552477828869, 'n_estimators': 649, 'max_depth': 9}. Best is trial 0 with value: 0.08179879034175916.\u001b[0m\n",
      "\u001b[32m[I 2022-11-26 16:00:01,138]\u001b[0m Trial 5 finished with value: 0.08267125364580717 and parameters: {'learning_rate': 0.39038241106633764, 'n_estimators': 777, 'max_depth': 5}. Best is trial 0 with value: 0.08179879034175916.\u001b[0m\n",
      "\u001b[32m[I 2022-11-26 16:00:02,377]\u001b[0m Trial 6 finished with value: 0.0824548663199706 and parameters: {'learning_rate': 0.07650182752532741, 'n_estimators': 917, 'max_depth': 3}. Best is trial 0 with value: 0.08179879034175916.\u001b[0m\n",
      "\u001b[32m[I 2022-11-26 16:00:03,310]\u001b[0m Trial 7 finished with value: 0.08243103232609042 and parameters: {'learning_rate': 0.2561929054277609, 'n_estimators': 832, 'max_depth': 5}. Best is trial 0 with value: 0.08179879034175916.\u001b[0m\n",
      "\u001b[32m[I 2022-11-26 16:00:06,874]\u001b[0m Trial 8 finished with value: 0.08180360088621132 and parameters: {'learning_rate': 0.046750143544503714, 'n_estimators': 907, 'max_depth': 7}. Best is trial 0 with value: 0.08179879034175916.\u001b[0m\n",
      "\u001b[32m[I 2022-11-26 16:00:09,837]\u001b[0m Trial 9 finished with value: 0.08275827189936337 and parameters: {'learning_rate': 0.01031007070552687, 'n_estimators': 716, 'max_depth': 4}. Best is trial 0 with value: 0.08179879034175916.\u001b[0m\n",
      "\u001b[32m[I 2022-11-26 16:00:14,423]\u001b[0m Trial 10 finished with value: 0.08228894876800805 and parameters: {'learning_rate': 0.10700477159184266, 'n_estimators': 472, 'max_depth': 10}. Best is trial 0 with value: 0.08179879034175916.\u001b[0m\n",
      "\u001b[32m[I 2022-11-26 16:00:18,460]\u001b[0m Trial 11 finished with value: 0.0817389126991762 and parameters: {'learning_rate': 0.028584332699331253, 'n_estimators': 976, 'max_depth': 7}. Best is trial 11 with value: 0.0817389126991762.\u001b[0m\n",
      "\u001b[32m[I 2022-11-26 16:00:26,560]\u001b[0m Trial 12 finished with value: 0.08163134496066621 and parameters: {'learning_rate': 0.02095273642467825, 'n_estimators': 1000, 'max_depth': 8}. Best is trial 12 with value: 0.08163134496066621.\u001b[0m\n",
      "\u001b[32m[I 2022-11-26 16:00:33,396]\u001b[0m Trial 13 finished with value: 0.08185442498702591 and parameters: {'learning_rate': 0.023228731418506773, 'n_estimators': 996, 'max_depth': 6}. Best is trial 12 with value: 0.08163134496066621.\u001b[0m\n",
      "\u001b[32m[I 2022-11-26 16:00:40,653]\u001b[0m Trial 14 finished with value: 0.08156336806389981 and parameters: {'learning_rate': 0.019043224700879106, 'n_estimators': 995, 'max_depth': 8}. Best is trial 14 with value: 0.08156336806389981.\u001b[0m\n",
      "\u001b[32m[I 2022-11-26 16:00:47,528]\u001b[0m Trial 15 finished with value: 0.08177712330316976 and parameters: {'learning_rate': 0.01700903621464857, 'n_estimators': 561, 'max_depth': 8}. Best is trial 14 with value: 0.08156336806389981.\u001b[0m\n",
      "\u001b[32m[I 2022-11-26 16:00:58,971]\u001b[0m Trial 16 finished with value: 0.08191468211046668 and parameters: {'learning_rate': 0.005725471089055324, 'n_estimators': 952, 'max_depth': 8}. Best is trial 14 with value: 0.08156336806389981.\u001b[0m\n",
      "\u001b[32m[I 2022-11-26 16:01:16,086]\u001b[0m Trial 17 finished with value: 0.08144653328625989 and parameters: {'learning_rate': 0.014818890868172716, 'n_estimators': 805, 'max_depth': 9}. Best is trial 17 with value: 0.08144653328625989.\u001b[0m\n",
      "\u001b[32m[I 2022-11-26 16:01:25,083]\u001b[0m Trial 18 finished with value: 0.08194292623203708 and parameters: {'learning_rate': 0.012731556074716365, 'n_estimators': 410, 'max_depth': 9}. Best is trial 17 with value: 0.08144653328625989.\u001b[0m\n",
      "\u001b[32m[I 2022-11-26 16:01:42,289]\u001b[0m Trial 19 finished with value: 0.08225790574471341 and parameters: {'learning_rate': 0.005206760168877398, 'n_estimators': 611, 'max_depth': 10}. Best is trial 17 with value: 0.08144653328625989.\u001b[0m\n",
      "\u001b[32m[I 2022-11-26 16:01:45,105]\u001b[0m Trial 20 finished with value: 0.08202342766103625 and parameters: {'learning_rate': 0.032667906317475195, 'n_estimators': 819, 'max_depth': 6}. Best is trial 17 with value: 0.08144653328625989.\u001b[0m\n",
      "\u001b[32m[I 2022-11-26 16:01:55,342]\u001b[0m Trial 21 finished with value: 0.08163961564365695 and parameters: {'learning_rate': 0.01630267370619188, 'n_estimators': 988, 'max_depth': 8}. Best is trial 17 with value: 0.08144653328625989.\u001b[0m\n",
      "\u001b[32m[I 2022-11-26 16:02:10,897]\u001b[0m Trial 22 finished with value: 0.08150126937035777 and parameters: {'learning_rate': 0.019274464500817944, 'n_estimators': 857, 'max_depth': 9}. Best is trial 17 with value: 0.08144653328625989.\u001b[0m\n",
      "\u001b[32m[I 2022-11-26 16:02:29,090]\u001b[0m Trial 23 finished with value: 0.08156587469886349 and parameters: {'learning_rate': 0.010411392600671062, 'n_estimators': 817, 'max_depth': 9}. Best is trial 17 with value: 0.08144653328625989.\u001b[0m\n",
      "\u001b[32m[I 2022-11-26 16:02:47,907]\u001b[0m Trial 24 finished with value: 0.08175761885403912 and parameters: {'learning_rate': 0.008366946626734713, 'n_estimators': 855, 'max_depth': 9}. Best is trial 17 with value: 0.08144653328625989.\u001b[0m\n",
      "\u001b[32m[I 2022-11-26 16:02:52,454]\u001b[0m Trial 25 finished with value: 0.08279330193722975 and parameters: {'learning_rate': 0.12800236251965935, 'n_estimators': 750, 'max_depth': 10}. Best is trial 17 with value: 0.08144653328625989.\u001b[0m\n",
      "\u001b[33m[W 2022-11-26 16:02:56,347]\u001b[0m Trial 26 failed because of the following error: KeyboardInterrupt('')\u001b[0m\n",
      "Traceback (most recent call last):\n",
      "  File \"/usr/local/lib/python3.7/dist-packages/optuna/study/_optimize.py\", line 196, in _run_trial\n",
      "    value_or_values = func(trial)\n",
      "  File \"<ipython-input-65-a8704eff2c94>\", line 16, in objective\n",
      "    early_stopping_rounds = 100, cat_features = categorical_features, verbose = False)\n",
      "  File \"/usr/local/lib/python3.7/dist-packages/catboost/core.py\", line 5733, in fit\n",
      "    save_snapshot, snapshot_file, snapshot_interval, init_model, callbacks, log_cout, log_cerr)\n",
      "  File \"/usr/local/lib/python3.7/dist-packages/catboost/core.py\", line 2360, in _fit\n",
      "    train_params[\"init_model\"]\n",
      "  File \"/usr/local/lib/python3.7/dist-packages/catboost/core.py\", line 1759, in _train\n",
      "    self._object._train(train_pool, test_pool, params, allow_clear_pool, init_model._object if init_model else None)\n",
      "  File \"_catboost.pyx\", line 4623, in _catboost._CatBoost._train\n",
      "  File \"_catboost.pyx\", line 4672, in _catboost._CatBoost._train\n",
      "KeyboardInterrupt\n"
     ]
    },
    {
     "ename": "KeyboardInterrupt",
     "evalue": "ignored",
     "output_type": "error",
     "traceback": [
      "\u001b[0;31m---------------------------------------------------------------------------\u001b[0m",
      "\u001b[0;31mKeyboardInterrupt\u001b[0m                         Traceback (most recent call last)",
      "\u001b[0;32m<ipython-input-66-775d703c5502>\u001b[0m in \u001b[0;36m<module>\u001b[0;34m\u001b[0m\n\u001b[1;32m      4\u001b[0m     \u001b[0mdirection\u001b[0m \u001b[0;34m=\u001b[0m \u001b[0;34m\"minimize\"\u001b[0m\u001b[0;34m,\u001b[0m\u001b[0;34m\u001b[0m\u001b[0;34m\u001b[0m\u001b[0m\n\u001b[1;32m      5\u001b[0m     sampler = sampler)\n\u001b[0;32m----> 6\u001b[0;31m \u001b[0mstudy\u001b[0m\u001b[0;34m.\u001b[0m\u001b[0moptimize\u001b[0m\u001b[0;34m(\u001b[0m\u001b[0mobjective\u001b[0m\u001b[0;34m,\u001b[0m \u001b[0mn_trials\u001b[0m \u001b[0;34m=\u001b[0m \u001b[0;36m100\u001b[0m\u001b[0;34m)\u001b[0m\u001b[0;34m\u001b[0m\u001b[0;34m\u001b[0m\u001b[0m\n\u001b[0m",
      "\u001b[0;32m/usr/local/lib/python3.7/dist-packages/optuna/study/study.py\u001b[0m in \u001b[0;36moptimize\u001b[0;34m(self, func, n_trials, timeout, n_jobs, catch, callbacks, gc_after_trial, show_progress_bar)\u001b[0m\n\u001b[1;32m    426\u001b[0m             \u001b[0mcallbacks\u001b[0m\u001b[0;34m=\u001b[0m\u001b[0mcallbacks\u001b[0m\u001b[0;34m,\u001b[0m\u001b[0;34m\u001b[0m\u001b[0;34m\u001b[0m\u001b[0m\n\u001b[1;32m    427\u001b[0m             \u001b[0mgc_after_trial\u001b[0m\u001b[0;34m=\u001b[0m\u001b[0mgc_after_trial\u001b[0m\u001b[0;34m,\u001b[0m\u001b[0;34m\u001b[0m\u001b[0;34m\u001b[0m\u001b[0m\n\u001b[0;32m--> 428\u001b[0;31m             \u001b[0mshow_progress_bar\u001b[0m\u001b[0;34m=\u001b[0m\u001b[0mshow_progress_bar\u001b[0m\u001b[0;34m,\u001b[0m\u001b[0;34m\u001b[0m\u001b[0;34m\u001b[0m\u001b[0m\n\u001b[0m\u001b[1;32m    429\u001b[0m         )\n\u001b[1;32m    430\u001b[0m \u001b[0;34m\u001b[0m\u001b[0m\n",
      "\u001b[0;32m/usr/local/lib/python3.7/dist-packages/optuna/study/_optimize.py\u001b[0m in \u001b[0;36m_optimize\u001b[0;34m(study, func, n_trials, timeout, n_jobs, catch, callbacks, gc_after_trial, show_progress_bar)\u001b[0m\n\u001b[1;32m     74\u001b[0m                 \u001b[0mreseed_sampler_rng\u001b[0m\u001b[0;34m=\u001b[0m\u001b[0;32mFalse\u001b[0m\u001b[0;34m,\u001b[0m\u001b[0;34m\u001b[0m\u001b[0;34m\u001b[0m\u001b[0m\n\u001b[1;32m     75\u001b[0m                 \u001b[0mtime_start\u001b[0m\u001b[0;34m=\u001b[0m\u001b[0;32mNone\u001b[0m\u001b[0;34m,\u001b[0m\u001b[0;34m\u001b[0m\u001b[0;34m\u001b[0m\u001b[0m\n\u001b[0;32m---> 76\u001b[0;31m                 \u001b[0mprogress_bar\u001b[0m\u001b[0;34m=\u001b[0m\u001b[0mprogress_bar\u001b[0m\u001b[0;34m,\u001b[0m\u001b[0;34m\u001b[0m\u001b[0;34m\u001b[0m\u001b[0m\n\u001b[0m\u001b[1;32m     77\u001b[0m             )\n\u001b[1;32m     78\u001b[0m         \u001b[0;32melse\u001b[0m\u001b[0;34m:\u001b[0m\u001b[0;34m\u001b[0m\u001b[0;34m\u001b[0m\u001b[0m\n",
      "\u001b[0;32m/usr/local/lib/python3.7/dist-packages/optuna/study/_optimize.py\u001b[0m in \u001b[0;36m_optimize_sequential\u001b[0;34m(study, func, n_trials, timeout, catch, callbacks, gc_after_trial, reseed_sampler_rng, time_start, progress_bar)\u001b[0m\n\u001b[1;32m    158\u001b[0m \u001b[0;34m\u001b[0m\u001b[0m\n\u001b[1;32m    159\u001b[0m         \u001b[0;32mtry\u001b[0m\u001b[0;34m:\u001b[0m\u001b[0;34m\u001b[0m\u001b[0;34m\u001b[0m\u001b[0m\n\u001b[0;32m--> 160\u001b[0;31m             \u001b[0mfrozen_trial\u001b[0m \u001b[0;34m=\u001b[0m \u001b[0m_run_trial\u001b[0m\u001b[0;34m(\u001b[0m\u001b[0mstudy\u001b[0m\u001b[0;34m,\u001b[0m \u001b[0mfunc\u001b[0m\u001b[0;34m,\u001b[0m \u001b[0mcatch\u001b[0m\u001b[0;34m)\u001b[0m\u001b[0;34m\u001b[0m\u001b[0;34m\u001b[0m\u001b[0m\n\u001b[0m\u001b[1;32m    161\u001b[0m         \u001b[0;32mfinally\u001b[0m\u001b[0;34m:\u001b[0m\u001b[0;34m\u001b[0m\u001b[0;34m\u001b[0m\u001b[0m\n\u001b[1;32m    162\u001b[0m             \u001b[0;31m# The following line mitigates memory problems that can be occurred in some\u001b[0m\u001b[0;34m\u001b[0m\u001b[0;34m\u001b[0m\u001b[0;34m\u001b[0m\u001b[0m\n",
      "\u001b[0;32m/usr/local/lib/python3.7/dist-packages/optuna/study/_optimize.py\u001b[0m in \u001b[0;36m_run_trial\u001b[0;34m(study, func, catch)\u001b[0m\n\u001b[1;32m    232\u001b[0m         \u001b[0;32mand\u001b[0m \u001b[0;32mnot\u001b[0m \u001b[0misinstance\u001b[0m\u001b[0;34m(\u001b[0m\u001b[0mfunc_err\u001b[0m\u001b[0;34m,\u001b[0m \u001b[0mcatch\u001b[0m\u001b[0;34m)\u001b[0m\u001b[0;34m\u001b[0m\u001b[0;34m\u001b[0m\u001b[0m\n\u001b[1;32m    233\u001b[0m     ):\n\u001b[0;32m--> 234\u001b[0;31m         \u001b[0;32mraise\u001b[0m \u001b[0mfunc_err\u001b[0m\u001b[0;34m\u001b[0m\u001b[0;34m\u001b[0m\u001b[0m\n\u001b[0m\u001b[1;32m    235\u001b[0m     \u001b[0;32mreturn\u001b[0m \u001b[0mfrozen_trial\u001b[0m\u001b[0;34m\u001b[0m\u001b[0;34m\u001b[0m\u001b[0m\n\u001b[1;32m    236\u001b[0m \u001b[0;34m\u001b[0m\u001b[0m\n",
      "\u001b[0;32m/usr/local/lib/python3.7/dist-packages/optuna/study/_optimize.py\u001b[0m in \u001b[0;36m_run_trial\u001b[0;34m(study, func, catch)\u001b[0m\n\u001b[1;32m    194\u001b[0m     \u001b[0;32mwith\u001b[0m \u001b[0mget_heartbeat_thread\u001b[0m\u001b[0;34m(\u001b[0m\u001b[0mtrial\u001b[0m\u001b[0;34m.\u001b[0m\u001b[0m_trial_id\u001b[0m\u001b[0;34m,\u001b[0m \u001b[0mstudy\u001b[0m\u001b[0;34m.\u001b[0m\u001b[0m_storage\u001b[0m\u001b[0;34m)\u001b[0m\u001b[0;34m:\u001b[0m\u001b[0;34m\u001b[0m\u001b[0;34m\u001b[0m\u001b[0m\n\u001b[1;32m    195\u001b[0m         \u001b[0;32mtry\u001b[0m\u001b[0;34m:\u001b[0m\u001b[0;34m\u001b[0m\u001b[0;34m\u001b[0m\u001b[0m\n\u001b[0;32m--> 196\u001b[0;31m             \u001b[0mvalue_or_values\u001b[0m \u001b[0;34m=\u001b[0m \u001b[0mfunc\u001b[0m\u001b[0;34m(\u001b[0m\u001b[0mtrial\u001b[0m\u001b[0;34m)\u001b[0m\u001b[0;34m\u001b[0m\u001b[0;34m\u001b[0m\u001b[0m\n\u001b[0m\u001b[1;32m    197\u001b[0m         \u001b[0;32mexcept\u001b[0m \u001b[0mexceptions\u001b[0m\u001b[0;34m.\u001b[0m\u001b[0mTrialPruned\u001b[0m \u001b[0;32mas\u001b[0m \u001b[0me\u001b[0m\u001b[0;34m:\u001b[0m\u001b[0;34m\u001b[0m\u001b[0;34m\u001b[0m\u001b[0m\n\u001b[1;32m    198\u001b[0m             \u001b[0;31m# TODO(mamu): Handle multi-objective cases.\u001b[0m\u001b[0;34m\u001b[0m\u001b[0;34m\u001b[0m\u001b[0;34m\u001b[0m\u001b[0m\n",
      "\u001b[0;32m<ipython-input-65-a8704eff2c94>\u001b[0m in \u001b[0;36mobjective\u001b[0;34m(trial)\u001b[0m\n\u001b[1;32m     14\u001b[0m     \u001b[0mmodel\u001b[0m \u001b[0;34m=\u001b[0m \u001b[0mCatBoostRegressor\u001b[0m\u001b[0;34m(\u001b[0m\u001b[0;34m**\u001b[0m\u001b[0mparams_cat\u001b[0m\u001b[0;34m)\u001b[0m\u001b[0;34m\u001b[0m\u001b[0;34m\u001b[0m\u001b[0m\n\u001b[1;32m     15\u001b[0m     model.fit(X_partrain, y_partrain, eval_set = [(X_val, y_val)],\n\u001b[0;32m---> 16\u001b[0;31m               early_stopping_rounds = 100, cat_features = categorical_features, verbose = False)\n\u001b[0m\u001b[1;32m     17\u001b[0m \u001b[0;34m\u001b[0m\u001b[0m\n\u001b[1;32m     18\u001b[0m     \u001b[0mcat_pred\u001b[0m \u001b[0;34m=\u001b[0m \u001b[0mmodel\u001b[0m\u001b[0;34m.\u001b[0m\u001b[0mpredict\u001b[0m\u001b[0;34m(\u001b[0m\u001b[0mX_val\u001b[0m\u001b[0;34m)\u001b[0m\u001b[0;34m\u001b[0m\u001b[0;34m\u001b[0m\u001b[0m\n",
      "\u001b[0;32m/usr/local/lib/python3.7/dist-packages/catboost/core.py\u001b[0m in \u001b[0;36mfit\u001b[0;34m(self, X, y, cat_features, text_features, embedding_features, sample_weight, baseline, use_best_model, eval_set, verbose, logging_level, plot, plot_file, column_description, verbose_eval, metric_period, silent, early_stopping_rounds, save_snapshot, snapshot_file, snapshot_interval, init_model, callbacks, log_cout, log_cerr)\u001b[0m\n\u001b[1;32m   5731\u001b[0m                          \u001b[0muse_best_model\u001b[0m\u001b[0;34m,\u001b[0m \u001b[0meval_set\u001b[0m\u001b[0;34m,\u001b[0m \u001b[0mverbose\u001b[0m\u001b[0;34m,\u001b[0m \u001b[0mlogging_level\u001b[0m\u001b[0;34m,\u001b[0m \u001b[0mplot\u001b[0m\u001b[0;34m,\u001b[0m \u001b[0mplot_file\u001b[0m\u001b[0;34m,\u001b[0m \u001b[0mcolumn_description\u001b[0m\u001b[0;34m,\u001b[0m\u001b[0;34m\u001b[0m\u001b[0;34m\u001b[0m\u001b[0m\n\u001b[1;32m   5732\u001b[0m                          \u001b[0mverbose_eval\u001b[0m\u001b[0;34m,\u001b[0m \u001b[0mmetric_period\u001b[0m\u001b[0;34m,\u001b[0m \u001b[0msilent\u001b[0m\u001b[0;34m,\u001b[0m \u001b[0mearly_stopping_rounds\u001b[0m\u001b[0;34m,\u001b[0m\u001b[0;34m\u001b[0m\u001b[0;34m\u001b[0m\u001b[0m\n\u001b[0;32m-> 5733\u001b[0;31m                          save_snapshot, snapshot_file, snapshot_interval, init_model, callbacks, log_cout, log_cerr)\n\u001b[0m\u001b[1;32m   5734\u001b[0m \u001b[0;34m\u001b[0m\u001b[0m\n\u001b[1;32m   5735\u001b[0m     \u001b[0;32mdef\u001b[0m \u001b[0mpredict\u001b[0m\u001b[0;34m(\u001b[0m\u001b[0mself\u001b[0m\u001b[0;34m,\u001b[0m \u001b[0mdata\u001b[0m\u001b[0;34m,\u001b[0m \u001b[0mprediction_type\u001b[0m\u001b[0;34m=\u001b[0m\u001b[0;32mNone\u001b[0m\u001b[0;34m,\u001b[0m \u001b[0mntree_start\u001b[0m\u001b[0;34m=\u001b[0m\u001b[0;36m0\u001b[0m\u001b[0;34m,\u001b[0m \u001b[0mntree_end\u001b[0m\u001b[0;34m=\u001b[0m\u001b[0;36m0\u001b[0m\u001b[0;34m,\u001b[0m \u001b[0mthread_count\u001b[0m\u001b[0;34m=\u001b[0m\u001b[0;34m-\u001b[0m\u001b[0;36m1\u001b[0m\u001b[0;34m,\u001b[0m \u001b[0mverbose\u001b[0m\u001b[0;34m=\u001b[0m\u001b[0;32mNone\u001b[0m\u001b[0;34m,\u001b[0m \u001b[0mtask_type\u001b[0m\u001b[0;34m=\u001b[0m\u001b[0;34m\"CPU\"\u001b[0m\u001b[0;34m)\u001b[0m\u001b[0;34m:\u001b[0m\u001b[0;34m\u001b[0m\u001b[0;34m\u001b[0m\u001b[0m\n",
      "\u001b[0;32m/usr/local/lib/python3.7/dist-packages/catboost/core.py\u001b[0m in \u001b[0;36m_fit\u001b[0;34m(self, X, y, cat_features, text_features, embedding_features, pairs, sample_weight, group_id, group_weight, subgroup_id, pairs_weight, baseline, use_best_model, eval_set, verbose, logging_level, plot, plot_file, column_description, verbose_eval, metric_period, silent, early_stopping_rounds, save_snapshot, snapshot_file, snapshot_interval, init_model, callbacks, log_cout, log_cerr)\u001b[0m\n\u001b[1;32m   2358\u001b[0m                 \u001b[0mparams\u001b[0m\u001b[0;34m,\u001b[0m\u001b[0;34m\u001b[0m\u001b[0;34m\u001b[0m\u001b[0m\n\u001b[1;32m   2359\u001b[0m                 \u001b[0mallow_clear_pool\u001b[0m\u001b[0;34m,\u001b[0m\u001b[0;34m\u001b[0m\u001b[0;34m\u001b[0m\u001b[0m\n\u001b[0;32m-> 2360\u001b[0;31m                 \u001b[0mtrain_params\u001b[0m\u001b[0;34m[\u001b[0m\u001b[0;34m\"init_model\"\u001b[0m\u001b[0;34m]\u001b[0m\u001b[0;34m\u001b[0m\u001b[0;34m\u001b[0m\u001b[0m\n\u001b[0m\u001b[1;32m   2361\u001b[0m             )\n\u001b[1;32m   2362\u001b[0m \u001b[0;34m\u001b[0m\u001b[0m\n",
      "\u001b[0;32m/usr/local/lib/python3.7/dist-packages/catboost/core.py\u001b[0m in \u001b[0;36m_train\u001b[0;34m(self, train_pool, test_pool, params, allow_clear_pool, init_model)\u001b[0m\n\u001b[1;32m   1757\u001b[0m \u001b[0;34m\u001b[0m\u001b[0m\n\u001b[1;32m   1758\u001b[0m     \u001b[0;32mdef\u001b[0m \u001b[0m_train\u001b[0m\u001b[0;34m(\u001b[0m\u001b[0mself\u001b[0m\u001b[0;34m,\u001b[0m \u001b[0mtrain_pool\u001b[0m\u001b[0;34m,\u001b[0m \u001b[0mtest_pool\u001b[0m\u001b[0;34m,\u001b[0m \u001b[0mparams\u001b[0m\u001b[0;34m,\u001b[0m \u001b[0mallow_clear_pool\u001b[0m\u001b[0;34m,\u001b[0m \u001b[0minit_model\u001b[0m\u001b[0;34m)\u001b[0m\u001b[0;34m:\u001b[0m\u001b[0;34m\u001b[0m\u001b[0;34m\u001b[0m\u001b[0m\n\u001b[0;32m-> 1759\u001b[0;31m         \u001b[0mself\u001b[0m\u001b[0;34m.\u001b[0m\u001b[0m_object\u001b[0m\u001b[0;34m.\u001b[0m\u001b[0m_train\u001b[0m\u001b[0;34m(\u001b[0m\u001b[0mtrain_pool\u001b[0m\u001b[0;34m,\u001b[0m \u001b[0mtest_pool\u001b[0m\u001b[0;34m,\u001b[0m \u001b[0mparams\u001b[0m\u001b[0;34m,\u001b[0m \u001b[0mallow_clear_pool\u001b[0m\u001b[0;34m,\u001b[0m \u001b[0minit_model\u001b[0m\u001b[0;34m.\u001b[0m\u001b[0m_object\u001b[0m \u001b[0;32mif\u001b[0m \u001b[0minit_model\u001b[0m \u001b[0;32melse\u001b[0m \u001b[0;32mNone\u001b[0m\u001b[0;34m)\u001b[0m\u001b[0;34m\u001b[0m\u001b[0;34m\u001b[0m\u001b[0m\n\u001b[0m\u001b[1;32m   1760\u001b[0m         \u001b[0mself\u001b[0m\u001b[0;34m.\u001b[0m\u001b[0m_set_trained_model_attributes\u001b[0m\u001b[0;34m(\u001b[0m\u001b[0;34m)\u001b[0m\u001b[0;34m\u001b[0m\u001b[0;34m\u001b[0m\u001b[0m\n\u001b[1;32m   1761\u001b[0m \u001b[0;34m\u001b[0m\u001b[0m\n",
      "\u001b[0;32m_catboost.pyx\u001b[0m in \u001b[0;36m_catboost._CatBoost._train\u001b[0;34m()\u001b[0m\n",
      "\u001b[0;32m_catboost.pyx\u001b[0m in \u001b[0;36m_catboost._CatBoost._train\u001b[0;34m()\u001b[0m\n",
      "\u001b[0;31mKeyboardInterrupt\u001b[0m: "
     ]
    }
   ],
   "source": [
    "sampler = TPESampler(seed = 39)\n",
    "study = optuna.create_study(\n",
    "    study_name = \"cat_parameter_opt\",\n",
    "    direction = \"minimize\",\n",
    "    sampler = sampler)\n",
    "study.optimize(objective, n_trials = 100)"
   ]
  },
  {
   "cell_type": "code",
   "execution_count": 25,
   "id": "gOK2GiFVpy21",
   "metadata": {
    "colab": {
     "base_uri": "https://localhost:8080/"
    },
    "executionInfo": {
     "elapsed": 4,
     "status": "ok",
     "timestamp": 1669477536885,
     "user": {
      "displayName": "신웅재",
      "userId": "08301511488967665306"
     },
     "user_tz": -540
    },
    "id": "gOK2GiFVpy21",
    "outputId": "959ba884-9caa-4a3e-9511-91793e56019f"
   },
   "outputs": [
    {
     "name": "stdout",
     "output_type": "stream",
     "text": [
      "Best Score : 0.09488268688010554\n",
      "Best trial : {'learning_rate': 0.058173299448250754, 'n_estimators': 870, 'max_depth': 10}\n"
     ]
    }
   ],
   "source": [
    "# model2의 초모수 결정\n",
    "print(\"Best Score :\", study.best_value)\n",
    "print(\"Best trial :\", study.best_trial.params)"
   ]
  },
  {
   "cell_type": "code",
   "execution_count": 26,
   "id": "Zo1Hx_1tpy22",
   "metadata": {
    "colab": {
     "base_uri": "https://localhost:8080/",
     "height": 542
    },
    "executionInfo": {
     "elapsed": 11,
     "status": "ok",
     "timestamp": 1669477539902,
     "user": {
      "displayName": "신웅재",
      "userId": "08301511488967665306"
     },
     "user_tz": -540
    },
    "id": "Zo1Hx_1tpy22",
    "outputId": "aa9f2c0b-ee7d-4d0c-edd5-e1db8fc446f4"
   },
   "outputs": [
    {
     "data": {
      "text/html": [
       "<html>\n",
       "<head><meta charset=\"utf-8\" /></head>\n",
       "<body>\n",
       "    <div>            <script src=\"https://cdnjs.cloudflare.com/ajax/libs/mathjax/2.7.5/MathJax.js?config=TeX-AMS-MML_SVG\"></script><script type=\"text/javascript\">if (window.MathJax) {MathJax.Hub.Config({SVG: {font: \"STIX-Web\"}});}</script>                <script type=\"text/javascript\">window.PlotlyConfig = {MathJaxConfig: 'local'};</script>\n",
       "        <script src=\"https://cdn.plot.ly/plotly-2.8.3.min.js\"></script>                <div id=\"b7427378-95b1-493e-a146-90d74f14077e\" class=\"plotly-graph-div\" style=\"height:525px; width:100%;\"></div>            <script type=\"text/javascript\">                                    window.PLOTLYENV=window.PLOTLYENV || {};                                    if (document.getElementById(\"b7427378-95b1-493e-a146-90d74f14077e\")) {                    Plotly.newPlot(                        \"b7427378-95b1-493e-a146-90d74f14077e\",                        [{\"mode\":\"markers\",\"name\":\"Objective Value\",\"x\":[0,1,2,3,4,5,6,7,8,9,10,11,12,13,14,15,16,17,18,19,20,21,22,23,24,25,26,27,28,29,30,31,32,33,34,35,36,37,38,39,40,41,42,43,44,45,46,47,48,49,50,51,52,53,54,55,56,57,58,59,60,61,62,63,64,65,66,67,68,69,70,71,72,73,74,75,76,77,78,79,80,81,82,83,84,85,86,87,88,89,90,91,92,93,94,95,96,97,98,99],\"y\":[0.09559445171088067,0.09716563156736233,0.09549952154429096,0.09548440398918026,0.09655846396856832,0.09732448659403944,0.09624006078982418,0.0960248965507657,0.09562366058912021,0.09766592161647808,0.09569337866272237,0.09611032764197706,0.09549900581972265,0.09556379486258514,0.09524602110006056,0.0960917073450153,0.09536414228733929,0.0958327590155458,0.0961223196630297,0.09598316796348658,0.09658102377003942,0.09684186430373257,0.09620368037573535,0.09565798661130104,0.09690699250899606,0.09654761139760759,0.09578705841411274,0.09622616393547576,0.09598785946856699,0.09572995764858351,0.09582465891972403,0.0955188593741118,0.09569569838464377,0.09530215035390942,0.09713017306839479,0.09532183237148342,0.0955493180531173,0.09573738641762983,0.0958729871185666,0.0957183988402184,0.09525980530582183,0.0954676032002405,0.09529996652883072,0.0963763545715424,0.09601339648337524,0.09652400354672774,0.09609216258034323,0.09579271659478744,0.09593892434619215,0.0966576881722192,0.09602959635498226,0.09533972001855806,0.09577727158178087,0.09593056572877974,0.09554350389763684,0.09550769103249719,0.09660692088711885,0.09601294604838759,0.0958672345260298,0.09581579426266508,0.09608411113775855,0.09589360339367643,0.09614863370407391,0.09560153622303927,0.09558047947555115,0.09571806178089151,0.09558674558870564,0.09538164481014283,0.09594111875291064,0.09551244309200617,0.09558458391127737,0.09556239927701445,0.09589895009040487,0.09533790436195355,0.09587281059835172,0.09607903204856325,0.09535677462553745,0.09567711171693459,0.09488268688010554,0.09498226596027382,0.09567590248518562,0.09553982283377248,0.09593466151522352,0.09574047336808504,0.09521000996454705,0.09578910696946132,0.09553020175406256,0.09526110933450727,0.09584220092557096,0.09547421978906245,0.09563700396415534,0.09563612413349433,0.09544797278868578,0.09573499243423968,0.09565090994549422,0.09527570486119982,0.09570030898335907,0.09587051995283498,0.09546514326570389,0.09599518554012458],\"type\":\"scatter\"},{\"name\":\"Best Value\",\"x\":[0,1,2,3,4,5,6,7,8,9,10,11,12,13,14,15,16,17,18,19,20,21,22,23,24,25,26,27,28,29,30,31,32,33,34,35,36,37,38,39,40,41,42,43,44,45,46,47,48,49,50,51,52,53,54,55,56,57,58,59,60,61,62,63,64,65,66,67,68,69,70,71,72,73,74,75,76,77,78,79,80,81,82,83,84,85,86,87,88,89,90,91,92,93,94,95,96,97,98,99],\"y\":[0.09559445171088067,0.09559445171088067,0.09549952154429096,0.09548440398918026,0.09548440398918026,0.09548440398918026,0.09548440398918026,0.09548440398918026,0.09548440398918026,0.09548440398918026,0.09548440398918026,0.09548440398918026,0.09548440398918026,0.09548440398918026,0.09524602110006056,0.09524602110006056,0.09524602110006056,0.09524602110006056,0.09524602110006056,0.09524602110006056,0.09524602110006056,0.09524602110006056,0.09524602110006056,0.09524602110006056,0.09524602110006056,0.09524602110006056,0.09524602110006056,0.09524602110006056,0.09524602110006056,0.09524602110006056,0.09524602110006056,0.09524602110006056,0.09524602110006056,0.09524602110006056,0.09524602110006056,0.09524602110006056,0.09524602110006056,0.09524602110006056,0.09524602110006056,0.09524602110006056,0.09524602110006056,0.09524602110006056,0.09524602110006056,0.09524602110006056,0.09524602110006056,0.09524602110006056,0.09524602110006056,0.09524602110006056,0.09524602110006056,0.09524602110006056,0.09524602110006056,0.09524602110006056,0.09524602110006056,0.09524602110006056,0.09524602110006056,0.09524602110006056,0.09524602110006056,0.09524602110006056,0.09524602110006056,0.09524602110006056,0.09524602110006056,0.09524602110006056,0.09524602110006056,0.09524602110006056,0.09524602110006056,0.09524602110006056,0.09524602110006056,0.09524602110006056,0.09524602110006056,0.09524602110006056,0.09524602110006056,0.09524602110006056,0.09524602110006056,0.09524602110006056,0.09524602110006056,0.09524602110006056,0.09524602110006056,0.09524602110006056,0.09488268688010554,0.09488268688010554,0.09488268688010554,0.09488268688010554,0.09488268688010554,0.09488268688010554,0.09488268688010554,0.09488268688010554,0.09488268688010554,0.09488268688010554,0.09488268688010554,0.09488268688010554,0.09488268688010554,0.09488268688010554,0.09488268688010554,0.09488268688010554,0.09488268688010554,0.09488268688010554,0.09488268688010554,0.09488268688010554,0.09488268688010554,0.09488268688010554],\"type\":\"scatter\"}],                        {\"title\":{\"text\":\"Optimization History Plot\"},\"xaxis\":{\"title\":{\"text\":\"Trial\"}},\"yaxis\":{\"title\":{\"text\":\"Objective Value\"}},\"template\":{\"data\":{\"bar\":[{\"error_x\":{\"color\":\"#2a3f5f\"},\"error_y\":{\"color\":\"#2a3f5f\"},\"marker\":{\"line\":{\"color\":\"#E5ECF6\",\"width\":0.5},\"pattern\":{\"fillmode\":\"overlay\",\"size\":10,\"solidity\":0.2}},\"type\":\"bar\"}],\"barpolar\":[{\"marker\":{\"line\":{\"color\":\"#E5ECF6\",\"width\":0.5},\"pattern\":{\"fillmode\":\"overlay\",\"size\":10,\"solidity\":0.2}},\"type\":\"barpolar\"}],\"carpet\":[{\"aaxis\":{\"endlinecolor\":\"#2a3f5f\",\"gridcolor\":\"white\",\"linecolor\":\"white\",\"minorgridcolor\":\"white\",\"startlinecolor\":\"#2a3f5f\"},\"baxis\":{\"endlinecolor\":\"#2a3f5f\",\"gridcolor\":\"white\",\"linecolor\":\"white\",\"minorgridcolor\":\"white\",\"startlinecolor\":\"#2a3f5f\"},\"type\":\"carpet\"}],\"choropleth\":[{\"colorbar\":{\"outlinewidth\":0,\"ticks\":\"\"},\"type\":\"choropleth\"}],\"contour\":[{\"colorbar\":{\"outlinewidth\":0,\"ticks\":\"\"},\"colorscale\":[[0.0,\"#0d0887\"],[0.1111111111111111,\"#46039f\"],[0.2222222222222222,\"#7201a8\"],[0.3333333333333333,\"#9c179e\"],[0.4444444444444444,\"#bd3786\"],[0.5555555555555556,\"#d8576b\"],[0.6666666666666666,\"#ed7953\"],[0.7777777777777778,\"#fb9f3a\"],[0.8888888888888888,\"#fdca26\"],[1.0,\"#f0f921\"]],\"type\":\"contour\"}],\"contourcarpet\":[{\"colorbar\":{\"outlinewidth\":0,\"ticks\":\"\"},\"type\":\"contourcarpet\"}],\"heatmap\":[{\"colorbar\":{\"outlinewidth\":0,\"ticks\":\"\"},\"colorscale\":[[0.0,\"#0d0887\"],[0.1111111111111111,\"#46039f\"],[0.2222222222222222,\"#7201a8\"],[0.3333333333333333,\"#9c179e\"],[0.4444444444444444,\"#bd3786\"],[0.5555555555555556,\"#d8576b\"],[0.6666666666666666,\"#ed7953\"],[0.7777777777777778,\"#fb9f3a\"],[0.8888888888888888,\"#fdca26\"],[1.0,\"#f0f921\"]],\"type\":\"heatmap\"}],\"heatmapgl\":[{\"colorbar\":{\"outlinewidth\":0,\"ticks\":\"\"},\"colorscale\":[[0.0,\"#0d0887\"],[0.1111111111111111,\"#46039f\"],[0.2222222222222222,\"#7201a8\"],[0.3333333333333333,\"#9c179e\"],[0.4444444444444444,\"#bd3786\"],[0.5555555555555556,\"#d8576b\"],[0.6666666666666666,\"#ed7953\"],[0.7777777777777778,\"#fb9f3a\"],[0.8888888888888888,\"#fdca26\"],[1.0,\"#f0f921\"]],\"type\":\"heatmapgl\"}],\"histogram\":[{\"marker\":{\"pattern\":{\"fillmode\":\"overlay\",\"size\":10,\"solidity\":0.2}},\"type\":\"histogram\"}],\"histogram2d\":[{\"colorbar\":{\"outlinewidth\":0,\"ticks\":\"\"},\"colorscale\":[[0.0,\"#0d0887\"],[0.1111111111111111,\"#46039f\"],[0.2222222222222222,\"#7201a8\"],[0.3333333333333333,\"#9c179e\"],[0.4444444444444444,\"#bd3786\"],[0.5555555555555556,\"#d8576b\"],[0.6666666666666666,\"#ed7953\"],[0.7777777777777778,\"#fb9f3a\"],[0.8888888888888888,\"#fdca26\"],[1.0,\"#f0f921\"]],\"type\":\"histogram2d\"}],\"histogram2dcontour\":[{\"colorbar\":{\"outlinewidth\":0,\"ticks\":\"\"},\"colorscale\":[[0.0,\"#0d0887\"],[0.1111111111111111,\"#46039f\"],[0.2222222222222222,\"#7201a8\"],[0.3333333333333333,\"#9c179e\"],[0.4444444444444444,\"#bd3786\"],[0.5555555555555556,\"#d8576b\"],[0.6666666666666666,\"#ed7953\"],[0.7777777777777778,\"#fb9f3a\"],[0.8888888888888888,\"#fdca26\"],[1.0,\"#f0f921\"]],\"type\":\"histogram2dcontour\"}],\"mesh3d\":[{\"colorbar\":{\"outlinewidth\":0,\"ticks\":\"\"},\"type\":\"mesh3d\"}],\"parcoords\":[{\"line\":{\"colorbar\":{\"outlinewidth\":0,\"ticks\":\"\"}},\"type\":\"parcoords\"}],\"pie\":[{\"automargin\":true,\"type\":\"pie\"}],\"scatter\":[{\"marker\":{\"colorbar\":{\"outlinewidth\":0,\"ticks\":\"\"}},\"type\":\"scatter\"}],\"scatter3d\":[{\"line\":{\"colorbar\":{\"outlinewidth\":0,\"ticks\":\"\"}},\"marker\":{\"colorbar\":{\"outlinewidth\":0,\"ticks\":\"\"}},\"type\":\"scatter3d\"}],\"scattercarpet\":[{\"marker\":{\"colorbar\":{\"outlinewidth\":0,\"ticks\":\"\"}},\"type\":\"scattercarpet\"}],\"scattergeo\":[{\"marker\":{\"colorbar\":{\"outlinewidth\":0,\"ticks\":\"\"}},\"type\":\"scattergeo\"}],\"scattergl\":[{\"marker\":{\"colorbar\":{\"outlinewidth\":0,\"ticks\":\"\"}},\"type\":\"scattergl\"}],\"scattermapbox\":[{\"marker\":{\"colorbar\":{\"outlinewidth\":0,\"ticks\":\"\"}},\"type\":\"scattermapbox\"}],\"scatterpolar\":[{\"marker\":{\"colorbar\":{\"outlinewidth\":0,\"ticks\":\"\"}},\"type\":\"scatterpolar\"}],\"scatterpolargl\":[{\"marker\":{\"colorbar\":{\"outlinewidth\":0,\"ticks\":\"\"}},\"type\":\"scatterpolargl\"}],\"scatterternary\":[{\"marker\":{\"colorbar\":{\"outlinewidth\":0,\"ticks\":\"\"}},\"type\":\"scatterternary\"}],\"surface\":[{\"colorbar\":{\"outlinewidth\":0,\"ticks\":\"\"},\"colorscale\":[[0.0,\"#0d0887\"],[0.1111111111111111,\"#46039f\"],[0.2222222222222222,\"#7201a8\"],[0.3333333333333333,\"#9c179e\"],[0.4444444444444444,\"#bd3786\"],[0.5555555555555556,\"#d8576b\"],[0.6666666666666666,\"#ed7953\"],[0.7777777777777778,\"#fb9f3a\"],[0.8888888888888888,\"#fdca26\"],[1.0,\"#f0f921\"]],\"type\":\"surface\"}],\"table\":[{\"cells\":{\"fill\":{\"color\":\"#EBF0F8\"},\"line\":{\"color\":\"white\"}},\"header\":{\"fill\":{\"color\":\"#C8D4E3\"},\"line\":{\"color\":\"white\"}},\"type\":\"table\"}]},\"layout\":{\"annotationdefaults\":{\"arrowcolor\":\"#2a3f5f\",\"arrowhead\":0,\"arrowwidth\":1},\"autotypenumbers\":\"strict\",\"coloraxis\":{\"colorbar\":{\"outlinewidth\":0,\"ticks\":\"\"}},\"colorscale\":{\"diverging\":[[0,\"#8e0152\"],[0.1,\"#c51b7d\"],[0.2,\"#de77ae\"],[0.3,\"#f1b6da\"],[0.4,\"#fde0ef\"],[0.5,\"#f7f7f7\"],[0.6,\"#e6f5d0\"],[0.7,\"#b8e186\"],[0.8,\"#7fbc41\"],[0.9,\"#4d9221\"],[1,\"#276419\"]],\"sequential\":[[0.0,\"#0d0887\"],[0.1111111111111111,\"#46039f\"],[0.2222222222222222,\"#7201a8\"],[0.3333333333333333,\"#9c179e\"],[0.4444444444444444,\"#bd3786\"],[0.5555555555555556,\"#d8576b\"],[0.6666666666666666,\"#ed7953\"],[0.7777777777777778,\"#fb9f3a\"],[0.8888888888888888,\"#fdca26\"],[1.0,\"#f0f921\"]],\"sequentialminus\":[[0.0,\"#0d0887\"],[0.1111111111111111,\"#46039f\"],[0.2222222222222222,\"#7201a8\"],[0.3333333333333333,\"#9c179e\"],[0.4444444444444444,\"#bd3786\"],[0.5555555555555556,\"#d8576b\"],[0.6666666666666666,\"#ed7953\"],[0.7777777777777778,\"#fb9f3a\"],[0.8888888888888888,\"#fdca26\"],[1.0,\"#f0f921\"]]},\"colorway\":[\"#636efa\",\"#EF553B\",\"#00cc96\",\"#ab63fa\",\"#FFA15A\",\"#19d3f3\",\"#FF6692\",\"#B6E880\",\"#FF97FF\",\"#FECB52\"],\"font\":{\"color\":\"#2a3f5f\"},\"geo\":{\"bgcolor\":\"white\",\"lakecolor\":\"white\",\"landcolor\":\"#E5ECF6\",\"showlakes\":true,\"showland\":true,\"subunitcolor\":\"white\"},\"hoverlabel\":{\"align\":\"left\"},\"hovermode\":\"closest\",\"mapbox\":{\"style\":\"light\"},\"paper_bgcolor\":\"white\",\"plot_bgcolor\":\"#E5ECF6\",\"polar\":{\"angularaxis\":{\"gridcolor\":\"white\",\"linecolor\":\"white\",\"ticks\":\"\"},\"bgcolor\":\"#E5ECF6\",\"radialaxis\":{\"gridcolor\":\"white\",\"linecolor\":\"white\",\"ticks\":\"\"}},\"scene\":{\"xaxis\":{\"backgroundcolor\":\"#E5ECF6\",\"gridcolor\":\"white\",\"gridwidth\":2,\"linecolor\":\"white\",\"showbackground\":true,\"ticks\":\"\",\"zerolinecolor\":\"white\"},\"yaxis\":{\"backgroundcolor\":\"#E5ECF6\",\"gridcolor\":\"white\",\"gridwidth\":2,\"linecolor\":\"white\",\"showbackground\":true,\"ticks\":\"\",\"zerolinecolor\":\"white\"},\"zaxis\":{\"backgroundcolor\":\"#E5ECF6\",\"gridcolor\":\"white\",\"gridwidth\":2,\"linecolor\":\"white\",\"showbackground\":true,\"ticks\":\"\",\"zerolinecolor\":\"white\"}},\"shapedefaults\":{\"line\":{\"color\":\"#2a3f5f\"}},\"ternary\":{\"aaxis\":{\"gridcolor\":\"white\",\"linecolor\":\"white\",\"ticks\":\"\"},\"baxis\":{\"gridcolor\":\"white\",\"linecolor\":\"white\",\"ticks\":\"\"},\"bgcolor\":\"#E5ECF6\",\"caxis\":{\"gridcolor\":\"white\",\"linecolor\":\"white\",\"ticks\":\"\"}},\"title\":{\"x\":0.05},\"xaxis\":{\"automargin\":true,\"gridcolor\":\"white\",\"linecolor\":\"white\",\"ticks\":\"\",\"title\":{\"standoff\":15},\"zerolinecolor\":\"white\",\"zerolinewidth\":2},\"yaxis\":{\"automargin\":true,\"gridcolor\":\"white\",\"linecolor\":\"white\",\"ticks\":\"\",\"title\":{\"standoff\":15},\"zerolinecolor\":\"white\",\"zerolinewidth\":2}}}},                        {\"responsive\": true}                    ).then(function(){\n",
       "                            \n",
       "var gd = document.getElementById('b7427378-95b1-493e-a146-90d74f14077e');\n",
       "var x = new MutationObserver(function (mutations, observer) {{\n",
       "        var display = window.getComputedStyle(gd).display;\n",
       "        if (!display || display === 'none') {{\n",
       "            console.log([gd, 'removed!']);\n",
       "            Plotly.purge(gd);\n",
       "            observer.disconnect();\n",
       "        }}\n",
       "}});\n",
       "\n",
       "// Listen for the removal of the full notebook cells\n",
       "var notebookContainer = gd.closest('#notebook-container');\n",
       "if (notebookContainer) {{\n",
       "    x.observe(notebookContainer, {childList: true});\n",
       "}}\n",
       "\n",
       "// Listen for the clearing of the current output cell\n",
       "var outputEl = gd.closest('.output');\n",
       "if (outputEl) {{\n",
       "    x.observe(outputEl, {childList: true});\n",
       "}}\n",
       "\n",
       "                        })                };                            </script>        </div>\n",
       "</body>\n",
       "</html>"
      ]
     },
     "metadata": {},
     "output_type": "display_data"
    }
   ],
   "source": [
    "# 시각화\n",
    "optuna.visualization.plot_optimization_history(study)"
   ]
  },
  {
   "cell_type": "code",
   "execution_count": 27,
   "id": "eXeumW5Wpy22",
   "metadata": {
    "colab": {
     "base_uri": "https://localhost:8080/",
     "height": 542
    },
    "executionInfo": {
     "elapsed": 5,
     "status": "ok",
     "timestamp": 1669477543264,
     "user": {
      "displayName": "신웅재",
      "userId": "08301511488967665306"
     },
     "user_tz": -540
    },
    "id": "eXeumW5Wpy22",
    "outputId": "f664491c-8c9a-40fa-e65c-59988495acd5"
   },
   "outputs": [
    {
     "data": {
      "text/html": [
       "<html>\n",
       "<head><meta charset=\"utf-8\" /></head>\n",
       "<body>\n",
       "    <div>            <script src=\"https://cdnjs.cloudflare.com/ajax/libs/mathjax/2.7.5/MathJax.js?config=TeX-AMS-MML_SVG\"></script><script type=\"text/javascript\">if (window.MathJax) {MathJax.Hub.Config({SVG: {font: \"STIX-Web\"}});}</script>                <script type=\"text/javascript\">window.PlotlyConfig = {MathJaxConfig: 'local'};</script>\n",
       "        <script src=\"https://cdn.plot.ly/plotly-2.8.3.min.js\"></script>                <div id=\"e658ec71-8b02-4d5e-a3fc-b21e61ce983d\" class=\"plotly-graph-div\" style=\"height:525px; width:100%;\"></div>            <script type=\"text/javascript\">                                    window.PLOTLYENV=window.PLOTLYENV || {};                                    if (document.getElementById(\"e658ec71-8b02-4d5e-a3fc-b21e61ce983d\")) {                    Plotly.newPlot(                        \"e658ec71-8b02-4d5e-a3fc-b21e61ce983d\",                        [{\"dimensions\":[{\"label\":\"Objective Value\",\"range\":[0.09488268688010554,0.09766592161647808],\"values\":[0.09559445171088067,0.09716563156736233,0.09549952154429096,0.09548440398918026,0.09655846396856832,0.09732448659403944,0.09624006078982418,0.0960248965507657,0.09562366058912021,0.09766592161647808,0.09569337866272237,0.09611032764197706,0.09549900581972265,0.09556379486258514,0.09524602110006056,0.0960917073450153,0.09536414228733929,0.0958327590155458,0.0961223196630297,0.09598316796348658,0.09658102377003942,0.09684186430373257,0.09620368037573535,0.09565798661130104,0.09690699250899606,0.09654761139760759,0.09578705841411274,0.09622616393547576,0.09598785946856699,0.09572995764858351,0.09582465891972403,0.0955188593741118,0.09569569838464377,0.09530215035390942,0.09713017306839479,0.09532183237148342,0.0955493180531173,0.09573738641762983,0.0958729871185666,0.0957183988402184,0.09525980530582183,0.0954676032002405,0.09529996652883072,0.0963763545715424,0.09601339648337524,0.09652400354672774,0.09609216258034323,0.09579271659478744,0.09593892434619215,0.0966576881722192,0.09602959635498226,0.09533972001855806,0.09577727158178087,0.09593056572877974,0.09554350389763684,0.09550769103249719,0.09660692088711885,0.09601294604838759,0.0958672345260298,0.09581579426266508,0.09608411113775855,0.09589360339367643,0.09614863370407391,0.09560153622303927,0.09558047947555115,0.09571806178089151,0.09558674558870564,0.09538164481014283,0.09594111875291064,0.09551244309200617,0.09558458391127737,0.09556239927701445,0.09589895009040487,0.09533790436195355,0.09587281059835172,0.09607903204856325,0.09535677462553745,0.09567711171693459,0.09488268688010554,0.09498226596027382,0.09567590248518562,0.09553982283377248,0.09593466151522352,0.09574047336808504,0.09521000996454705,0.09578910696946132,0.09553020175406256,0.09526110933450727,0.09584220092557096,0.09547421978906245,0.09563700396415534,0.09563612413349433,0.09544797278868578,0.09573499243423968,0.09565090994549422,0.09527570486119982,0.09570030898335907,0.09587051995283498,0.09546514326570389,0.09599518554012458]},{\"label\":\"learning_rate\",\"range\":[-2.8663507906940153,-0.05714775184524847],\"ticktext\":[\"0.00136\",\"0.01\",\"0.1\",\"0.877\"],\"tickvals\":[-2.8663507906940153,-2,-1,-0.05714775184524847],\"values\":[-1.3593325315639357,-2.6338503995093965,-1.6082747825697945,-0.22300835858200946,-0.2412445738213805,-0.16121964348174916,-1.2229472915248738,-0.4356043580645419,-1.5437805834615923,-2.528562541035368,-0.8234581641308768,-1.9764175328056883,-1.9725025797280107,-2.2120406098403467,-0.8848503426238128,-0.7683572876802907,-0.7911599211333918,-0.8600173335615213,-0.5355409600612185,-1.1255055868327786,-0.993574819017405,-0.06563546348150814,-0.5512135438566552,-0.39695099654243926,-0.05714775184524847,-0.6212493727424928,-0.9609974615206324,-0.33800939583062095,-0.6668143166863194,-1.345687064704402,-1.1596127095260365,-1.8116135205396489,-2.3475092339427905,-1.8789662191588397,-2.8663507906940153,-1.739203785219642,-1.4327482683753416,-1.6821418101511125,-1.7396856073544178,-2.0001515847502405,-1.3000704371138587,-1.3603267074733183,-1.5630166887839467,-1.5395758796428334,-1.8483393437925126,-2.135686658845613,-1.2643642529937333,-1.6212449454689275,-1.4688428741171486,-1.015682375434938,-2.3983754168235762,-1.927847302125771,-1.8855942022507264,-2.084578556247754,-1.7554431494112352,-1.6050417163181274,-2.18980713935275,-1.249224547626155,-1.9095446975879755,-2.3431461221154812,-1.9937297368707039,-0.7491510588274337,-0.8874706103578218,-1.0830903843026856,-1.658343951637613,-1.3215025646624738,-1.5043471820018934,-0.9196736458444033,-0.4931404880374668,-0.6816755728231132,-1.7773145143196343,-0.8948832896051457,-0.7833580954221362,-1.1769117135922065,-1.097780436391586,-1.1434409716978267,-1.4250140505782816,-1.4073039802486014,-1.235276303374889,-1.209213275826599,-1.0122987734994526,-1.2258761461217302,-1.5693776673003792,-1.312862531163266,-1.178293458492304,-1.1797499207149664,-1.0605064938303448,-1.6954545256630775,-1.7035180088817152,-1.5435672499396909,-1.4103285182737775,-1.2049616770958242,-1.350617700283729,-1.624805052738488,-1.2854508417938435,-1.4725786960686587,-1.5050304838123876,-1.8294337566381311,-1.7056850033591164,-2.0617986491341456]},{\"label\":\"max_depth\",\"range\":[3,10],\"values\":[9,7,8,10,9,5,3,5,7,4,10,8,10,10,10,9,8,8,6,9,6,10,8,9,10,7,9,10,8,9,9,10,10,10,9,8,8,7,6,7,8,8,7,5,7,6,3,7,8,4,9,8,8,7,8,9,8,7,5,10,6,8,9,8,9,8,7,10,9,10,8,10,10,10,9,9,10,10,10,10,10,10,10,10,10,10,10,10,9,10,9,10,10,10,10,10,9,4,10,6]},{\"label\":\"n_estimators\",\"range\":[115,1000],\"values\":[818,642,524,834,473,665,875,748,860,574,208,359,1000,994,993,931,752,702,115,393,767,897,799,943,845,737,593,927,682,820,796,998,996,944,892,953,946,933,503,889,625,641,605,614,429,495,257,552,861,444,702,633,541,969,620,665,331,557,731,782,583,643,709,836,971,919,759,966,607,518,677,969,876,917,814,912,948,953,870,847,867,853,920,896,889,902,821,982,980,1000,942,877,929,892,982,849,845,796,952,782]}],\"labelangle\":30,\"labelside\":\"bottom\",\"line\":{\"color\":[0.09559445171088067,0.09716563156736233,0.09549952154429096,0.09548440398918026,0.09655846396856832,0.09732448659403944,0.09624006078982418,0.0960248965507657,0.09562366058912021,0.09766592161647808,0.09569337866272237,0.09611032764197706,0.09549900581972265,0.09556379486258514,0.09524602110006056,0.0960917073450153,0.09536414228733929,0.0958327590155458,0.0961223196630297,0.09598316796348658,0.09658102377003942,0.09684186430373257,0.09620368037573535,0.09565798661130104,0.09690699250899606,0.09654761139760759,0.09578705841411274,0.09622616393547576,0.09598785946856699,0.09572995764858351,0.09582465891972403,0.0955188593741118,0.09569569838464377,0.09530215035390942,0.09713017306839479,0.09532183237148342,0.0955493180531173,0.09573738641762983,0.0958729871185666,0.0957183988402184,0.09525980530582183,0.0954676032002405,0.09529996652883072,0.0963763545715424,0.09601339648337524,0.09652400354672774,0.09609216258034323,0.09579271659478744,0.09593892434619215,0.0966576881722192,0.09602959635498226,0.09533972001855806,0.09577727158178087,0.09593056572877974,0.09554350389763684,0.09550769103249719,0.09660692088711885,0.09601294604838759,0.0958672345260298,0.09581579426266508,0.09608411113775855,0.09589360339367643,0.09614863370407391,0.09560153622303927,0.09558047947555115,0.09571806178089151,0.09558674558870564,0.09538164481014283,0.09594111875291064,0.09551244309200617,0.09558458391127737,0.09556239927701445,0.09589895009040487,0.09533790436195355,0.09587281059835172,0.09607903204856325,0.09535677462553745,0.09567711171693459,0.09488268688010554,0.09498226596027382,0.09567590248518562,0.09553982283377248,0.09593466151522352,0.09574047336808504,0.09521000996454705,0.09578910696946132,0.09553020175406256,0.09526110933450727,0.09584220092557096,0.09547421978906245,0.09563700396415534,0.09563612413349433,0.09544797278868578,0.09573499243423968,0.09565090994549422,0.09527570486119982,0.09570030898335907,0.09587051995283498,0.09546514326570389,0.09599518554012458],\"colorbar\":{\"title\":{\"text\":\"Objective Value\"}},\"colorscale\":[[0.0,\"rgb(247,251,255)\"],[0.125,\"rgb(222,235,247)\"],[0.25,\"rgb(198,219,239)\"],[0.375,\"rgb(158,202,225)\"],[0.5,\"rgb(107,174,214)\"],[0.625,\"rgb(66,146,198)\"],[0.75,\"rgb(33,113,181)\"],[0.875,\"rgb(8,81,156)\"],[1.0,\"rgb(8,48,107)\"]],\"reversescale\":true,\"showscale\":true},\"type\":\"parcoords\"}],                        {\"title\":{\"text\":\"Parallel Coordinate Plot\"},\"template\":{\"data\":{\"bar\":[{\"error_x\":{\"color\":\"#2a3f5f\"},\"error_y\":{\"color\":\"#2a3f5f\"},\"marker\":{\"line\":{\"color\":\"#E5ECF6\",\"width\":0.5},\"pattern\":{\"fillmode\":\"overlay\",\"size\":10,\"solidity\":0.2}},\"type\":\"bar\"}],\"barpolar\":[{\"marker\":{\"line\":{\"color\":\"#E5ECF6\",\"width\":0.5},\"pattern\":{\"fillmode\":\"overlay\",\"size\":10,\"solidity\":0.2}},\"type\":\"barpolar\"}],\"carpet\":[{\"aaxis\":{\"endlinecolor\":\"#2a3f5f\",\"gridcolor\":\"white\",\"linecolor\":\"white\",\"minorgridcolor\":\"white\",\"startlinecolor\":\"#2a3f5f\"},\"baxis\":{\"endlinecolor\":\"#2a3f5f\",\"gridcolor\":\"white\",\"linecolor\":\"white\",\"minorgridcolor\":\"white\",\"startlinecolor\":\"#2a3f5f\"},\"type\":\"carpet\"}],\"choropleth\":[{\"colorbar\":{\"outlinewidth\":0,\"ticks\":\"\"},\"type\":\"choropleth\"}],\"contour\":[{\"colorbar\":{\"outlinewidth\":0,\"ticks\":\"\"},\"colorscale\":[[0.0,\"#0d0887\"],[0.1111111111111111,\"#46039f\"],[0.2222222222222222,\"#7201a8\"],[0.3333333333333333,\"#9c179e\"],[0.4444444444444444,\"#bd3786\"],[0.5555555555555556,\"#d8576b\"],[0.6666666666666666,\"#ed7953\"],[0.7777777777777778,\"#fb9f3a\"],[0.8888888888888888,\"#fdca26\"],[1.0,\"#f0f921\"]],\"type\":\"contour\"}],\"contourcarpet\":[{\"colorbar\":{\"outlinewidth\":0,\"ticks\":\"\"},\"type\":\"contourcarpet\"}],\"heatmap\":[{\"colorbar\":{\"outlinewidth\":0,\"ticks\":\"\"},\"colorscale\":[[0.0,\"#0d0887\"],[0.1111111111111111,\"#46039f\"],[0.2222222222222222,\"#7201a8\"],[0.3333333333333333,\"#9c179e\"],[0.4444444444444444,\"#bd3786\"],[0.5555555555555556,\"#d8576b\"],[0.6666666666666666,\"#ed7953\"],[0.7777777777777778,\"#fb9f3a\"],[0.8888888888888888,\"#fdca26\"],[1.0,\"#f0f921\"]],\"type\":\"heatmap\"}],\"heatmapgl\":[{\"colorbar\":{\"outlinewidth\":0,\"ticks\":\"\"},\"colorscale\":[[0.0,\"#0d0887\"],[0.1111111111111111,\"#46039f\"],[0.2222222222222222,\"#7201a8\"],[0.3333333333333333,\"#9c179e\"],[0.4444444444444444,\"#bd3786\"],[0.5555555555555556,\"#d8576b\"],[0.6666666666666666,\"#ed7953\"],[0.7777777777777778,\"#fb9f3a\"],[0.8888888888888888,\"#fdca26\"],[1.0,\"#f0f921\"]],\"type\":\"heatmapgl\"}],\"histogram\":[{\"marker\":{\"pattern\":{\"fillmode\":\"overlay\",\"size\":10,\"solidity\":0.2}},\"type\":\"histogram\"}],\"histogram2d\":[{\"colorbar\":{\"outlinewidth\":0,\"ticks\":\"\"},\"colorscale\":[[0.0,\"#0d0887\"],[0.1111111111111111,\"#46039f\"],[0.2222222222222222,\"#7201a8\"],[0.3333333333333333,\"#9c179e\"],[0.4444444444444444,\"#bd3786\"],[0.5555555555555556,\"#d8576b\"],[0.6666666666666666,\"#ed7953\"],[0.7777777777777778,\"#fb9f3a\"],[0.8888888888888888,\"#fdca26\"],[1.0,\"#f0f921\"]],\"type\":\"histogram2d\"}],\"histogram2dcontour\":[{\"colorbar\":{\"outlinewidth\":0,\"ticks\":\"\"},\"colorscale\":[[0.0,\"#0d0887\"],[0.1111111111111111,\"#46039f\"],[0.2222222222222222,\"#7201a8\"],[0.3333333333333333,\"#9c179e\"],[0.4444444444444444,\"#bd3786\"],[0.5555555555555556,\"#d8576b\"],[0.6666666666666666,\"#ed7953\"],[0.7777777777777778,\"#fb9f3a\"],[0.8888888888888888,\"#fdca26\"],[1.0,\"#f0f921\"]],\"type\":\"histogram2dcontour\"}],\"mesh3d\":[{\"colorbar\":{\"outlinewidth\":0,\"ticks\":\"\"},\"type\":\"mesh3d\"}],\"parcoords\":[{\"line\":{\"colorbar\":{\"outlinewidth\":0,\"ticks\":\"\"}},\"type\":\"parcoords\"}],\"pie\":[{\"automargin\":true,\"type\":\"pie\"}],\"scatter\":[{\"marker\":{\"colorbar\":{\"outlinewidth\":0,\"ticks\":\"\"}},\"type\":\"scatter\"}],\"scatter3d\":[{\"line\":{\"colorbar\":{\"outlinewidth\":0,\"ticks\":\"\"}},\"marker\":{\"colorbar\":{\"outlinewidth\":0,\"ticks\":\"\"}},\"type\":\"scatter3d\"}],\"scattercarpet\":[{\"marker\":{\"colorbar\":{\"outlinewidth\":0,\"ticks\":\"\"}},\"type\":\"scattercarpet\"}],\"scattergeo\":[{\"marker\":{\"colorbar\":{\"outlinewidth\":0,\"ticks\":\"\"}},\"type\":\"scattergeo\"}],\"scattergl\":[{\"marker\":{\"colorbar\":{\"outlinewidth\":0,\"ticks\":\"\"}},\"type\":\"scattergl\"}],\"scattermapbox\":[{\"marker\":{\"colorbar\":{\"outlinewidth\":0,\"ticks\":\"\"}},\"type\":\"scattermapbox\"}],\"scatterpolar\":[{\"marker\":{\"colorbar\":{\"outlinewidth\":0,\"ticks\":\"\"}},\"type\":\"scatterpolar\"}],\"scatterpolargl\":[{\"marker\":{\"colorbar\":{\"outlinewidth\":0,\"ticks\":\"\"}},\"type\":\"scatterpolargl\"}],\"scatterternary\":[{\"marker\":{\"colorbar\":{\"outlinewidth\":0,\"ticks\":\"\"}},\"type\":\"scatterternary\"}],\"surface\":[{\"colorbar\":{\"outlinewidth\":0,\"ticks\":\"\"},\"colorscale\":[[0.0,\"#0d0887\"],[0.1111111111111111,\"#46039f\"],[0.2222222222222222,\"#7201a8\"],[0.3333333333333333,\"#9c179e\"],[0.4444444444444444,\"#bd3786\"],[0.5555555555555556,\"#d8576b\"],[0.6666666666666666,\"#ed7953\"],[0.7777777777777778,\"#fb9f3a\"],[0.8888888888888888,\"#fdca26\"],[1.0,\"#f0f921\"]],\"type\":\"surface\"}],\"table\":[{\"cells\":{\"fill\":{\"color\":\"#EBF0F8\"},\"line\":{\"color\":\"white\"}},\"header\":{\"fill\":{\"color\":\"#C8D4E3\"},\"line\":{\"color\":\"white\"}},\"type\":\"table\"}]},\"layout\":{\"annotationdefaults\":{\"arrowcolor\":\"#2a3f5f\",\"arrowhead\":0,\"arrowwidth\":1},\"autotypenumbers\":\"strict\",\"coloraxis\":{\"colorbar\":{\"outlinewidth\":0,\"ticks\":\"\"}},\"colorscale\":{\"diverging\":[[0,\"#8e0152\"],[0.1,\"#c51b7d\"],[0.2,\"#de77ae\"],[0.3,\"#f1b6da\"],[0.4,\"#fde0ef\"],[0.5,\"#f7f7f7\"],[0.6,\"#e6f5d0\"],[0.7,\"#b8e186\"],[0.8,\"#7fbc41\"],[0.9,\"#4d9221\"],[1,\"#276419\"]],\"sequential\":[[0.0,\"#0d0887\"],[0.1111111111111111,\"#46039f\"],[0.2222222222222222,\"#7201a8\"],[0.3333333333333333,\"#9c179e\"],[0.4444444444444444,\"#bd3786\"],[0.5555555555555556,\"#d8576b\"],[0.6666666666666666,\"#ed7953\"],[0.7777777777777778,\"#fb9f3a\"],[0.8888888888888888,\"#fdca26\"],[1.0,\"#f0f921\"]],\"sequentialminus\":[[0.0,\"#0d0887\"],[0.1111111111111111,\"#46039f\"],[0.2222222222222222,\"#7201a8\"],[0.3333333333333333,\"#9c179e\"],[0.4444444444444444,\"#bd3786\"],[0.5555555555555556,\"#d8576b\"],[0.6666666666666666,\"#ed7953\"],[0.7777777777777778,\"#fb9f3a\"],[0.8888888888888888,\"#fdca26\"],[1.0,\"#f0f921\"]]},\"colorway\":[\"#636efa\",\"#EF553B\",\"#00cc96\",\"#ab63fa\",\"#FFA15A\",\"#19d3f3\",\"#FF6692\",\"#B6E880\",\"#FF97FF\",\"#FECB52\"],\"font\":{\"color\":\"#2a3f5f\"},\"geo\":{\"bgcolor\":\"white\",\"lakecolor\":\"white\",\"landcolor\":\"#E5ECF6\",\"showlakes\":true,\"showland\":true,\"subunitcolor\":\"white\"},\"hoverlabel\":{\"align\":\"left\"},\"hovermode\":\"closest\",\"mapbox\":{\"style\":\"light\"},\"paper_bgcolor\":\"white\",\"plot_bgcolor\":\"#E5ECF6\",\"polar\":{\"angularaxis\":{\"gridcolor\":\"white\",\"linecolor\":\"white\",\"ticks\":\"\"},\"bgcolor\":\"#E5ECF6\",\"radialaxis\":{\"gridcolor\":\"white\",\"linecolor\":\"white\",\"ticks\":\"\"}},\"scene\":{\"xaxis\":{\"backgroundcolor\":\"#E5ECF6\",\"gridcolor\":\"white\",\"gridwidth\":2,\"linecolor\":\"white\",\"showbackground\":true,\"ticks\":\"\",\"zerolinecolor\":\"white\"},\"yaxis\":{\"backgroundcolor\":\"#E5ECF6\",\"gridcolor\":\"white\",\"gridwidth\":2,\"linecolor\":\"white\",\"showbackground\":true,\"ticks\":\"\",\"zerolinecolor\":\"white\"},\"zaxis\":{\"backgroundcolor\":\"#E5ECF6\",\"gridcolor\":\"white\",\"gridwidth\":2,\"linecolor\":\"white\",\"showbackground\":true,\"ticks\":\"\",\"zerolinecolor\":\"white\"}},\"shapedefaults\":{\"line\":{\"color\":\"#2a3f5f\"}},\"ternary\":{\"aaxis\":{\"gridcolor\":\"white\",\"linecolor\":\"white\",\"ticks\":\"\"},\"baxis\":{\"gridcolor\":\"white\",\"linecolor\":\"white\",\"ticks\":\"\"},\"bgcolor\":\"#E5ECF6\",\"caxis\":{\"gridcolor\":\"white\",\"linecolor\":\"white\",\"ticks\":\"\"}},\"title\":{\"x\":0.05},\"xaxis\":{\"automargin\":true,\"gridcolor\":\"white\",\"linecolor\":\"white\",\"ticks\":\"\",\"title\":{\"standoff\":15},\"zerolinecolor\":\"white\",\"zerolinewidth\":2},\"yaxis\":{\"automargin\":true,\"gridcolor\":\"white\",\"linecolor\":\"white\",\"ticks\":\"\",\"title\":{\"standoff\":15},\"zerolinecolor\":\"white\",\"zerolinewidth\":2}}}},                        {\"responsive\": true}                    ).then(function(){\n",
       "                            \n",
       "var gd = document.getElementById('e658ec71-8b02-4d5e-a3fc-b21e61ce983d');\n",
       "var x = new MutationObserver(function (mutations, observer) {{\n",
       "        var display = window.getComputedStyle(gd).display;\n",
       "        if (!display || display === 'none') {{\n",
       "            console.log([gd, 'removed!']);\n",
       "            Plotly.purge(gd);\n",
       "            observer.disconnect();\n",
       "        }}\n",
       "}});\n",
       "\n",
       "// Listen for the removal of the full notebook cells\n",
       "var notebookContainer = gd.closest('#notebook-container');\n",
       "if (notebookContainer) {{\n",
       "    x.observe(notebookContainer, {childList: true});\n",
       "}}\n",
       "\n",
       "// Listen for the clearing of the current output cell\n",
       "var outputEl = gd.closest('.output');\n",
       "if (outputEl) {{\n",
       "    x.observe(outputEl, {childList: true});\n",
       "}}\n",
       "\n",
       "                        })                };                            </script>        </div>\n",
       "</body>\n",
       "</html>"
      ]
     },
     "metadata": {},
     "output_type": "display_data"
    }
   ],
   "source": [
    "# 파라미터들과의 관계\n",
    "optuna.visualization.plot_parallel_coordinate(study)"
   ]
  },
  {
   "cell_type": "code",
   "execution_count": 28,
   "id": "PpmTdiF4py23",
   "metadata": {
    "colab": {
     "base_uri": "https://localhost:8080/",
     "height": 542
    },
    "executionInfo": {
     "elapsed": 1688,
     "status": "ok",
     "timestamp": 1669477552060,
     "user": {
      "displayName": "신웅재",
      "userId": "08301511488967665306"
     },
     "user_tz": -540
    },
    "id": "PpmTdiF4py23",
    "outputId": "c5e7304a-e769-4a93-c6ef-c1ead5980e3b"
   },
   "outputs": [
    {
     "data": {
      "text/html": [
       "<html>\n",
       "<head><meta charset=\"utf-8\" /></head>\n",
       "<body>\n",
       "    <div>            <script src=\"https://cdnjs.cloudflare.com/ajax/libs/mathjax/2.7.5/MathJax.js?config=TeX-AMS-MML_SVG\"></script><script type=\"text/javascript\">if (window.MathJax) {MathJax.Hub.Config({SVG: {font: \"STIX-Web\"}});}</script>                <script type=\"text/javascript\">window.PlotlyConfig = {MathJaxConfig: 'local'};</script>\n",
       "        <script src=\"https://cdn.plot.ly/plotly-2.8.3.min.js\"></script>                <div id=\"d98a0f03-dc23-4053-80c9-e7dc3aef8a2b\" class=\"plotly-graph-div\" style=\"height:525px; width:100%;\"></div>            <script type=\"text/javascript\">                                    window.PLOTLYENV=window.PLOTLYENV || {};                                    if (document.getElementById(\"d98a0f03-dc23-4053-80c9-e7dc3aef8a2b\")) {                    Plotly.newPlot(                        \"d98a0f03-dc23-4053-80c9-e7dc3aef8a2b\",                        [{\"cliponaxis\":false,\"hovertemplate\":[\"n_estimators (IntDistribution): 0.06977137383916826<extra></extra>\",\"max_depth (IntDistribution): 0.18716235426046013<extra></extra>\",\"learning_rate (FloatDistribution): 0.7430662719003716<extra></extra>\"],\"marker\":{\"color\":\"rgb(66,146,198)\"},\"orientation\":\"h\",\"text\":[\"0.07\",\"0.19\",\"0.74\"],\"textposition\":\"outside\",\"x\":[0.06977137383916826,0.18716235426046013,0.7430662719003716],\"y\":[\"n_estimators\",\"max_depth\",\"learning_rate\"],\"type\":\"bar\"}],                        {\"showlegend\":false,\"title\":{\"text\":\"Hyperparameter Importances\"},\"xaxis\":{\"title\":{\"text\":\"Importance for Objective Value\"}},\"yaxis\":{\"title\":{\"text\":\"Hyperparameter\"}},\"template\":{\"data\":{\"bar\":[{\"error_x\":{\"color\":\"#2a3f5f\"},\"error_y\":{\"color\":\"#2a3f5f\"},\"marker\":{\"line\":{\"color\":\"#E5ECF6\",\"width\":0.5},\"pattern\":{\"fillmode\":\"overlay\",\"size\":10,\"solidity\":0.2}},\"type\":\"bar\"}],\"barpolar\":[{\"marker\":{\"line\":{\"color\":\"#E5ECF6\",\"width\":0.5},\"pattern\":{\"fillmode\":\"overlay\",\"size\":10,\"solidity\":0.2}},\"type\":\"barpolar\"}],\"carpet\":[{\"aaxis\":{\"endlinecolor\":\"#2a3f5f\",\"gridcolor\":\"white\",\"linecolor\":\"white\",\"minorgridcolor\":\"white\",\"startlinecolor\":\"#2a3f5f\"},\"baxis\":{\"endlinecolor\":\"#2a3f5f\",\"gridcolor\":\"white\",\"linecolor\":\"white\",\"minorgridcolor\":\"white\",\"startlinecolor\":\"#2a3f5f\"},\"type\":\"carpet\"}],\"choropleth\":[{\"colorbar\":{\"outlinewidth\":0,\"ticks\":\"\"},\"type\":\"choropleth\"}],\"contour\":[{\"colorbar\":{\"outlinewidth\":0,\"ticks\":\"\"},\"colorscale\":[[0.0,\"#0d0887\"],[0.1111111111111111,\"#46039f\"],[0.2222222222222222,\"#7201a8\"],[0.3333333333333333,\"#9c179e\"],[0.4444444444444444,\"#bd3786\"],[0.5555555555555556,\"#d8576b\"],[0.6666666666666666,\"#ed7953\"],[0.7777777777777778,\"#fb9f3a\"],[0.8888888888888888,\"#fdca26\"],[1.0,\"#f0f921\"]],\"type\":\"contour\"}],\"contourcarpet\":[{\"colorbar\":{\"outlinewidth\":0,\"ticks\":\"\"},\"type\":\"contourcarpet\"}],\"heatmap\":[{\"colorbar\":{\"outlinewidth\":0,\"ticks\":\"\"},\"colorscale\":[[0.0,\"#0d0887\"],[0.1111111111111111,\"#46039f\"],[0.2222222222222222,\"#7201a8\"],[0.3333333333333333,\"#9c179e\"],[0.4444444444444444,\"#bd3786\"],[0.5555555555555556,\"#d8576b\"],[0.6666666666666666,\"#ed7953\"],[0.7777777777777778,\"#fb9f3a\"],[0.8888888888888888,\"#fdca26\"],[1.0,\"#f0f921\"]],\"type\":\"heatmap\"}],\"heatmapgl\":[{\"colorbar\":{\"outlinewidth\":0,\"ticks\":\"\"},\"colorscale\":[[0.0,\"#0d0887\"],[0.1111111111111111,\"#46039f\"],[0.2222222222222222,\"#7201a8\"],[0.3333333333333333,\"#9c179e\"],[0.4444444444444444,\"#bd3786\"],[0.5555555555555556,\"#d8576b\"],[0.6666666666666666,\"#ed7953\"],[0.7777777777777778,\"#fb9f3a\"],[0.8888888888888888,\"#fdca26\"],[1.0,\"#f0f921\"]],\"type\":\"heatmapgl\"}],\"histogram\":[{\"marker\":{\"pattern\":{\"fillmode\":\"overlay\",\"size\":10,\"solidity\":0.2}},\"type\":\"histogram\"}],\"histogram2d\":[{\"colorbar\":{\"outlinewidth\":0,\"ticks\":\"\"},\"colorscale\":[[0.0,\"#0d0887\"],[0.1111111111111111,\"#46039f\"],[0.2222222222222222,\"#7201a8\"],[0.3333333333333333,\"#9c179e\"],[0.4444444444444444,\"#bd3786\"],[0.5555555555555556,\"#d8576b\"],[0.6666666666666666,\"#ed7953\"],[0.7777777777777778,\"#fb9f3a\"],[0.8888888888888888,\"#fdca26\"],[1.0,\"#f0f921\"]],\"type\":\"histogram2d\"}],\"histogram2dcontour\":[{\"colorbar\":{\"outlinewidth\":0,\"ticks\":\"\"},\"colorscale\":[[0.0,\"#0d0887\"],[0.1111111111111111,\"#46039f\"],[0.2222222222222222,\"#7201a8\"],[0.3333333333333333,\"#9c179e\"],[0.4444444444444444,\"#bd3786\"],[0.5555555555555556,\"#d8576b\"],[0.6666666666666666,\"#ed7953\"],[0.7777777777777778,\"#fb9f3a\"],[0.8888888888888888,\"#fdca26\"],[1.0,\"#f0f921\"]],\"type\":\"histogram2dcontour\"}],\"mesh3d\":[{\"colorbar\":{\"outlinewidth\":0,\"ticks\":\"\"},\"type\":\"mesh3d\"}],\"parcoords\":[{\"line\":{\"colorbar\":{\"outlinewidth\":0,\"ticks\":\"\"}},\"type\":\"parcoords\"}],\"pie\":[{\"automargin\":true,\"type\":\"pie\"}],\"scatter\":[{\"marker\":{\"colorbar\":{\"outlinewidth\":0,\"ticks\":\"\"}},\"type\":\"scatter\"}],\"scatter3d\":[{\"line\":{\"colorbar\":{\"outlinewidth\":0,\"ticks\":\"\"}},\"marker\":{\"colorbar\":{\"outlinewidth\":0,\"ticks\":\"\"}},\"type\":\"scatter3d\"}],\"scattercarpet\":[{\"marker\":{\"colorbar\":{\"outlinewidth\":0,\"ticks\":\"\"}},\"type\":\"scattercarpet\"}],\"scattergeo\":[{\"marker\":{\"colorbar\":{\"outlinewidth\":0,\"ticks\":\"\"}},\"type\":\"scattergeo\"}],\"scattergl\":[{\"marker\":{\"colorbar\":{\"outlinewidth\":0,\"ticks\":\"\"}},\"type\":\"scattergl\"}],\"scattermapbox\":[{\"marker\":{\"colorbar\":{\"outlinewidth\":0,\"ticks\":\"\"}},\"type\":\"scattermapbox\"}],\"scatterpolar\":[{\"marker\":{\"colorbar\":{\"outlinewidth\":0,\"ticks\":\"\"}},\"type\":\"scatterpolar\"}],\"scatterpolargl\":[{\"marker\":{\"colorbar\":{\"outlinewidth\":0,\"ticks\":\"\"}},\"type\":\"scatterpolargl\"}],\"scatterternary\":[{\"marker\":{\"colorbar\":{\"outlinewidth\":0,\"ticks\":\"\"}},\"type\":\"scatterternary\"}],\"surface\":[{\"colorbar\":{\"outlinewidth\":0,\"ticks\":\"\"},\"colorscale\":[[0.0,\"#0d0887\"],[0.1111111111111111,\"#46039f\"],[0.2222222222222222,\"#7201a8\"],[0.3333333333333333,\"#9c179e\"],[0.4444444444444444,\"#bd3786\"],[0.5555555555555556,\"#d8576b\"],[0.6666666666666666,\"#ed7953\"],[0.7777777777777778,\"#fb9f3a\"],[0.8888888888888888,\"#fdca26\"],[1.0,\"#f0f921\"]],\"type\":\"surface\"}],\"table\":[{\"cells\":{\"fill\":{\"color\":\"#EBF0F8\"},\"line\":{\"color\":\"white\"}},\"header\":{\"fill\":{\"color\":\"#C8D4E3\"},\"line\":{\"color\":\"white\"}},\"type\":\"table\"}]},\"layout\":{\"annotationdefaults\":{\"arrowcolor\":\"#2a3f5f\",\"arrowhead\":0,\"arrowwidth\":1},\"autotypenumbers\":\"strict\",\"coloraxis\":{\"colorbar\":{\"outlinewidth\":0,\"ticks\":\"\"}},\"colorscale\":{\"diverging\":[[0,\"#8e0152\"],[0.1,\"#c51b7d\"],[0.2,\"#de77ae\"],[0.3,\"#f1b6da\"],[0.4,\"#fde0ef\"],[0.5,\"#f7f7f7\"],[0.6,\"#e6f5d0\"],[0.7,\"#b8e186\"],[0.8,\"#7fbc41\"],[0.9,\"#4d9221\"],[1,\"#276419\"]],\"sequential\":[[0.0,\"#0d0887\"],[0.1111111111111111,\"#46039f\"],[0.2222222222222222,\"#7201a8\"],[0.3333333333333333,\"#9c179e\"],[0.4444444444444444,\"#bd3786\"],[0.5555555555555556,\"#d8576b\"],[0.6666666666666666,\"#ed7953\"],[0.7777777777777778,\"#fb9f3a\"],[0.8888888888888888,\"#fdca26\"],[1.0,\"#f0f921\"]],\"sequentialminus\":[[0.0,\"#0d0887\"],[0.1111111111111111,\"#46039f\"],[0.2222222222222222,\"#7201a8\"],[0.3333333333333333,\"#9c179e\"],[0.4444444444444444,\"#bd3786\"],[0.5555555555555556,\"#d8576b\"],[0.6666666666666666,\"#ed7953\"],[0.7777777777777778,\"#fb9f3a\"],[0.8888888888888888,\"#fdca26\"],[1.0,\"#f0f921\"]]},\"colorway\":[\"#636efa\",\"#EF553B\",\"#00cc96\",\"#ab63fa\",\"#FFA15A\",\"#19d3f3\",\"#FF6692\",\"#B6E880\",\"#FF97FF\",\"#FECB52\"],\"font\":{\"color\":\"#2a3f5f\"},\"geo\":{\"bgcolor\":\"white\",\"lakecolor\":\"white\",\"landcolor\":\"#E5ECF6\",\"showlakes\":true,\"showland\":true,\"subunitcolor\":\"white\"},\"hoverlabel\":{\"align\":\"left\"},\"hovermode\":\"closest\",\"mapbox\":{\"style\":\"light\"},\"paper_bgcolor\":\"white\",\"plot_bgcolor\":\"#E5ECF6\",\"polar\":{\"angularaxis\":{\"gridcolor\":\"white\",\"linecolor\":\"white\",\"ticks\":\"\"},\"bgcolor\":\"#E5ECF6\",\"radialaxis\":{\"gridcolor\":\"white\",\"linecolor\":\"white\",\"ticks\":\"\"}},\"scene\":{\"xaxis\":{\"backgroundcolor\":\"#E5ECF6\",\"gridcolor\":\"white\",\"gridwidth\":2,\"linecolor\":\"white\",\"showbackground\":true,\"ticks\":\"\",\"zerolinecolor\":\"white\"},\"yaxis\":{\"backgroundcolor\":\"#E5ECF6\",\"gridcolor\":\"white\",\"gridwidth\":2,\"linecolor\":\"white\",\"showbackground\":true,\"ticks\":\"\",\"zerolinecolor\":\"white\"},\"zaxis\":{\"backgroundcolor\":\"#E5ECF6\",\"gridcolor\":\"white\",\"gridwidth\":2,\"linecolor\":\"white\",\"showbackground\":true,\"ticks\":\"\",\"zerolinecolor\":\"white\"}},\"shapedefaults\":{\"line\":{\"color\":\"#2a3f5f\"}},\"ternary\":{\"aaxis\":{\"gridcolor\":\"white\",\"linecolor\":\"white\",\"ticks\":\"\"},\"baxis\":{\"gridcolor\":\"white\",\"linecolor\":\"white\",\"ticks\":\"\"},\"bgcolor\":\"#E5ECF6\",\"caxis\":{\"gridcolor\":\"white\",\"linecolor\":\"white\",\"ticks\":\"\"}},\"title\":{\"x\":0.05},\"xaxis\":{\"automargin\":true,\"gridcolor\":\"white\",\"linecolor\":\"white\",\"ticks\":\"\",\"title\":{\"standoff\":15},\"zerolinecolor\":\"white\",\"zerolinewidth\":2},\"yaxis\":{\"automargin\":true,\"gridcolor\":\"white\",\"linecolor\":\"white\",\"ticks\":\"\",\"title\":{\"standoff\":15},\"zerolinecolor\":\"white\",\"zerolinewidth\":2}}}},                        {\"responsive\": true}                    ).then(function(){\n",
       "                            \n",
       "var gd = document.getElementById('d98a0f03-dc23-4053-80c9-e7dc3aef8a2b');\n",
       "var x = new MutationObserver(function (mutations, observer) {{\n",
       "        var display = window.getComputedStyle(gd).display;\n",
       "        if (!display || display === 'none') {{\n",
       "            console.log([gd, 'removed!']);\n",
       "            Plotly.purge(gd);\n",
       "            observer.disconnect();\n",
       "        }}\n",
       "}});\n",
       "\n",
       "// Listen for the removal of the full notebook cells\n",
       "var notebookContainer = gd.closest('#notebook-container');\n",
       "if (notebookContainer) {{\n",
       "    x.observe(notebookContainer, {childList: true});\n",
       "}}\n",
       "\n",
       "// Listen for the clearing of the current output cell\n",
       "var outputEl = gd.closest('.output');\n",
       "if (outputEl) {{\n",
       "    x.observe(outputEl, {childList: true});\n",
       "}}\n",
       "\n",
       "                        })                };                            </script>        </div>\n",
       "</body>\n",
       "</html>"
      ]
     },
     "metadata": {},
     "output_type": "display_data"
    }
   ],
   "source": [
    "# 하이퍼파라미터 중요도\n",
    "optuna.visualization.plot_param_importances(study)"
   ]
  },
  {
   "cell_type": "code",
   "execution_count": 67,
   "id": "efus-2THpy23",
   "metadata": {
    "colab": {
     "base_uri": "https://localhost:8080/"
    },
    "executionInfo": {
     "elapsed": 104109,
     "status": "ok",
     "timestamp": 1669478717772,
     "user": {
      "displayName": "신웅재",
      "userId": "08301511488967665306"
     },
     "user_tz": -540
    },
    "id": "efus-2THpy23",
    "outputId": "3f30427a-7e3b-4e8f-ea16-a7e05226d9cf"
   },
   "outputs": [
    {
     "name": "stdout",
     "output_type": "stream",
     "text": [
      "(14095,)\n",
      "(6041,)\n",
      "training model for CV #1\n",
      "training model for CV #2\n",
      "training model for CV #3\n",
      "training model for CV #4\n",
      "training model for CV #5\n"
     ]
    }
   ],
   "source": [
    "# test 데이터의 예측 불량률을 구한다.\n",
    "# 물론 음수 값도 있고 1보다 큰 값도 생겨날 것이다.\n",
    "# 이 모델은 0과 1 사이에 연속된 숫자값만 나오지는 않기 때문에 -> 회귀모형이다.\n",
    "\n",
    "n_fold = 5\n",
    "cv = KFold(n_splits = n_fold, shuffle = True, random_state = 39)\n",
    "\n",
    "cat_val = np.zeros((X_train2.shape[0]))\n",
    "cat_test = np.zeros((X_test.shape[0]))\n",
    "\n",
    "print(cat_val.shape)\n",
    "print(cat_test.shape)\n",
    "\n",
    "for i, (i_trn, i_val) in enumerate(cv.split(X_train2, y_train2), 1):\n",
    "    print(f'training model for CV #{i}')\n",
    "    optuna_cat = CatBoostRegressor(\n",
    "        random_state = 39,\n",
    "        learning_rate = 0.01310047432090872, \n",
    "        n_estimators = 848, \n",
    "        max_depth = 9)\n",
    "\n",
    "    optuna_cat.fit(X_train2.loc[i_trn, :], y_train2[i_trn], verbose = False, cat_features = categorical_features)\n",
    "\n",
    "    cat_val[i_val] = optuna_cat.predict(X_train2.loc[i_val, :])\n",
    "    cat_test += optuna_cat.predict(X_test) / n_fold"
   ]
  },
  {
   "cell_type": "code",
   "execution_count": 68,
   "id": "Kvyp4n8Gpy24",
   "metadata": {
    "colab": {
     "base_uri": "https://localhost:8080/",
     "height": 1000
    },
    "executionInfo": {
     "elapsed": 344,
     "status": "ok",
     "timestamp": 1669478720642,
     "user": {
      "displayName": "신웅재",
      "userId": "08301511488967665306"
     },
     "user_tz": -540
    },
    "id": "Kvyp4n8Gpy24",
    "outputId": "89b2bbf2-5aa3-4012-adde-0238eec7970d"
   },
   "outputs": [
    {
     "data": {
      "text/html": [
       "\n",
       "  <div id=\"df-f05ec4d6-7678-43e4-b492-ebca1ddfb6a3\">\n",
       "    <div class=\"colab-df-container\">\n",
       "      <div>\n",
       "<style scoped>\n",
       "    .dataframe tbody tr th:only-of-type {\n",
       "        vertical-align: middle;\n",
       "    }\n",
       "\n",
       "    .dataframe tbody tr th {\n",
       "        vertical-align: top;\n",
       "    }\n",
       "\n",
       "    .dataframe thead th {\n",
       "        text-align: right;\n",
       "    }\n",
       "</style>\n",
       "<table border=\"1\" class=\"dataframe\">\n",
       "  <thead>\n",
       "    <tr style=\"text-align: right;\">\n",
       "      <th></th>\n",
       "      <th>threshold</th>\n",
       "      <th>score</th>\n",
       "    </tr>\n",
       "  </thead>\n",
       "  <tbody>\n",
       "    <tr>\n",
       "      <th>0</th>\n",
       "      <td>0.00</td>\n",
       "      <td>0.157399</td>\n",
       "    </tr>\n",
       "    <tr>\n",
       "      <th>1</th>\n",
       "      <td>0.02</td>\n",
       "      <td>0.159931</td>\n",
       "    </tr>\n",
       "    <tr>\n",
       "      <th>2</th>\n",
       "      <td>0.04</td>\n",
       "      <td>0.176315</td>\n",
       "    </tr>\n",
       "    <tr>\n",
       "      <th>3</th>\n",
       "      <td>0.06</td>\n",
       "      <td>0.201603</td>\n",
       "    </tr>\n",
       "    <tr>\n",
       "      <th>4</th>\n",
       "      <td>0.08</td>\n",
       "      <td>0.229003</td>\n",
       "    </tr>\n",
       "    <tr>\n",
       "      <th>5</th>\n",
       "      <td>0.10</td>\n",
       "      <td>0.246230</td>\n",
       "    </tr>\n",
       "    <tr>\n",
       "      <th>6</th>\n",
       "      <td>0.12</td>\n",
       "      <td>0.262664</td>\n",
       "    </tr>\n",
       "    <tr>\n",
       "      <th>7</th>\n",
       "      <td>0.14</td>\n",
       "      <td>0.258419</td>\n",
       "    </tr>\n",
       "    <tr>\n",
       "      <th>8</th>\n",
       "      <td>0.16</td>\n",
       "      <td>0.223847</td>\n",
       "    </tr>\n",
       "    <tr>\n",
       "      <th>9</th>\n",
       "      <td>0.18</td>\n",
       "      <td>0.182014</td>\n",
       "    </tr>\n",
       "    <tr>\n",
       "      <th>10</th>\n",
       "      <td>0.20</td>\n",
       "      <td>0.157538</td>\n",
       "    </tr>\n",
       "    <tr>\n",
       "      <th>11</th>\n",
       "      <td>0.22</td>\n",
       "      <td>0.123557</td>\n",
       "    </tr>\n",
       "    <tr>\n",
       "      <th>12</th>\n",
       "      <td>0.24</td>\n",
       "      <td>0.101449</td>\n",
       "    </tr>\n",
       "    <tr>\n",
       "      <th>13</th>\n",
       "      <td>0.26</td>\n",
       "      <td>0.087349</td>\n",
       "    </tr>\n",
       "    <tr>\n",
       "      <th>14</th>\n",
       "      <td>0.28</td>\n",
       "      <td>0.063566</td>\n",
       "    </tr>\n",
       "    <tr>\n",
       "      <th>15</th>\n",
       "      <td>0.30</td>\n",
       "      <td>0.052464</td>\n",
       "    </tr>\n",
       "    <tr>\n",
       "      <th>16</th>\n",
       "      <td>0.32</td>\n",
       "      <td>0.048115</td>\n",
       "    </tr>\n",
       "    <tr>\n",
       "      <th>17</th>\n",
       "      <td>0.34</td>\n",
       "      <td>0.043548</td>\n",
       "    </tr>\n",
       "    <tr>\n",
       "      <th>18</th>\n",
       "      <td>0.36</td>\n",
       "      <td>0.040486</td>\n",
       "    </tr>\n",
       "    <tr>\n",
       "      <th>19</th>\n",
       "      <td>0.38</td>\n",
       "      <td>0.040519</td>\n",
       "    </tr>\n",
       "    <tr>\n",
       "      <th>20</th>\n",
       "      <td>0.40</td>\n",
       "      <td>0.039024</td>\n",
       "    </tr>\n",
       "    <tr>\n",
       "      <th>21</th>\n",
       "      <td>0.42</td>\n",
       "      <td>0.039056</td>\n",
       "    </tr>\n",
       "    <tr>\n",
       "      <th>22</th>\n",
       "      <td>0.44</td>\n",
       "      <td>0.039056</td>\n",
       "    </tr>\n",
       "    <tr>\n",
       "      <th>23</th>\n",
       "      <td>0.46</td>\n",
       "      <td>0.035860</td>\n",
       "    </tr>\n",
       "    <tr>\n",
       "      <th>24</th>\n",
       "      <td>0.48</td>\n",
       "      <td>0.035860</td>\n",
       "    </tr>\n",
       "    <tr>\n",
       "      <th>25</th>\n",
       "      <td>0.50</td>\n",
       "      <td>0.031046</td>\n",
       "    </tr>\n",
       "    <tr>\n",
       "      <th>26</th>\n",
       "      <td>0.52</td>\n",
       "      <td>0.027823</td>\n",
       "    </tr>\n",
       "    <tr>\n",
       "      <th>27</th>\n",
       "      <td>0.54</td>\n",
       "      <td>0.027823</td>\n",
       "    </tr>\n",
       "    <tr>\n",
       "      <th>28</th>\n",
       "      <td>0.56</td>\n",
       "      <td>0.027846</td>\n",
       "    </tr>\n",
       "    <tr>\n",
       "      <th>29</th>\n",
       "      <td>0.58</td>\n",
       "      <td>0.027846</td>\n",
       "    </tr>\n",
       "    <tr>\n",
       "      <th>30</th>\n",
       "      <td>0.60</td>\n",
       "      <td>0.026230</td>\n",
       "    </tr>\n",
       "    <tr>\n",
       "      <th>31</th>\n",
       "      <td>0.62</td>\n",
       "      <td>0.023007</td>\n",
       "    </tr>\n",
       "    <tr>\n",
       "      <th>32</th>\n",
       "      <td>0.64</td>\n",
       "      <td>0.023007</td>\n",
       "    </tr>\n",
       "    <tr>\n",
       "      <th>33</th>\n",
       "      <td>0.66</td>\n",
       "      <td>0.021382</td>\n",
       "    </tr>\n",
       "    <tr>\n",
       "      <th>34</th>\n",
       "      <td>0.68</td>\n",
       "      <td>0.014851</td>\n",
       "    </tr>\n",
       "    <tr>\n",
       "      <th>35</th>\n",
       "      <td>0.70</td>\n",
       "      <td>0.013212</td>\n",
       "    </tr>\n",
       "    <tr>\n",
       "      <th>36</th>\n",
       "      <td>0.72</td>\n",
       "      <td>0.013212</td>\n",
       "    </tr>\n",
       "    <tr>\n",
       "      <th>37</th>\n",
       "      <td>0.74</td>\n",
       "      <td>0.011570</td>\n",
       "    </tr>\n",
       "    <tr>\n",
       "      <th>38</th>\n",
       "      <td>0.76</td>\n",
       "      <td>0.011570</td>\n",
       "    </tr>\n",
       "    <tr>\n",
       "      <th>39</th>\n",
       "      <td>0.78</td>\n",
       "      <td>0.009926</td>\n",
       "    </tr>\n",
       "    <tr>\n",
       "      <th>40</th>\n",
       "      <td>0.80</td>\n",
       "      <td>0.009926</td>\n",
       "    </tr>\n",
       "    <tr>\n",
       "      <th>41</th>\n",
       "      <td>0.82</td>\n",
       "      <td>0.009926</td>\n",
       "    </tr>\n",
       "    <tr>\n",
       "      <th>42</th>\n",
       "      <td>0.84</td>\n",
       "      <td>0.008278</td>\n",
       "    </tr>\n",
       "    <tr>\n",
       "      <th>43</th>\n",
       "      <td>0.86</td>\n",
       "      <td>0.008278</td>\n",
       "    </tr>\n",
       "    <tr>\n",
       "      <th>44</th>\n",
       "      <td>0.88</td>\n",
       "      <td>0.003320</td>\n",
       "    </tr>\n",
       "    <tr>\n",
       "      <th>45</th>\n",
       "      <td>0.90</td>\n",
       "      <td>0.003320</td>\n",
       "    </tr>\n",
       "    <tr>\n",
       "      <th>46</th>\n",
       "      <td>0.92</td>\n",
       "      <td>0.001661</td>\n",
       "    </tr>\n",
       "    <tr>\n",
       "      <th>47</th>\n",
       "      <td>0.94</td>\n",
       "      <td>0.000000</td>\n",
       "    </tr>\n",
       "    <tr>\n",
       "      <th>48</th>\n",
       "      <td>0.96</td>\n",
       "      <td>0.000000</td>\n",
       "    </tr>\n",
       "    <tr>\n",
       "      <th>49</th>\n",
       "      <td>0.98</td>\n",
       "      <td>0.000000</td>\n",
       "    </tr>\n",
       "  </tbody>\n",
       "</table>\n",
       "</div>\n",
       "      <button class=\"colab-df-convert\" onclick=\"convertToInteractive('df-f05ec4d6-7678-43e4-b492-ebca1ddfb6a3')\"\n",
       "              title=\"Convert this dataframe to an interactive table.\"\n",
       "              style=\"display:none;\">\n",
       "        \n",
       "  <svg xmlns=\"http://www.w3.org/2000/svg\" height=\"24px\"viewBox=\"0 0 24 24\"\n",
       "       width=\"24px\">\n",
       "    <path d=\"M0 0h24v24H0V0z\" fill=\"none\"/>\n",
       "    <path d=\"M18.56 5.44l.94 2.06.94-2.06 2.06-.94-2.06-.94-.94-2.06-.94 2.06-2.06.94zm-11 1L8.5 8.5l.94-2.06 2.06-.94-2.06-.94L8.5 2.5l-.94 2.06-2.06.94zm10 10l.94 2.06.94-2.06 2.06-.94-2.06-.94-.94-2.06-.94 2.06-2.06.94z\"/><path d=\"M17.41 7.96l-1.37-1.37c-.4-.4-.92-.59-1.43-.59-.52 0-1.04.2-1.43.59L10.3 9.45l-7.72 7.72c-.78.78-.78 2.05 0 2.83L4 21.41c.39.39.9.59 1.41.59.51 0 1.02-.2 1.41-.59l7.78-7.78 2.81-2.81c.8-.78.8-2.07 0-2.86zM5.41 20L4 18.59l7.72-7.72 1.47 1.35L5.41 20z\"/>\n",
       "  </svg>\n",
       "      </button>\n",
       "      \n",
       "  <style>\n",
       "    .colab-df-container {\n",
       "      display:flex;\n",
       "      flex-wrap:wrap;\n",
       "      gap: 12px;\n",
       "    }\n",
       "\n",
       "    .colab-df-convert {\n",
       "      background-color: #E8F0FE;\n",
       "      border: none;\n",
       "      border-radius: 50%;\n",
       "      cursor: pointer;\n",
       "      display: none;\n",
       "      fill: #1967D2;\n",
       "      height: 32px;\n",
       "      padding: 0 0 0 0;\n",
       "      width: 32px;\n",
       "    }\n",
       "\n",
       "    .colab-df-convert:hover {\n",
       "      background-color: #E2EBFA;\n",
       "      box-shadow: 0px 1px 2px rgba(60, 64, 67, 0.3), 0px 1px 3px 1px rgba(60, 64, 67, 0.15);\n",
       "      fill: #174EA6;\n",
       "    }\n",
       "\n",
       "    [theme=dark] .colab-df-convert {\n",
       "      background-color: #3B4455;\n",
       "      fill: #D2E3FC;\n",
       "    }\n",
       "\n",
       "    [theme=dark] .colab-df-convert:hover {\n",
       "      background-color: #434B5C;\n",
       "      box-shadow: 0px 1px 3px 1px rgba(0, 0, 0, 0.15);\n",
       "      filter: drop-shadow(0px 1px 2px rgba(0, 0, 0, 0.3));\n",
       "      fill: #FFFFFF;\n",
       "    }\n",
       "  </style>\n",
       "\n",
       "      <script>\n",
       "        const buttonEl =\n",
       "          document.querySelector('#df-f05ec4d6-7678-43e4-b492-ebca1ddfb6a3 button.colab-df-convert');\n",
       "        buttonEl.style.display =\n",
       "          google.colab.kernel.accessAllowed ? 'block' : 'none';\n",
       "\n",
       "        async function convertToInteractive(key) {\n",
       "          const element = document.querySelector('#df-f05ec4d6-7678-43e4-b492-ebca1ddfb6a3');\n",
       "          const dataTable =\n",
       "            await google.colab.kernel.invokeFunction('convertToInteractive',\n",
       "                                                     [key], {});\n",
       "          if (!dataTable) return;\n",
       "\n",
       "          const docLinkHtml = 'Like what you see? Visit the ' +\n",
       "            '<a target=\"_blank\" href=https://colab.research.google.com/notebooks/data_table.ipynb>data table notebook</a>'\n",
       "            + ' to learn more about interactive tables.';\n",
       "          element.innerHTML = '';\n",
       "          dataTable['output_type'] = 'display_data';\n",
       "          await google.colab.output.renderOutput(dataTable, element);\n",
       "          const docLink = document.createElement('div');\n",
       "          docLink.innerHTML = docLinkHtml;\n",
       "          element.appendChild(docLink);\n",
       "        }\n",
       "      </script>\n",
       "    </div>\n",
       "  </div>\n",
       "  "
      ],
      "text/plain": [
       "    threshold     score\n",
       "0        0.00  0.157399\n",
       "1        0.02  0.159931\n",
       "2        0.04  0.176315\n",
       "3        0.06  0.201603\n",
       "4        0.08  0.229003\n",
       "5        0.10  0.246230\n",
       "6        0.12  0.262664\n",
       "7        0.14  0.258419\n",
       "8        0.16  0.223847\n",
       "9        0.18  0.182014\n",
       "10       0.20  0.157538\n",
       "11       0.22  0.123557\n",
       "12       0.24  0.101449\n",
       "13       0.26  0.087349\n",
       "14       0.28  0.063566\n",
       "15       0.30  0.052464\n",
       "16       0.32  0.048115\n",
       "17       0.34  0.043548\n",
       "18       0.36  0.040486\n",
       "19       0.38  0.040519\n",
       "20       0.40  0.039024\n",
       "21       0.42  0.039056\n",
       "22       0.44  0.039056\n",
       "23       0.46  0.035860\n",
       "24       0.48  0.035860\n",
       "25       0.50  0.031046\n",
       "26       0.52  0.027823\n",
       "27       0.54  0.027823\n",
       "28       0.56  0.027846\n",
       "29       0.58  0.027846\n",
       "30       0.60  0.026230\n",
       "31       0.62  0.023007\n",
       "32       0.64  0.023007\n",
       "33       0.66  0.021382\n",
       "34       0.68  0.014851\n",
       "35       0.70  0.013212\n",
       "36       0.72  0.013212\n",
       "37       0.74  0.011570\n",
       "38       0.76  0.011570\n",
       "39       0.78  0.009926\n",
       "40       0.80  0.009926\n",
       "41       0.82  0.009926\n",
       "42       0.84  0.008278\n",
       "43       0.86  0.008278\n",
       "44       0.88  0.003320\n",
       "45       0.90  0.003320\n",
       "46       0.92  0.001661\n",
       "47       0.94  0.000000\n",
       "48       0.96  0.000000\n",
       "49       0.98  0.000000"
      ]
     },
     "execution_count": 68,
     "metadata": {},
     "output_type": "execute_result"
    }
   ],
   "source": [
    "# 과연 불량을 판단하는 기준이 몇인지를\n",
    "# train 데이터로 먼저 판단을 해본 것이다.\n",
    "# 여기서는 0.22가 아니고 0.12일 때가 0.262664로 score(맞힌 확률)가 가장 높았다.\n",
    "\n",
    "scores = []\n",
    "for threshold in range(50) :\n",
    "    threshold = threshold / 50\n",
    "    pred = cat_val\n",
    "    pred = np.where(pred >= threshold, 1, 0)\n",
    "    score = f1_score(y_train, pred)\n",
    "    scores.append(score)\n",
    "\n",
    "temp1 = pd.DataFrame(np.linspace(0, 0.98, 50), columns = ['threshold'])\n",
    "temp2 = pd.DataFrame(scores, columns = ['score'])\n",
    "scores = pd.concat([temp1, temp2], axis = 1)\n",
    "scores"
   ]
  },
  {
   "cell_type": "code",
   "execution_count": 78,
   "id": "MptyofTFouEw",
   "metadata": {
    "colab": {
     "base_uri": "https://localhost:8080/"
    },
    "executionInfo": {
     "elapsed": 437,
     "status": "ok",
     "timestamp": 1669478800913,
     "user": {
      "displayName": "신웅재",
      "userId": "08301511488967665306"
     },
     "user_tz": -540
    },
    "id": "MptyofTFouEw",
    "outputId": "a229200d-369f-413c-df3e-00fec3f5e939"
   },
   "outputs": [
    {
     "name": "stdout",
     "output_type": "stream",
     "text": [
      "              precision    recall  f1-score   support\n",
      "\n",
      "           0       0.93      0.91      0.92     12892\n",
      "           1       0.23      0.29      0.26      1203\n",
      "\n",
      "    accuracy                           0.86     14095\n",
      "   macro avg       0.58      0.60      0.59     14095\n",
      "weighted avg       0.87      0.86      0.86     14095\n",
      "\n",
      "[[11716  1176]\n",
      " [  850   353]]\n"
     ]
    }
   ],
   "source": [
    "temp = np.zeros(cat_val.shape[0])\n",
    "\n",
    "for i in range(cat_val.shape[0]) :\n",
    "  if cat_val[i] >= 0.14 :\n",
    "    temp[i] = 1\n",
    "\n",
    "print(classification_report(y_train, temp))\n",
    "print(confusion_matrix(y_train, temp))"
   ]
  },
  {
   "cell_type": "code",
   "execution_count": 87,
   "id": "0rlOtNkMemZn",
   "metadata": {
    "colab": {
     "base_uri": "https://localhost:8080/"
    },
    "executionInfo": {
     "elapsed": 604,
     "status": "ok",
     "timestamp": 1669478879565,
     "user": {
      "displayName": "신웅재",
      "userId": "08301511488967665306"
     },
     "user_tz": -540
    },
    "id": "0rlOtNkMemZn",
    "outputId": "3cd45822-e03a-4901-bd00-843ed6225cdf"
   },
   "outputs": [
    {
     "data": {
      "text/plain": [
       "Counter({0.0: 5546, 1.0: 495})"
      ]
     },
     "execution_count": 87,
     "metadata": {},
     "output_type": "execute_result"
    }
   ],
   "source": [
    "# 하지만 test 데이터에서 0.12로 해보니까\n",
    "# 불량 값이 1000개가 넘어갔다.\n",
    "# 따라서 0.12는 아니지만 그 부근이겠거니 싶었다.\n",
    "# 그래서 0.15정도로 해서 500개 정도에 가깝게 나오게 했다.\n",
    "answer = np.zeros(cat_test.shape[0])\n",
    "\n",
    "for i in range(cat_test.shape[0]) :\n",
    "  if cat_test[i] >= 0.152 :\n",
    "    answer[i] = 1\n",
    "\n",
    "Counter(answer)"
   ]
  },
  {
   "cell_type": "code",
   "execution_count": 88,
   "id": "XWrw-zoIemZn",
   "metadata": {
    "executionInfo": {
     "elapsed": 451,
     "status": "ok",
     "timestamp": 1669478891382,
     "user": {
      "displayName": "신웅재",
      "userId": "08301511488967665306"
     },
     "user_tz": -540
    },
    "id": "XWrw-zoIemZn"
   },
   "outputs": [],
   "source": [
    "# 제출\n",
    "# 그랬더니 등수가 3등으로 올라가더라\n",
    "# 물론 10분만에 4등으로 내려왔다.\n",
    "\n",
    "submission_preds = answer\n",
    "submission = pd.read_csv('/content/drive/MyDrive/Colab Notebooks/공모전/건설기계 오일 상태 분류 AI 경진대회/open/sample_submission.csv')\n",
    "submission['Y_LABEL'] = submission_preds\n",
    "submission.to_csv('/content/drive/MyDrive/Colab Notebooks/공모전/건설기계 오일 상태 분류 AI 경진대회/결과/submission_catboost6.csv', index = False)"
   ]
  },
  {
   "cell_type": "code",
   "execution_count": 89,
   "id": "bibUYsBF1Xcs",
   "metadata": {
    "executionInfo": {
     "elapsed": 389,
     "status": "ok",
     "timestamp": 1669478894070,
     "user": {
      "displayName": "신웅재",
      "userId": "08301511488967665306"
     },
     "user_tz": -540
    },
    "id": "bibUYsBF1Xcs"
   },
   "outputs": [],
   "source": [
    "cat_test = pd.DataFrame(cat_test)"
   ]
  },
  {
   "cell_type": "code",
   "execution_count": null,
   "id": "Z0lShCg2emZo",
   "metadata": {
    "id": "Z0lShCg2emZo"
   },
   "outputs": [],
   "source": [
    "cat_test.to_csv('/content/drive/MyDrive/Colab Notebooks/공모전/건설기계 오일 상태 분류 AI 경진대회/prob 저장용/submission_catboost3_test_prob.csv', index = False)"
   ]
  },
  {
   "cell_type": "code",
   "execution_count": null,
   "id": "jEJ5tKCD1VNB",
   "metadata": {
    "id": "jEJ5tKCD1VNB"
   },
   "outputs": [],
   "source": []
  }
 ],
 "metadata": {
  "colab": {
   "collapsed_sections": [
    "I7NsucoimacC"
   ],
   "provenance": []
  },
  "gpuClass": "standard",
  "kernelspec": {
   "display_name": "Python 3 (ipykernel)",
   "language": "python",
   "name": "python3"
  },
  "language_info": {
   "codemirror_mode": {
    "name": "ipython",
    "version": 3
   },
   "file_extension": ".py",
   "mimetype": "text/x-python",
   "name": "python",
   "nbconvert_exporter": "python",
   "pygments_lexer": "ipython3",
   "version": "3.9.13"
  }
 },
 "nbformat": 4,
 "nbformat_minor": 5
}
