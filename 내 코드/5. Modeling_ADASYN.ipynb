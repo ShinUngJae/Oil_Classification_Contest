{
 "cells": [
  {
   "cell_type": "markdown",
   "id": "zWzj1-XWrnE0",
   "metadata": {
    "id": "zWzj1-XWrnE0"
   },
   "source": [
    "# 0. 패키지 불러오기"
   ]
  },
  {
   "cell_type": "code",
   "execution_count": 1,
   "id": "d30dc2cf-6fa1-4a29-80ca-96c189b13de7",
   "metadata": {},
   "outputs": [
    {
     "name": "stdout",
     "output_type": "stream",
     "text": [
      "Requirement already satisfied: pandas in /home/studio-lab-user/.conda/envs/default/lib/python3.9/site-packages (1.5.1)\n",
      "Requirement already satisfied: numpy>=1.20.3 in /home/studio-lab-user/.conda/envs/default/lib/python3.9/site-packages (from pandas) (1.23.4)\n",
      "Requirement already satisfied: pytz>=2020.1 in /home/studio-lab-user/.conda/envs/default/lib/python3.9/site-packages (from pandas) (2022.6)\n",
      "Requirement already satisfied: python-dateutil>=2.8.1 in /home/studio-lab-user/.conda/envs/default/lib/python3.9/site-packages (from pandas) (2.8.2)\n",
      "Requirement already satisfied: six>=1.5 in /home/studio-lab-user/.conda/envs/default/lib/python3.9/site-packages (from python-dateutil>=2.8.1->pandas) (1.16.0)\n",
      "Requirement already satisfied: numpy in /home/studio-lab-user/.conda/envs/default/lib/python3.9/site-packages (1.23.4)\n",
      "Requirement already satisfied: catboost in /home/studio-lab-user/.conda/envs/default/lib/python3.9/site-packages (1.1.1)\n",
      "Requirement already satisfied: plotly in /home/studio-lab-user/.conda/envs/default/lib/python3.9/site-packages (from catboost) (5.11.0)\n",
      "Requirement already satisfied: numpy>=1.16.0 in /home/studio-lab-user/.conda/envs/default/lib/python3.9/site-packages (from catboost) (1.23.4)\n",
      "Requirement already satisfied: pandas>=0.24.0 in /home/studio-lab-user/.conda/envs/default/lib/python3.9/site-packages (from catboost) (1.5.1)\n",
      "Requirement already satisfied: matplotlib in /home/studio-lab-user/.conda/envs/default/lib/python3.9/site-packages (from catboost) (3.6.2)\n",
      "Requirement already satisfied: scipy in /home/studio-lab-user/.conda/envs/default/lib/python3.9/site-packages (from catboost) (1.8.1)\n",
      "Requirement already satisfied: graphviz in /home/studio-lab-user/.conda/envs/default/lib/python3.9/site-packages (from catboost) (0.20.1)\n",
      "Requirement already satisfied: six in /home/studio-lab-user/.conda/envs/default/lib/python3.9/site-packages (from catboost) (1.16.0)\n",
      "Requirement already satisfied: pytz>=2020.1 in /home/studio-lab-user/.conda/envs/default/lib/python3.9/site-packages (from pandas>=0.24.0->catboost) (2022.6)\n",
      "Requirement already satisfied: python-dateutil>=2.8.1 in /home/studio-lab-user/.conda/envs/default/lib/python3.9/site-packages (from pandas>=0.24.0->catboost) (2.8.2)\n",
      "Requirement already satisfied: kiwisolver>=1.0.1 in /home/studio-lab-user/.conda/envs/default/lib/python3.9/site-packages (from matplotlib->catboost) (1.4.4)\n",
      "Requirement already satisfied: fonttools>=4.22.0 in /home/studio-lab-user/.conda/envs/default/lib/python3.9/site-packages (from matplotlib->catboost) (4.38.0)\n",
      "Requirement already satisfied: pillow>=6.2.0 in /home/studio-lab-user/.conda/envs/default/lib/python3.9/site-packages (from matplotlib->catboost) (9.3.0)\n",
      "Requirement already satisfied: packaging>=20.0 in /home/studio-lab-user/.conda/envs/default/lib/python3.9/site-packages (from matplotlib->catboost) (21.3)\n",
      "Requirement already satisfied: contourpy>=1.0.1 in /home/studio-lab-user/.conda/envs/default/lib/python3.9/site-packages (from matplotlib->catboost) (1.0.6)\n",
      "Requirement already satisfied: pyparsing>=2.2.1 in /home/studio-lab-user/.conda/envs/default/lib/python3.9/site-packages (from matplotlib->catboost) (3.0.9)\n",
      "Requirement already satisfied: cycler>=0.10 in /home/studio-lab-user/.conda/envs/default/lib/python3.9/site-packages (from matplotlib->catboost) (0.11.0)\n",
      "Requirement already satisfied: tenacity>=6.2.0 in /home/studio-lab-user/.conda/envs/default/lib/python3.9/site-packages (from plotly->catboost) (8.1.0)\n",
      "Requirement already satisfied: lightgbm in /home/studio-lab-user/.conda/envs/default/lib/python3.9/site-packages (3.3.3)\n",
      "Requirement already satisfied: scipy in /home/studio-lab-user/.conda/envs/default/lib/python3.9/site-packages (from lightgbm) (1.8.1)\n",
      "Requirement already satisfied: wheel in /home/studio-lab-user/.conda/envs/default/lib/python3.9/site-packages (from lightgbm) (0.37.1)\n",
      "Requirement already satisfied: scikit-learn!=0.22.0 in /home/studio-lab-user/.conda/envs/default/lib/python3.9/site-packages (from lightgbm) (1.1.3)\n",
      "Requirement already satisfied: numpy in /home/studio-lab-user/.conda/envs/default/lib/python3.9/site-packages (from lightgbm) (1.23.4)\n",
      "Requirement already satisfied: threadpoolctl>=2.0.0 in /home/studio-lab-user/.conda/envs/default/lib/python3.9/site-packages (from scikit-learn!=0.22.0->lightgbm) (3.1.0)\n",
      "Requirement already satisfied: joblib>=1.0.0 in /home/studio-lab-user/.conda/envs/default/lib/python3.9/site-packages (from scikit-learn!=0.22.0->lightgbm) (1.2.0)\n",
      "Requirement already satisfied: category_encoders in /home/studio-lab-user/.conda/envs/default/lib/python3.9/site-packages (2.5.1.post0)\n",
      "Requirement already satisfied: patsy>=0.5.1 in /home/studio-lab-user/.conda/envs/default/lib/python3.9/site-packages (from category_encoders) (0.5.3)\n",
      "Requirement already satisfied: numpy>=1.14.0 in /home/studio-lab-user/.conda/envs/default/lib/python3.9/site-packages (from category_encoders) (1.23.4)\n",
      "Requirement already satisfied: pandas>=1.0.5 in /home/studio-lab-user/.conda/envs/default/lib/python3.9/site-packages (from category_encoders) (1.5.1)\n",
      "Requirement already satisfied: scikit-learn>=0.20.0 in /home/studio-lab-user/.conda/envs/default/lib/python3.9/site-packages (from category_encoders) (1.1.3)\n",
      "Requirement already satisfied: statsmodels>=0.9.0 in /home/studio-lab-user/.conda/envs/default/lib/python3.9/site-packages (from category_encoders) (0.13.5)\n",
      "Requirement already satisfied: scipy>=1.0.0 in /home/studio-lab-user/.conda/envs/default/lib/python3.9/site-packages (from category_encoders) (1.8.1)\n",
      "Requirement already satisfied: pytz>=2020.1 in /home/studio-lab-user/.conda/envs/default/lib/python3.9/site-packages (from pandas>=1.0.5->category_encoders) (2022.6)\n",
      "Requirement already satisfied: python-dateutil>=2.8.1 in /home/studio-lab-user/.conda/envs/default/lib/python3.9/site-packages (from pandas>=1.0.5->category_encoders) (2.8.2)\n",
      "Requirement already satisfied: six in /home/studio-lab-user/.conda/envs/default/lib/python3.9/site-packages (from patsy>=0.5.1->category_encoders) (1.16.0)\n",
      "Requirement already satisfied: threadpoolctl>=2.0.0 in /home/studio-lab-user/.conda/envs/default/lib/python3.9/site-packages (from scikit-learn>=0.20.0->category_encoders) (3.1.0)\n",
      "Requirement already satisfied: joblib>=1.0.0 in /home/studio-lab-user/.conda/envs/default/lib/python3.9/site-packages (from scikit-learn>=0.20.0->category_encoders) (1.2.0)\n",
      "Requirement already satisfied: packaging>=21.3 in /home/studio-lab-user/.conda/envs/default/lib/python3.9/site-packages (from statsmodels>=0.9.0->category_encoders) (21.3)\n",
      "Requirement already satisfied: pyparsing!=3.0.5,>=2.0.2 in /home/studio-lab-user/.conda/envs/default/lib/python3.9/site-packages (from packaging>=21.3->statsmodels>=0.9.0->category_encoders) (3.0.9)\n",
      "Requirement already satisfied: optuna in /home/studio-lab-user/.conda/envs/default/lib/python3.9/site-packages (3.0.3)\n",
      "Requirement already satisfied: tqdm in /home/studio-lab-user/.conda/envs/default/lib/python3.9/site-packages (from optuna) (4.64.1)\n",
      "Requirement already satisfied: alembic>=1.5.0 in /home/studio-lab-user/.conda/envs/default/lib/python3.9/site-packages (from optuna) (1.8.1)\n",
      "Requirement already satisfied: cmaes>=0.8.2 in /home/studio-lab-user/.conda/envs/default/lib/python3.9/site-packages (from optuna) (0.9.0)\n",
      "Requirement already satisfied: PyYAML in /home/studio-lab-user/.conda/envs/default/lib/python3.9/site-packages (from optuna) (6.0)\n",
      "Requirement already satisfied: colorlog in /home/studio-lab-user/.conda/envs/default/lib/python3.9/site-packages (from optuna) (6.7.0)\n",
      "Requirement already satisfied: importlib-metadata<5.0.0 in /home/studio-lab-user/.conda/envs/default/lib/python3.9/site-packages (from optuna) (4.11.4)\n",
      "Requirement already satisfied: scipy<1.9.0,>=1.7.0 in /home/studio-lab-user/.conda/envs/default/lib/python3.9/site-packages (from optuna) (1.8.1)\n",
      "Requirement already satisfied: packaging>=20.0 in /home/studio-lab-user/.conda/envs/default/lib/python3.9/site-packages (from optuna) (21.3)\n",
      "Requirement already satisfied: sqlalchemy>=1.3.0 in /home/studio-lab-user/.conda/envs/default/lib/python3.9/site-packages (from optuna) (1.4.44)\n",
      "Requirement already satisfied: cliff in /home/studio-lab-user/.conda/envs/default/lib/python3.9/site-packages (from optuna) (4.1.0)\n",
      "Requirement already satisfied: numpy in /home/studio-lab-user/.conda/envs/default/lib/python3.9/site-packages (from optuna) (1.23.4)\n",
      "Requirement already satisfied: Mako in /home/studio-lab-user/.conda/envs/default/lib/python3.9/site-packages (from alembic>=1.5.0->optuna) (1.2.4)\n",
      "Requirement already satisfied: zipp>=0.5 in /home/studio-lab-user/.conda/envs/default/lib/python3.9/site-packages (from importlib-metadata<5.0.0->optuna) (3.9.0)\n",
      "Requirement already satisfied: pyparsing!=3.0.5,>=2.0.2 in /home/studio-lab-user/.conda/envs/default/lib/python3.9/site-packages (from packaging>=20.0->optuna) (3.0.9)\n",
      "Requirement already satisfied: greenlet!=0.4.17 in /home/studio-lab-user/.conda/envs/default/lib/python3.9/site-packages (from sqlalchemy>=1.3.0->optuna) (2.0.1)\n",
      "Requirement already satisfied: autopage>=0.4.0 in /home/studio-lab-user/.conda/envs/default/lib/python3.9/site-packages (from cliff->optuna) (0.5.1)\n",
      "Requirement already satisfied: PrettyTable>=0.7.2 in /home/studio-lab-user/.conda/envs/default/lib/python3.9/site-packages (from cliff->optuna) (3.5.0)\n",
      "Requirement already satisfied: cmd2>=1.0.0 in /home/studio-lab-user/.conda/envs/default/lib/python3.9/site-packages (from cliff->optuna) (2.4.2)\n",
      "Requirement already satisfied: stevedore>=2.0.1 in /home/studio-lab-user/.conda/envs/default/lib/python3.9/site-packages (from cliff->optuna) (4.1.1)\n",
      "Requirement already satisfied: pyperclip>=1.6 in /home/studio-lab-user/.conda/envs/default/lib/python3.9/site-packages (from cmd2>=1.0.0->cliff->optuna) (1.8.2)\n",
      "Requirement already satisfied: wcwidth>=0.1.7 in /home/studio-lab-user/.conda/envs/default/lib/python3.9/site-packages (from cmd2>=1.0.0->cliff->optuna) (0.2.5)\n",
      "Requirement already satisfied: attrs>=16.3.0 in /home/studio-lab-user/.conda/envs/default/lib/python3.9/site-packages (from cmd2>=1.0.0->cliff->optuna) (22.1.0)\n",
      "Requirement already satisfied: pbr!=2.1.0,>=2.0.0 in /home/studio-lab-user/.conda/envs/default/lib/python3.9/site-packages (from stevedore>=2.0.1->cliff->optuna) (5.11.0)\n",
      "Requirement already satisfied: MarkupSafe>=0.9.2 in /home/studio-lab-user/.conda/envs/default/lib/python3.9/site-packages (from Mako->alembic>=1.5.0->optuna) (2.1.1)\n",
      "Requirement already satisfied: seaborn in /home/studio-lab-user/.conda/envs/default/lib/python3.9/site-packages (0.12.1)\n",
      "Requirement already satisfied: numpy>=1.17 in /home/studio-lab-user/.conda/envs/default/lib/python3.9/site-packages (from seaborn) (1.23.4)\n",
      "Requirement already satisfied: pandas>=0.25 in /home/studio-lab-user/.conda/envs/default/lib/python3.9/site-packages (from seaborn) (1.5.1)\n",
      "Requirement already satisfied: matplotlib!=3.6.1,>=3.1 in /home/studio-lab-user/.conda/envs/default/lib/python3.9/site-packages (from seaborn) (3.6.2)\n",
      "Requirement already satisfied: pillow>=6.2.0 in /home/studio-lab-user/.conda/envs/default/lib/python3.9/site-packages (from matplotlib!=3.6.1,>=3.1->seaborn) (9.3.0)\n",
      "Requirement already satisfied: fonttools>=4.22.0 in /home/studio-lab-user/.conda/envs/default/lib/python3.9/site-packages (from matplotlib!=3.6.1,>=3.1->seaborn) (4.38.0)\n",
      "Requirement already satisfied: kiwisolver>=1.0.1 in /home/studio-lab-user/.conda/envs/default/lib/python3.9/site-packages (from matplotlib!=3.6.1,>=3.1->seaborn) (1.4.4)\n",
      "Requirement already satisfied: packaging>=20.0 in /home/studio-lab-user/.conda/envs/default/lib/python3.9/site-packages (from matplotlib!=3.6.1,>=3.1->seaborn) (21.3)\n",
      "Requirement already satisfied: python-dateutil>=2.7 in /home/studio-lab-user/.conda/envs/default/lib/python3.9/site-packages (from matplotlib!=3.6.1,>=3.1->seaborn) (2.8.2)\n",
      "Requirement already satisfied: contourpy>=1.0.1 in /home/studio-lab-user/.conda/envs/default/lib/python3.9/site-packages (from matplotlib!=3.6.1,>=3.1->seaborn) (1.0.6)\n",
      "Requirement already satisfied: cycler>=0.10 in /home/studio-lab-user/.conda/envs/default/lib/python3.9/site-packages (from matplotlib!=3.6.1,>=3.1->seaborn) (0.11.0)\n",
      "Requirement already satisfied: pyparsing>=2.2.1 in /home/studio-lab-user/.conda/envs/default/lib/python3.9/site-packages (from matplotlib!=3.6.1,>=3.1->seaborn) (3.0.9)\n",
      "Requirement already satisfied: pytz>=2020.1 in /home/studio-lab-user/.conda/envs/default/lib/python3.9/site-packages (from pandas>=0.25->seaborn) (2022.6)\n",
      "Requirement already satisfied: six>=1.5 in /home/studio-lab-user/.conda/envs/default/lib/python3.9/site-packages (from python-dateutil>=2.7->matplotlib!=3.6.1,>=3.1->seaborn) (1.16.0)\n",
      "Requirement already satisfied: matplot in /home/studio-lab-user/.conda/envs/default/lib/python3.9/site-packages (0.1.9)\n",
      "Requirement already satisfied: pyloco>=0.0.134 in /home/studio-lab-user/.conda/envs/default/lib/python3.9/site-packages (from matplot) (0.0.139)\n",
      "Requirement already satisfied: matplotlib>=3.1.1 in /home/studio-lab-user/.conda/envs/default/lib/python3.9/site-packages (from matplot) (3.6.2)\n",
      "Requirement already satisfied: kiwisolver>=1.0.1 in /home/studio-lab-user/.conda/envs/default/lib/python3.9/site-packages (from matplotlib>=3.1.1->matplot) (1.4.4)\n",
      "Requirement already satisfied: fonttools>=4.22.0 in /home/studio-lab-user/.conda/envs/default/lib/python3.9/site-packages (from matplotlib>=3.1.1->matplot) (4.38.0)\n",
      "Requirement already satisfied: numpy>=1.19 in /home/studio-lab-user/.conda/envs/default/lib/python3.9/site-packages (from matplotlib>=3.1.1->matplot) (1.23.4)\n",
      "Requirement already satisfied: packaging>=20.0 in /home/studio-lab-user/.conda/envs/default/lib/python3.9/site-packages (from matplotlib>=3.1.1->matplot) (21.3)\n",
      "Requirement already satisfied: pillow>=6.2.0 in /home/studio-lab-user/.conda/envs/default/lib/python3.9/site-packages (from matplotlib>=3.1.1->matplot) (9.3.0)\n",
      "Requirement already satisfied: pyparsing>=2.2.1 in /home/studio-lab-user/.conda/envs/default/lib/python3.9/site-packages (from matplotlib>=3.1.1->matplot) (3.0.9)\n",
      "Requirement already satisfied: contourpy>=1.0.1 in /home/studio-lab-user/.conda/envs/default/lib/python3.9/site-packages (from matplotlib>=3.1.1->matplot) (1.0.6)\n",
      "Requirement already satisfied: python-dateutil>=2.7 in /home/studio-lab-user/.conda/envs/default/lib/python3.9/site-packages (from matplotlib>=3.1.1->matplot) (2.8.2)\n",
      "Requirement already satisfied: cycler>=0.10 in /home/studio-lab-user/.conda/envs/default/lib/python3.9/site-packages (from matplotlib>=3.1.1->matplot) (0.11.0)\n",
      "Requirement already satisfied: ushlex in /home/studio-lab-user/.conda/envs/default/lib/python3.9/site-packages (from pyloco>=0.0.134->matplot) (0.99.1)\n",
      "Requirement already satisfied: websocket-client in /home/studio-lab-user/.conda/envs/default/lib/python3.9/site-packages (from pyloco>=0.0.134->matplot) (1.4.2)\n",
      "Requirement already satisfied: typing in /home/studio-lab-user/.conda/envs/default/lib/python3.9/site-packages (from pyloco>=0.0.134->matplot) (3.7.4.3)\n",
      "Requirement already satisfied: twine in /home/studio-lab-user/.conda/envs/default/lib/python3.9/site-packages (from pyloco>=0.0.134->matplot) (4.0.1)\n",
      "Requirement already satisfied: SimpleWebSocketServer in /home/studio-lab-user/.conda/envs/default/lib/python3.9/site-packages (from pyloco>=0.0.134->matplot) (0.1.2)\n",
      "Requirement already satisfied: six>=1.5 in /home/studio-lab-user/.conda/envs/default/lib/python3.9/site-packages (from python-dateutil>=2.7->matplotlib>=3.1.1->matplot) (1.16.0)\n",
      "Requirement already satisfied: importlib-metadata>=3.6 in /home/studio-lab-user/.conda/envs/default/lib/python3.9/site-packages (from twine->pyloco>=0.0.134->matplot) (4.11.4)\n",
      "Requirement already satisfied: rfc3986>=1.4.0 in /home/studio-lab-user/.conda/envs/default/lib/python3.9/site-packages (from twine->pyloco>=0.0.134->matplot) (2.0.0)\n",
      "Requirement already satisfied: rich>=12.0.0 in /home/studio-lab-user/.conda/envs/default/lib/python3.9/site-packages (from twine->pyloco>=0.0.134->matplot) (12.6.0)\n",
      "Requirement already satisfied: requests>=2.20 in /home/studio-lab-user/.conda/envs/default/lib/python3.9/site-packages (from twine->pyloco>=0.0.134->matplot) (2.28.1)\n",
      "Requirement already satisfied: readme-renderer>=35.0 in /home/studio-lab-user/.conda/envs/default/lib/python3.9/site-packages (from twine->pyloco>=0.0.134->matplot) (37.3)\n",
      "Requirement already satisfied: keyring>=15.1 in /home/studio-lab-user/.conda/envs/default/lib/python3.9/site-packages (from twine->pyloco>=0.0.134->matplot) (23.11.0)\n",
      "Requirement already satisfied: urllib3>=1.26.0 in /home/studio-lab-user/.conda/envs/default/lib/python3.9/site-packages (from twine->pyloco>=0.0.134->matplot) (1.26.12)\n",
      "Requirement already satisfied: pkginfo>=1.8.1 in /home/studio-lab-user/.conda/envs/default/lib/python3.9/site-packages (from twine->pyloco>=0.0.134->matplot) (1.8.3)\n",
      "Requirement already satisfied: requests-toolbelt!=0.9.0,>=0.8.0 in /home/studio-lab-user/.conda/envs/default/lib/python3.9/site-packages (from twine->pyloco>=0.0.134->matplot) (0.10.1)\n",
      "Requirement already satisfied: zipp>=0.5 in /home/studio-lab-user/.conda/envs/default/lib/python3.9/site-packages (from importlib-metadata>=3.6->twine->pyloco>=0.0.134->matplot) (3.9.0)\n",
      "Requirement already satisfied: jaraco.classes in /home/studio-lab-user/.conda/envs/default/lib/python3.9/site-packages (from keyring>=15.1->twine->pyloco>=0.0.134->matplot) (3.2.3)\n",
      "Requirement already satisfied: SecretStorage>=3.2 in /home/studio-lab-user/.conda/envs/default/lib/python3.9/site-packages (from keyring>=15.1->twine->pyloco>=0.0.134->matplot) (3.3.3)\n",
      "Requirement already satisfied: jeepney>=0.4.2 in /home/studio-lab-user/.conda/envs/default/lib/python3.9/site-packages (from keyring>=15.1->twine->pyloco>=0.0.134->matplot) (0.8.0)\n",
      "Requirement already satisfied: docutils>=0.13.1 in /home/studio-lab-user/.conda/envs/default/lib/python3.9/site-packages (from readme-renderer>=35.0->twine->pyloco>=0.0.134->matplot) (0.19)\n",
      "Requirement already satisfied: Pygments>=2.5.1 in /home/studio-lab-user/.conda/envs/default/lib/python3.9/site-packages (from readme-renderer>=35.0->twine->pyloco>=0.0.134->matplot) (2.13.0)\n",
      "Requirement already satisfied: bleach>=2.1.0 in /home/studio-lab-user/.conda/envs/default/lib/python3.9/site-packages (from readme-renderer>=35.0->twine->pyloco>=0.0.134->matplot) (5.0.1)\n",
      "Requirement already satisfied: webencodings in /home/studio-lab-user/.conda/envs/default/lib/python3.9/site-packages (from bleach>=2.1.0->readme-renderer>=35.0->twine->pyloco>=0.0.134->matplot) (0.5.1)\n",
      "Requirement already satisfied: charset-normalizer<3,>=2 in /home/studio-lab-user/.conda/envs/default/lib/python3.9/site-packages (from requests>=2.20->twine->pyloco>=0.0.134->matplot) (2.1.1)\n",
      "Requirement already satisfied: idna<4,>=2.5 in /home/studio-lab-user/.conda/envs/default/lib/python3.9/site-packages (from requests>=2.20->twine->pyloco>=0.0.134->matplot) (3.4)\n",
      "Requirement already satisfied: certifi>=2017.4.17 in /home/studio-lab-user/.conda/envs/default/lib/python3.9/site-packages (from requests>=2.20->twine->pyloco>=0.0.134->matplot) (2022.9.24)\n",
      "Requirement already satisfied: commonmark<0.10.0,>=0.9.0 in /home/studio-lab-user/.conda/envs/default/lib/python3.9/site-packages (from rich>=12.0.0->twine->pyloco>=0.0.134->matplot) (0.9.1)\n",
      "Requirement already satisfied: cryptography>=2.0 in /home/studio-lab-user/.conda/envs/default/lib/python3.9/site-packages (from SecretStorage>=3.2->keyring>=15.1->twine->pyloco>=0.0.134->matplot) (38.0.3)\n",
      "Requirement already satisfied: cffi>=1.12 in /home/studio-lab-user/.conda/envs/default/lib/python3.9/site-packages (from cryptography>=2.0->SecretStorage>=3.2->keyring>=15.1->twine->pyloco>=0.0.134->matplot) (1.15.1)\n",
      "Requirement already satisfied: pycparser in /home/studio-lab-user/.conda/envs/default/lib/python3.9/site-packages (from cffi>=1.12->cryptography>=2.0->SecretStorage>=3.2->keyring>=15.1->twine->pyloco>=0.0.134->matplot) (2.21)\n",
      "Requirement already satisfied: more-itertools in /home/studio-lab-user/.conda/envs/default/lib/python3.9/site-packages (from jaraco.classes->keyring>=15.1->twine->pyloco>=0.0.134->matplot) (9.0.0)\n",
      "Requirement already satisfied: imblearn in /home/studio-lab-user/.conda/envs/default/lib/python3.9/site-packages (0.0)\n",
      "Requirement already satisfied: imbalanced-learn in /home/studio-lab-user/.conda/envs/default/lib/python3.9/site-packages (from imblearn) (0.9.1)\n",
      "Requirement already satisfied: joblib>=1.0.0 in /home/studio-lab-user/.conda/envs/default/lib/python3.9/site-packages (from imbalanced-learn->imblearn) (1.2.0)\n",
      "Requirement already satisfied: scikit-learn>=1.1.0 in /home/studio-lab-user/.conda/envs/default/lib/python3.9/site-packages (from imbalanced-learn->imblearn) (1.1.3)\n",
      "Requirement already satisfied: numpy>=1.17.3 in /home/studio-lab-user/.conda/envs/default/lib/python3.9/site-packages (from imbalanced-learn->imblearn) (1.23.4)\n",
      "Requirement already satisfied: scipy>=1.3.2 in /home/studio-lab-user/.conda/envs/default/lib/python3.9/site-packages (from imbalanced-learn->imblearn) (1.8.1)\n",
      "Requirement already satisfied: threadpoolctl>=2.0.0 in /home/studio-lab-user/.conda/envs/default/lib/python3.9/site-packages (from imbalanced-learn->imblearn) (3.1.0)\n"
     ]
    }
   ],
   "source": [
    "!pip install pandas\n",
    "!pip install numpy\n",
    "!pip install catboost\n",
    "!pip install lightgbm\n",
    "!pip install category_encoders\n",
    "!pip install optuna\n",
    "!pip install seaborn\n",
    "!pip install matplot\n",
    "!pip install imblearn"
   ]
  },
  {
   "cell_type": "code",
   "execution_count": 2,
   "id": "ESfNDxF0ro0Z",
   "metadata": {
    "executionInfo": {
     "elapsed": 2,
     "status": "ok",
     "timestamp": 1668066865801,
     "user": {
      "displayName": "신웅재",
      "userId": "10740416681947312578"
     },
     "user_tz": -540
    },
    "id": "ESfNDxF0ro0Z"
   },
   "outputs": [],
   "source": [
    "import pandas as pd\n",
    "import numpy as np\n",
    "import plotly.express as px\n",
    "import plotly.graph_objects as go\n",
    "from plotly.subplots import make_subplots\n",
    "import plotly.figure_factory as ff\n",
    "import math\n",
    "import seaborn as sns\n",
    "import matplotlib.pyplot as plt\n",
    "\n",
    "from sklearn.ensemble import * # ExtraTreesRegressor, RandomForestClassifier\n",
    "from sklearn.model_selection import * # KFold, cross_val_score, train_test_split\n",
    "from sklearn.metrics import *  # make_scorer : MSE 대신 사용자가 정의한 손실함수를 사용하고 싶을 때\n",
    "from sklearn.preprocessing import * # LabelEncoder, StandardScaler\n",
    "from sklearn.svm import * # SVC, SVR\n",
    "from sklearn.inspection import *\n",
    "from sklearn.linear_model import * # LogisticRegression, RANSACRegressor, Ridge, Lasso, ElasticNet\n",
    "from sklearn.decomposition import * # PCA\n",
    "\n",
    "from category_encoders.ordinal import OrdinalEncoder\n",
    "from catboost import *\n",
    "from sklearn.cluster import KMeans\n",
    "from kmodes.kmodes import KModes\n",
    "import optuna\n",
    "from optuna import Trial\n",
    "from optuna.samplers import TPESampler\n",
    "import random\n",
    "from imblearn.over_sampling import SMOTE, ADASYN\n",
    "\n",
    "from lightgbm import *\n",
    "from datetime import datetime\n",
    "import calendar\n",
    "from collections import *\n",
    "\n",
    "import warnings\n",
    "warnings.filterwarnings(action = 'ignore') # 경고메세지를 무시하거나 숨긴다."
   ]
  },
  {
   "cell_type": "code",
   "execution_count": 3,
   "id": "34b28ab3-0db8-475c-aa7e-384906e9b5e0",
   "metadata": {},
   "outputs": [
    {
     "name": "stdout",
     "output_type": "stream",
     "text": [
      "'Construction Machine Oil'  'Getting Started.ipynb'   images\n"
     ]
    }
   ],
   "source": [
    "!ls '/home/studio-lab-user/MYDATA'"
   ]
  },
  {
   "cell_type": "code",
   "execution_count": 4,
   "id": "abf2835e-429d-4cc8-bb31-dcac16015d77",
   "metadata": {},
   "outputs": [
    {
     "name": "stdout",
     "output_type": "stream",
     "text": [
      "data_info.xlsx\tsample_submission.csv  test.csv  train.csv\n"
     ]
    }
   ],
   "source": [
    "!ls '/home/studio-lab-user/MYDATA/Construction Machine Oil/open/'"
   ]
  },
  {
   "cell_type": "code",
   "execution_count": 5,
   "id": "950cfd3e-e36f-42f6-a0cf-341b57022149",
   "metadata": {},
   "outputs": [
    {
     "name": "stdout",
     "output_type": "stream",
     "text": [
      "(14095, 54)\n",
      "761130\n",
      "(6041, 19)\n",
      "114779\n"
     ]
    },
    {
     "data": {
      "text/html": [
       "<div>\n",
       "<style scoped>\n",
       "    .dataframe tbody tr th:only-of-type {\n",
       "        vertical-align: middle;\n",
       "    }\n",
       "\n",
       "    .dataframe tbody tr th {\n",
       "        vertical-align: top;\n",
       "    }\n",
       "\n",
       "    .dataframe thead th {\n",
       "        text-align: right;\n",
       "    }\n",
       "</style>\n",
       "<table border=\"1\" class=\"dataframe\">\n",
       "  <thead>\n",
       "    <tr style=\"text-align: right;\">\n",
       "      <th></th>\n",
       "      <th>ID</th>\n",
       "      <th>COMPONENT_ARBITRARY</th>\n",
       "      <th>ANONYMOUS_1</th>\n",
       "      <th>YEAR</th>\n",
       "      <th>SAMPLE_TRANSFER_DAY</th>\n",
       "      <th>ANONYMOUS_2</th>\n",
       "      <th>AG</th>\n",
       "      <th>AL</th>\n",
       "      <th>B</th>\n",
       "      <th>BA</th>\n",
       "      <th>...</th>\n",
       "      <th>U25</th>\n",
       "      <th>U20</th>\n",
       "      <th>U14</th>\n",
       "      <th>U6</th>\n",
       "      <th>U4</th>\n",
       "      <th>V</th>\n",
       "      <th>V100</th>\n",
       "      <th>V40</th>\n",
       "      <th>ZN</th>\n",
       "      <th>Y_LABEL</th>\n",
       "    </tr>\n",
       "  </thead>\n",
       "  <tbody>\n",
       "    <tr>\n",
       "      <th>0</th>\n",
       "      <td>TRAIN_00000</td>\n",
       "      <td>COMPONENT3</td>\n",
       "      <td>1486</td>\n",
       "      <td>2011</td>\n",
       "      <td>7</td>\n",
       "      <td>200</td>\n",
       "      <td>0</td>\n",
       "      <td>3</td>\n",
       "      <td>93</td>\n",
       "      <td>0</td>\n",
       "      <td>...</td>\n",
       "      <td>NaN</td>\n",
       "      <td>NaN</td>\n",
       "      <td>NaN</td>\n",
       "      <td>NaN</td>\n",
       "      <td>NaN</td>\n",
       "      <td>0</td>\n",
       "      <td>NaN</td>\n",
       "      <td>154.0</td>\n",
       "      <td>75</td>\n",
       "      <td>0</td>\n",
       "    </tr>\n",
       "    <tr>\n",
       "      <th>1</th>\n",
       "      <td>TRAIN_00001</td>\n",
       "      <td>COMPONENT2</td>\n",
       "      <td>1350</td>\n",
       "      <td>2021</td>\n",
       "      <td>51</td>\n",
       "      <td>375</td>\n",
       "      <td>0</td>\n",
       "      <td>2</td>\n",
       "      <td>19</td>\n",
       "      <td>0</td>\n",
       "      <td>...</td>\n",
       "      <td>2.0</td>\n",
       "      <td>4.0</td>\n",
       "      <td>6.0</td>\n",
       "      <td>216.0</td>\n",
       "      <td>1454.0</td>\n",
       "      <td>0</td>\n",
       "      <td>NaN</td>\n",
       "      <td>44.0</td>\n",
       "      <td>652</td>\n",
       "      <td>0</td>\n",
       "    </tr>\n",
       "    <tr>\n",
       "      <th>2</th>\n",
       "      <td>TRAIN_00002</td>\n",
       "      <td>COMPONENT2</td>\n",
       "      <td>2415</td>\n",
       "      <td>2015</td>\n",
       "      <td>2</td>\n",
       "      <td>200</td>\n",
       "      <td>0</td>\n",
       "      <td>110</td>\n",
       "      <td>1</td>\n",
       "      <td>1</td>\n",
       "      <td>...</td>\n",
       "      <td>0.0</td>\n",
       "      <td>3.0</td>\n",
       "      <td>39.0</td>\n",
       "      <td>11261.0</td>\n",
       "      <td>41081.0</td>\n",
       "      <td>0</td>\n",
       "      <td>NaN</td>\n",
       "      <td>72.6</td>\n",
       "      <td>412</td>\n",
       "      <td>1</td>\n",
       "    </tr>\n",
       "    <tr>\n",
       "      <th>3</th>\n",
       "      <td>TRAIN_00003</td>\n",
       "      <td>COMPONENT3</td>\n",
       "      <td>7389</td>\n",
       "      <td>2010</td>\n",
       "      <td>2</td>\n",
       "      <td>200</td>\n",
       "      <td>0</td>\n",
       "      <td>8</td>\n",
       "      <td>3</td>\n",
       "      <td>0</td>\n",
       "      <td>...</td>\n",
       "      <td>NaN</td>\n",
       "      <td>NaN</td>\n",
       "      <td>NaN</td>\n",
       "      <td>NaN</td>\n",
       "      <td>NaN</td>\n",
       "      <td>0</td>\n",
       "      <td>NaN</td>\n",
       "      <td>133.3</td>\n",
       "      <td>7</td>\n",
       "      <td>0</td>\n",
       "    </tr>\n",
       "    <tr>\n",
       "      <th>4</th>\n",
       "      <td>TRAIN_00004</td>\n",
       "      <td>COMPONENT3</td>\n",
       "      <td>3954</td>\n",
       "      <td>2015</td>\n",
       "      <td>4</td>\n",
       "      <td>200</td>\n",
       "      <td>0</td>\n",
       "      <td>1</td>\n",
       "      <td>157</td>\n",
       "      <td>0</td>\n",
       "      <td>...</td>\n",
       "      <td>NaN</td>\n",
       "      <td>NaN</td>\n",
       "      <td>NaN</td>\n",
       "      <td>NaN</td>\n",
       "      <td>NaN</td>\n",
       "      <td>0</td>\n",
       "      <td>NaN</td>\n",
       "      <td>133.1</td>\n",
       "      <td>128</td>\n",
       "      <td>0</td>\n",
       "    </tr>\n",
       "  </tbody>\n",
       "</table>\n",
       "<p>5 rows × 54 columns</p>\n",
       "</div>"
      ],
      "text/plain": [
       "            ID COMPONENT_ARBITRARY  ANONYMOUS_1  YEAR  SAMPLE_TRANSFER_DAY  \\\n",
       "0  TRAIN_00000          COMPONENT3         1486  2011                    7   \n",
       "1  TRAIN_00001          COMPONENT2         1350  2021                   51   \n",
       "2  TRAIN_00002          COMPONENT2         2415  2015                    2   \n",
       "3  TRAIN_00003          COMPONENT3         7389  2010                    2   \n",
       "4  TRAIN_00004          COMPONENT3         3954  2015                    4   \n",
       "\n",
       "   ANONYMOUS_2  AG   AL    B  BA  ...  U25  U20   U14       U6       U4  V  \\\n",
       "0          200   0    3   93   0  ...  NaN  NaN   NaN      NaN      NaN  0   \n",
       "1          375   0    2   19   0  ...  2.0  4.0   6.0    216.0   1454.0  0   \n",
       "2          200   0  110    1   1  ...  0.0  3.0  39.0  11261.0  41081.0  0   \n",
       "3          200   0    8    3   0  ...  NaN  NaN   NaN      NaN      NaN  0   \n",
       "4          200   0    1  157   0  ...  NaN  NaN   NaN      NaN      NaN  0   \n",
       "\n",
       "   V100    V40   ZN  Y_LABEL  \n",
       "0   NaN  154.0   75        0  \n",
       "1   NaN   44.0  652        0  \n",
       "2   NaN   72.6  412        1  \n",
       "3   NaN  133.3    7        0  \n",
       "4   NaN  133.1  128        0  \n",
       "\n",
       "[5 rows x 54 columns]"
      ]
     },
     "execution_count": 5,
     "metadata": {},
     "output_type": "execute_result"
    }
   ],
   "source": [
    "path = '/home/studio-lab-user/MYDATA/Construction Machine Oil/open/'\n",
    "\n",
    "Rdata_train = pd.read_csv(path + 'train.csv')\n",
    "Rdata_test = pd.read_csv(path + 'test.csv')\n",
    "\n",
    "print(Rdata_train.shape) # (14095, 54) -> 생각보다 데이터 수가 적다.\n",
    "print(Rdata_train.size)\n",
    "print(Rdata_test.shape) # (6041, 19)\n",
    "print(Rdata_test.size)\n",
    "Rdata_train.head()"
   ]
  },
  {
   "cell_type": "code",
   "execution_count": 6,
   "id": "36f1b26e-367f-4754-813e-08adef014849",
   "metadata": {},
   "outputs": [],
   "source": [
    "train1 = Rdata_train.copy()\n",
    "test1 = Rdata_test.copy()"
   ]
  },
  {
   "cell_type": "code",
   "execution_count": 7,
   "id": "26bb3a1b-8ad6-40ab-aecd-9d342e0ec12e",
   "metadata": {},
   "outputs": [],
   "source": [
    "# print(train1.loc[:, train1.notnull().sum(axis = 0) == 14095].columns) # 35개\n",
    "# notnull_columns = train1.loc[:, train1.notnull().sum(axis = 0) == 14095].columns"
   ]
  },
  {
   "cell_type": "code",
   "execution_count": 8,
   "id": "30d8b744-fd37-4e8f-94cd-9f1ff4fa6d04",
   "metadata": {},
   "outputs": [
    {
     "name": "stdout",
     "output_type": "stream",
     "text": [
      "(14095, 21)\n",
      "(6041, 18)\n",
      "Index(['COMPONENT_ARBITRARY', 'YEAR', 'ANONYMOUS_1', 'ANONYMOUS_2', 'AG', 'CO',\n",
      "       'CR', 'CU', 'FE', 'H2O', 'MN', 'MO', 'NI', 'PQINDEX', 'TI', 'V', 'V40',\n",
      "       'ZN', 'AL', 'BA', 'Y_LABEL'],\n",
      "      dtype='object')\n"
     ]
    }
   ],
   "source": [
    "train2 = train1.loc[:, ['COMPONENT_ARBITRARY', 'YEAR', 'ANONYMOUS_1', 'ANONYMOUS_2', 'AG', 'CO', 'CR', 'CU', \n",
    "                    'FE', 'H2O', 'MN', 'MO', 'NI', 'PQINDEX', 'TI', 'V', 'V40', 'ZN', 'AL', 'BA', 'Y_LABEL']]\n",
    "test2 = test1.drop(['ID'], axis = 1)\n",
    "\n",
    "print(train2.shape) # 변수 21개\n",
    "print(test2.shape) # 변수 18개\n",
    "print(train2.columns)"
   ]
  },
  {
   "cell_type": "code",
   "execution_count": 9,
   "id": "aa897bf5-2d5b-44a1-b1dc-66ea6974a9d5",
   "metadata": {},
   "outputs": [],
   "source": [
    "le1 = LabelEncoder()\n",
    "le2 = LabelEncoder()\n",
    "\n",
    "train2['COMPONENT_ARBITRARY_category'] = le1.fit_transform(train2['COMPONENT_ARBITRARY'])\n",
    "train2['YEAR_category'] = le2.fit_transform(train2['YEAR'])\n",
    "\n",
    "test2['COMPONENT_ARBITRARY_category'] = le1.transform(test2['COMPONENT_ARBITRARY'])\n",
    "test2['YEAR_category'] = le2.transform(test2['YEAR'])\n",
    "\n",
    "train3 = train2.drop(['COMPONENT_ARBITRARY', 'YEAR'], axis = 1)\n",
    "test3 = test2.drop(['COMPONENT_ARBITRARY', 'YEAR'], axis = 1)"
   ]
  },
  {
   "cell_type": "code",
   "execution_count": 10,
   "id": "938ebd5f-14b2-41ab-9e9f-cb7b028dfef2",
   "metadata": {},
   "outputs": [
    {
     "name": "stdout",
     "output_type": "stream",
     "text": [
      "(14095, 21)\n",
      "(6041, 18)\n",
      "2\n",
      "31\n",
      "16\n"
     ]
    }
   ],
   "source": [
    "categorical_features = ['COMPONENT_ARBITRARY_category', 'YEAR_category']\n",
    "numeric_features_train = ['ANONYMOUS_1', 'SAMPLE_TRANSFER_DAY',\n",
    "                           'ANONYMOUS_2', 'AG', 'AL', 'B', 'BA', 'BE', 'CA', 'CO', 'CR', 'CU',\n",
    "                           'FE', 'H2O', 'LI', 'MG', 'MN', 'MO', 'NA', 'NI', 'P', 'PB', 'PQINDEX',\n",
    "                           'S', 'SB', 'SI', 'SN', 'TI', 'V', 'V40', 'ZN']\n",
    "\n",
    "numeric_features_test = ['ANONYMOUS_1', 'ANONYMOUS_2', 'AG', 'CO', 'CR', 'CU', \n",
    "                    'FE', 'H2O', 'MN', 'MO', 'NI', 'PQINDEX', 'TI', 'V', 'V40', 'ZN']\n",
    "\n",
    "print(train3.shape)\n",
    "print(test3.shape)\n",
    "print(len(categorical_features))\n",
    "print(len(numeric_features_train))\n",
    "print(len(numeric_features_test))"
   ]
  },
  {
   "cell_type": "code",
   "execution_count": 11,
   "id": "e55b2a35-d0c9-4f12-841f-c1eddbaf97b9",
   "metadata": {},
   "outputs": [],
   "source": [
    "X_train = train3.drop(['Y_LABEL'], axis = 1)\n",
    "y_train = train3['Y_LABEL']\n",
    "X_test = test3"
   ]
  },
  {
   "cell_type": "code",
   "execution_count": 12,
   "id": "e57ed532-7478-4683-9d8a-c757e751fb61",
   "metadata": {},
   "outputs": [
    {
     "data": {
      "text/html": [
       "<div>\n",
       "<style scoped>\n",
       "    .dataframe tbody tr th:only-of-type {\n",
       "        vertical-align: middle;\n",
       "    }\n",
       "\n",
       "    .dataframe tbody tr th {\n",
       "        vertical-align: top;\n",
       "    }\n",
       "\n",
       "    .dataframe thead th {\n",
       "        text-align: right;\n",
       "    }\n",
       "</style>\n",
       "<table border=\"1\" class=\"dataframe\">\n",
       "  <thead>\n",
       "    <tr style=\"text-align: right;\">\n",
       "      <th></th>\n",
       "      <th>ANONYMOUS_1</th>\n",
       "      <th>ANONYMOUS_2</th>\n",
       "      <th>AG</th>\n",
       "      <th>CO</th>\n",
       "      <th>CR</th>\n",
       "      <th>CU</th>\n",
       "      <th>FE</th>\n",
       "      <th>H2O</th>\n",
       "      <th>MN</th>\n",
       "      <th>MO</th>\n",
       "      <th>NI</th>\n",
       "      <th>PQINDEX</th>\n",
       "      <th>TI</th>\n",
       "      <th>V</th>\n",
       "      <th>V40</th>\n",
       "      <th>ZN</th>\n",
       "      <th>AL</th>\n",
       "      <th>BA</th>\n",
       "      <th>COMPONENT_ARBITRARY_category</th>\n",
       "      <th>YEAR_category</th>\n",
       "    </tr>\n",
       "  </thead>\n",
       "  <tbody>\n",
       "    <tr>\n",
       "      <th>0</th>\n",
       "      <td>1486</td>\n",
       "      <td>200</td>\n",
       "      <td>0</td>\n",
       "      <td>0</td>\n",
       "      <td>13</td>\n",
       "      <td>78</td>\n",
       "      <td>888</td>\n",
       "      <td>0.0</td>\n",
       "      <td>16</td>\n",
       "      <td>1</td>\n",
       "      <td>6</td>\n",
       "      <td>8504</td>\n",
       "      <td>5</td>\n",
       "      <td>0</td>\n",
       "      <td>154.0</td>\n",
       "      <td>75</td>\n",
       "      <td>3</td>\n",
       "      <td>0</td>\n",
       "      <td>2</td>\n",
       "      <td>4</td>\n",
       "    </tr>\n",
       "    <tr>\n",
       "      <th>1</th>\n",
       "      <td>1350</td>\n",
       "      <td>375</td>\n",
       "      <td>0</td>\n",
       "      <td>0</td>\n",
       "      <td>0</td>\n",
       "      <td>31</td>\n",
       "      <td>2</td>\n",
       "      <td>0.0</td>\n",
       "      <td>0</td>\n",
       "      <td>0</td>\n",
       "      <td>0</td>\n",
       "      <td>19</td>\n",
       "      <td>0</td>\n",
       "      <td>0</td>\n",
       "      <td>44.0</td>\n",
       "      <td>652</td>\n",
       "      <td>2</td>\n",
       "      <td>0</td>\n",
       "      <td>1</td>\n",
       "      <td>14</td>\n",
       "    </tr>\n",
       "    <tr>\n",
       "      <th>2</th>\n",
       "      <td>2415</td>\n",
       "      <td>200</td>\n",
       "      <td>0</td>\n",
       "      <td>0</td>\n",
       "      <td>1</td>\n",
       "      <td>2</td>\n",
       "      <td>4</td>\n",
       "      <td>0.0</td>\n",
       "      <td>0</td>\n",
       "      <td>0</td>\n",
       "      <td>0</td>\n",
       "      <td>17</td>\n",
       "      <td>0</td>\n",
       "      <td>0</td>\n",
       "      <td>72.6</td>\n",
       "      <td>412</td>\n",
       "      <td>110</td>\n",
       "      <td>1</td>\n",
       "      <td>1</td>\n",
       "      <td>8</td>\n",
       "    </tr>\n",
       "    <tr>\n",
       "      <th>3</th>\n",
       "      <td>7389</td>\n",
       "      <td>200</td>\n",
       "      <td>0</td>\n",
       "      <td>0</td>\n",
       "      <td>0</td>\n",
       "      <td>1</td>\n",
       "      <td>37</td>\n",
       "      <td>0.0</td>\n",
       "      <td>1</td>\n",
       "      <td>0</td>\n",
       "      <td>0</td>\n",
       "      <td>44</td>\n",
       "      <td>0</td>\n",
       "      <td>0</td>\n",
       "      <td>133.3</td>\n",
       "      <td>7</td>\n",
       "      <td>8</td>\n",
       "      <td>0</td>\n",
       "      <td>2</td>\n",
       "      <td>3</td>\n",
       "    </tr>\n",
       "    <tr>\n",
       "      <th>4</th>\n",
       "      <td>3954</td>\n",
       "      <td>200</td>\n",
       "      <td>0</td>\n",
       "      <td>0</td>\n",
       "      <td>0</td>\n",
       "      <td>0</td>\n",
       "      <td>71</td>\n",
       "      <td>0.0</td>\n",
       "      <td>0</td>\n",
       "      <td>0</td>\n",
       "      <td>0</td>\n",
       "      <td>217</td>\n",
       "      <td>0</td>\n",
       "      <td>0</td>\n",
       "      <td>133.1</td>\n",
       "      <td>128</td>\n",
       "      <td>1</td>\n",
       "      <td>0</td>\n",
       "      <td>2</td>\n",
       "      <td>8</td>\n",
       "    </tr>\n",
       "    <tr>\n",
       "      <th>...</th>\n",
       "      <td>...</td>\n",
       "      <td>...</td>\n",
       "      <td>...</td>\n",
       "      <td>...</td>\n",
       "      <td>...</td>\n",
       "      <td>...</td>\n",
       "      <td>...</td>\n",
       "      <td>...</td>\n",
       "      <td>...</td>\n",
       "      <td>...</td>\n",
       "      <td>...</td>\n",
       "      <td>...</td>\n",
       "      <td>...</td>\n",
       "      <td>...</td>\n",
       "      <td>...</td>\n",
       "      <td>...</td>\n",
       "      <td>...</td>\n",
       "      <td>...</td>\n",
       "      <td>...</td>\n",
       "      <td>...</td>\n",
       "    </tr>\n",
       "    <tr>\n",
       "      <th>14090</th>\n",
       "      <td>1616</td>\n",
       "      <td>200</td>\n",
       "      <td>0</td>\n",
       "      <td>0</td>\n",
       "      <td>0</td>\n",
       "      <td>3</td>\n",
       "      <td>23</td>\n",
       "      <td>0.0</td>\n",
       "      <td>0</td>\n",
       "      <td>0</td>\n",
       "      <td>0</td>\n",
       "      <td>35</td>\n",
       "      <td>0</td>\n",
       "      <td>0</td>\n",
       "      <td>135.4</td>\n",
       "      <td>16</td>\n",
       "      <td>2</td>\n",
       "      <td>1</td>\n",
       "      <td>2</td>\n",
       "      <td>7</td>\n",
       "    </tr>\n",
       "    <tr>\n",
       "      <th>14091</th>\n",
       "      <td>2784</td>\n",
       "      <td>200</td>\n",
       "      <td>0</td>\n",
       "      <td>0</td>\n",
       "      <td>0</td>\n",
       "      <td>2</td>\n",
       "      <td>12</td>\n",
       "      <td>0.0</td>\n",
       "      <td>0</td>\n",
       "      <td>224</td>\n",
       "      <td>0</td>\n",
       "      <td>9</td>\n",
       "      <td>0</td>\n",
       "      <td>0</td>\n",
       "      <td>117.5</td>\n",
       "      <td>1408</td>\n",
       "      <td>3</td>\n",
       "      <td>0</td>\n",
       "      <td>0</td>\n",
       "      <td>6</td>\n",
       "    </tr>\n",
       "    <tr>\n",
       "      <th>14092</th>\n",
       "      <td>1788</td>\n",
       "      <td>550</td>\n",
       "      <td>0</td>\n",
       "      <td>0</td>\n",
       "      <td>4</td>\n",
       "      <td>7</td>\n",
       "      <td>415</td>\n",
       "      <td>0.0</td>\n",
       "      <td>7</td>\n",
       "      <td>10</td>\n",
       "      <td>1</td>\n",
       "      <td>645</td>\n",
       "      <td>0</td>\n",
       "      <td>0</td>\n",
       "      <td>54.0</td>\n",
       "      <td>1301</td>\n",
       "      <td>6</td>\n",
       "      <td>1</td>\n",
       "      <td>2</td>\n",
       "      <td>1</td>\n",
       "    </tr>\n",
       "    <tr>\n",
       "      <th>14093</th>\n",
       "      <td>2498</td>\n",
       "      <td>550</td>\n",
       "      <td>0</td>\n",
       "      <td>0</td>\n",
       "      <td>0</td>\n",
       "      <td>170</td>\n",
       "      <td>19</td>\n",
       "      <td>0.0</td>\n",
       "      <td>0</td>\n",
       "      <td>1</td>\n",
       "      <td>0</td>\n",
       "      <td>11</td>\n",
       "      <td>0</td>\n",
       "      <td>0</td>\n",
       "      <td>44.3</td>\n",
       "      <td>652</td>\n",
       "      <td>2</td>\n",
       "      <td>0</td>\n",
       "      <td>1</td>\n",
       "      <td>2</td>\n",
       "    </tr>\n",
       "    <tr>\n",
       "      <th>14094</th>\n",
       "      <td>1902</td>\n",
       "      <td>200</td>\n",
       "      <td>0</td>\n",
       "      <td>0</td>\n",
       "      <td>0</td>\n",
       "      <td>110</td>\n",
       "      <td>10</td>\n",
       "      <td>0.0</td>\n",
       "      <td>0</td>\n",
       "      <td>0</td>\n",
       "      <td>0</td>\n",
       "      <td>81</td>\n",
       "      <td>2</td>\n",
       "      <td>0</td>\n",
       "      <td>47.0</td>\n",
       "      <td>612</td>\n",
       "      <td>0</td>\n",
       "      <td>0</td>\n",
       "      <td>1</td>\n",
       "      <td>5</td>\n",
       "    </tr>\n",
       "  </tbody>\n",
       "</table>\n",
       "<p>14095 rows × 20 columns</p>\n",
       "</div>"
      ],
      "text/plain": [
       "       ANONYMOUS_1  ANONYMOUS_2  AG  CO  CR   CU   FE  H2O  MN   MO  NI  \\\n",
       "0             1486          200   0   0  13   78  888  0.0  16    1   6   \n",
       "1             1350          375   0   0   0   31    2  0.0   0    0   0   \n",
       "2             2415          200   0   0   1    2    4  0.0   0    0   0   \n",
       "3             7389          200   0   0   0    1   37  0.0   1    0   0   \n",
       "4             3954          200   0   0   0    0   71  0.0   0    0   0   \n",
       "...            ...          ...  ..  ..  ..  ...  ...  ...  ..  ...  ..   \n",
       "14090         1616          200   0   0   0    3   23  0.0   0    0   0   \n",
       "14091         2784          200   0   0   0    2   12  0.0   0  224   0   \n",
       "14092         1788          550   0   0   4    7  415  0.0   7   10   1   \n",
       "14093         2498          550   0   0   0  170   19  0.0   0    1   0   \n",
       "14094         1902          200   0   0   0  110   10  0.0   0    0   0   \n",
       "\n",
       "       PQINDEX  TI  V    V40    ZN   AL  BA  COMPONENT_ARBITRARY_category  \\\n",
       "0         8504   5  0  154.0    75    3   0                             2   \n",
       "1           19   0  0   44.0   652    2   0                             1   \n",
       "2           17   0  0   72.6   412  110   1                             1   \n",
       "3           44   0  0  133.3     7    8   0                             2   \n",
       "4          217   0  0  133.1   128    1   0                             2   \n",
       "...        ...  .. ..    ...   ...  ...  ..                           ...   \n",
       "14090       35   0  0  135.4    16    2   1                             2   \n",
       "14091        9   0  0  117.5  1408    3   0                             0   \n",
       "14092      645   0  0   54.0  1301    6   1                             2   \n",
       "14093       11   0  0   44.3   652    2   0                             1   \n",
       "14094       81   2  0   47.0   612    0   0                             1   \n",
       "\n",
       "       YEAR_category  \n",
       "0                  4  \n",
       "1                 14  \n",
       "2                  8  \n",
       "3                  3  \n",
       "4                  8  \n",
       "...              ...  \n",
       "14090              7  \n",
       "14091              6  \n",
       "14092              1  \n",
       "14093              2  \n",
       "14094              5  \n",
       "\n",
       "[14095 rows x 20 columns]"
      ]
     },
     "execution_count": 12,
     "metadata": {},
     "output_type": "execute_result"
    }
   ],
   "source": [
    "X_train"
   ]
  },
  {
   "cell_type": "code",
   "execution_count": 13,
   "id": "814ad360-1780-4035-bf95-7ccdd86903a3",
   "metadata": {},
   "outputs": [
    {
     "name": "stdout",
     "output_type": "stream",
     "text": [
      "Resampled dataset shape Counter({1: 12934, 0: 12892})\n",
      "(25826, 20) (25826,)\n"
     ]
    }
   ],
   "source": [
    "ads = ADASYN(random_state = 42) # seed\n",
    "X_train, y_train = ads.fit_resample(X_train, y_train)\n",
    "print('Resampled dataset shape %s' % Counter(y_train))\n",
    "print(X_train.shape, y_train.shape)"
   ]
  },
  {
   "cell_type": "code",
   "execution_count": 14,
   "id": "9c8536c3-463f-4666-b63f-60e16db6ffd9",
   "metadata": {},
   "outputs": [
    {
     "name": "stdout",
     "output_type": "stream",
     "text": [
      "(25826, 20)\n"
     ]
    }
   ],
   "source": [
    "X_train = X_train.loc[:, ['COMPONENT_ARBITRARY_category', 'ANONYMOUS_1', 'YEAR_category', 'ANONYMOUS_2', 'AG',\n",
    "                                        'CO', 'CR', 'CU', 'FE', 'H2O', 'MN', 'MO', 'NI', 'PQINDEX', 'TI', 'V',\n",
    "                                        'V40', 'ZN', 'AL', 'BA']]\n",
    "print(X_train.shape)"
   ]
  },
  {
   "cell_type": "code",
   "execution_count": 15,
   "id": "d1bba91f-80f9-4939-8e93-70f215f551ad",
   "metadata": {},
   "outputs": [
    {
     "name": "stdout",
     "output_type": "stream",
     "text": [
      "(18078, 20)\n",
      "(7748, 20)\n",
      "(18078,)\n",
      "(7748,)\n"
     ]
    }
   ],
   "source": [
    "X_partrain, X_val, y_partrain, y_val = train_test_split(X_train, \n",
    "                                                        y_train, \n",
    "                                                        test_size = 0.3, \n",
    "                                                        random_state = 39, \n",
    "                                                        stratify = y_train)\n",
    "print(X_partrain.shape)\n",
    "print(X_val.shape)\n",
    "print(y_partrain.shape)\n",
    "print(y_val.shape)"
   ]
  },
  {
   "cell_type": "code",
   "execution_count": 91,
   "id": "a050483e-4ca3-4852-80ca-578029345e33",
   "metadata": {},
   "outputs": [],
   "source": [
    "def objective(trial : Trial) -> float :\n",
    "\n",
    "    params_cat = {\n",
    "        \"random_state\" : 39,\n",
    "        'learning_rate' : trial.suggest_loguniform('learning_rate', 0.005, 0.5),\n",
    "        \"n_estimators\" : trial.suggest_int(\"n_estimators\", 100, 1000),\n",
    "        \"max_depth\" : trial.suggest_int(\"max_depth\", 3, 10)\n",
    "  }\n",
    "    \n",
    "    model = CatBoostClassifier(**params_cat)\n",
    "    model.fit(X_partrain, y_partrain, eval_set = [(X_val, y_val)],\n",
    "              early_stopping_rounds = 100, verbose = False, cat_features = categorical_features)\n",
    "\n",
    "    cat_pred = model.predict(X_val)\n",
    "    AUC = roc_auc_score(y_val, cat_pred)\n",
    "    \n",
    "    return AUC"
   ]
  },
  {
   "cell_type": "code",
   "execution_count": 92,
   "id": "0cc6109a-d252-4cfe-85df-f93010fd8851",
   "metadata": {},
   "outputs": [
    {
     "name": "stderr",
     "output_type": "stream",
     "text": [
      "\u001b[32m[I 2022-11-25 11:55:31,304]\u001b[0m A new study created in memory with name: cat_parameter_opt\u001b[0m\n",
      "\u001b[32m[I 2022-11-25 11:56:03,412]\u001b[0m Trial 0 finished with value: 0.9559903357178647 and parameters: {'learning_rate': 0.06205093309656499, 'n_estimators': 818, 'max_depth': 9}. Best is trial 0 with value: 0.9559903357178647.\u001b[0m\n",
      "\u001b[32m[I 2022-11-25 11:56:14,760]\u001b[0m Trial 1 finished with value: 0.8654928357445174 and parameters: {'learning_rate': 0.008771416592003579, 'n_estimators': 642, 'max_depth': 7}. Best is trial 0 with value: 0.9559903357178647.\u001b[0m\n",
      "\u001b[32m[I 2022-11-25 11:56:27,118]\u001b[0m Trial 2 finished with value: 0.9369085757843901 and parameters: {'learning_rate': 0.04234350615938281, 'n_estimators': 524, 'max_depth': 8}. Best is trial 0 with value: 0.9559903357178647.\u001b[0m\n",
      "\u001b[32m[I 2022-11-25 11:56:50,350]\u001b[0m Trial 3 finished with value: 0.9548185481721555 and parameters: {'learning_rate': 0.35505674331734294, 'n_estimators': 834, 'max_depth': 10}. Best is trial 0 with value: 0.9559903357178647.\u001b[0m\n",
      "\u001b[32m[I 2022-11-25 11:57:07,557]\u001b[0m Trial 4 finished with value: 0.9575291314406338 and parameters: {'learning_rate': 0.3452552477828869, 'n_estimators': 473, 'max_depth': 9}. Best is trial 4 with value: 0.9575291314406338.\u001b[0m\n",
      "\u001b[32m[I 2022-11-25 11:57:15,619]\u001b[0m Trial 5 finished with value: 0.9478513896736639 and parameters: {'learning_rate': 0.39038241106633764, 'n_estimators': 665, 'max_depth': 5}. Best is trial 4 with value: 0.9575291314406338.\u001b[0m\n",
      "\u001b[32m[I 2022-11-25 11:57:23,155]\u001b[0m Trial 6 finished with value: 0.8943484205588547 and parameters: {'learning_rate': 0.07650182752532741, 'n_estimators': 875, 'max_depth': 3}. Best is trial 4 with value: 0.9575291314406338.\u001b[0m\n",
      "\u001b[32m[I 2022-11-25 11:57:32,218]\u001b[0m Trial 7 finished with value: 0.9483724506657853 and parameters: {'learning_rate': 0.2561929054277609, 'n_estimators': 748, 'max_depth': 5}. Best is trial 4 with value: 0.9575291314406338.\u001b[0m\n",
      "\u001b[32m[I 2022-11-25 11:57:47,460]\u001b[0m Trial 8 finished with value: 0.9433534739176324 and parameters: {'learning_rate': 0.046750143544503714, 'n_estimators': 860, 'max_depth': 7}. Best is trial 4 with value: 0.9575291314406338.\u001b[0m\n",
      "\u001b[32m[I 2022-11-25 11:57:53,253]\u001b[0m Trial 9 finished with value: 0.8368765925009862 and parameters: {'learning_rate': 0.01031007070552687, 'n_estimators': 574, 'max_depth': 4}. Best is trial 4 with value: 0.9575291314406338.\u001b[0m\n",
      "\u001b[32m[I 2022-11-25 11:58:03,799]\u001b[0m Trial 10 finished with value: 0.9522500239874626 and parameters: {'learning_rate': 0.14173663762502883, 'n_estimators': 208, 'max_depth': 10}. Best is trial 4 with value: 0.9575291314406338.\u001b[0m\n",
      "\u001b[32m[I 2022-11-25 11:58:17,366]\u001b[0m Trial 11 finished with value: 0.9015825062100876 and parameters: {'learning_rate': 0.02212195715845147, 'n_estimators': 357, 'max_depth': 9}. Best is trial 4 with value: 0.9575291314406338.\u001b[0m\n",
      "\u001b[32m[I 2022-11-25 11:58:41,001]\u001b[0m Trial 12 finished with value: 0.9593396518086548 and parameters: {'learning_rate': 0.13182871114793998, 'n_estimators': 1000, 'max_depth': 8}. Best is trial 12 with value: 0.9593396518086548.\u001b[0m\n",
      "\u001b[32m[I 2022-11-25 11:59:03,932]\u001b[0m Trial 13 finished with value: 0.9597266495378416 and parameters: {'learning_rate': 0.15763351964092084, 'n_estimators': 989, 'max_depth': 8}. Best is trial 13 with value: 0.9597266495378416.\u001b[0m\n",
      "\u001b[32m[I 2022-11-25 11:59:18,196]\u001b[0m Trial 14 finished with value: 0.9544343489802664 and parameters: {'learning_rate': 0.15417739545109124, 'n_estimators': 986, 'max_depth': 6}. Best is trial 13 with value: 0.9597266495378416.\u001b[0m\n",
      "\u001b[32m[I 2022-11-25 11:59:41,555]\u001b[0m Trial 15 finished with value: 0.9581786586210941 and parameters: {'learning_rate': 0.14129075917342093, 'n_estimators': 992, 'max_depth': 8}. Best is trial 13 with value: 0.9597266495378416.\u001b[0m\n",
      "\u001b[32m[I 2022-11-25 12:00:03,747]\u001b[0m Trial 16 finished with value: 0.9568899988272798 and parameters: {'learning_rate': 0.0906256753878121, 'n_estimators': 928, 'max_depth': 8}. Best is trial 13 with value: 0.9597266495378416.\u001b[0m\n",
      "\u001b[32m[I 2022-11-25 12:00:13,896]\u001b[0m Trial 17 finished with value: 0.9089290664079575 and parameters: {'learning_rate': 0.027021704164357403, 'n_estimators': 708, 'max_depth': 6}. Best is trial 13 with value: 0.9597266495378416.\u001b[0m\n",
      "\u001b[32m[I 2022-11-25 12:00:15,563]\u001b[0m Trial 18 finished with value: 0.923486924167635 and parameters: {'learning_rate': 0.22289376066099373, 'n_estimators': 115, 'max_depth': 7}. Best is trial 13 with value: 0.9597266495378416.\u001b[0m\n",
      "\u001b[32m[I 2022-11-25 12:00:24,922]\u001b[0m Trial 19 finished with value: 0.9495430388383671 and parameters: {'learning_rate': 0.10719345699641987, 'n_estimators': 393, 'max_depth': 8}. Best is trial 13 with value: 0.9597266495378416.\u001b[0m\n",
      "\u001b[32m[I 2022-11-25 12:00:53,953]\u001b[0m Trial 20 finished with value: 0.9608828452328918 and parameters: {'learning_rate': 0.20646882355565366, 'n_estimators': 788, 'max_depth': 9}. Best is trial 20 with value: 0.9608828452328918.\u001b[0m\n",
      "\u001b[32m[I 2022-11-25 12:01:24,030]\u001b[0m Trial 21 finished with value: 0.9589530538705106 and parameters: {'learning_rate': 0.2409870086947253, 'n_estimators': 923, 'max_depth': 9}. Best is trial 20 with value: 0.9608828452328918.\u001b[0m\n",
      "\u001b[32m[I 2022-11-25 12:01:53,939]\u001b[0m Trial 22 finished with value: 0.9593416507638673 and parameters: {'learning_rate': 0.18789425411282087, 'n_estimators': 997, 'max_depth': 10}. Best is trial 20 with value: 0.9608828452328918.\u001b[0m\n",
      "\u001b[32m[I 2022-11-25 12:02:20,716]\u001b[0m Trial 23 finished with value: 0.9539148871523152 and parameters: {'learning_rate': 0.4620883132326561, 'n_estimators': 793, 'max_depth': 10}. Best is trial 20 with value: 0.9608828452328918.\u001b[0m\n",
      "\u001b[32m[I 2022-11-25 12:03:00,856]\u001b[0m Trial 24 finished with value: 0.9580477936865 and parameters: {'learning_rate': 0.18062968539780447, 'n_estimators': 902, 'max_depth': 10}. Best is trial 20 with value: 0.9608828452328918.\u001b[0m\n",
      "\u001b[32m[I 2022-11-25 12:03:31,341]\u001b[0m Trial 25 finished with value: 0.8774821693195023 and parameters: {'learning_rate': 0.00572921659558951, 'n_estimators': 792, 'max_depth': 9}. Best is trial 20 with value: 0.9608828452328918.\u001b[0m\n",
      "\u001b[32m[I 2022-11-25 12:04:03,942]\u001b[0m Trial 26 finished with value: 0.9576583972110577 and parameters: {'learning_rate': 0.26000782077073875, 'n_estimators': 931, 'max_depth': 10}. Best is trial 20 with value: 0.9608828452328918.\u001b[0m\n",
      "\u001b[32m[I 2022-11-25 12:04:31,934]\u001b[0m Trial 27 finished with value: 0.9572761969743816 and parameters: {'learning_rate': 0.1017103871554184, 'n_estimators': 723, 'max_depth': 9}. Best is trial 20 with value: 0.9608828452328918.\u001b[0m\n",
      "\u001b[32m[I 2022-11-25 12:04:53,481]\u001b[0m Trial 28 finished with value: 0.9601116483118158 and parameters: {'learning_rate': 0.19190452063210117, 'n_estimators': 954, 'max_depth': 8}. Best is trial 20 with value: 0.9608828452328918.\u001b[0m\n",
      "\u001b[32m[I 2022-11-25 12:05:07,906]\u001b[0m Trial 29 finished with value: 0.9476072506103477 and parameters: {'learning_rate': 0.06336439528149944, 'n_estimators': 809, 'max_depth': 7}. Best is trial 20 with value: 0.9608828452328918.\u001b[0m\n",
      "\u001b[32m[I 2022-11-25 12:05:17,020]\u001b[0m Trial 30 finished with value: 0.9067371453853453 and parameters: {'learning_rate': 0.03054834155548636, 'n_estimators': 636, 'max_depth': 6}. Best is trial 20 with value: 0.9608828452328918.\u001b[0m\n",
      "\u001b[32m[I 2022-11-25 12:05:38,157]\u001b[0m Trial 31 finished with value: 0.9588213893538311 and parameters: {'learning_rate': 0.22430839898446314, 'n_estimators': 956, 'max_depth': 8}. Best is trial 20 with value: 0.9608828452328918.\u001b[0m\n",
      "\u001b[32m[I 2022-11-25 12:06:09,742]\u001b[0m Trial 32 finished with value: 0.9606275120203841 and parameters: {'learning_rate': 0.19219191734647487, 'n_estimators': 874, 'max_depth': 9}. Best is trial 20 with value: 0.9608828452328918.\u001b[0m\n",
      "\u001b[32m[I 2022-11-25 12:06:28,251]\u001b[0m Trial 33 finished with value: 0.9603665817332808 and parameters: {'learning_rate': 0.29492750479198543, 'n_estimators': 866, 'max_depth': 8}. Best is trial 20 with value: 0.9608828452328918.\u001b[0m\n",
      "\u001b[32m[I 2022-11-25 12:06:48,746]\u001b[0m Trial 34 finished with value: 0.9559819401059714 and parameters: {'learning_rate': 0.297568866240527, 'n_estimators': 867, 'max_depth': 9}. Best is trial 20 with value: 0.9608828452328918.\u001b[0m\n",
      "\u001b[32m[I 2022-11-25 12:06:59,167]\u001b[0m Trial 35 finished with value: 0.9526250279853731 and parameters: {'learning_rate': 0.40781300131566023, 'n_estimators': 753, 'max_depth': 7}. Best is trial 20 with value: 0.9608828452328918.\u001b[0m\n",
      "\u001b[32m[I 2022-11-25 12:07:16,950]\u001b[0m Trial 36 finished with value: 0.9577904615187797 and parameters: {'learning_rate': 0.3188349778099369, 'n_estimators': 828, 'max_depth': 8}. Best is trial 20 with value: 0.9608828452328918.\u001b[0m\n",
      "\u001b[32m[I 2022-11-25 12:07:36,375]\u001b[0m Trial 37 finished with value: 0.9536535570741693 and parameters: {'learning_rate': 0.484329327881048, 'n_estimators': 579, 'max_depth': 9}. Best is trial 20 with value: 0.9608828452328918.\u001b[0m\n",
      "\u001b[32m[I 2022-11-25 12:08:01,208]\u001b[0m Trial 38 finished with value: 0.9587001194042581 and parameters: {'learning_rate': 0.07963468358559822, 'n_estimators': 641, 'max_depth': 9}. Best is trial 20 with value: 0.9608828452328918.\u001b[0m\n",
      "\u001b[32m[I 2022-11-25 12:08:16,949]\u001b[0m Trial 39 finished with value: 0.9593400515996972 and parameters: {'learning_rate': 0.19364110931159728, 'n_estimators': 889, 'max_depth': 7}. Best is trial 20 with value: 0.9608828452328918.\u001b[0m\n",
      "\u001b[32m[I 2022-11-25 12:08:33,208]\u001b[0m Trial 40 finished with value: 0.957405862535848 and parameters: {'learning_rate': 0.1189652125170301, 'n_estimators': 683, 'max_depth': 8}. Best is trial 20 with value: 0.9608828452328918.\u001b[0m\n",
      "\u001b[32m[I 2022-11-25 12:08:53,351]\u001b[0m Trial 41 finished with value: 0.9606335088860222 and parameters: {'learning_rate': 0.1708005033121288, 'n_estimators': 856, 'max_depth': 8}. Best is trial 20 with value: 0.9608828452328918.\u001b[0m\n",
      "\u001b[32m[I 2022-11-25 12:09:16,461]\u001b[0m Trial 42 finished with value: 0.9585616584398555 and parameters: {'learning_rate': 0.3047269364618159, 'n_estimators': 841, 'max_depth': 9}. Best is trial 20 with value: 0.9608828452328918.\u001b[0m\n",
      "\u001b[32m[I 2022-11-25 12:09:35,006]\u001b[0m Trial 43 finished with value: 0.9509589654473929 and parameters: {'learning_rate': 0.05884892223533135, 'n_estimators': 776, 'max_depth': 8}. Best is trial 20 with value: 0.9608828452328918.\u001b[0m\n",
      "\u001b[32m[I 2022-11-25 12:09:49,235]\u001b[0m Trial 44 finished with value: 0.9575327295600167 and parameters: {'learning_rate': 0.3673488766189988, 'n_estimators': 863, 'max_depth': 7}. Best is trial 20 with value: 0.9608828452328918.\u001b[0m\n",
      "\u001b[32m[I 2022-11-25 12:10:23,503]\u001b[0m Trial 45 finished with value: 0.9608840446060194 and parameters: {'learning_rate': 0.17892267283978827, 'n_estimators': 936, 'max_depth': 9}. Best is trial 45 with value: 0.9608840446060194.\u001b[0m\n",
      "\u001b[32m[I 2022-11-25 12:10:42,618]\u001b[0m Trial 46 finished with value: 0.8959124031173041 and parameters: {'learning_rate': 0.013680953281526086, 'n_estimators': 504, 'max_depth': 9}. Best is trial 45 with value: 0.9608840446060194.\u001b[0m\n",
      "\u001b[32m[I 2022-11-25 12:11:22,101]\u001b[0m Trial 47 finished with value: 0.9589538534525955 and parameters: {'learning_rate': 0.15938290220481802, 'n_estimators': 834, 'max_depth': 10}. Best is trial 45 with value: 0.9608840446060194.\u001b[0m\n",
      "\u001b[32m[I 2022-11-25 12:11:52,649]\u001b[0m Trial 48 finished with value: 0.95830192752588 and parameters: {'learning_rate': 0.28132829619256783, 'n_estimators': 892, 'max_depth': 9}. Best is trial 45 with value: 0.9608840446060194.\u001b[0m\n",
      "\u001b[32m[I 2022-11-25 12:12:00,389]\u001b[0m Trial 49 finished with value: 0.9246475175641531 and parameters: {'learning_rate': 0.12624429369774393, 'n_estimators': 749, 'max_depth': 4}. Best is trial 45 with value: 0.9608840446060194.\u001b[0m\n",
      "\u001b[32m[I 2022-11-25 12:12:47,482]\u001b[0m Trial 50 finished with value: 0.9583083241825605 and parameters: {'learning_rate': 0.08515355898908492, 'n_estimators': 929, 'max_depth': 10}. Best is trial 45 with value: 0.9608840446060194.\u001b[0m\n",
      "\u001b[32m[I 2022-11-25 12:13:07,517]\u001b[0m Trial 51 finished with value: 0.9588185908165333 and parameters: {'learning_rate': 0.20619649680838167, 'n_estimators': 877, 'max_depth': 8}. Best is trial 45 with value: 0.9608840446060194.\u001b[0m\n",
      "\u001b[32m[I 2022-11-25 12:13:42,568]\u001b[0m Trial 52 finished with value: 0.96024251324641 and parameters: {'learning_rate': 0.16925817325822798, 'n_estimators': 958, 'max_depth': 9}. Best is trial 45 with value: 0.9608840446060194.\u001b[0m\n",
      "\u001b[32m[I 2022-11-25 12:14:18,248]\u001b[0m Trial 53 finished with value: 0.9614071045533535 and parameters: {'learning_rate': 0.1570957338786338, 'n_estimators': 956, 'max_depth': 9}. Best is trial 53 with value: 0.9614071045533535.\u001b[0m\n",
      "\u001b[32m[I 2022-11-25 12:14:51,158]\u001b[0m Trial 54 finished with value: 0.9593376528534421 and parameters: {'learning_rate': 0.10643496910601644, 'n_estimators': 838, 'max_depth': 9}. Best is trial 53 with value: 0.9614071045533535.\u001b[0m\n",
      "\u001b[32m[I 2022-11-25 12:15:35,010]\u001b[0m Trial 55 finished with value: 0.9602409140822398 and parameters: {'learning_rate': 0.1383961755972596, 'n_estimators': 911, 'max_depth': 10}. Best is trial 53 with value: 0.9614071045533535.\u001b[0m\n",
      "\u001b[32m[I 2022-11-25 12:15:52,439]\u001b[0m Trial 56 finished with value: 0.9592063881278052 and parameters: {'learning_rate': 0.24819068582441728, 'n_estimators': 768, 'max_depth': 8}. Best is trial 53 with value: 0.9614071045533535.\u001b[0m\n",
      "\u001b[32m[I 2022-11-25 12:16:08,051]\u001b[0m Trial 57 finished with value: 0.954433949189224 and parameters: {'learning_rate': 0.3890854832347496, 'n_estimators': 427, 'max_depth': 9}. Best is trial 53 with value: 0.9614071045533535.\u001b[0m\n",
      "\u001b[32m[I 2022-11-25 12:16:20,727]\u001b[0m Trial 58 finished with value: 0.9566318670774743 and parameters: {'learning_rate': 0.22324700757348845, 'n_estimators': 330, 'max_depth': 9}. Best is trial 53 with value: 0.9614071045533535.\u001b[0m\n",
      "\u001b[32m[I 2022-11-25 12:17:08,911]\u001b[0m Trial 59 finished with value: 0.9589546530346806 and parameters: {'learning_rate': 0.0691830086623783, 'n_estimators': 950, 'max_depth': 10}. Best is trial 53 with value: 0.9614071045533535.\u001b[0m\n",
      "\u001b[32m[I 2022-11-25 12:17:25,886]\u001b[0m Trial 60 finished with value: 0.9548217465004959 and parameters: {'learning_rate': 0.15650130147414176, 'n_estimators': 712, 'max_depth': 8}. Best is trial 53 with value: 0.9614071045533535.\u001b[0m\n",
      "\u001b[32m[I 2022-11-25 12:18:01,376]\u001b[0m Trial 61 finished with value: 0.9612766394098019 and parameters: {'learning_rate': 0.17142184163525706, 'n_estimators': 967, 'max_depth': 9}. Best is trial 53 with value: 0.9614071045533535.\u001b[0m\n",
      "\u001b[32m[I 2022-11-25 12:18:38,573]\u001b[0m Trial 62 finished with value: 0.9584379897440272 and parameters: {'learning_rate': 0.11436972432649116, 'n_estimators': 974, 'max_depth': 9}. Best is trial 53 with value: 0.9614071045533535.\u001b[0m\n",
      "\u001b[32m[I 2022-11-25 12:18:54,463]\u001b[0m Trial 63 finished with value: 0.9568864007078968 and parameters: {'learning_rate': 0.26009635104213497, 'n_estimators': 903, 'max_depth': 8}. Best is trial 53 with value: 0.9614071045533535.\u001b[0m\n",
      "\u001b[32m[I 2022-11-25 12:19:25,794]\u001b[0m Trial 64 finished with value: 0.9577948592202477 and parameters: {'learning_rate': 0.09428577865953268, 'n_estimators': 800, 'max_depth': 9}. Best is trial 53 with value: 0.9614071045533535.\u001b[0m\n",
      "\u001b[32m[I 2022-11-25 12:19:54,215]\u001b[0m Trial 65 finished with value: 0.9575323297689742 and parameters: {'learning_rate': 0.3396998047856814, 'n_estimators': 931, 'max_depth': 10}. Best is trial 53 with value: 0.9614071045533535.\u001b[0m\n",
      "\u001b[32m[I 2022-11-25 12:20:30,223]\u001b[0m Trial 66 finished with value: 0.9589502553332127 and parameters: {'learning_rate': 0.17358162807115204, 'n_estimators': 1000, 'max_depth': 9}. Best is trial 53 with value: 0.9614071045533535.\u001b[0m\n",
      "\u001b[32m[I 2022-11-25 12:20:50,798]\u001b[0m Trial 67 finished with value: 0.9603729783899616 and parameters: {'learning_rate': 0.13953825865818537, 'n_estimators': 866, 'max_depth': 8}. Best is trial 53 with value: 0.9614071045533535.\u001b[0m\n",
      "\u001b[32m[I 2022-11-25 12:21:36,589]\u001b[0m Trial 68 finished with value: 0.958819790189661 and parameters: {'learning_rate': 0.14255575102990845, 'n_estimators': 969, 'max_depth': 10}. Best is trial 53 with value: 0.9614071045533535.\u001b[0m\n",
      "\u001b[32m[I 2022-11-25 12:21:46,580]\u001b[0m Trial 69 finished with value: 0.9483764485762108 and parameters: {'learning_rate': 0.21106765073180656, 'n_estimators': 821, 'max_depth': 5}. Best is trial 53 with value: 0.9614071045533535.\u001b[0m\n",
      "\u001b[32m[I 2022-11-25 12:22:06,716]\u001b[0m Trial 70 finished with value: 0.9467051887546776 and parameters: {'learning_rate': 0.040049681244646654, 'n_estimators': 850, 'max_depth': 8}. Best is trial 53 with value: 0.9614071045533535.\u001b[0m\n",
      "\u001b[32m[I 2022-11-25 12:22:38,582]\u001b[0m Trial 71 finished with value: 0.9590795211036366 and parameters: {'learning_rate': 0.18408290687644405, 'n_estimators': 864, 'max_depth': 9}. Best is trial 53 with value: 0.9614071045533535.\u001b[0m\n",
      "\u001b[32m[I 2022-11-25 12:22:54,742]\u001b[0m Trial 72 finished with value: 0.9568844017526841 and parameters: {'learning_rate': 0.12975982423319526, 'n_estimators': 903, 'max_depth': 7}. Best is trial 53 with value: 0.9614071045533535.\u001b[0m\n",
      "\u001b[32m[I 2022-11-25 12:23:14,687]\u001b[0m Trial 73 finished with value: 0.9581770594569239 and parameters: {'learning_rate': 0.2775887475203194, 'n_estimators': 944, 'max_depth': 8}. Best is trial 53 with value: 0.9614071045533535.\u001b[0m\n",
      "\u001b[32m[I 2022-11-25 12:23:34,114]\u001b[0m Trial 74 finished with value: 0.9586909242102796 and parameters: {'learning_rate': 0.24205571929682593, 'n_estimators': 882, 'max_depth': 8}. Best is trial 53 with value: 0.9614071045533535.\u001b[0m\n",
      "\u001b[32m[I 2022-11-25 12:24:08,227]\u001b[0m Trial 75 finished with value: 0.9588225887269588 and parameters: {'learning_rate': 0.1615647481535423, 'n_estimators': 915, 'max_depth': 9}. Best is trial 53 with value: 0.9614071045533535.\u001b[0m\n",
      "\u001b[32m[I 2022-11-25 12:24:15,348]\u001b[0m Trial 76 finished with value: 0.9179368916512969 and parameters: {'learning_rate': 0.20577474567229406, 'n_estimators': 807, 'max_depth': 3}. Best is trial 53 with value: 0.9614071045533535.\u001b[0m\n",
      "\u001b[32m[I 2022-11-25 12:24:29,522]\u001b[0m Trial 77 finished with value: 0.9543078817471403 and parameters: {'learning_rate': 0.1404432100171319, 'n_estimators': 978, 'max_depth': 6}. Best is trial 53 with value: 0.9614071045533535.\u001b[0m\n",
      "\u001b[32m[I 2022-11-25 12:24:59,884]\u001b[0m Trial 78 finished with value: 0.9565018017249652 and parameters: {'learning_rate': 0.0979209989046522, 'n_estimators': 778, 'max_depth': 9}. Best is trial 53 with value: 0.9614071045533535.\u001b[0m\n",
      "\u001b[32m[I 2022-11-25 12:25:05,056]\u001b[0m Trial 79 finished with value: 0.9366444471689463 and parameters: {'learning_rate': 0.11843007636163587, 'n_estimators': 288, 'max_depth': 7}. Best is trial 53 with value: 0.9614071045533535.\u001b[0m\n",
      "\u001b[32m[I 2022-11-25 12:25:24,041]\u001b[0m Trial 80 finished with value: 0.9586921235834073 and parameters: {'learning_rate': 0.2321591135299855, 'n_estimators': 852, 'max_depth': 8}. Best is trial 53 with value: 0.9614071045533535.\u001b[0m\n",
      "\u001b[32m[I 2022-11-25 12:25:58,533]\u001b[0m Trial 81 finished with value: 0.9599847812876471 and parameters: {'learning_rate': 0.17341908703178913, 'n_estimators': 952, 'max_depth': 9}. Best is trial 53 with value: 0.9614071045533535.\u001b[0m\n",
      "\u001b[32m[I 2022-11-25 12:26:33,641]\u001b[0m Trial 82 finished with value: 0.9598547159351378 and parameters: {'learning_rate': 0.1765417155863895, 'n_estimators': 972, 'max_depth': 9}. Best is trial 53 with value: 0.9614071045533535.\u001b[0m\n",
      "\u001b[32m[I 2022-11-25 12:27:06,701]\u001b[0m Trial 83 finished with value: 0.9598535165620103 and parameters: {'learning_rate': 0.15183421131446997, 'n_estimators': 882, 'max_depth': 9}. Best is trial 53 with value: 0.9614071045533535.\u001b[0m\n",
      "\u001b[32m[I 2022-11-25 12:27:24,862]\u001b[0m Trial 84 finished with value: 0.957529931022719 and parameters: {'learning_rate': 0.32373551392495487, 'n_estimators': 931, 'max_depth': 8}. Best is trial 53 with value: 0.9614071045533535.\u001b[0m\n",
      "\u001b[32m[I 2022-11-25 12:27:41,264]\u001b[0m Trial 85 finished with value: 0.9561144042047358 and parameters: {'learning_rate': 0.43996049780442015, 'n_estimators': 955, 'max_depth': 10}. Best is trial 53 with value: 0.9614071045533535.\u001b[0m\n",
      "\u001b[32m[I 2022-11-25 12:28:13,178]\u001b[0m Trial 86 finished with value: 0.9601128476849434 and parameters: {'learning_rate': 0.2048827694722201, 'n_estimators': 917, 'max_depth': 9}. Best is trial 53 with value: 0.9614071045533535.\u001b[0m\n",
      "\u001b[32m[I 2022-11-25 12:28:35,327]\u001b[0m Trial 87 finished with value: 0.9571453320397874 and parameters: {'learning_rate': 0.2595526265923694, 'n_estimators': 865, 'max_depth': 9}. Best is trial 53 with value: 0.9614071045533535.\u001b[0m\n",
      "\u001b[32m[I 2022-11-25 12:29:19,930]\u001b[0m Trial 88 finished with value: 0.9381988347423748 and parameters: {'learning_rate': 0.016915141459728875, 'n_estimators': 893, 'max_depth': 10}. Best is trial 53 with value: 0.9614071045533535.\u001b[0m\n",
      "\u001b[32m[I 2022-11-25 12:29:43,183]\u001b[0m Trial 89 finished with value: 0.958824187891129 and parameters: {'learning_rate': 0.1869703241179952, 'n_estimators': 605, 'max_depth': 9}. Best is trial 53 with value: 0.9614071045533535.\u001b[0m\n",
      "\u001b[32m[I 2022-11-25 12:30:02,778]\u001b[0m Trial 90 finished with value: 0.9590811202678068 and parameters: {'learning_rate': 0.12916422269954847, 'n_estimators': 821, 'max_depth': 8}. Best is trial 53 with value: 0.9614071045533535.\u001b[0m\n",
      "\u001b[32m[I 2022-11-25 12:30:44,817]\u001b[0m Trial 91 finished with value: 0.9598579142634782 and parameters: {'learning_rate': 0.16324844943628902, 'n_estimators': 907, 'max_depth': 10}. Best is trial 53 with value: 0.9614071045533535.\u001b[0m\n",
      "\u001b[32m[I 2022-11-25 12:31:29,203]\u001b[0m Trial 92 finished with value: 0.9602413138732822 and parameters: {'learning_rate': 0.14820182898368564, 'n_estimators': 940, 'max_depth': 10}. Best is trial 53 with value: 0.9614071045533535.\u001b[0m\n",
      "\u001b[32m[I 2022-11-25 12:31:50,616]\u001b[0m Trial 93 finished with value: 0.9570156664783207 and parameters: {'learning_rate': 0.2820855079462296, 'n_estimators': 1000, 'max_depth': 9}. Best is trial 53 with value: 0.9614071045533535.\u001b[0m\n",
      "\u001b[32m[I 2022-11-25 12:32:30,177]\u001b[0m Trial 94 finished with value: 0.9621791010565145 and parameters: {'learning_rate': 0.14838330374220435, 'n_estimators': 968, 'max_depth': 10}. Best is trial 94 with value: 0.9621791010565145.\u001b[0m\n",
      "\u001b[32m[I 2022-11-25 12:32:53,347]\u001b[0m Trial 95 finished with value: 0.9589518544973828 and parameters: {'learning_rate': 0.11357898512947859, 'n_estimators': 972, 'max_depth': 8}. Best is trial 94 with value: 0.9621791010565145.\u001b[0m\n",
      "\u001b[32m[I 2022-11-25 12:32:57,983]\u001b[0m Trial 96 finished with value: 0.9415397552212711 and parameters: {'learning_rate': 0.22367592729630287, 'n_estimators': 101, 'max_depth': 10}. Best is trial 94 with value: 0.9621791010565145.\u001b[0m\n",
      "\u001b[32m[I 2022-11-25 12:33:35,427]\u001b[0m Trial 97 finished with value: 0.8852153274555167 and parameters: {'learning_rate': 0.005628583812318545, 'n_estimators': 960, 'max_depth': 9}. Best is trial 94 with value: 0.9621791010565145.\u001b[0m\n",
      "\u001b[32m[I 2022-11-25 12:34:06,964]\u001b[0m Trial 98 finished with value: 0.9592115854113585 and parameters: {'learning_rate': 0.1677598632777387, 'n_estimators': 840, 'max_depth': 9}. Best is trial 94 with value: 0.9621791010565145.\u001b[0m\n",
      "\u001b[32m[I 2022-11-25 12:34:29,325]\u001b[0m Trial 99 finished with value: 0.9567531370270473 and parameters: {'learning_rate': 0.19692401416797017, 'n_estimators': 984, 'max_depth': 8}. Best is trial 94 with value: 0.9621791010565145.\u001b[0m\n"
     ]
    }
   ],
   "source": [
    "sampler = TPESampler(seed = 39)\n",
    "study = optuna.create_study(\n",
    "    study_name = \"cat_parameter_opt\",\n",
    "    direction = \"maximize\",\n",
    "    sampler = sampler)\n",
    "study.optimize(objective, n_trials = 100)"
   ]
  },
  {
   "cell_type": "code",
   "execution_count": 93,
   "id": "6a434f19-8f30-4d3c-ae0e-dc2a3027272f",
   "metadata": {},
   "outputs": [
    {
     "name": "stdout",
     "output_type": "stream",
     "text": [
      "Best Score : 0.9621791010565145\n",
      "Best trial : {'learning_rate': 0.14838330374220435, 'n_estimators': 968, 'max_depth': 10}\n"
     ]
    }
   ],
   "source": [
    "print(\"Best Score :\", study.best_value)\n",
    "print(\"Best trial :\", study.best_trial.params)"
   ]
  },
  {
   "cell_type": "code",
   "execution_count": 94,
   "id": "3a1dc62a-3ec3-4266-9650-12eae94c96a8",
   "metadata": {},
   "outputs": [
    {
     "data": {
      "application/vnd.plotly.v1+json": {
       "config": {
        "plotlyServerURL": "https://plot.ly"
       },
       "data": [
        {
         "mode": "markers",
         "name": "Objective Value",
         "type": "scatter",
         "x": [
          0,
          1,
          2,
          3,
          4,
          5,
          6,
          7,
          8,
          9,
          10,
          11,
          12,
          13,
          14,
          15,
          16,
          17,
          18,
          19,
          20,
          21,
          22,
          23,
          24,
          25,
          26,
          27,
          28,
          29,
          30,
          31,
          32,
          33,
          34,
          35,
          36,
          37,
          38,
          39,
          40,
          41,
          42,
          43,
          44,
          45,
          46,
          47,
          48,
          49,
          50,
          51,
          52,
          53,
          54,
          55,
          56,
          57,
          58,
          59,
          60,
          61,
          62,
          63,
          64,
          65,
          66,
          67,
          68,
          69,
          70,
          71,
          72,
          73,
          74,
          75,
          76,
          77,
          78,
          79,
          80,
          81,
          82,
          83,
          84,
          85,
          86,
          87,
          88,
          89,
          90,
          91,
          92,
          93,
          94,
          95,
          96,
          97,
          98,
          99
         ],
         "y": [
          0.9559903357178647,
          0.8654928357445174,
          0.9369085757843901,
          0.9548185481721555,
          0.9575291314406338,
          0.9478513896736639,
          0.8943484205588547,
          0.9483724506657853,
          0.9433534739176324,
          0.8368765925009862,
          0.9522500239874626,
          0.9015825062100876,
          0.9593396518086548,
          0.9597266495378416,
          0.9544343489802664,
          0.9581786586210941,
          0.9568899988272798,
          0.9089290664079575,
          0.923486924167635,
          0.9495430388383671,
          0.9608828452328918,
          0.9589530538705106,
          0.9593416507638673,
          0.9539148871523152,
          0.9580477936865,
          0.8774821693195023,
          0.9576583972110577,
          0.9572761969743816,
          0.9601116483118158,
          0.9476072506103477,
          0.9067371453853453,
          0.9588213893538311,
          0.9606275120203841,
          0.9603665817332808,
          0.9559819401059714,
          0.9526250279853731,
          0.9577904615187797,
          0.9536535570741693,
          0.9587001194042581,
          0.9593400515996972,
          0.957405862535848,
          0.9606335088860222,
          0.9585616584398555,
          0.9509589654473929,
          0.9575327295600167,
          0.9608840446060194,
          0.8959124031173041,
          0.9589538534525955,
          0.95830192752588,
          0.9246475175641531,
          0.9583083241825605,
          0.9588185908165333,
          0.96024251324641,
          0.9614071045533535,
          0.9593376528534421,
          0.9602409140822398,
          0.9592063881278052,
          0.954433949189224,
          0.9566318670774743,
          0.9589546530346806,
          0.9548217465004959,
          0.9612766394098019,
          0.9584379897440272,
          0.9568864007078968,
          0.9577948592202477,
          0.9575323297689742,
          0.9589502553332127,
          0.9603729783899616,
          0.958819790189661,
          0.9483764485762108,
          0.9467051887546776,
          0.9590795211036366,
          0.9568844017526841,
          0.9581770594569239,
          0.9586909242102796,
          0.9588225887269588,
          0.9179368916512969,
          0.9543078817471403,
          0.9565018017249652,
          0.9366444471689463,
          0.9586921235834073,
          0.9599847812876471,
          0.9598547159351378,
          0.9598535165620103,
          0.957529931022719,
          0.9561144042047358,
          0.9601128476849434,
          0.9571453320397874,
          0.9381988347423748,
          0.958824187891129,
          0.9590811202678068,
          0.9598579142634782,
          0.9602413138732822,
          0.9570156664783207,
          0.9621791010565145,
          0.9589518544973828,
          0.9415397552212711,
          0.8852153274555167,
          0.9592115854113585,
          0.9567531370270473
         ]
        },
        {
         "name": "Best Value",
         "type": "scatter",
         "x": [
          0,
          1,
          2,
          3,
          4,
          5,
          6,
          7,
          8,
          9,
          10,
          11,
          12,
          13,
          14,
          15,
          16,
          17,
          18,
          19,
          20,
          21,
          22,
          23,
          24,
          25,
          26,
          27,
          28,
          29,
          30,
          31,
          32,
          33,
          34,
          35,
          36,
          37,
          38,
          39,
          40,
          41,
          42,
          43,
          44,
          45,
          46,
          47,
          48,
          49,
          50,
          51,
          52,
          53,
          54,
          55,
          56,
          57,
          58,
          59,
          60,
          61,
          62,
          63,
          64,
          65,
          66,
          67,
          68,
          69,
          70,
          71,
          72,
          73,
          74,
          75,
          76,
          77,
          78,
          79,
          80,
          81,
          82,
          83,
          84,
          85,
          86,
          87,
          88,
          89,
          90,
          91,
          92,
          93,
          94,
          95,
          96,
          97,
          98,
          99
         ],
         "y": [
          0.9559903357178647,
          0.9559903357178647,
          0.9559903357178647,
          0.9559903357178647,
          0.9575291314406338,
          0.9575291314406338,
          0.9575291314406338,
          0.9575291314406338,
          0.9575291314406338,
          0.9575291314406338,
          0.9575291314406338,
          0.9575291314406338,
          0.9593396518086548,
          0.9597266495378416,
          0.9597266495378416,
          0.9597266495378416,
          0.9597266495378416,
          0.9597266495378416,
          0.9597266495378416,
          0.9597266495378416,
          0.9608828452328918,
          0.9608828452328918,
          0.9608828452328918,
          0.9608828452328918,
          0.9608828452328918,
          0.9608828452328918,
          0.9608828452328918,
          0.9608828452328918,
          0.9608828452328918,
          0.9608828452328918,
          0.9608828452328918,
          0.9608828452328918,
          0.9608828452328918,
          0.9608828452328918,
          0.9608828452328918,
          0.9608828452328918,
          0.9608828452328918,
          0.9608828452328918,
          0.9608828452328918,
          0.9608828452328918,
          0.9608828452328918,
          0.9608828452328918,
          0.9608828452328918,
          0.9608828452328918,
          0.9608828452328918,
          0.9608840446060194,
          0.9608840446060194,
          0.9608840446060194,
          0.9608840446060194,
          0.9608840446060194,
          0.9608840446060194,
          0.9608840446060194,
          0.9608840446060194,
          0.9614071045533535,
          0.9614071045533535,
          0.9614071045533535,
          0.9614071045533535,
          0.9614071045533535,
          0.9614071045533535,
          0.9614071045533535,
          0.9614071045533535,
          0.9614071045533535,
          0.9614071045533535,
          0.9614071045533535,
          0.9614071045533535,
          0.9614071045533535,
          0.9614071045533535,
          0.9614071045533535,
          0.9614071045533535,
          0.9614071045533535,
          0.9614071045533535,
          0.9614071045533535,
          0.9614071045533535,
          0.9614071045533535,
          0.9614071045533535,
          0.9614071045533535,
          0.9614071045533535,
          0.9614071045533535,
          0.9614071045533535,
          0.9614071045533535,
          0.9614071045533535,
          0.9614071045533535,
          0.9614071045533535,
          0.9614071045533535,
          0.9614071045533535,
          0.9614071045533535,
          0.9614071045533535,
          0.9614071045533535,
          0.9614071045533535,
          0.9614071045533535,
          0.9614071045533535,
          0.9614071045533535,
          0.9614071045533535,
          0.9614071045533535,
          0.9621791010565145,
          0.9621791010565145,
          0.9621791010565145,
          0.9621791010565145,
          0.9621791010565145,
          0.9621791010565145
         ]
        }
       ],
       "layout": {
        "template": {
         "data": {
          "bar": [
           {
            "error_x": {
             "color": "#2a3f5f"
            },
            "error_y": {
             "color": "#2a3f5f"
            },
            "marker": {
             "line": {
              "color": "#E5ECF6",
              "width": 0.5
             },
             "pattern": {
              "fillmode": "overlay",
              "size": 10,
              "solidity": 0.2
             }
            },
            "type": "bar"
           }
          ],
          "barpolar": [
           {
            "marker": {
             "line": {
              "color": "#E5ECF6",
              "width": 0.5
             },
             "pattern": {
              "fillmode": "overlay",
              "size": 10,
              "solidity": 0.2
             }
            },
            "type": "barpolar"
           }
          ],
          "carpet": [
           {
            "aaxis": {
             "endlinecolor": "#2a3f5f",
             "gridcolor": "white",
             "linecolor": "white",
             "minorgridcolor": "white",
             "startlinecolor": "#2a3f5f"
            },
            "baxis": {
             "endlinecolor": "#2a3f5f",
             "gridcolor": "white",
             "linecolor": "white",
             "minorgridcolor": "white",
             "startlinecolor": "#2a3f5f"
            },
            "type": "carpet"
           }
          ],
          "choropleth": [
           {
            "colorbar": {
             "outlinewidth": 0,
             "ticks": ""
            },
            "type": "choropleth"
           }
          ],
          "contour": [
           {
            "colorbar": {
             "outlinewidth": 0,
             "ticks": ""
            },
            "colorscale": [
             [
              0,
              "#0d0887"
             ],
             [
              0.1111111111111111,
              "#46039f"
             ],
             [
              0.2222222222222222,
              "#7201a8"
             ],
             [
              0.3333333333333333,
              "#9c179e"
             ],
             [
              0.4444444444444444,
              "#bd3786"
             ],
             [
              0.5555555555555556,
              "#d8576b"
             ],
             [
              0.6666666666666666,
              "#ed7953"
             ],
             [
              0.7777777777777778,
              "#fb9f3a"
             ],
             [
              0.8888888888888888,
              "#fdca26"
             ],
             [
              1,
              "#f0f921"
             ]
            ],
            "type": "contour"
           }
          ],
          "contourcarpet": [
           {
            "colorbar": {
             "outlinewidth": 0,
             "ticks": ""
            },
            "type": "contourcarpet"
           }
          ],
          "heatmap": [
           {
            "colorbar": {
             "outlinewidth": 0,
             "ticks": ""
            },
            "colorscale": [
             [
              0,
              "#0d0887"
             ],
             [
              0.1111111111111111,
              "#46039f"
             ],
             [
              0.2222222222222222,
              "#7201a8"
             ],
             [
              0.3333333333333333,
              "#9c179e"
             ],
             [
              0.4444444444444444,
              "#bd3786"
             ],
             [
              0.5555555555555556,
              "#d8576b"
             ],
             [
              0.6666666666666666,
              "#ed7953"
             ],
             [
              0.7777777777777778,
              "#fb9f3a"
             ],
             [
              0.8888888888888888,
              "#fdca26"
             ],
             [
              1,
              "#f0f921"
             ]
            ],
            "type": "heatmap"
           }
          ],
          "heatmapgl": [
           {
            "colorbar": {
             "outlinewidth": 0,
             "ticks": ""
            },
            "colorscale": [
             [
              0,
              "#0d0887"
             ],
             [
              0.1111111111111111,
              "#46039f"
             ],
             [
              0.2222222222222222,
              "#7201a8"
             ],
             [
              0.3333333333333333,
              "#9c179e"
             ],
             [
              0.4444444444444444,
              "#bd3786"
             ],
             [
              0.5555555555555556,
              "#d8576b"
             ],
             [
              0.6666666666666666,
              "#ed7953"
             ],
             [
              0.7777777777777778,
              "#fb9f3a"
             ],
             [
              0.8888888888888888,
              "#fdca26"
             ],
             [
              1,
              "#f0f921"
             ]
            ],
            "type": "heatmapgl"
           }
          ],
          "histogram": [
           {
            "marker": {
             "pattern": {
              "fillmode": "overlay",
              "size": 10,
              "solidity": 0.2
             }
            },
            "type": "histogram"
           }
          ],
          "histogram2d": [
           {
            "colorbar": {
             "outlinewidth": 0,
             "ticks": ""
            },
            "colorscale": [
             [
              0,
              "#0d0887"
             ],
             [
              0.1111111111111111,
              "#46039f"
             ],
             [
              0.2222222222222222,
              "#7201a8"
             ],
             [
              0.3333333333333333,
              "#9c179e"
             ],
             [
              0.4444444444444444,
              "#bd3786"
             ],
             [
              0.5555555555555556,
              "#d8576b"
             ],
             [
              0.6666666666666666,
              "#ed7953"
             ],
             [
              0.7777777777777778,
              "#fb9f3a"
             ],
             [
              0.8888888888888888,
              "#fdca26"
             ],
             [
              1,
              "#f0f921"
             ]
            ],
            "type": "histogram2d"
           }
          ],
          "histogram2dcontour": [
           {
            "colorbar": {
             "outlinewidth": 0,
             "ticks": ""
            },
            "colorscale": [
             [
              0,
              "#0d0887"
             ],
             [
              0.1111111111111111,
              "#46039f"
             ],
             [
              0.2222222222222222,
              "#7201a8"
             ],
             [
              0.3333333333333333,
              "#9c179e"
             ],
             [
              0.4444444444444444,
              "#bd3786"
             ],
             [
              0.5555555555555556,
              "#d8576b"
             ],
             [
              0.6666666666666666,
              "#ed7953"
             ],
             [
              0.7777777777777778,
              "#fb9f3a"
             ],
             [
              0.8888888888888888,
              "#fdca26"
             ],
             [
              1,
              "#f0f921"
             ]
            ],
            "type": "histogram2dcontour"
           }
          ],
          "mesh3d": [
           {
            "colorbar": {
             "outlinewidth": 0,
             "ticks": ""
            },
            "type": "mesh3d"
           }
          ],
          "parcoords": [
           {
            "line": {
             "colorbar": {
              "outlinewidth": 0,
              "ticks": ""
             }
            },
            "type": "parcoords"
           }
          ],
          "pie": [
           {
            "automargin": true,
            "type": "pie"
           }
          ],
          "scatter": [
           {
            "fillpattern": {
             "fillmode": "overlay",
             "size": 10,
             "solidity": 0.2
            },
            "type": "scatter"
           }
          ],
          "scatter3d": [
           {
            "line": {
             "colorbar": {
              "outlinewidth": 0,
              "ticks": ""
             }
            },
            "marker": {
             "colorbar": {
              "outlinewidth": 0,
              "ticks": ""
             }
            },
            "type": "scatter3d"
           }
          ],
          "scattercarpet": [
           {
            "marker": {
             "colorbar": {
              "outlinewidth": 0,
              "ticks": ""
             }
            },
            "type": "scattercarpet"
           }
          ],
          "scattergeo": [
           {
            "marker": {
             "colorbar": {
              "outlinewidth": 0,
              "ticks": ""
             }
            },
            "type": "scattergeo"
           }
          ],
          "scattergl": [
           {
            "marker": {
             "colorbar": {
              "outlinewidth": 0,
              "ticks": ""
             }
            },
            "type": "scattergl"
           }
          ],
          "scattermapbox": [
           {
            "marker": {
             "colorbar": {
              "outlinewidth": 0,
              "ticks": ""
             }
            },
            "type": "scattermapbox"
           }
          ],
          "scatterpolar": [
           {
            "marker": {
             "colorbar": {
              "outlinewidth": 0,
              "ticks": ""
             }
            },
            "type": "scatterpolar"
           }
          ],
          "scatterpolargl": [
           {
            "marker": {
             "colorbar": {
              "outlinewidth": 0,
              "ticks": ""
             }
            },
            "type": "scatterpolargl"
           }
          ],
          "scatterternary": [
           {
            "marker": {
             "colorbar": {
              "outlinewidth": 0,
              "ticks": ""
             }
            },
            "type": "scatterternary"
           }
          ],
          "surface": [
           {
            "colorbar": {
             "outlinewidth": 0,
             "ticks": ""
            },
            "colorscale": [
             [
              0,
              "#0d0887"
             ],
             [
              0.1111111111111111,
              "#46039f"
             ],
             [
              0.2222222222222222,
              "#7201a8"
             ],
             [
              0.3333333333333333,
              "#9c179e"
             ],
             [
              0.4444444444444444,
              "#bd3786"
             ],
             [
              0.5555555555555556,
              "#d8576b"
             ],
             [
              0.6666666666666666,
              "#ed7953"
             ],
             [
              0.7777777777777778,
              "#fb9f3a"
             ],
             [
              0.8888888888888888,
              "#fdca26"
             ],
             [
              1,
              "#f0f921"
             ]
            ],
            "type": "surface"
           }
          ],
          "table": [
           {
            "cells": {
             "fill": {
              "color": "#EBF0F8"
             },
             "line": {
              "color": "white"
             }
            },
            "header": {
             "fill": {
              "color": "#C8D4E3"
             },
             "line": {
              "color": "white"
             }
            },
            "type": "table"
           }
          ]
         },
         "layout": {
          "annotationdefaults": {
           "arrowcolor": "#2a3f5f",
           "arrowhead": 0,
           "arrowwidth": 1
          },
          "autotypenumbers": "strict",
          "coloraxis": {
           "colorbar": {
            "outlinewidth": 0,
            "ticks": ""
           }
          },
          "colorscale": {
           "diverging": [
            [
             0,
             "#8e0152"
            ],
            [
             0.1,
             "#c51b7d"
            ],
            [
             0.2,
             "#de77ae"
            ],
            [
             0.3,
             "#f1b6da"
            ],
            [
             0.4,
             "#fde0ef"
            ],
            [
             0.5,
             "#f7f7f7"
            ],
            [
             0.6,
             "#e6f5d0"
            ],
            [
             0.7,
             "#b8e186"
            ],
            [
             0.8,
             "#7fbc41"
            ],
            [
             0.9,
             "#4d9221"
            ],
            [
             1,
             "#276419"
            ]
           ],
           "sequential": [
            [
             0,
             "#0d0887"
            ],
            [
             0.1111111111111111,
             "#46039f"
            ],
            [
             0.2222222222222222,
             "#7201a8"
            ],
            [
             0.3333333333333333,
             "#9c179e"
            ],
            [
             0.4444444444444444,
             "#bd3786"
            ],
            [
             0.5555555555555556,
             "#d8576b"
            ],
            [
             0.6666666666666666,
             "#ed7953"
            ],
            [
             0.7777777777777778,
             "#fb9f3a"
            ],
            [
             0.8888888888888888,
             "#fdca26"
            ],
            [
             1,
             "#f0f921"
            ]
           ],
           "sequentialminus": [
            [
             0,
             "#0d0887"
            ],
            [
             0.1111111111111111,
             "#46039f"
            ],
            [
             0.2222222222222222,
             "#7201a8"
            ],
            [
             0.3333333333333333,
             "#9c179e"
            ],
            [
             0.4444444444444444,
             "#bd3786"
            ],
            [
             0.5555555555555556,
             "#d8576b"
            ],
            [
             0.6666666666666666,
             "#ed7953"
            ],
            [
             0.7777777777777778,
             "#fb9f3a"
            ],
            [
             0.8888888888888888,
             "#fdca26"
            ],
            [
             1,
             "#f0f921"
            ]
           ]
          },
          "colorway": [
           "#636efa",
           "#EF553B",
           "#00cc96",
           "#ab63fa",
           "#FFA15A",
           "#19d3f3",
           "#FF6692",
           "#B6E880",
           "#FF97FF",
           "#FECB52"
          ],
          "font": {
           "color": "#2a3f5f"
          },
          "geo": {
           "bgcolor": "white",
           "lakecolor": "white",
           "landcolor": "#E5ECF6",
           "showlakes": true,
           "showland": true,
           "subunitcolor": "white"
          },
          "hoverlabel": {
           "align": "left"
          },
          "hovermode": "closest",
          "mapbox": {
           "style": "light"
          },
          "paper_bgcolor": "white",
          "plot_bgcolor": "#E5ECF6",
          "polar": {
           "angularaxis": {
            "gridcolor": "white",
            "linecolor": "white",
            "ticks": ""
           },
           "bgcolor": "#E5ECF6",
           "radialaxis": {
            "gridcolor": "white",
            "linecolor": "white",
            "ticks": ""
           }
          },
          "scene": {
           "xaxis": {
            "backgroundcolor": "#E5ECF6",
            "gridcolor": "white",
            "gridwidth": 2,
            "linecolor": "white",
            "showbackground": true,
            "ticks": "",
            "zerolinecolor": "white"
           },
           "yaxis": {
            "backgroundcolor": "#E5ECF6",
            "gridcolor": "white",
            "gridwidth": 2,
            "linecolor": "white",
            "showbackground": true,
            "ticks": "",
            "zerolinecolor": "white"
           },
           "zaxis": {
            "backgroundcolor": "#E5ECF6",
            "gridcolor": "white",
            "gridwidth": 2,
            "linecolor": "white",
            "showbackground": true,
            "ticks": "",
            "zerolinecolor": "white"
           }
          },
          "shapedefaults": {
           "line": {
            "color": "#2a3f5f"
           }
          },
          "ternary": {
           "aaxis": {
            "gridcolor": "white",
            "linecolor": "white",
            "ticks": ""
           },
           "baxis": {
            "gridcolor": "white",
            "linecolor": "white",
            "ticks": ""
           },
           "bgcolor": "#E5ECF6",
           "caxis": {
            "gridcolor": "white",
            "linecolor": "white",
            "ticks": ""
           }
          },
          "title": {
           "x": 0.05
          },
          "xaxis": {
           "automargin": true,
           "gridcolor": "white",
           "linecolor": "white",
           "ticks": "",
           "title": {
            "standoff": 15
           },
           "zerolinecolor": "white",
           "zerolinewidth": 2
          },
          "yaxis": {
           "automargin": true,
           "gridcolor": "white",
           "linecolor": "white",
           "ticks": "",
           "title": {
            "standoff": 15
           },
           "zerolinecolor": "white",
           "zerolinewidth": 2
          }
         }
        },
        "title": {
         "text": "Optimization History Plot"
        },
        "xaxis": {
         "title": {
          "text": "Trial"
         }
        },
        "yaxis": {
         "title": {
          "text": "Objective Value"
         }
        }
       }
      },
      "text/html": [
       "<div>                            <div id=\"070dcc81-9626-4dbb-874c-d7575db138da\" class=\"plotly-graph-div\" style=\"height:525px; width:100%;\"></div>            <script type=\"text/javascript\">                require([\"plotly\"], function(Plotly) {                    window.PLOTLYENV=window.PLOTLYENV || {};                                    if (document.getElementById(\"070dcc81-9626-4dbb-874c-d7575db138da\")) {                    Plotly.newPlot(                        \"070dcc81-9626-4dbb-874c-d7575db138da\",                        [{\"mode\":\"markers\",\"name\":\"Objective Value\",\"x\":[0,1,2,3,4,5,6,7,8,9,10,11,12,13,14,15,16,17,18,19,20,21,22,23,24,25,26,27,28,29,30,31,32,33,34,35,36,37,38,39,40,41,42,43,44,45,46,47,48,49,50,51,52,53,54,55,56,57,58,59,60,61,62,63,64,65,66,67,68,69,70,71,72,73,74,75,76,77,78,79,80,81,82,83,84,85,86,87,88,89,90,91,92,93,94,95,96,97,98,99],\"y\":[0.9559903357178647,0.8654928357445174,0.9369085757843901,0.9548185481721555,0.9575291314406338,0.9478513896736639,0.8943484205588547,0.9483724506657853,0.9433534739176324,0.8368765925009862,0.9522500239874626,0.9015825062100876,0.9593396518086548,0.9597266495378416,0.9544343489802664,0.9581786586210941,0.9568899988272798,0.9089290664079575,0.923486924167635,0.9495430388383671,0.9608828452328918,0.9589530538705106,0.9593416507638673,0.9539148871523152,0.9580477936865,0.8774821693195023,0.9576583972110577,0.9572761969743816,0.9601116483118158,0.9476072506103477,0.9067371453853453,0.9588213893538311,0.9606275120203841,0.9603665817332808,0.9559819401059714,0.9526250279853731,0.9577904615187797,0.9536535570741693,0.9587001194042581,0.9593400515996972,0.957405862535848,0.9606335088860222,0.9585616584398555,0.9509589654473929,0.9575327295600167,0.9608840446060194,0.8959124031173041,0.9589538534525955,0.95830192752588,0.9246475175641531,0.9583083241825605,0.9588185908165333,0.96024251324641,0.9614071045533535,0.9593376528534421,0.9602409140822398,0.9592063881278052,0.954433949189224,0.9566318670774743,0.9589546530346806,0.9548217465004959,0.9612766394098019,0.9584379897440272,0.9568864007078968,0.9577948592202477,0.9575323297689742,0.9589502553332127,0.9603729783899616,0.958819790189661,0.9483764485762108,0.9467051887546776,0.9590795211036366,0.9568844017526841,0.9581770594569239,0.9586909242102796,0.9588225887269588,0.9179368916512969,0.9543078817471403,0.9565018017249652,0.9366444471689463,0.9586921235834073,0.9599847812876471,0.9598547159351378,0.9598535165620103,0.957529931022719,0.9561144042047358,0.9601128476849434,0.9571453320397874,0.9381988347423748,0.958824187891129,0.9590811202678068,0.9598579142634782,0.9602413138732822,0.9570156664783207,0.9621791010565145,0.9589518544973828,0.9415397552212711,0.8852153274555167,0.9592115854113585,0.9567531370270473],\"type\":\"scatter\"},{\"name\":\"Best Value\",\"x\":[0,1,2,3,4,5,6,7,8,9,10,11,12,13,14,15,16,17,18,19,20,21,22,23,24,25,26,27,28,29,30,31,32,33,34,35,36,37,38,39,40,41,42,43,44,45,46,47,48,49,50,51,52,53,54,55,56,57,58,59,60,61,62,63,64,65,66,67,68,69,70,71,72,73,74,75,76,77,78,79,80,81,82,83,84,85,86,87,88,89,90,91,92,93,94,95,96,97,98,99],\"y\":[0.9559903357178647,0.9559903357178647,0.9559903357178647,0.9559903357178647,0.9575291314406338,0.9575291314406338,0.9575291314406338,0.9575291314406338,0.9575291314406338,0.9575291314406338,0.9575291314406338,0.9575291314406338,0.9593396518086548,0.9597266495378416,0.9597266495378416,0.9597266495378416,0.9597266495378416,0.9597266495378416,0.9597266495378416,0.9597266495378416,0.9608828452328918,0.9608828452328918,0.9608828452328918,0.9608828452328918,0.9608828452328918,0.9608828452328918,0.9608828452328918,0.9608828452328918,0.9608828452328918,0.9608828452328918,0.9608828452328918,0.9608828452328918,0.9608828452328918,0.9608828452328918,0.9608828452328918,0.9608828452328918,0.9608828452328918,0.9608828452328918,0.9608828452328918,0.9608828452328918,0.9608828452328918,0.9608828452328918,0.9608828452328918,0.9608828452328918,0.9608828452328918,0.9608840446060194,0.9608840446060194,0.9608840446060194,0.9608840446060194,0.9608840446060194,0.9608840446060194,0.9608840446060194,0.9608840446060194,0.9614071045533535,0.9614071045533535,0.9614071045533535,0.9614071045533535,0.9614071045533535,0.9614071045533535,0.9614071045533535,0.9614071045533535,0.9614071045533535,0.9614071045533535,0.9614071045533535,0.9614071045533535,0.9614071045533535,0.9614071045533535,0.9614071045533535,0.9614071045533535,0.9614071045533535,0.9614071045533535,0.9614071045533535,0.9614071045533535,0.9614071045533535,0.9614071045533535,0.9614071045533535,0.9614071045533535,0.9614071045533535,0.9614071045533535,0.9614071045533535,0.9614071045533535,0.9614071045533535,0.9614071045533535,0.9614071045533535,0.9614071045533535,0.9614071045533535,0.9614071045533535,0.9614071045533535,0.9614071045533535,0.9614071045533535,0.9614071045533535,0.9614071045533535,0.9614071045533535,0.9614071045533535,0.9621791010565145,0.9621791010565145,0.9621791010565145,0.9621791010565145,0.9621791010565145,0.9621791010565145],\"type\":\"scatter\"}],                        {\"title\":{\"text\":\"Optimization History Plot\"},\"xaxis\":{\"title\":{\"text\":\"Trial\"}},\"yaxis\":{\"title\":{\"text\":\"Objective Value\"}},\"template\":{\"data\":{\"histogram2dcontour\":[{\"type\":\"histogram2dcontour\",\"colorbar\":{\"outlinewidth\":0,\"ticks\":\"\"},\"colorscale\":[[0.0,\"#0d0887\"],[0.1111111111111111,\"#46039f\"],[0.2222222222222222,\"#7201a8\"],[0.3333333333333333,\"#9c179e\"],[0.4444444444444444,\"#bd3786\"],[0.5555555555555556,\"#d8576b\"],[0.6666666666666666,\"#ed7953\"],[0.7777777777777778,\"#fb9f3a\"],[0.8888888888888888,\"#fdca26\"],[1.0,\"#f0f921\"]]}],\"choropleth\":[{\"type\":\"choropleth\",\"colorbar\":{\"outlinewidth\":0,\"ticks\":\"\"}}],\"histogram2d\":[{\"type\":\"histogram2d\",\"colorbar\":{\"outlinewidth\":0,\"ticks\":\"\"},\"colorscale\":[[0.0,\"#0d0887\"],[0.1111111111111111,\"#46039f\"],[0.2222222222222222,\"#7201a8\"],[0.3333333333333333,\"#9c179e\"],[0.4444444444444444,\"#bd3786\"],[0.5555555555555556,\"#d8576b\"],[0.6666666666666666,\"#ed7953\"],[0.7777777777777778,\"#fb9f3a\"],[0.8888888888888888,\"#fdca26\"],[1.0,\"#f0f921\"]]}],\"heatmap\":[{\"type\":\"heatmap\",\"colorbar\":{\"outlinewidth\":0,\"ticks\":\"\"},\"colorscale\":[[0.0,\"#0d0887\"],[0.1111111111111111,\"#46039f\"],[0.2222222222222222,\"#7201a8\"],[0.3333333333333333,\"#9c179e\"],[0.4444444444444444,\"#bd3786\"],[0.5555555555555556,\"#d8576b\"],[0.6666666666666666,\"#ed7953\"],[0.7777777777777778,\"#fb9f3a\"],[0.8888888888888888,\"#fdca26\"],[1.0,\"#f0f921\"]]}],\"heatmapgl\":[{\"type\":\"heatmapgl\",\"colorbar\":{\"outlinewidth\":0,\"ticks\":\"\"},\"colorscale\":[[0.0,\"#0d0887\"],[0.1111111111111111,\"#46039f\"],[0.2222222222222222,\"#7201a8\"],[0.3333333333333333,\"#9c179e\"],[0.4444444444444444,\"#bd3786\"],[0.5555555555555556,\"#d8576b\"],[0.6666666666666666,\"#ed7953\"],[0.7777777777777778,\"#fb9f3a\"],[0.8888888888888888,\"#fdca26\"],[1.0,\"#f0f921\"]]}],\"contourcarpet\":[{\"type\":\"contourcarpet\",\"colorbar\":{\"outlinewidth\":0,\"ticks\":\"\"}}],\"contour\":[{\"type\":\"contour\",\"colorbar\":{\"outlinewidth\":0,\"ticks\":\"\"},\"colorscale\":[[0.0,\"#0d0887\"],[0.1111111111111111,\"#46039f\"],[0.2222222222222222,\"#7201a8\"],[0.3333333333333333,\"#9c179e\"],[0.4444444444444444,\"#bd3786\"],[0.5555555555555556,\"#d8576b\"],[0.6666666666666666,\"#ed7953\"],[0.7777777777777778,\"#fb9f3a\"],[0.8888888888888888,\"#fdca26\"],[1.0,\"#f0f921\"]]}],\"surface\":[{\"type\":\"surface\",\"colorbar\":{\"outlinewidth\":0,\"ticks\":\"\"},\"colorscale\":[[0.0,\"#0d0887\"],[0.1111111111111111,\"#46039f\"],[0.2222222222222222,\"#7201a8\"],[0.3333333333333333,\"#9c179e\"],[0.4444444444444444,\"#bd3786\"],[0.5555555555555556,\"#d8576b\"],[0.6666666666666666,\"#ed7953\"],[0.7777777777777778,\"#fb9f3a\"],[0.8888888888888888,\"#fdca26\"],[1.0,\"#f0f921\"]]}],\"mesh3d\":[{\"type\":\"mesh3d\",\"colorbar\":{\"outlinewidth\":0,\"ticks\":\"\"}}],\"scatter\":[{\"fillpattern\":{\"fillmode\":\"overlay\",\"size\":10,\"solidity\":0.2},\"type\":\"scatter\"}],\"parcoords\":[{\"type\":\"parcoords\",\"line\":{\"colorbar\":{\"outlinewidth\":0,\"ticks\":\"\"}}}],\"scatterpolargl\":[{\"type\":\"scatterpolargl\",\"marker\":{\"colorbar\":{\"outlinewidth\":0,\"ticks\":\"\"}}}],\"bar\":[{\"error_x\":{\"color\":\"#2a3f5f\"},\"error_y\":{\"color\":\"#2a3f5f\"},\"marker\":{\"line\":{\"color\":\"#E5ECF6\",\"width\":0.5},\"pattern\":{\"fillmode\":\"overlay\",\"size\":10,\"solidity\":0.2}},\"type\":\"bar\"}],\"scattergeo\":[{\"type\":\"scattergeo\",\"marker\":{\"colorbar\":{\"outlinewidth\":0,\"ticks\":\"\"}}}],\"scatterpolar\":[{\"type\":\"scatterpolar\",\"marker\":{\"colorbar\":{\"outlinewidth\":0,\"ticks\":\"\"}}}],\"histogram\":[{\"marker\":{\"pattern\":{\"fillmode\":\"overlay\",\"size\":10,\"solidity\":0.2}},\"type\":\"histogram\"}],\"scattergl\":[{\"type\":\"scattergl\",\"marker\":{\"colorbar\":{\"outlinewidth\":0,\"ticks\":\"\"}}}],\"scatter3d\":[{\"type\":\"scatter3d\",\"line\":{\"colorbar\":{\"outlinewidth\":0,\"ticks\":\"\"}},\"marker\":{\"colorbar\":{\"outlinewidth\":0,\"ticks\":\"\"}}}],\"scattermapbox\":[{\"type\":\"scattermapbox\",\"marker\":{\"colorbar\":{\"outlinewidth\":0,\"ticks\":\"\"}}}],\"scatterternary\":[{\"type\":\"scatterternary\",\"marker\":{\"colorbar\":{\"outlinewidth\":0,\"ticks\":\"\"}}}],\"scattercarpet\":[{\"type\":\"scattercarpet\",\"marker\":{\"colorbar\":{\"outlinewidth\":0,\"ticks\":\"\"}}}],\"carpet\":[{\"aaxis\":{\"endlinecolor\":\"#2a3f5f\",\"gridcolor\":\"white\",\"linecolor\":\"white\",\"minorgridcolor\":\"white\",\"startlinecolor\":\"#2a3f5f\"},\"baxis\":{\"endlinecolor\":\"#2a3f5f\",\"gridcolor\":\"white\",\"linecolor\":\"white\",\"minorgridcolor\":\"white\",\"startlinecolor\":\"#2a3f5f\"},\"type\":\"carpet\"}],\"table\":[{\"cells\":{\"fill\":{\"color\":\"#EBF0F8\"},\"line\":{\"color\":\"white\"}},\"header\":{\"fill\":{\"color\":\"#C8D4E3\"},\"line\":{\"color\":\"white\"}},\"type\":\"table\"}],\"barpolar\":[{\"marker\":{\"line\":{\"color\":\"#E5ECF6\",\"width\":0.5},\"pattern\":{\"fillmode\":\"overlay\",\"size\":10,\"solidity\":0.2}},\"type\":\"barpolar\"}],\"pie\":[{\"automargin\":true,\"type\":\"pie\"}]},\"layout\":{\"autotypenumbers\":\"strict\",\"colorway\":[\"#636efa\",\"#EF553B\",\"#00cc96\",\"#ab63fa\",\"#FFA15A\",\"#19d3f3\",\"#FF6692\",\"#B6E880\",\"#FF97FF\",\"#FECB52\"],\"font\":{\"color\":\"#2a3f5f\"},\"hovermode\":\"closest\",\"hoverlabel\":{\"align\":\"left\"},\"paper_bgcolor\":\"white\",\"plot_bgcolor\":\"#E5ECF6\",\"polar\":{\"bgcolor\":\"#E5ECF6\",\"angularaxis\":{\"gridcolor\":\"white\",\"linecolor\":\"white\",\"ticks\":\"\"},\"radialaxis\":{\"gridcolor\":\"white\",\"linecolor\":\"white\",\"ticks\":\"\"}},\"ternary\":{\"bgcolor\":\"#E5ECF6\",\"aaxis\":{\"gridcolor\":\"white\",\"linecolor\":\"white\",\"ticks\":\"\"},\"baxis\":{\"gridcolor\":\"white\",\"linecolor\":\"white\",\"ticks\":\"\"},\"caxis\":{\"gridcolor\":\"white\",\"linecolor\":\"white\",\"ticks\":\"\"}},\"coloraxis\":{\"colorbar\":{\"outlinewidth\":0,\"ticks\":\"\"}},\"colorscale\":{\"sequential\":[[0.0,\"#0d0887\"],[0.1111111111111111,\"#46039f\"],[0.2222222222222222,\"#7201a8\"],[0.3333333333333333,\"#9c179e\"],[0.4444444444444444,\"#bd3786\"],[0.5555555555555556,\"#d8576b\"],[0.6666666666666666,\"#ed7953\"],[0.7777777777777778,\"#fb9f3a\"],[0.8888888888888888,\"#fdca26\"],[1.0,\"#f0f921\"]],\"sequentialminus\":[[0.0,\"#0d0887\"],[0.1111111111111111,\"#46039f\"],[0.2222222222222222,\"#7201a8\"],[0.3333333333333333,\"#9c179e\"],[0.4444444444444444,\"#bd3786\"],[0.5555555555555556,\"#d8576b\"],[0.6666666666666666,\"#ed7953\"],[0.7777777777777778,\"#fb9f3a\"],[0.8888888888888888,\"#fdca26\"],[1.0,\"#f0f921\"]],\"diverging\":[[0,\"#8e0152\"],[0.1,\"#c51b7d\"],[0.2,\"#de77ae\"],[0.3,\"#f1b6da\"],[0.4,\"#fde0ef\"],[0.5,\"#f7f7f7\"],[0.6,\"#e6f5d0\"],[0.7,\"#b8e186\"],[0.8,\"#7fbc41\"],[0.9,\"#4d9221\"],[1,\"#276419\"]]},\"xaxis\":{\"gridcolor\":\"white\",\"linecolor\":\"white\",\"ticks\":\"\",\"title\":{\"standoff\":15},\"zerolinecolor\":\"white\",\"automargin\":true,\"zerolinewidth\":2},\"yaxis\":{\"gridcolor\":\"white\",\"linecolor\":\"white\",\"ticks\":\"\",\"title\":{\"standoff\":15},\"zerolinecolor\":\"white\",\"automargin\":true,\"zerolinewidth\":2},\"scene\":{\"xaxis\":{\"backgroundcolor\":\"#E5ECF6\",\"gridcolor\":\"white\",\"linecolor\":\"white\",\"showbackground\":true,\"ticks\":\"\",\"zerolinecolor\":\"white\",\"gridwidth\":2},\"yaxis\":{\"backgroundcolor\":\"#E5ECF6\",\"gridcolor\":\"white\",\"linecolor\":\"white\",\"showbackground\":true,\"ticks\":\"\",\"zerolinecolor\":\"white\",\"gridwidth\":2},\"zaxis\":{\"backgroundcolor\":\"#E5ECF6\",\"gridcolor\":\"white\",\"linecolor\":\"white\",\"showbackground\":true,\"ticks\":\"\",\"zerolinecolor\":\"white\",\"gridwidth\":2}},\"shapedefaults\":{\"line\":{\"color\":\"#2a3f5f\"}},\"annotationdefaults\":{\"arrowcolor\":\"#2a3f5f\",\"arrowhead\":0,\"arrowwidth\":1},\"geo\":{\"bgcolor\":\"white\",\"landcolor\":\"#E5ECF6\",\"subunitcolor\":\"white\",\"showland\":true,\"showlakes\":true,\"lakecolor\":\"white\"},\"title\":{\"x\":0.05},\"mapbox\":{\"style\":\"light\"}}}},                        {\"responsive\": true}                    ).then(function(){\n",
       "                            \n",
       "var gd = document.getElementById('070dcc81-9626-4dbb-874c-d7575db138da');\n",
       "var x = new MutationObserver(function (mutations, observer) {{\n",
       "        var display = window.getComputedStyle(gd).display;\n",
       "        if (!display || display === 'none') {{\n",
       "            console.log([gd, 'removed!']);\n",
       "            Plotly.purge(gd);\n",
       "            observer.disconnect();\n",
       "        }}\n",
       "}});\n",
       "\n",
       "// Listen for the removal of the full notebook cells\n",
       "var notebookContainer = gd.closest('#notebook-container');\n",
       "if (notebookContainer) {{\n",
       "    x.observe(notebookContainer, {childList: true});\n",
       "}}\n",
       "\n",
       "// Listen for the clearing of the current output cell\n",
       "var outputEl = gd.closest('.output');\n",
       "if (outputEl) {{\n",
       "    x.observe(outputEl, {childList: true});\n",
       "}}\n",
       "\n",
       "                        })                };                });            </script>        </div>"
      ]
     },
     "metadata": {},
     "output_type": "display_data"
    }
   ],
   "source": [
    "# 시각화\n",
    "optuna.visualization.plot_optimization_history(study)"
   ]
  },
  {
   "cell_type": "code",
   "execution_count": 95,
   "id": "adc181cc-e0cf-4a57-bec4-591dbe64f1fb",
   "metadata": {},
   "outputs": [
    {
     "data": {
      "application/vnd.plotly.v1+json": {
       "config": {
        "plotlyServerURL": "https://plot.ly"
       },
       "data": [
        {
         "dimensions": [
          {
           "label": "Objective Value",
           "range": [
            0.8368765925009862,
            0.9621791010565145
           ],
           "values": [
            0.9559903357178647,
            0.8654928357445174,
            0.9369085757843901,
            0.9548185481721555,
            0.9575291314406338,
            0.9478513896736639,
            0.8943484205588547,
            0.9483724506657853,
            0.9433534739176324,
            0.8368765925009862,
            0.9522500239874626,
            0.9015825062100876,
            0.9593396518086548,
            0.9597266495378416,
            0.9544343489802664,
            0.9581786586210941,
            0.9568899988272798,
            0.9089290664079575,
            0.923486924167635,
            0.9495430388383671,
            0.9608828452328918,
            0.9589530538705106,
            0.9593416507638673,
            0.9539148871523152,
            0.9580477936865,
            0.8774821693195023,
            0.9576583972110577,
            0.9572761969743816,
            0.9601116483118158,
            0.9476072506103477,
            0.9067371453853453,
            0.9588213893538311,
            0.9606275120203841,
            0.9603665817332808,
            0.9559819401059714,
            0.9526250279853731,
            0.9577904615187797,
            0.9536535570741693,
            0.9587001194042581,
            0.9593400515996972,
            0.957405862535848,
            0.9606335088860222,
            0.9585616584398555,
            0.9509589654473929,
            0.9575327295600167,
            0.9608840446060194,
            0.8959124031173041,
            0.9589538534525955,
            0.95830192752588,
            0.9246475175641531,
            0.9583083241825605,
            0.9588185908165333,
            0.96024251324641,
            0.9614071045533535,
            0.9593376528534421,
            0.9602409140822398,
            0.9592063881278052,
            0.954433949189224,
            0.9566318670774743,
            0.9589546530346806,
            0.9548217465004959,
            0.9612766394098019,
            0.9584379897440272,
            0.9568864007078968,
            0.9577948592202477,
            0.9575323297689742,
            0.9589502553332127,
            0.9603729783899616,
            0.958819790189661,
            0.9483764485762108,
            0.9467051887546776,
            0.9590795211036366,
            0.9568844017526841,
            0.9581770594569239,
            0.9586909242102796,
            0.9588225887269588,
            0.9179368916512969,
            0.9543078817471403,
            0.9565018017249652,
            0.9366444471689463,
            0.9586921235834073,
            0.9599847812876471,
            0.9598547159351378,
            0.9598535165620103,
            0.957529931022719,
            0.9561144042047358,
            0.9601128476849434,
            0.9571453320397874,
            0.9381988347423748,
            0.958824187891129,
            0.9590811202678068,
            0.9598579142634782,
            0.9602413138732822,
            0.9570156664783207,
            0.9621791010565145,
            0.9589518544973828,
            0.9415397552212711,
            0.8852153274555167,
            0.9592115854113585,
            0.9567531370270473
           ]
          },
          {
           "label": "learning_rate",
           "range": [
            -2.249600862673204,
            -0.3148592320658628
           ],
           "ticktext": [
            "0.00563",
            "0.01",
            "0.1",
            "0.484"
           ],
           "tickvals": [
            -2.249600862673204,
            -2,
            -1,
            -0.3148592320658628
           ],
           "values": [
            -1.2072516833732718,
            -2.0569302620035788,
            -1.3732131840438442,
            -0.4497022347186541,
            -0.4618597115449018,
            -0.40850975798514744,
            -1.1163281900138968,
            -0.5914329010403425,
            -1.3302170513050429,
            -1.9867383563542267,
            -0.8485178740876713,
            -1.6551764530673838,
            -0.8799899938756146,
            -0.8023514274098227,
            -0.8119792952246104,
            -0.8498862413448415,
            -1.0427487438294247,
            -1.5682872650164998,
            -0.6519020883094728,
            -0.969831722824894,
            -0.6851455167917634,
            -0.6180063690611015,
            -0.7260865006086307,
            -0.33527501517043357,
            -0.7432108744819617,
            -2.241904758743371,
            -0.5850135886965141,
            -0.9926346925647067,
            -0.716914794610793,
            -1.1981547054669157,
            -1.5150123622741747,
            -0.6491544644272228,
            -0.716264880588577,
            -0.5302847234727285,
            -0.5264125097096878,
            -0.38953893277650925,
            -0.4964340403607197,
            -0.3148592320658628,
            -1.0988977411924339,
            -0.7130024380817291,
            -0.924580015251164,
            -0.7675108538732541,
            -0.5160891544426598,
            -1.230261486457496,
            -0.4349212839233637,
            -0.7473346227344538,
            -1.8638836401537444,
            -0.7975582693663177,
            -0.550786584001673,
            -0.8987882430832757,
            -1.0697971960041386,
            -0.6857187174701207,
            -0.7714503506177464,
            -0.8038356085827199,
            -0.9729156615645815,
            -0.8588759108904979,
            -0.605214520866946,
            -0.4099549724053378,
            -0.6512143537295901,
            -1.1600005551135568,
            -0.8054820464837443,
            -0.7659338434552124,
            -0.9416889257013363,
            -0.5848657405891394,
            -1.0255538079567943,
            -0.46890470270467244,
            -0.7604962425785728,
            -0.8553067010204838,
            -0.8460152575535846,
            -0.6755783237043419,
            -1.3974009361151225,
            -0.7349865362862215,
            -0.8868597514082359,
            -0.5565981426439852,
            -0.6160846513841438,
            -0.7916533920297707,
            -0.6866079264062801,
            -0.8524992527128445,
            -1.0091241648822797,
            -0.9265379906946107,
            -0.6342142632013543,
            -0.7609031044584975,
            -0.7531526573675658,
            -0.8186303620960872,
            -0.48980965569280743,
            -0.356586315231322,
            -0.6884945639891883,
            -0.5857745718369509,
            -1.7717243658971196,
            -0.7282273191027626,
            -0.888857765256494,
            -0.7871509350419332,
            -0.8291464366224076,
            -0.5496192250132004,
            -0.8286149636160508,
            -0.9447020162181208,
            -0.6503807535204497,
            -2.249600862673204,
            -0.7753119364873229,
            -0.7057013199984572
           ]
          },
          {
           "label": "max_depth",
           "range": [
            3,
            10
           ],
           "values": [
            9,
            7,
            8,
            10,
            9,
            5,
            3,
            5,
            7,
            4,
            10,
            9,
            8,
            8,
            6,
            8,
            8,
            6,
            7,
            8,
            9,
            9,
            10,
            10,
            10,
            9,
            10,
            9,
            8,
            7,
            6,
            8,
            9,
            8,
            9,
            7,
            8,
            9,
            9,
            7,
            8,
            8,
            9,
            8,
            7,
            9,
            9,
            10,
            9,
            4,
            10,
            8,
            9,
            9,
            9,
            10,
            8,
            9,
            9,
            10,
            8,
            9,
            9,
            8,
            9,
            10,
            9,
            8,
            10,
            5,
            8,
            9,
            7,
            8,
            8,
            9,
            3,
            6,
            9,
            7,
            8,
            9,
            9,
            9,
            8,
            10,
            9,
            9,
            10,
            9,
            8,
            10,
            10,
            9,
            10,
            8,
            10,
            9,
            9,
            8
           ]
          },
          {
           "label": "n_estimators",
           "range": [
            101,
            1000
           ],
           "values": [
            818,
            642,
            524,
            834,
            473,
            665,
            875,
            748,
            860,
            574,
            208,
            357,
            1000,
            989,
            986,
            992,
            928,
            708,
            115,
            393,
            788,
            923,
            997,
            793,
            902,
            792,
            931,
            723,
            954,
            809,
            636,
            956,
            874,
            866,
            867,
            753,
            828,
            579,
            641,
            889,
            683,
            856,
            841,
            776,
            863,
            936,
            504,
            834,
            892,
            749,
            929,
            877,
            958,
            956,
            838,
            911,
            768,
            427,
            330,
            950,
            712,
            967,
            974,
            903,
            800,
            931,
            1000,
            866,
            969,
            821,
            850,
            864,
            903,
            944,
            882,
            915,
            807,
            978,
            778,
            288,
            852,
            952,
            972,
            882,
            931,
            955,
            917,
            865,
            893,
            605,
            821,
            907,
            940,
            1000,
            968,
            972,
            101,
            960,
            840,
            984
           ]
          }
         ],
         "labelangle": 30,
         "labelside": "bottom",
         "line": {
          "color": [
           0.9559903357178647,
           0.8654928357445174,
           0.9369085757843901,
           0.9548185481721555,
           0.9575291314406338,
           0.9478513896736639,
           0.8943484205588547,
           0.9483724506657853,
           0.9433534739176324,
           0.8368765925009862,
           0.9522500239874626,
           0.9015825062100876,
           0.9593396518086548,
           0.9597266495378416,
           0.9544343489802664,
           0.9581786586210941,
           0.9568899988272798,
           0.9089290664079575,
           0.923486924167635,
           0.9495430388383671,
           0.9608828452328918,
           0.9589530538705106,
           0.9593416507638673,
           0.9539148871523152,
           0.9580477936865,
           0.8774821693195023,
           0.9576583972110577,
           0.9572761969743816,
           0.9601116483118158,
           0.9476072506103477,
           0.9067371453853453,
           0.9588213893538311,
           0.9606275120203841,
           0.9603665817332808,
           0.9559819401059714,
           0.9526250279853731,
           0.9577904615187797,
           0.9536535570741693,
           0.9587001194042581,
           0.9593400515996972,
           0.957405862535848,
           0.9606335088860222,
           0.9585616584398555,
           0.9509589654473929,
           0.9575327295600167,
           0.9608840446060194,
           0.8959124031173041,
           0.9589538534525955,
           0.95830192752588,
           0.9246475175641531,
           0.9583083241825605,
           0.9588185908165333,
           0.96024251324641,
           0.9614071045533535,
           0.9593376528534421,
           0.9602409140822398,
           0.9592063881278052,
           0.954433949189224,
           0.9566318670774743,
           0.9589546530346806,
           0.9548217465004959,
           0.9612766394098019,
           0.9584379897440272,
           0.9568864007078968,
           0.9577948592202477,
           0.9575323297689742,
           0.9589502553332127,
           0.9603729783899616,
           0.958819790189661,
           0.9483764485762108,
           0.9467051887546776,
           0.9590795211036366,
           0.9568844017526841,
           0.9581770594569239,
           0.9586909242102796,
           0.9588225887269588,
           0.9179368916512969,
           0.9543078817471403,
           0.9565018017249652,
           0.9366444471689463,
           0.9586921235834073,
           0.9599847812876471,
           0.9598547159351378,
           0.9598535165620103,
           0.957529931022719,
           0.9561144042047358,
           0.9601128476849434,
           0.9571453320397874,
           0.9381988347423748,
           0.958824187891129,
           0.9590811202678068,
           0.9598579142634782,
           0.9602413138732822,
           0.9570156664783207,
           0.9621791010565145,
           0.9589518544973828,
           0.9415397552212711,
           0.8852153274555167,
           0.9592115854113585,
           0.9567531370270473
          ],
          "colorbar": {
           "title": {
            "text": "Objective Value"
           }
          },
          "colorscale": [
           [
            0,
            "rgb(247,251,255)"
           ],
           [
            0.125,
            "rgb(222,235,247)"
           ],
           [
            0.25,
            "rgb(198,219,239)"
           ],
           [
            0.375,
            "rgb(158,202,225)"
           ],
           [
            0.5,
            "rgb(107,174,214)"
           ],
           [
            0.625,
            "rgb(66,146,198)"
           ],
           [
            0.75,
            "rgb(33,113,181)"
           ],
           [
            0.875,
            "rgb(8,81,156)"
           ],
           [
            1,
            "rgb(8,48,107)"
           ]
          ],
          "reversescale": false,
          "showscale": true
         },
         "type": "parcoords"
        }
       ],
       "layout": {
        "template": {
         "data": {
          "bar": [
           {
            "error_x": {
             "color": "#2a3f5f"
            },
            "error_y": {
             "color": "#2a3f5f"
            },
            "marker": {
             "line": {
              "color": "#E5ECF6",
              "width": 0.5
             },
             "pattern": {
              "fillmode": "overlay",
              "size": 10,
              "solidity": 0.2
             }
            },
            "type": "bar"
           }
          ],
          "barpolar": [
           {
            "marker": {
             "line": {
              "color": "#E5ECF6",
              "width": 0.5
             },
             "pattern": {
              "fillmode": "overlay",
              "size": 10,
              "solidity": 0.2
             }
            },
            "type": "barpolar"
           }
          ],
          "carpet": [
           {
            "aaxis": {
             "endlinecolor": "#2a3f5f",
             "gridcolor": "white",
             "linecolor": "white",
             "minorgridcolor": "white",
             "startlinecolor": "#2a3f5f"
            },
            "baxis": {
             "endlinecolor": "#2a3f5f",
             "gridcolor": "white",
             "linecolor": "white",
             "minorgridcolor": "white",
             "startlinecolor": "#2a3f5f"
            },
            "type": "carpet"
           }
          ],
          "choropleth": [
           {
            "colorbar": {
             "outlinewidth": 0,
             "ticks": ""
            },
            "type": "choropleth"
           }
          ],
          "contour": [
           {
            "colorbar": {
             "outlinewidth": 0,
             "ticks": ""
            },
            "colorscale": [
             [
              0,
              "#0d0887"
             ],
             [
              0.1111111111111111,
              "#46039f"
             ],
             [
              0.2222222222222222,
              "#7201a8"
             ],
             [
              0.3333333333333333,
              "#9c179e"
             ],
             [
              0.4444444444444444,
              "#bd3786"
             ],
             [
              0.5555555555555556,
              "#d8576b"
             ],
             [
              0.6666666666666666,
              "#ed7953"
             ],
             [
              0.7777777777777778,
              "#fb9f3a"
             ],
             [
              0.8888888888888888,
              "#fdca26"
             ],
             [
              1,
              "#f0f921"
             ]
            ],
            "type": "contour"
           }
          ],
          "contourcarpet": [
           {
            "colorbar": {
             "outlinewidth": 0,
             "ticks": ""
            },
            "type": "contourcarpet"
           }
          ],
          "heatmap": [
           {
            "colorbar": {
             "outlinewidth": 0,
             "ticks": ""
            },
            "colorscale": [
             [
              0,
              "#0d0887"
             ],
             [
              0.1111111111111111,
              "#46039f"
             ],
             [
              0.2222222222222222,
              "#7201a8"
             ],
             [
              0.3333333333333333,
              "#9c179e"
             ],
             [
              0.4444444444444444,
              "#bd3786"
             ],
             [
              0.5555555555555556,
              "#d8576b"
             ],
             [
              0.6666666666666666,
              "#ed7953"
             ],
             [
              0.7777777777777778,
              "#fb9f3a"
             ],
             [
              0.8888888888888888,
              "#fdca26"
             ],
             [
              1,
              "#f0f921"
             ]
            ],
            "type": "heatmap"
           }
          ],
          "heatmapgl": [
           {
            "colorbar": {
             "outlinewidth": 0,
             "ticks": ""
            },
            "colorscale": [
             [
              0,
              "#0d0887"
             ],
             [
              0.1111111111111111,
              "#46039f"
             ],
             [
              0.2222222222222222,
              "#7201a8"
             ],
             [
              0.3333333333333333,
              "#9c179e"
             ],
             [
              0.4444444444444444,
              "#bd3786"
             ],
             [
              0.5555555555555556,
              "#d8576b"
             ],
             [
              0.6666666666666666,
              "#ed7953"
             ],
             [
              0.7777777777777778,
              "#fb9f3a"
             ],
             [
              0.8888888888888888,
              "#fdca26"
             ],
             [
              1,
              "#f0f921"
             ]
            ],
            "type": "heatmapgl"
           }
          ],
          "histogram": [
           {
            "marker": {
             "pattern": {
              "fillmode": "overlay",
              "size": 10,
              "solidity": 0.2
             }
            },
            "type": "histogram"
           }
          ],
          "histogram2d": [
           {
            "colorbar": {
             "outlinewidth": 0,
             "ticks": ""
            },
            "colorscale": [
             [
              0,
              "#0d0887"
             ],
             [
              0.1111111111111111,
              "#46039f"
             ],
             [
              0.2222222222222222,
              "#7201a8"
             ],
             [
              0.3333333333333333,
              "#9c179e"
             ],
             [
              0.4444444444444444,
              "#bd3786"
             ],
             [
              0.5555555555555556,
              "#d8576b"
             ],
             [
              0.6666666666666666,
              "#ed7953"
             ],
             [
              0.7777777777777778,
              "#fb9f3a"
             ],
             [
              0.8888888888888888,
              "#fdca26"
             ],
             [
              1,
              "#f0f921"
             ]
            ],
            "type": "histogram2d"
           }
          ],
          "histogram2dcontour": [
           {
            "colorbar": {
             "outlinewidth": 0,
             "ticks": ""
            },
            "colorscale": [
             [
              0,
              "#0d0887"
             ],
             [
              0.1111111111111111,
              "#46039f"
             ],
             [
              0.2222222222222222,
              "#7201a8"
             ],
             [
              0.3333333333333333,
              "#9c179e"
             ],
             [
              0.4444444444444444,
              "#bd3786"
             ],
             [
              0.5555555555555556,
              "#d8576b"
             ],
             [
              0.6666666666666666,
              "#ed7953"
             ],
             [
              0.7777777777777778,
              "#fb9f3a"
             ],
             [
              0.8888888888888888,
              "#fdca26"
             ],
             [
              1,
              "#f0f921"
             ]
            ],
            "type": "histogram2dcontour"
           }
          ],
          "mesh3d": [
           {
            "colorbar": {
             "outlinewidth": 0,
             "ticks": ""
            },
            "type": "mesh3d"
           }
          ],
          "parcoords": [
           {
            "line": {
             "colorbar": {
              "outlinewidth": 0,
              "ticks": ""
             }
            },
            "type": "parcoords"
           }
          ],
          "pie": [
           {
            "automargin": true,
            "type": "pie"
           }
          ],
          "scatter": [
           {
            "fillpattern": {
             "fillmode": "overlay",
             "size": 10,
             "solidity": 0.2
            },
            "type": "scatter"
           }
          ],
          "scatter3d": [
           {
            "line": {
             "colorbar": {
              "outlinewidth": 0,
              "ticks": ""
             }
            },
            "marker": {
             "colorbar": {
              "outlinewidth": 0,
              "ticks": ""
             }
            },
            "type": "scatter3d"
           }
          ],
          "scattercarpet": [
           {
            "marker": {
             "colorbar": {
              "outlinewidth": 0,
              "ticks": ""
             }
            },
            "type": "scattercarpet"
           }
          ],
          "scattergeo": [
           {
            "marker": {
             "colorbar": {
              "outlinewidth": 0,
              "ticks": ""
             }
            },
            "type": "scattergeo"
           }
          ],
          "scattergl": [
           {
            "marker": {
             "colorbar": {
              "outlinewidth": 0,
              "ticks": ""
             }
            },
            "type": "scattergl"
           }
          ],
          "scattermapbox": [
           {
            "marker": {
             "colorbar": {
              "outlinewidth": 0,
              "ticks": ""
             }
            },
            "type": "scattermapbox"
           }
          ],
          "scatterpolar": [
           {
            "marker": {
             "colorbar": {
              "outlinewidth": 0,
              "ticks": ""
             }
            },
            "type": "scatterpolar"
           }
          ],
          "scatterpolargl": [
           {
            "marker": {
             "colorbar": {
              "outlinewidth": 0,
              "ticks": ""
             }
            },
            "type": "scatterpolargl"
           }
          ],
          "scatterternary": [
           {
            "marker": {
             "colorbar": {
              "outlinewidth": 0,
              "ticks": ""
             }
            },
            "type": "scatterternary"
           }
          ],
          "surface": [
           {
            "colorbar": {
             "outlinewidth": 0,
             "ticks": ""
            },
            "colorscale": [
             [
              0,
              "#0d0887"
             ],
             [
              0.1111111111111111,
              "#46039f"
             ],
             [
              0.2222222222222222,
              "#7201a8"
             ],
             [
              0.3333333333333333,
              "#9c179e"
             ],
             [
              0.4444444444444444,
              "#bd3786"
             ],
             [
              0.5555555555555556,
              "#d8576b"
             ],
             [
              0.6666666666666666,
              "#ed7953"
             ],
             [
              0.7777777777777778,
              "#fb9f3a"
             ],
             [
              0.8888888888888888,
              "#fdca26"
             ],
             [
              1,
              "#f0f921"
             ]
            ],
            "type": "surface"
           }
          ],
          "table": [
           {
            "cells": {
             "fill": {
              "color": "#EBF0F8"
             },
             "line": {
              "color": "white"
             }
            },
            "header": {
             "fill": {
              "color": "#C8D4E3"
             },
             "line": {
              "color": "white"
             }
            },
            "type": "table"
           }
          ]
         },
         "layout": {
          "annotationdefaults": {
           "arrowcolor": "#2a3f5f",
           "arrowhead": 0,
           "arrowwidth": 1
          },
          "autotypenumbers": "strict",
          "coloraxis": {
           "colorbar": {
            "outlinewidth": 0,
            "ticks": ""
           }
          },
          "colorscale": {
           "diverging": [
            [
             0,
             "#8e0152"
            ],
            [
             0.1,
             "#c51b7d"
            ],
            [
             0.2,
             "#de77ae"
            ],
            [
             0.3,
             "#f1b6da"
            ],
            [
             0.4,
             "#fde0ef"
            ],
            [
             0.5,
             "#f7f7f7"
            ],
            [
             0.6,
             "#e6f5d0"
            ],
            [
             0.7,
             "#b8e186"
            ],
            [
             0.8,
             "#7fbc41"
            ],
            [
             0.9,
             "#4d9221"
            ],
            [
             1,
             "#276419"
            ]
           ],
           "sequential": [
            [
             0,
             "#0d0887"
            ],
            [
             0.1111111111111111,
             "#46039f"
            ],
            [
             0.2222222222222222,
             "#7201a8"
            ],
            [
             0.3333333333333333,
             "#9c179e"
            ],
            [
             0.4444444444444444,
             "#bd3786"
            ],
            [
             0.5555555555555556,
             "#d8576b"
            ],
            [
             0.6666666666666666,
             "#ed7953"
            ],
            [
             0.7777777777777778,
             "#fb9f3a"
            ],
            [
             0.8888888888888888,
             "#fdca26"
            ],
            [
             1,
             "#f0f921"
            ]
           ],
           "sequentialminus": [
            [
             0,
             "#0d0887"
            ],
            [
             0.1111111111111111,
             "#46039f"
            ],
            [
             0.2222222222222222,
             "#7201a8"
            ],
            [
             0.3333333333333333,
             "#9c179e"
            ],
            [
             0.4444444444444444,
             "#bd3786"
            ],
            [
             0.5555555555555556,
             "#d8576b"
            ],
            [
             0.6666666666666666,
             "#ed7953"
            ],
            [
             0.7777777777777778,
             "#fb9f3a"
            ],
            [
             0.8888888888888888,
             "#fdca26"
            ],
            [
             1,
             "#f0f921"
            ]
           ]
          },
          "colorway": [
           "#636efa",
           "#EF553B",
           "#00cc96",
           "#ab63fa",
           "#FFA15A",
           "#19d3f3",
           "#FF6692",
           "#B6E880",
           "#FF97FF",
           "#FECB52"
          ],
          "font": {
           "color": "#2a3f5f"
          },
          "geo": {
           "bgcolor": "white",
           "lakecolor": "white",
           "landcolor": "#E5ECF6",
           "showlakes": true,
           "showland": true,
           "subunitcolor": "white"
          },
          "hoverlabel": {
           "align": "left"
          },
          "hovermode": "closest",
          "mapbox": {
           "style": "light"
          },
          "paper_bgcolor": "white",
          "plot_bgcolor": "#E5ECF6",
          "polar": {
           "angularaxis": {
            "gridcolor": "white",
            "linecolor": "white",
            "ticks": ""
           },
           "bgcolor": "#E5ECF6",
           "radialaxis": {
            "gridcolor": "white",
            "linecolor": "white",
            "ticks": ""
           }
          },
          "scene": {
           "xaxis": {
            "backgroundcolor": "#E5ECF6",
            "gridcolor": "white",
            "gridwidth": 2,
            "linecolor": "white",
            "showbackground": true,
            "ticks": "",
            "zerolinecolor": "white"
           },
           "yaxis": {
            "backgroundcolor": "#E5ECF6",
            "gridcolor": "white",
            "gridwidth": 2,
            "linecolor": "white",
            "showbackground": true,
            "ticks": "",
            "zerolinecolor": "white"
           },
           "zaxis": {
            "backgroundcolor": "#E5ECF6",
            "gridcolor": "white",
            "gridwidth": 2,
            "linecolor": "white",
            "showbackground": true,
            "ticks": "",
            "zerolinecolor": "white"
           }
          },
          "shapedefaults": {
           "line": {
            "color": "#2a3f5f"
           }
          },
          "ternary": {
           "aaxis": {
            "gridcolor": "white",
            "linecolor": "white",
            "ticks": ""
           },
           "baxis": {
            "gridcolor": "white",
            "linecolor": "white",
            "ticks": ""
           },
           "bgcolor": "#E5ECF6",
           "caxis": {
            "gridcolor": "white",
            "linecolor": "white",
            "ticks": ""
           }
          },
          "title": {
           "x": 0.05
          },
          "xaxis": {
           "automargin": true,
           "gridcolor": "white",
           "linecolor": "white",
           "ticks": "",
           "title": {
            "standoff": 15
           },
           "zerolinecolor": "white",
           "zerolinewidth": 2
          },
          "yaxis": {
           "automargin": true,
           "gridcolor": "white",
           "linecolor": "white",
           "ticks": "",
           "title": {
            "standoff": 15
           },
           "zerolinecolor": "white",
           "zerolinewidth": 2
          }
         }
        },
        "title": {
         "text": "Parallel Coordinate Plot"
        }
       }
      },
      "text/html": [
       "<div>                            <div id=\"3ed56b68-b8c6-4b37-96a2-ff4ab20226ed\" class=\"plotly-graph-div\" style=\"height:525px; width:100%;\"></div>            <script type=\"text/javascript\">                require([\"plotly\"], function(Plotly) {                    window.PLOTLYENV=window.PLOTLYENV || {};                                    if (document.getElementById(\"3ed56b68-b8c6-4b37-96a2-ff4ab20226ed\")) {                    Plotly.newPlot(                        \"3ed56b68-b8c6-4b37-96a2-ff4ab20226ed\",                        [{\"dimensions\":[{\"label\":\"Objective Value\",\"range\":[0.8368765925009862,0.9621791010565145],\"values\":[0.9559903357178647,0.8654928357445174,0.9369085757843901,0.9548185481721555,0.9575291314406338,0.9478513896736639,0.8943484205588547,0.9483724506657853,0.9433534739176324,0.8368765925009862,0.9522500239874626,0.9015825062100876,0.9593396518086548,0.9597266495378416,0.9544343489802664,0.9581786586210941,0.9568899988272798,0.9089290664079575,0.923486924167635,0.9495430388383671,0.9608828452328918,0.9589530538705106,0.9593416507638673,0.9539148871523152,0.9580477936865,0.8774821693195023,0.9576583972110577,0.9572761969743816,0.9601116483118158,0.9476072506103477,0.9067371453853453,0.9588213893538311,0.9606275120203841,0.9603665817332808,0.9559819401059714,0.9526250279853731,0.9577904615187797,0.9536535570741693,0.9587001194042581,0.9593400515996972,0.957405862535848,0.9606335088860222,0.9585616584398555,0.9509589654473929,0.9575327295600167,0.9608840446060194,0.8959124031173041,0.9589538534525955,0.95830192752588,0.9246475175641531,0.9583083241825605,0.9588185908165333,0.96024251324641,0.9614071045533535,0.9593376528534421,0.9602409140822398,0.9592063881278052,0.954433949189224,0.9566318670774743,0.9589546530346806,0.9548217465004959,0.9612766394098019,0.9584379897440272,0.9568864007078968,0.9577948592202477,0.9575323297689742,0.9589502553332127,0.9603729783899616,0.958819790189661,0.9483764485762108,0.9467051887546776,0.9590795211036366,0.9568844017526841,0.9581770594569239,0.9586909242102796,0.9588225887269588,0.9179368916512969,0.9543078817471403,0.9565018017249652,0.9366444471689463,0.9586921235834073,0.9599847812876471,0.9598547159351378,0.9598535165620103,0.957529931022719,0.9561144042047358,0.9601128476849434,0.9571453320397874,0.9381988347423748,0.958824187891129,0.9590811202678068,0.9598579142634782,0.9602413138732822,0.9570156664783207,0.9621791010565145,0.9589518544973828,0.9415397552212711,0.8852153274555167,0.9592115854113585,0.9567531370270473]},{\"label\":\"learning_rate\",\"range\":[-2.249600862673204,-0.3148592320658628],\"ticktext\":[\"0.00563\",\"0.01\",\"0.1\",\"0.484\"],\"tickvals\":[-2.249600862673204,-2,-1,-0.3148592320658628],\"values\":[-1.2072516833732718,-2.0569302620035788,-1.3732131840438442,-0.4497022347186541,-0.4618597115449018,-0.40850975798514744,-1.1163281900138968,-0.5914329010403425,-1.3302170513050429,-1.9867383563542267,-0.8485178740876713,-1.6551764530673838,-0.8799899938756146,-0.8023514274098227,-0.8119792952246104,-0.8498862413448415,-1.0427487438294247,-1.5682872650164998,-0.6519020883094728,-0.969831722824894,-0.6851455167917634,-0.6180063690611015,-0.7260865006086307,-0.33527501517043357,-0.7432108744819617,-2.241904758743371,-0.5850135886965141,-0.9926346925647067,-0.716914794610793,-1.1981547054669157,-1.5150123622741747,-0.6491544644272228,-0.716264880588577,-0.5302847234727285,-0.5264125097096878,-0.38953893277650925,-0.4964340403607197,-0.3148592320658628,-1.0988977411924339,-0.7130024380817291,-0.924580015251164,-0.7675108538732541,-0.5160891544426598,-1.230261486457496,-0.4349212839233637,-0.7473346227344538,-1.8638836401537444,-0.7975582693663177,-0.550786584001673,-0.8987882430832757,-1.0697971960041386,-0.6857187174701207,-0.7714503506177464,-0.8038356085827199,-0.9729156615645815,-0.8588759108904979,-0.605214520866946,-0.4099549724053378,-0.6512143537295901,-1.1600005551135568,-0.8054820464837443,-0.7659338434552124,-0.9416889257013363,-0.5848657405891394,-1.0255538079567943,-0.46890470270467244,-0.7604962425785728,-0.8553067010204838,-0.8460152575535846,-0.6755783237043419,-1.3974009361151225,-0.7349865362862215,-0.8868597514082359,-0.5565981426439852,-0.6160846513841438,-0.7916533920297707,-0.6866079264062801,-0.8524992527128445,-1.0091241648822797,-0.9265379906946107,-0.6342142632013543,-0.7609031044584975,-0.7531526573675658,-0.8186303620960872,-0.48980965569280743,-0.356586315231322,-0.6884945639891883,-0.5857745718369509,-1.7717243658971196,-0.7282273191027626,-0.888857765256494,-0.7871509350419332,-0.8291464366224076,-0.5496192250132004,-0.8286149636160508,-0.9447020162181208,-0.6503807535204497,-2.249600862673204,-0.7753119364873229,-0.7057013199984572]},{\"label\":\"max_depth\",\"range\":[3,10],\"values\":[9,7,8,10,9,5,3,5,7,4,10,9,8,8,6,8,8,6,7,8,9,9,10,10,10,9,10,9,8,7,6,8,9,8,9,7,8,9,9,7,8,8,9,8,7,9,9,10,9,4,10,8,9,9,9,10,8,9,9,10,8,9,9,8,9,10,9,8,10,5,8,9,7,8,8,9,3,6,9,7,8,9,9,9,8,10,9,9,10,9,8,10,10,9,10,8,10,9,9,8]},{\"label\":\"n_estimators\",\"range\":[101,1000],\"values\":[818,642,524,834,473,665,875,748,860,574,208,357,1000,989,986,992,928,708,115,393,788,923,997,793,902,792,931,723,954,809,636,956,874,866,867,753,828,579,641,889,683,856,841,776,863,936,504,834,892,749,929,877,958,956,838,911,768,427,330,950,712,967,974,903,800,931,1000,866,969,821,850,864,903,944,882,915,807,978,778,288,852,952,972,882,931,955,917,865,893,605,821,907,940,1000,968,972,101,960,840,984]}],\"labelangle\":30,\"labelside\":\"bottom\",\"line\":{\"color\":[0.9559903357178647,0.8654928357445174,0.9369085757843901,0.9548185481721555,0.9575291314406338,0.9478513896736639,0.8943484205588547,0.9483724506657853,0.9433534739176324,0.8368765925009862,0.9522500239874626,0.9015825062100876,0.9593396518086548,0.9597266495378416,0.9544343489802664,0.9581786586210941,0.9568899988272798,0.9089290664079575,0.923486924167635,0.9495430388383671,0.9608828452328918,0.9589530538705106,0.9593416507638673,0.9539148871523152,0.9580477936865,0.8774821693195023,0.9576583972110577,0.9572761969743816,0.9601116483118158,0.9476072506103477,0.9067371453853453,0.9588213893538311,0.9606275120203841,0.9603665817332808,0.9559819401059714,0.9526250279853731,0.9577904615187797,0.9536535570741693,0.9587001194042581,0.9593400515996972,0.957405862535848,0.9606335088860222,0.9585616584398555,0.9509589654473929,0.9575327295600167,0.9608840446060194,0.8959124031173041,0.9589538534525955,0.95830192752588,0.9246475175641531,0.9583083241825605,0.9588185908165333,0.96024251324641,0.9614071045533535,0.9593376528534421,0.9602409140822398,0.9592063881278052,0.954433949189224,0.9566318670774743,0.9589546530346806,0.9548217465004959,0.9612766394098019,0.9584379897440272,0.9568864007078968,0.9577948592202477,0.9575323297689742,0.9589502553332127,0.9603729783899616,0.958819790189661,0.9483764485762108,0.9467051887546776,0.9590795211036366,0.9568844017526841,0.9581770594569239,0.9586909242102796,0.9588225887269588,0.9179368916512969,0.9543078817471403,0.9565018017249652,0.9366444471689463,0.9586921235834073,0.9599847812876471,0.9598547159351378,0.9598535165620103,0.957529931022719,0.9561144042047358,0.9601128476849434,0.9571453320397874,0.9381988347423748,0.958824187891129,0.9590811202678068,0.9598579142634782,0.9602413138732822,0.9570156664783207,0.9621791010565145,0.9589518544973828,0.9415397552212711,0.8852153274555167,0.9592115854113585,0.9567531370270473],\"colorbar\":{\"title\":{\"text\":\"Objective Value\"}},\"colorscale\":[[0.0,\"rgb(247,251,255)\"],[0.125,\"rgb(222,235,247)\"],[0.25,\"rgb(198,219,239)\"],[0.375,\"rgb(158,202,225)\"],[0.5,\"rgb(107,174,214)\"],[0.625,\"rgb(66,146,198)\"],[0.75,\"rgb(33,113,181)\"],[0.875,\"rgb(8,81,156)\"],[1.0,\"rgb(8,48,107)\"]],\"reversescale\":false,\"showscale\":true},\"type\":\"parcoords\"}],                        {\"title\":{\"text\":\"Parallel Coordinate Plot\"},\"template\":{\"data\":{\"histogram2dcontour\":[{\"type\":\"histogram2dcontour\",\"colorbar\":{\"outlinewidth\":0,\"ticks\":\"\"},\"colorscale\":[[0.0,\"#0d0887\"],[0.1111111111111111,\"#46039f\"],[0.2222222222222222,\"#7201a8\"],[0.3333333333333333,\"#9c179e\"],[0.4444444444444444,\"#bd3786\"],[0.5555555555555556,\"#d8576b\"],[0.6666666666666666,\"#ed7953\"],[0.7777777777777778,\"#fb9f3a\"],[0.8888888888888888,\"#fdca26\"],[1.0,\"#f0f921\"]]}],\"choropleth\":[{\"type\":\"choropleth\",\"colorbar\":{\"outlinewidth\":0,\"ticks\":\"\"}}],\"histogram2d\":[{\"type\":\"histogram2d\",\"colorbar\":{\"outlinewidth\":0,\"ticks\":\"\"},\"colorscale\":[[0.0,\"#0d0887\"],[0.1111111111111111,\"#46039f\"],[0.2222222222222222,\"#7201a8\"],[0.3333333333333333,\"#9c179e\"],[0.4444444444444444,\"#bd3786\"],[0.5555555555555556,\"#d8576b\"],[0.6666666666666666,\"#ed7953\"],[0.7777777777777778,\"#fb9f3a\"],[0.8888888888888888,\"#fdca26\"],[1.0,\"#f0f921\"]]}],\"heatmap\":[{\"type\":\"heatmap\",\"colorbar\":{\"outlinewidth\":0,\"ticks\":\"\"},\"colorscale\":[[0.0,\"#0d0887\"],[0.1111111111111111,\"#46039f\"],[0.2222222222222222,\"#7201a8\"],[0.3333333333333333,\"#9c179e\"],[0.4444444444444444,\"#bd3786\"],[0.5555555555555556,\"#d8576b\"],[0.6666666666666666,\"#ed7953\"],[0.7777777777777778,\"#fb9f3a\"],[0.8888888888888888,\"#fdca26\"],[1.0,\"#f0f921\"]]}],\"heatmapgl\":[{\"type\":\"heatmapgl\",\"colorbar\":{\"outlinewidth\":0,\"ticks\":\"\"},\"colorscale\":[[0.0,\"#0d0887\"],[0.1111111111111111,\"#46039f\"],[0.2222222222222222,\"#7201a8\"],[0.3333333333333333,\"#9c179e\"],[0.4444444444444444,\"#bd3786\"],[0.5555555555555556,\"#d8576b\"],[0.6666666666666666,\"#ed7953\"],[0.7777777777777778,\"#fb9f3a\"],[0.8888888888888888,\"#fdca26\"],[1.0,\"#f0f921\"]]}],\"contourcarpet\":[{\"type\":\"contourcarpet\",\"colorbar\":{\"outlinewidth\":0,\"ticks\":\"\"}}],\"contour\":[{\"type\":\"contour\",\"colorbar\":{\"outlinewidth\":0,\"ticks\":\"\"},\"colorscale\":[[0.0,\"#0d0887\"],[0.1111111111111111,\"#46039f\"],[0.2222222222222222,\"#7201a8\"],[0.3333333333333333,\"#9c179e\"],[0.4444444444444444,\"#bd3786\"],[0.5555555555555556,\"#d8576b\"],[0.6666666666666666,\"#ed7953\"],[0.7777777777777778,\"#fb9f3a\"],[0.8888888888888888,\"#fdca26\"],[1.0,\"#f0f921\"]]}],\"surface\":[{\"type\":\"surface\",\"colorbar\":{\"outlinewidth\":0,\"ticks\":\"\"},\"colorscale\":[[0.0,\"#0d0887\"],[0.1111111111111111,\"#46039f\"],[0.2222222222222222,\"#7201a8\"],[0.3333333333333333,\"#9c179e\"],[0.4444444444444444,\"#bd3786\"],[0.5555555555555556,\"#d8576b\"],[0.6666666666666666,\"#ed7953\"],[0.7777777777777778,\"#fb9f3a\"],[0.8888888888888888,\"#fdca26\"],[1.0,\"#f0f921\"]]}],\"mesh3d\":[{\"type\":\"mesh3d\",\"colorbar\":{\"outlinewidth\":0,\"ticks\":\"\"}}],\"scatter\":[{\"fillpattern\":{\"fillmode\":\"overlay\",\"size\":10,\"solidity\":0.2},\"type\":\"scatter\"}],\"parcoords\":[{\"type\":\"parcoords\",\"line\":{\"colorbar\":{\"outlinewidth\":0,\"ticks\":\"\"}}}],\"scatterpolargl\":[{\"type\":\"scatterpolargl\",\"marker\":{\"colorbar\":{\"outlinewidth\":0,\"ticks\":\"\"}}}],\"bar\":[{\"error_x\":{\"color\":\"#2a3f5f\"},\"error_y\":{\"color\":\"#2a3f5f\"},\"marker\":{\"line\":{\"color\":\"#E5ECF6\",\"width\":0.5},\"pattern\":{\"fillmode\":\"overlay\",\"size\":10,\"solidity\":0.2}},\"type\":\"bar\"}],\"scattergeo\":[{\"type\":\"scattergeo\",\"marker\":{\"colorbar\":{\"outlinewidth\":0,\"ticks\":\"\"}}}],\"scatterpolar\":[{\"type\":\"scatterpolar\",\"marker\":{\"colorbar\":{\"outlinewidth\":0,\"ticks\":\"\"}}}],\"histogram\":[{\"marker\":{\"pattern\":{\"fillmode\":\"overlay\",\"size\":10,\"solidity\":0.2}},\"type\":\"histogram\"}],\"scattergl\":[{\"type\":\"scattergl\",\"marker\":{\"colorbar\":{\"outlinewidth\":0,\"ticks\":\"\"}}}],\"scatter3d\":[{\"type\":\"scatter3d\",\"line\":{\"colorbar\":{\"outlinewidth\":0,\"ticks\":\"\"}},\"marker\":{\"colorbar\":{\"outlinewidth\":0,\"ticks\":\"\"}}}],\"scattermapbox\":[{\"type\":\"scattermapbox\",\"marker\":{\"colorbar\":{\"outlinewidth\":0,\"ticks\":\"\"}}}],\"scatterternary\":[{\"type\":\"scatterternary\",\"marker\":{\"colorbar\":{\"outlinewidth\":0,\"ticks\":\"\"}}}],\"scattercarpet\":[{\"type\":\"scattercarpet\",\"marker\":{\"colorbar\":{\"outlinewidth\":0,\"ticks\":\"\"}}}],\"carpet\":[{\"aaxis\":{\"endlinecolor\":\"#2a3f5f\",\"gridcolor\":\"white\",\"linecolor\":\"white\",\"minorgridcolor\":\"white\",\"startlinecolor\":\"#2a3f5f\"},\"baxis\":{\"endlinecolor\":\"#2a3f5f\",\"gridcolor\":\"white\",\"linecolor\":\"white\",\"minorgridcolor\":\"white\",\"startlinecolor\":\"#2a3f5f\"},\"type\":\"carpet\"}],\"table\":[{\"cells\":{\"fill\":{\"color\":\"#EBF0F8\"},\"line\":{\"color\":\"white\"}},\"header\":{\"fill\":{\"color\":\"#C8D4E3\"},\"line\":{\"color\":\"white\"}},\"type\":\"table\"}],\"barpolar\":[{\"marker\":{\"line\":{\"color\":\"#E5ECF6\",\"width\":0.5},\"pattern\":{\"fillmode\":\"overlay\",\"size\":10,\"solidity\":0.2}},\"type\":\"barpolar\"}],\"pie\":[{\"automargin\":true,\"type\":\"pie\"}]},\"layout\":{\"autotypenumbers\":\"strict\",\"colorway\":[\"#636efa\",\"#EF553B\",\"#00cc96\",\"#ab63fa\",\"#FFA15A\",\"#19d3f3\",\"#FF6692\",\"#B6E880\",\"#FF97FF\",\"#FECB52\"],\"font\":{\"color\":\"#2a3f5f\"},\"hovermode\":\"closest\",\"hoverlabel\":{\"align\":\"left\"},\"paper_bgcolor\":\"white\",\"plot_bgcolor\":\"#E5ECF6\",\"polar\":{\"bgcolor\":\"#E5ECF6\",\"angularaxis\":{\"gridcolor\":\"white\",\"linecolor\":\"white\",\"ticks\":\"\"},\"radialaxis\":{\"gridcolor\":\"white\",\"linecolor\":\"white\",\"ticks\":\"\"}},\"ternary\":{\"bgcolor\":\"#E5ECF6\",\"aaxis\":{\"gridcolor\":\"white\",\"linecolor\":\"white\",\"ticks\":\"\"},\"baxis\":{\"gridcolor\":\"white\",\"linecolor\":\"white\",\"ticks\":\"\"},\"caxis\":{\"gridcolor\":\"white\",\"linecolor\":\"white\",\"ticks\":\"\"}},\"coloraxis\":{\"colorbar\":{\"outlinewidth\":0,\"ticks\":\"\"}},\"colorscale\":{\"sequential\":[[0.0,\"#0d0887\"],[0.1111111111111111,\"#46039f\"],[0.2222222222222222,\"#7201a8\"],[0.3333333333333333,\"#9c179e\"],[0.4444444444444444,\"#bd3786\"],[0.5555555555555556,\"#d8576b\"],[0.6666666666666666,\"#ed7953\"],[0.7777777777777778,\"#fb9f3a\"],[0.8888888888888888,\"#fdca26\"],[1.0,\"#f0f921\"]],\"sequentialminus\":[[0.0,\"#0d0887\"],[0.1111111111111111,\"#46039f\"],[0.2222222222222222,\"#7201a8\"],[0.3333333333333333,\"#9c179e\"],[0.4444444444444444,\"#bd3786\"],[0.5555555555555556,\"#d8576b\"],[0.6666666666666666,\"#ed7953\"],[0.7777777777777778,\"#fb9f3a\"],[0.8888888888888888,\"#fdca26\"],[1.0,\"#f0f921\"]],\"diverging\":[[0,\"#8e0152\"],[0.1,\"#c51b7d\"],[0.2,\"#de77ae\"],[0.3,\"#f1b6da\"],[0.4,\"#fde0ef\"],[0.5,\"#f7f7f7\"],[0.6,\"#e6f5d0\"],[0.7,\"#b8e186\"],[0.8,\"#7fbc41\"],[0.9,\"#4d9221\"],[1,\"#276419\"]]},\"xaxis\":{\"gridcolor\":\"white\",\"linecolor\":\"white\",\"ticks\":\"\",\"title\":{\"standoff\":15},\"zerolinecolor\":\"white\",\"automargin\":true,\"zerolinewidth\":2},\"yaxis\":{\"gridcolor\":\"white\",\"linecolor\":\"white\",\"ticks\":\"\",\"title\":{\"standoff\":15},\"zerolinecolor\":\"white\",\"automargin\":true,\"zerolinewidth\":2},\"scene\":{\"xaxis\":{\"backgroundcolor\":\"#E5ECF6\",\"gridcolor\":\"white\",\"linecolor\":\"white\",\"showbackground\":true,\"ticks\":\"\",\"zerolinecolor\":\"white\",\"gridwidth\":2},\"yaxis\":{\"backgroundcolor\":\"#E5ECF6\",\"gridcolor\":\"white\",\"linecolor\":\"white\",\"showbackground\":true,\"ticks\":\"\",\"zerolinecolor\":\"white\",\"gridwidth\":2},\"zaxis\":{\"backgroundcolor\":\"#E5ECF6\",\"gridcolor\":\"white\",\"linecolor\":\"white\",\"showbackground\":true,\"ticks\":\"\",\"zerolinecolor\":\"white\",\"gridwidth\":2}},\"shapedefaults\":{\"line\":{\"color\":\"#2a3f5f\"}},\"annotationdefaults\":{\"arrowcolor\":\"#2a3f5f\",\"arrowhead\":0,\"arrowwidth\":1},\"geo\":{\"bgcolor\":\"white\",\"landcolor\":\"#E5ECF6\",\"subunitcolor\":\"white\",\"showland\":true,\"showlakes\":true,\"lakecolor\":\"white\"},\"title\":{\"x\":0.05},\"mapbox\":{\"style\":\"light\"}}}},                        {\"responsive\": true}                    ).then(function(){\n",
       "                            \n",
       "var gd = document.getElementById('3ed56b68-b8c6-4b37-96a2-ff4ab20226ed');\n",
       "var x = new MutationObserver(function (mutations, observer) {{\n",
       "        var display = window.getComputedStyle(gd).display;\n",
       "        if (!display || display === 'none') {{\n",
       "            console.log([gd, 'removed!']);\n",
       "            Plotly.purge(gd);\n",
       "            observer.disconnect();\n",
       "        }}\n",
       "}});\n",
       "\n",
       "// Listen for the removal of the full notebook cells\n",
       "var notebookContainer = gd.closest('#notebook-container');\n",
       "if (notebookContainer) {{\n",
       "    x.observe(notebookContainer, {childList: true});\n",
       "}}\n",
       "\n",
       "// Listen for the clearing of the current output cell\n",
       "var outputEl = gd.closest('.output');\n",
       "if (outputEl) {{\n",
       "    x.observe(outputEl, {childList: true});\n",
       "}}\n",
       "\n",
       "                        })                };                });            </script>        </div>"
      ]
     },
     "metadata": {},
     "output_type": "display_data"
    }
   ],
   "source": [
    "# 파라미터들과의 관계\n",
    "optuna.visualization.plot_parallel_coordinate(study)"
   ]
  },
  {
   "cell_type": "code",
   "execution_count": 96,
   "id": "5bbf65d3-3c8c-42a5-9a07-40577e4af528",
   "metadata": {},
   "outputs": [
    {
     "data": {
      "application/vnd.plotly.v1+json": {
       "config": {
        "plotlyServerURL": "https://plot.ly"
       },
       "data": [
        {
         "cliponaxis": false,
         "hovertemplate": [
          "n_estimators (IntDistribution): 0.1051178833430046<extra></extra>",
          "max_depth (IntDistribution): 0.375712697179056<extra></extra>",
          "learning_rate (FloatDistribution): 0.5191694194779394<extra></extra>"
         ],
         "marker": {
          "color": "rgb(66,146,198)"
         },
         "orientation": "h",
         "text": [
          "0.11",
          "0.38",
          "0.52"
         ],
         "textposition": "outside",
         "type": "bar",
         "x": [
          0.1051178833430046,
          0.375712697179056,
          0.5191694194779394
         ],
         "y": [
          "n_estimators",
          "max_depth",
          "learning_rate"
         ]
        }
       ],
       "layout": {
        "showlegend": false,
        "template": {
         "data": {
          "bar": [
           {
            "error_x": {
             "color": "#2a3f5f"
            },
            "error_y": {
             "color": "#2a3f5f"
            },
            "marker": {
             "line": {
              "color": "#E5ECF6",
              "width": 0.5
             },
             "pattern": {
              "fillmode": "overlay",
              "size": 10,
              "solidity": 0.2
             }
            },
            "type": "bar"
           }
          ],
          "barpolar": [
           {
            "marker": {
             "line": {
              "color": "#E5ECF6",
              "width": 0.5
             },
             "pattern": {
              "fillmode": "overlay",
              "size": 10,
              "solidity": 0.2
             }
            },
            "type": "barpolar"
           }
          ],
          "carpet": [
           {
            "aaxis": {
             "endlinecolor": "#2a3f5f",
             "gridcolor": "white",
             "linecolor": "white",
             "minorgridcolor": "white",
             "startlinecolor": "#2a3f5f"
            },
            "baxis": {
             "endlinecolor": "#2a3f5f",
             "gridcolor": "white",
             "linecolor": "white",
             "minorgridcolor": "white",
             "startlinecolor": "#2a3f5f"
            },
            "type": "carpet"
           }
          ],
          "choropleth": [
           {
            "colorbar": {
             "outlinewidth": 0,
             "ticks": ""
            },
            "type": "choropleth"
           }
          ],
          "contour": [
           {
            "colorbar": {
             "outlinewidth": 0,
             "ticks": ""
            },
            "colorscale": [
             [
              0,
              "#0d0887"
             ],
             [
              0.1111111111111111,
              "#46039f"
             ],
             [
              0.2222222222222222,
              "#7201a8"
             ],
             [
              0.3333333333333333,
              "#9c179e"
             ],
             [
              0.4444444444444444,
              "#bd3786"
             ],
             [
              0.5555555555555556,
              "#d8576b"
             ],
             [
              0.6666666666666666,
              "#ed7953"
             ],
             [
              0.7777777777777778,
              "#fb9f3a"
             ],
             [
              0.8888888888888888,
              "#fdca26"
             ],
             [
              1,
              "#f0f921"
             ]
            ],
            "type": "contour"
           }
          ],
          "contourcarpet": [
           {
            "colorbar": {
             "outlinewidth": 0,
             "ticks": ""
            },
            "type": "contourcarpet"
           }
          ],
          "heatmap": [
           {
            "colorbar": {
             "outlinewidth": 0,
             "ticks": ""
            },
            "colorscale": [
             [
              0,
              "#0d0887"
             ],
             [
              0.1111111111111111,
              "#46039f"
             ],
             [
              0.2222222222222222,
              "#7201a8"
             ],
             [
              0.3333333333333333,
              "#9c179e"
             ],
             [
              0.4444444444444444,
              "#bd3786"
             ],
             [
              0.5555555555555556,
              "#d8576b"
             ],
             [
              0.6666666666666666,
              "#ed7953"
             ],
             [
              0.7777777777777778,
              "#fb9f3a"
             ],
             [
              0.8888888888888888,
              "#fdca26"
             ],
             [
              1,
              "#f0f921"
             ]
            ],
            "type": "heatmap"
           }
          ],
          "heatmapgl": [
           {
            "colorbar": {
             "outlinewidth": 0,
             "ticks": ""
            },
            "colorscale": [
             [
              0,
              "#0d0887"
             ],
             [
              0.1111111111111111,
              "#46039f"
             ],
             [
              0.2222222222222222,
              "#7201a8"
             ],
             [
              0.3333333333333333,
              "#9c179e"
             ],
             [
              0.4444444444444444,
              "#bd3786"
             ],
             [
              0.5555555555555556,
              "#d8576b"
             ],
             [
              0.6666666666666666,
              "#ed7953"
             ],
             [
              0.7777777777777778,
              "#fb9f3a"
             ],
             [
              0.8888888888888888,
              "#fdca26"
             ],
             [
              1,
              "#f0f921"
             ]
            ],
            "type": "heatmapgl"
           }
          ],
          "histogram": [
           {
            "marker": {
             "pattern": {
              "fillmode": "overlay",
              "size": 10,
              "solidity": 0.2
             }
            },
            "type": "histogram"
           }
          ],
          "histogram2d": [
           {
            "colorbar": {
             "outlinewidth": 0,
             "ticks": ""
            },
            "colorscale": [
             [
              0,
              "#0d0887"
             ],
             [
              0.1111111111111111,
              "#46039f"
             ],
             [
              0.2222222222222222,
              "#7201a8"
             ],
             [
              0.3333333333333333,
              "#9c179e"
             ],
             [
              0.4444444444444444,
              "#bd3786"
             ],
             [
              0.5555555555555556,
              "#d8576b"
             ],
             [
              0.6666666666666666,
              "#ed7953"
             ],
             [
              0.7777777777777778,
              "#fb9f3a"
             ],
             [
              0.8888888888888888,
              "#fdca26"
             ],
             [
              1,
              "#f0f921"
             ]
            ],
            "type": "histogram2d"
           }
          ],
          "histogram2dcontour": [
           {
            "colorbar": {
             "outlinewidth": 0,
             "ticks": ""
            },
            "colorscale": [
             [
              0,
              "#0d0887"
             ],
             [
              0.1111111111111111,
              "#46039f"
             ],
             [
              0.2222222222222222,
              "#7201a8"
             ],
             [
              0.3333333333333333,
              "#9c179e"
             ],
             [
              0.4444444444444444,
              "#bd3786"
             ],
             [
              0.5555555555555556,
              "#d8576b"
             ],
             [
              0.6666666666666666,
              "#ed7953"
             ],
             [
              0.7777777777777778,
              "#fb9f3a"
             ],
             [
              0.8888888888888888,
              "#fdca26"
             ],
             [
              1,
              "#f0f921"
             ]
            ],
            "type": "histogram2dcontour"
           }
          ],
          "mesh3d": [
           {
            "colorbar": {
             "outlinewidth": 0,
             "ticks": ""
            },
            "type": "mesh3d"
           }
          ],
          "parcoords": [
           {
            "line": {
             "colorbar": {
              "outlinewidth": 0,
              "ticks": ""
             }
            },
            "type": "parcoords"
           }
          ],
          "pie": [
           {
            "automargin": true,
            "type": "pie"
           }
          ],
          "scatter": [
           {
            "fillpattern": {
             "fillmode": "overlay",
             "size": 10,
             "solidity": 0.2
            },
            "type": "scatter"
           }
          ],
          "scatter3d": [
           {
            "line": {
             "colorbar": {
              "outlinewidth": 0,
              "ticks": ""
             }
            },
            "marker": {
             "colorbar": {
              "outlinewidth": 0,
              "ticks": ""
             }
            },
            "type": "scatter3d"
           }
          ],
          "scattercarpet": [
           {
            "marker": {
             "colorbar": {
              "outlinewidth": 0,
              "ticks": ""
             }
            },
            "type": "scattercarpet"
           }
          ],
          "scattergeo": [
           {
            "marker": {
             "colorbar": {
              "outlinewidth": 0,
              "ticks": ""
             }
            },
            "type": "scattergeo"
           }
          ],
          "scattergl": [
           {
            "marker": {
             "colorbar": {
              "outlinewidth": 0,
              "ticks": ""
             }
            },
            "type": "scattergl"
           }
          ],
          "scattermapbox": [
           {
            "marker": {
             "colorbar": {
              "outlinewidth": 0,
              "ticks": ""
             }
            },
            "type": "scattermapbox"
           }
          ],
          "scatterpolar": [
           {
            "marker": {
             "colorbar": {
              "outlinewidth": 0,
              "ticks": ""
             }
            },
            "type": "scatterpolar"
           }
          ],
          "scatterpolargl": [
           {
            "marker": {
             "colorbar": {
              "outlinewidth": 0,
              "ticks": ""
             }
            },
            "type": "scatterpolargl"
           }
          ],
          "scatterternary": [
           {
            "marker": {
             "colorbar": {
              "outlinewidth": 0,
              "ticks": ""
             }
            },
            "type": "scatterternary"
           }
          ],
          "surface": [
           {
            "colorbar": {
             "outlinewidth": 0,
             "ticks": ""
            },
            "colorscale": [
             [
              0,
              "#0d0887"
             ],
             [
              0.1111111111111111,
              "#46039f"
             ],
             [
              0.2222222222222222,
              "#7201a8"
             ],
             [
              0.3333333333333333,
              "#9c179e"
             ],
             [
              0.4444444444444444,
              "#bd3786"
             ],
             [
              0.5555555555555556,
              "#d8576b"
             ],
             [
              0.6666666666666666,
              "#ed7953"
             ],
             [
              0.7777777777777778,
              "#fb9f3a"
             ],
             [
              0.8888888888888888,
              "#fdca26"
             ],
             [
              1,
              "#f0f921"
             ]
            ],
            "type": "surface"
           }
          ],
          "table": [
           {
            "cells": {
             "fill": {
              "color": "#EBF0F8"
             },
             "line": {
              "color": "white"
             }
            },
            "header": {
             "fill": {
              "color": "#C8D4E3"
             },
             "line": {
              "color": "white"
             }
            },
            "type": "table"
           }
          ]
         },
         "layout": {
          "annotationdefaults": {
           "arrowcolor": "#2a3f5f",
           "arrowhead": 0,
           "arrowwidth": 1
          },
          "autotypenumbers": "strict",
          "coloraxis": {
           "colorbar": {
            "outlinewidth": 0,
            "ticks": ""
           }
          },
          "colorscale": {
           "diverging": [
            [
             0,
             "#8e0152"
            ],
            [
             0.1,
             "#c51b7d"
            ],
            [
             0.2,
             "#de77ae"
            ],
            [
             0.3,
             "#f1b6da"
            ],
            [
             0.4,
             "#fde0ef"
            ],
            [
             0.5,
             "#f7f7f7"
            ],
            [
             0.6,
             "#e6f5d0"
            ],
            [
             0.7,
             "#b8e186"
            ],
            [
             0.8,
             "#7fbc41"
            ],
            [
             0.9,
             "#4d9221"
            ],
            [
             1,
             "#276419"
            ]
           ],
           "sequential": [
            [
             0,
             "#0d0887"
            ],
            [
             0.1111111111111111,
             "#46039f"
            ],
            [
             0.2222222222222222,
             "#7201a8"
            ],
            [
             0.3333333333333333,
             "#9c179e"
            ],
            [
             0.4444444444444444,
             "#bd3786"
            ],
            [
             0.5555555555555556,
             "#d8576b"
            ],
            [
             0.6666666666666666,
             "#ed7953"
            ],
            [
             0.7777777777777778,
             "#fb9f3a"
            ],
            [
             0.8888888888888888,
             "#fdca26"
            ],
            [
             1,
             "#f0f921"
            ]
           ],
           "sequentialminus": [
            [
             0,
             "#0d0887"
            ],
            [
             0.1111111111111111,
             "#46039f"
            ],
            [
             0.2222222222222222,
             "#7201a8"
            ],
            [
             0.3333333333333333,
             "#9c179e"
            ],
            [
             0.4444444444444444,
             "#bd3786"
            ],
            [
             0.5555555555555556,
             "#d8576b"
            ],
            [
             0.6666666666666666,
             "#ed7953"
            ],
            [
             0.7777777777777778,
             "#fb9f3a"
            ],
            [
             0.8888888888888888,
             "#fdca26"
            ],
            [
             1,
             "#f0f921"
            ]
           ]
          },
          "colorway": [
           "#636efa",
           "#EF553B",
           "#00cc96",
           "#ab63fa",
           "#FFA15A",
           "#19d3f3",
           "#FF6692",
           "#B6E880",
           "#FF97FF",
           "#FECB52"
          ],
          "font": {
           "color": "#2a3f5f"
          },
          "geo": {
           "bgcolor": "white",
           "lakecolor": "white",
           "landcolor": "#E5ECF6",
           "showlakes": true,
           "showland": true,
           "subunitcolor": "white"
          },
          "hoverlabel": {
           "align": "left"
          },
          "hovermode": "closest",
          "mapbox": {
           "style": "light"
          },
          "paper_bgcolor": "white",
          "plot_bgcolor": "#E5ECF6",
          "polar": {
           "angularaxis": {
            "gridcolor": "white",
            "linecolor": "white",
            "ticks": ""
           },
           "bgcolor": "#E5ECF6",
           "radialaxis": {
            "gridcolor": "white",
            "linecolor": "white",
            "ticks": ""
           }
          },
          "scene": {
           "xaxis": {
            "backgroundcolor": "#E5ECF6",
            "gridcolor": "white",
            "gridwidth": 2,
            "linecolor": "white",
            "showbackground": true,
            "ticks": "",
            "zerolinecolor": "white"
           },
           "yaxis": {
            "backgroundcolor": "#E5ECF6",
            "gridcolor": "white",
            "gridwidth": 2,
            "linecolor": "white",
            "showbackground": true,
            "ticks": "",
            "zerolinecolor": "white"
           },
           "zaxis": {
            "backgroundcolor": "#E5ECF6",
            "gridcolor": "white",
            "gridwidth": 2,
            "linecolor": "white",
            "showbackground": true,
            "ticks": "",
            "zerolinecolor": "white"
           }
          },
          "shapedefaults": {
           "line": {
            "color": "#2a3f5f"
           }
          },
          "ternary": {
           "aaxis": {
            "gridcolor": "white",
            "linecolor": "white",
            "ticks": ""
           },
           "baxis": {
            "gridcolor": "white",
            "linecolor": "white",
            "ticks": ""
           },
           "bgcolor": "#E5ECF6",
           "caxis": {
            "gridcolor": "white",
            "linecolor": "white",
            "ticks": ""
           }
          },
          "title": {
           "x": 0.05
          },
          "xaxis": {
           "automargin": true,
           "gridcolor": "white",
           "linecolor": "white",
           "ticks": "",
           "title": {
            "standoff": 15
           },
           "zerolinecolor": "white",
           "zerolinewidth": 2
          },
          "yaxis": {
           "automargin": true,
           "gridcolor": "white",
           "linecolor": "white",
           "ticks": "",
           "title": {
            "standoff": 15
           },
           "zerolinecolor": "white",
           "zerolinewidth": 2
          }
         }
        },
        "title": {
         "text": "Hyperparameter Importances"
        },
        "xaxis": {
         "title": {
          "text": "Importance for Objective Value"
         }
        },
        "yaxis": {
         "title": {
          "text": "Hyperparameter"
         }
        }
       }
      },
      "text/html": [
       "<div>                            <div id=\"70f57c9a-cac5-4108-9575-3b011347b3f9\" class=\"plotly-graph-div\" style=\"height:525px; width:100%;\"></div>            <script type=\"text/javascript\">                require([\"plotly\"], function(Plotly) {                    window.PLOTLYENV=window.PLOTLYENV || {};                                    if (document.getElementById(\"70f57c9a-cac5-4108-9575-3b011347b3f9\")) {                    Plotly.newPlot(                        \"70f57c9a-cac5-4108-9575-3b011347b3f9\",                        [{\"cliponaxis\":false,\"hovertemplate\":[\"n_estimators (IntDistribution): 0.1051178833430046<extra></extra>\",\"max_depth (IntDistribution): 0.375712697179056<extra></extra>\",\"learning_rate (FloatDistribution): 0.5191694194779394<extra></extra>\"],\"marker\":{\"color\":\"rgb(66,146,198)\"},\"orientation\":\"h\",\"text\":[\"0.11\",\"0.38\",\"0.52\"],\"textposition\":\"outside\",\"x\":[0.1051178833430046,0.375712697179056,0.5191694194779394],\"y\":[\"n_estimators\",\"max_depth\",\"learning_rate\"],\"type\":\"bar\"}],                        {\"showlegend\":false,\"title\":{\"text\":\"Hyperparameter Importances\"},\"xaxis\":{\"title\":{\"text\":\"Importance for Objective Value\"}},\"yaxis\":{\"title\":{\"text\":\"Hyperparameter\"}},\"template\":{\"data\":{\"histogram2dcontour\":[{\"type\":\"histogram2dcontour\",\"colorbar\":{\"outlinewidth\":0,\"ticks\":\"\"},\"colorscale\":[[0.0,\"#0d0887\"],[0.1111111111111111,\"#46039f\"],[0.2222222222222222,\"#7201a8\"],[0.3333333333333333,\"#9c179e\"],[0.4444444444444444,\"#bd3786\"],[0.5555555555555556,\"#d8576b\"],[0.6666666666666666,\"#ed7953\"],[0.7777777777777778,\"#fb9f3a\"],[0.8888888888888888,\"#fdca26\"],[1.0,\"#f0f921\"]]}],\"choropleth\":[{\"type\":\"choropleth\",\"colorbar\":{\"outlinewidth\":0,\"ticks\":\"\"}}],\"histogram2d\":[{\"type\":\"histogram2d\",\"colorbar\":{\"outlinewidth\":0,\"ticks\":\"\"},\"colorscale\":[[0.0,\"#0d0887\"],[0.1111111111111111,\"#46039f\"],[0.2222222222222222,\"#7201a8\"],[0.3333333333333333,\"#9c179e\"],[0.4444444444444444,\"#bd3786\"],[0.5555555555555556,\"#d8576b\"],[0.6666666666666666,\"#ed7953\"],[0.7777777777777778,\"#fb9f3a\"],[0.8888888888888888,\"#fdca26\"],[1.0,\"#f0f921\"]]}],\"heatmap\":[{\"type\":\"heatmap\",\"colorbar\":{\"outlinewidth\":0,\"ticks\":\"\"},\"colorscale\":[[0.0,\"#0d0887\"],[0.1111111111111111,\"#46039f\"],[0.2222222222222222,\"#7201a8\"],[0.3333333333333333,\"#9c179e\"],[0.4444444444444444,\"#bd3786\"],[0.5555555555555556,\"#d8576b\"],[0.6666666666666666,\"#ed7953\"],[0.7777777777777778,\"#fb9f3a\"],[0.8888888888888888,\"#fdca26\"],[1.0,\"#f0f921\"]]}],\"heatmapgl\":[{\"type\":\"heatmapgl\",\"colorbar\":{\"outlinewidth\":0,\"ticks\":\"\"},\"colorscale\":[[0.0,\"#0d0887\"],[0.1111111111111111,\"#46039f\"],[0.2222222222222222,\"#7201a8\"],[0.3333333333333333,\"#9c179e\"],[0.4444444444444444,\"#bd3786\"],[0.5555555555555556,\"#d8576b\"],[0.6666666666666666,\"#ed7953\"],[0.7777777777777778,\"#fb9f3a\"],[0.8888888888888888,\"#fdca26\"],[1.0,\"#f0f921\"]]}],\"contourcarpet\":[{\"type\":\"contourcarpet\",\"colorbar\":{\"outlinewidth\":0,\"ticks\":\"\"}}],\"contour\":[{\"type\":\"contour\",\"colorbar\":{\"outlinewidth\":0,\"ticks\":\"\"},\"colorscale\":[[0.0,\"#0d0887\"],[0.1111111111111111,\"#46039f\"],[0.2222222222222222,\"#7201a8\"],[0.3333333333333333,\"#9c179e\"],[0.4444444444444444,\"#bd3786\"],[0.5555555555555556,\"#d8576b\"],[0.6666666666666666,\"#ed7953\"],[0.7777777777777778,\"#fb9f3a\"],[0.8888888888888888,\"#fdca26\"],[1.0,\"#f0f921\"]]}],\"surface\":[{\"type\":\"surface\",\"colorbar\":{\"outlinewidth\":0,\"ticks\":\"\"},\"colorscale\":[[0.0,\"#0d0887\"],[0.1111111111111111,\"#46039f\"],[0.2222222222222222,\"#7201a8\"],[0.3333333333333333,\"#9c179e\"],[0.4444444444444444,\"#bd3786\"],[0.5555555555555556,\"#d8576b\"],[0.6666666666666666,\"#ed7953\"],[0.7777777777777778,\"#fb9f3a\"],[0.8888888888888888,\"#fdca26\"],[1.0,\"#f0f921\"]]}],\"mesh3d\":[{\"type\":\"mesh3d\",\"colorbar\":{\"outlinewidth\":0,\"ticks\":\"\"}}],\"scatter\":[{\"fillpattern\":{\"fillmode\":\"overlay\",\"size\":10,\"solidity\":0.2},\"type\":\"scatter\"}],\"parcoords\":[{\"type\":\"parcoords\",\"line\":{\"colorbar\":{\"outlinewidth\":0,\"ticks\":\"\"}}}],\"scatterpolargl\":[{\"type\":\"scatterpolargl\",\"marker\":{\"colorbar\":{\"outlinewidth\":0,\"ticks\":\"\"}}}],\"bar\":[{\"error_x\":{\"color\":\"#2a3f5f\"},\"error_y\":{\"color\":\"#2a3f5f\"},\"marker\":{\"line\":{\"color\":\"#E5ECF6\",\"width\":0.5},\"pattern\":{\"fillmode\":\"overlay\",\"size\":10,\"solidity\":0.2}},\"type\":\"bar\"}],\"scattergeo\":[{\"type\":\"scattergeo\",\"marker\":{\"colorbar\":{\"outlinewidth\":0,\"ticks\":\"\"}}}],\"scatterpolar\":[{\"type\":\"scatterpolar\",\"marker\":{\"colorbar\":{\"outlinewidth\":0,\"ticks\":\"\"}}}],\"histogram\":[{\"marker\":{\"pattern\":{\"fillmode\":\"overlay\",\"size\":10,\"solidity\":0.2}},\"type\":\"histogram\"}],\"scattergl\":[{\"type\":\"scattergl\",\"marker\":{\"colorbar\":{\"outlinewidth\":0,\"ticks\":\"\"}}}],\"scatter3d\":[{\"type\":\"scatter3d\",\"line\":{\"colorbar\":{\"outlinewidth\":0,\"ticks\":\"\"}},\"marker\":{\"colorbar\":{\"outlinewidth\":0,\"ticks\":\"\"}}}],\"scattermapbox\":[{\"type\":\"scattermapbox\",\"marker\":{\"colorbar\":{\"outlinewidth\":0,\"ticks\":\"\"}}}],\"scatterternary\":[{\"type\":\"scatterternary\",\"marker\":{\"colorbar\":{\"outlinewidth\":0,\"ticks\":\"\"}}}],\"scattercarpet\":[{\"type\":\"scattercarpet\",\"marker\":{\"colorbar\":{\"outlinewidth\":0,\"ticks\":\"\"}}}],\"carpet\":[{\"aaxis\":{\"endlinecolor\":\"#2a3f5f\",\"gridcolor\":\"white\",\"linecolor\":\"white\",\"minorgridcolor\":\"white\",\"startlinecolor\":\"#2a3f5f\"},\"baxis\":{\"endlinecolor\":\"#2a3f5f\",\"gridcolor\":\"white\",\"linecolor\":\"white\",\"minorgridcolor\":\"white\",\"startlinecolor\":\"#2a3f5f\"},\"type\":\"carpet\"}],\"table\":[{\"cells\":{\"fill\":{\"color\":\"#EBF0F8\"},\"line\":{\"color\":\"white\"}},\"header\":{\"fill\":{\"color\":\"#C8D4E3\"},\"line\":{\"color\":\"white\"}},\"type\":\"table\"}],\"barpolar\":[{\"marker\":{\"line\":{\"color\":\"#E5ECF6\",\"width\":0.5},\"pattern\":{\"fillmode\":\"overlay\",\"size\":10,\"solidity\":0.2}},\"type\":\"barpolar\"}],\"pie\":[{\"automargin\":true,\"type\":\"pie\"}]},\"layout\":{\"autotypenumbers\":\"strict\",\"colorway\":[\"#636efa\",\"#EF553B\",\"#00cc96\",\"#ab63fa\",\"#FFA15A\",\"#19d3f3\",\"#FF6692\",\"#B6E880\",\"#FF97FF\",\"#FECB52\"],\"font\":{\"color\":\"#2a3f5f\"},\"hovermode\":\"closest\",\"hoverlabel\":{\"align\":\"left\"},\"paper_bgcolor\":\"white\",\"plot_bgcolor\":\"#E5ECF6\",\"polar\":{\"bgcolor\":\"#E5ECF6\",\"angularaxis\":{\"gridcolor\":\"white\",\"linecolor\":\"white\",\"ticks\":\"\"},\"radialaxis\":{\"gridcolor\":\"white\",\"linecolor\":\"white\",\"ticks\":\"\"}},\"ternary\":{\"bgcolor\":\"#E5ECF6\",\"aaxis\":{\"gridcolor\":\"white\",\"linecolor\":\"white\",\"ticks\":\"\"},\"baxis\":{\"gridcolor\":\"white\",\"linecolor\":\"white\",\"ticks\":\"\"},\"caxis\":{\"gridcolor\":\"white\",\"linecolor\":\"white\",\"ticks\":\"\"}},\"coloraxis\":{\"colorbar\":{\"outlinewidth\":0,\"ticks\":\"\"}},\"colorscale\":{\"sequential\":[[0.0,\"#0d0887\"],[0.1111111111111111,\"#46039f\"],[0.2222222222222222,\"#7201a8\"],[0.3333333333333333,\"#9c179e\"],[0.4444444444444444,\"#bd3786\"],[0.5555555555555556,\"#d8576b\"],[0.6666666666666666,\"#ed7953\"],[0.7777777777777778,\"#fb9f3a\"],[0.8888888888888888,\"#fdca26\"],[1.0,\"#f0f921\"]],\"sequentialminus\":[[0.0,\"#0d0887\"],[0.1111111111111111,\"#46039f\"],[0.2222222222222222,\"#7201a8\"],[0.3333333333333333,\"#9c179e\"],[0.4444444444444444,\"#bd3786\"],[0.5555555555555556,\"#d8576b\"],[0.6666666666666666,\"#ed7953\"],[0.7777777777777778,\"#fb9f3a\"],[0.8888888888888888,\"#fdca26\"],[1.0,\"#f0f921\"]],\"diverging\":[[0,\"#8e0152\"],[0.1,\"#c51b7d\"],[0.2,\"#de77ae\"],[0.3,\"#f1b6da\"],[0.4,\"#fde0ef\"],[0.5,\"#f7f7f7\"],[0.6,\"#e6f5d0\"],[0.7,\"#b8e186\"],[0.8,\"#7fbc41\"],[0.9,\"#4d9221\"],[1,\"#276419\"]]},\"xaxis\":{\"gridcolor\":\"white\",\"linecolor\":\"white\",\"ticks\":\"\",\"title\":{\"standoff\":15},\"zerolinecolor\":\"white\",\"automargin\":true,\"zerolinewidth\":2},\"yaxis\":{\"gridcolor\":\"white\",\"linecolor\":\"white\",\"ticks\":\"\",\"title\":{\"standoff\":15},\"zerolinecolor\":\"white\",\"automargin\":true,\"zerolinewidth\":2},\"scene\":{\"xaxis\":{\"backgroundcolor\":\"#E5ECF6\",\"gridcolor\":\"white\",\"linecolor\":\"white\",\"showbackground\":true,\"ticks\":\"\",\"zerolinecolor\":\"white\",\"gridwidth\":2},\"yaxis\":{\"backgroundcolor\":\"#E5ECF6\",\"gridcolor\":\"white\",\"linecolor\":\"white\",\"showbackground\":true,\"ticks\":\"\",\"zerolinecolor\":\"white\",\"gridwidth\":2},\"zaxis\":{\"backgroundcolor\":\"#E5ECF6\",\"gridcolor\":\"white\",\"linecolor\":\"white\",\"showbackground\":true,\"ticks\":\"\",\"zerolinecolor\":\"white\",\"gridwidth\":2}},\"shapedefaults\":{\"line\":{\"color\":\"#2a3f5f\"}},\"annotationdefaults\":{\"arrowcolor\":\"#2a3f5f\",\"arrowhead\":0,\"arrowwidth\":1},\"geo\":{\"bgcolor\":\"white\",\"landcolor\":\"#E5ECF6\",\"subunitcolor\":\"white\",\"showland\":true,\"showlakes\":true,\"lakecolor\":\"white\"},\"title\":{\"x\":0.05},\"mapbox\":{\"style\":\"light\"}}}},                        {\"responsive\": true}                    ).then(function(){\n",
       "                            \n",
       "var gd = document.getElementById('70f57c9a-cac5-4108-9575-3b011347b3f9');\n",
       "var x = new MutationObserver(function (mutations, observer) {{\n",
       "        var display = window.getComputedStyle(gd).display;\n",
       "        if (!display || display === 'none') {{\n",
       "            console.log([gd, 'removed!']);\n",
       "            Plotly.purge(gd);\n",
       "            observer.disconnect();\n",
       "        }}\n",
       "}});\n",
       "\n",
       "// Listen for the removal of the full notebook cells\n",
       "var notebookContainer = gd.closest('#notebook-container');\n",
       "if (notebookContainer) {{\n",
       "    x.observe(notebookContainer, {childList: true});\n",
       "}}\n",
       "\n",
       "// Listen for the clearing of the current output cell\n",
       "var outputEl = gd.closest('.output');\n",
       "if (outputEl) {{\n",
       "    x.observe(outputEl, {childList: true});\n",
       "}}\n",
       "\n",
       "                        })                };                });            </script>        </div>"
      ]
     },
     "metadata": {},
     "output_type": "display_data"
    }
   ],
   "source": [
    "# 하이퍼파라미터 중요도\n",
    "optuna.visualization.plot_param_importances(study)"
   ]
  },
  {
   "cell_type": "code",
   "execution_count": 16,
   "id": "6f100ff1-2198-4b5d-a924-059d4a4598a5",
   "metadata": {},
   "outputs": [
    {
     "name": "stdout",
     "output_type": "stream",
     "text": [
      "(25826, 2)\n",
      "(18078, 2)\n",
      "training model for CV #1\n",
      "training model for CV #2\n",
      "training model for CV #3\n",
      "training model for CV #4\n",
      "training model for CV #5\n"
     ]
    }
   ],
   "source": [
    "n_fold = 5\n",
    "cv = StratifiedKFold(n_splits = n_fold, shuffle = True, random_state = 39)\n",
    "\n",
    "cat_val = np.zeros((X_train.shape[0], 2))\n",
    "cat_partrain = np.zeros((X_partrain.shape[0], 2))\n",
    "\n",
    "print(cat_val.shape)\n",
    "print(cat_partrain.shape)\n",
    "\n",
    "for i, (i_trn, i_val) in enumerate(cv.split(X_train, y_train), 1):\n",
    "    print(f'training model for CV #{i}')\n",
    "    optuna_cat = CatBoostClassifier(\n",
    "        random_state = 39,\n",
    "        learning_rate = 0.14838330374220435, \n",
    "        n_estimators = 968, \n",
    "        max_depth = 8)\n",
    "\n",
    "    optuna_cat.fit(X_train.loc[i_trn, :], y_train[i_trn], verbose = False)\n",
    "\n",
    "    cat_val[i_val, :] = optuna_cat.predict_proba(X_train.loc[i_val, :])\n",
    "    cat_partrain += optuna_cat.predict_proba(X_partrain) / n_fold"
   ]
  },
  {
   "cell_type": "code",
   "execution_count": 17,
   "id": "0cf0f916-3eb2-40af-9664-ff90239743f7",
   "metadata": {},
   "outputs": [
    {
     "name": "stdout",
     "output_type": "stream",
     "text": [
      "(25826, 2)\n",
      "(18078, 2)\n",
      "(25826, 21)\n"
     ]
    }
   ],
   "source": [
    "print(cat_val.shape)\n",
    "print(cat_partrain.shape)\n",
    "\n",
    "X_train['model1_prob'] = cat_val[:, 1]\n",
    "print(X_train.shape)"
   ]
  },
  {
   "cell_type": "code",
   "execution_count": 18,
   "id": "9945760a-3457-4d59-a798-534c04e8a92e",
   "metadata": {},
   "outputs": [
    {
     "name": "stdout",
     "output_type": "stream",
     "text": [
      "(25826, 18)\n",
      "(25826,)\n"
     ]
    }
   ],
   "source": [
    "X_train2 = X_train.drop(['AL', 'BA', 'model1_prob'], axis = 1)\n",
    "y_train2 = X_train['model1_prob']\n",
    "print(X_train2.shape)\n",
    "print(y_train2.shape)"
   ]
  },
  {
   "cell_type": "code",
   "execution_count": 19,
   "id": "gtPCJWa8qd16",
   "metadata": {
    "executionInfo": {
     "elapsed": 7,
     "status": "ok",
     "timestamp": 1668058269063,
     "user": {
      "displayName": "신웅재",
      "userId": "10740416681947312578"
     },
     "user_tz": -540
    },
    "id": "gtPCJWa8qd16"
   },
   "outputs": [
    {
     "name": "stdout",
     "output_type": "stream",
     "text": [
      "(18078, 18)\n",
      "(7748, 18)\n",
      "(18078,)\n",
      "(7748,)\n"
     ]
    }
   ],
   "source": [
    "X_partrain, X_val, y_partrain, y_val = train_test_split(X_train2, y_train2, test_size = 0.3, random_state = 39)\n",
    "print(X_partrain.shape)\n",
    "print(X_val.shape)\n",
    "print(y_partrain.shape)\n",
    "print(y_val.shape)"
   ]
  },
  {
   "cell_type": "code",
   "execution_count": 101,
   "id": "5_iPm04Fqdze",
   "metadata": {
    "executionInfo": {
     "elapsed": 7,
     "status": "ok",
     "timestamp": 1668058269063,
     "user": {
      "displayName": "신웅재",
      "userId": "10740416681947312578"
     },
     "user_tz": -540
    },
    "id": "5_iPm04Fqdze"
   },
   "outputs": [],
   "source": [
    "def objective(trial : Trial) -> float :\n",
    "\n",
    "    params_cat = {\n",
    "        \"random_state\" : 39,\n",
    "        'learning_rate' : trial.suggest_loguniform('learning_rate', 0.005, 0.5),\n",
    "        \"n_estimators\" : trial.suggest_int(\"n_estimators\", 100, 1000),\n",
    "        \"max_depth\" : trial.suggest_int(\"max_depth\", 3, 10)\n",
    "  }\n",
    "    \n",
    "    model = CatBoostRegressor(**params_cat)\n",
    "    model.fit(X_partrain, y_partrain, eval_set = [(X_val, y_val)],\n",
    "              early_stopping_rounds = 100, verbose = False,  cat_features = categorical_features)\n",
    "\n",
    "    cat_pred = model.predict(X_val)\n",
    "    MAE = mean_absolute_error(y_val, cat_pred)\n",
    "    \n",
    "    return MAE"
   ]
  },
  {
   "cell_type": "code",
   "execution_count": null,
   "id": "WEJSsNsKqdxC",
   "metadata": {
    "executionInfo": {
     "elapsed": 6,
     "status": "ok",
     "timestamp": 1668058269063,
     "user": {
      "displayName": "신웅재",
      "userId": "10740416681947312578"
     },
     "user_tz": -540
    },
    "id": "WEJSsNsKqdxC"
   },
   "outputs": [
    {
     "name": "stderr",
     "output_type": "stream",
     "text": [
      "\u001b[32m[I 2022-11-25 12:37:44,841]\u001b[0m A new study created in memory with name: cat_parameter_opt\u001b[0m\n",
      "\u001b[32m[I 2022-11-25 12:38:03,836]\u001b[0m Trial 0 finished with value: 0.2221259236189402 and parameters: {'learning_rate': 0.06205093309656499, 'n_estimators': 818, 'max_depth': 9}. Best is trial 0 with value: 0.2221259236189402.\u001b[0m\n",
      "\u001b[32m[I 2022-11-25 12:38:09,903]\u001b[0m Trial 1 finished with value: 0.3523152542685131 and parameters: {'learning_rate': 0.008771416592003579, 'n_estimators': 642, 'max_depth': 7}. Best is trial 0 with value: 0.2221259236189402.\u001b[0m\n",
      "\u001b[32m[I 2022-11-25 12:38:16,951]\u001b[0m Trial 2 finished with value: 0.27176471918164236 and parameters: {'learning_rate': 0.04234350615938281, 'n_estimators': 524, 'max_depth': 8}. Best is trial 0 with value: 0.2221259236189402.\u001b[0m\n",
      "\u001b[32m[I 2022-11-25 12:38:40,881]\u001b[0m Trial 3 finished with value: 0.19302179890951432 and parameters: {'learning_rate': 0.35505674331734294, 'n_estimators': 834, 'max_depth': 10}. Best is trial 3 with value: 0.19302179890951432.\u001b[0m\n",
      "\u001b[32m[I 2022-11-25 12:38:51,924]\u001b[0m Trial 4 finished with value: 0.20507893203346 and parameters: {'learning_rate': 0.3452552477828869, 'n_estimators': 473, 'max_depth': 9}. Best is trial 3 with value: 0.19302179890951432.\u001b[0m\n",
      "\u001b[32m[I 2022-11-25 12:38:55,946]\u001b[0m Trial 5 finished with value: 0.2373639129221076 and parameters: {'learning_rate': 0.39038241106633764, 'n_estimators': 665, 'max_depth': 5}. Best is trial 3 with value: 0.19302179890951432.\u001b[0m\n",
      "\u001b[32m[I 2022-11-25 12:38:59,096]\u001b[0m Trial 6 finished with value: 0.30402835661841304 and parameters: {'learning_rate': 0.07650182752532741, 'n_estimators': 875, 'max_depth': 3}. Best is trial 3 with value: 0.19302179890951432.\u001b[0m\n",
      "\u001b[32m[I 2022-11-25 12:39:03,640]\u001b[0m Trial 7 finished with value: 0.24243955704578546 and parameters: {'learning_rate': 0.2561929054277609, 'n_estimators': 748, 'max_depth': 5}. Best is trial 3 with value: 0.19302179890951432.\u001b[0m\n",
      "\u001b[32m[I 2022-11-25 12:39:12,079]\u001b[0m Trial 8 finished with value: 0.2583607167988786 and parameters: {'learning_rate': 0.046750143544503714, 'n_estimators': 860, 'max_depth': 7}. Best is trial 3 with value: 0.19302179890951432.\u001b[0m\n",
      "\u001b[32m[I 2022-11-25 12:39:14,684]\u001b[0m Trial 9 finished with value: 0.37956075747488716 and parameters: {'learning_rate': 0.01031007070552687, 'n_estimators': 574, 'max_depth': 4}. Best is trial 3 with value: 0.19302179890951432.\u001b[0m\n",
      "\u001b[32m[I 2022-11-25 12:39:20,686]\u001b[0m Trial 10 finished with value: 0.23726329530780588 and parameters: {'learning_rate': 0.1412530697877283, 'n_estimators': 208, 'max_depth': 10}. Best is trial 3 with value: 0.19302179890951432.\u001b[0m\n",
      "\u001b[32m[I 2022-11-25 12:39:30,934]\u001b[0m Trial 11 finished with value: 0.20928712731150953 and parameters: {'learning_rate': 0.4684923492154959, 'n_estimators': 357, 'max_depth': 10}. Best is trial 3 with value: 0.19302179890951432.\u001b[0m\n",
      "\u001b[32m[I 2022-11-25 12:39:54,504]\u001b[0m Trial 12 finished with value: 0.19480502400816463 and parameters: {'learning_rate': 0.17065853507833725, 'n_estimators': 1000, 'max_depth': 9}. Best is trial 3 with value: 0.19302179890951432.\u001b[0m\n",
      "\u001b[32m[I 2022-11-25 12:40:17,839]\u001b[0m Trial 13 finished with value: 0.19254196963264464 and parameters: {'learning_rate': 0.15690550114447696, 'n_estimators': 994, 'max_depth': 9}. Best is trial 13 with value: 0.19254196963264464.\u001b[0m\n",
      "\u001b[32m[I 2022-11-25 12:40:31,308]\u001b[0m Trial 14 finished with value: 0.2072902193469921 and parameters: {'learning_rate': 0.12854931771061692, 'n_estimators': 993, 'max_depth': 8}. Best is trial 13 with value: 0.19254196963264464.\u001b[0m\n",
      "\u001b[32m[I 2022-11-25 12:40:57,984]\u001b[0m Trial 15 finished with value: 0.2367713072327857 and parameters: {'learning_rate': 0.029521485698617858, 'n_estimators': 931, 'max_depth': 10}. Best is trial 13 with value: 0.19254196963264464.\u001b[0m\n",
      "\u001b[32m[I 2022-11-25 12:41:08,249]\u001b[0m Trial 16 finished with value: 0.2045374927011162 and parameters: {'learning_rate': 0.21843729062471384, 'n_estimators': 752, 'max_depth': 8}. Best is trial 13 with value: 0.19254196963264464.\u001b[0m\n",
      "\u001b[32m[I 2022-11-25 12:41:14,110]\u001b[0m Trial 17 finished with value: 0.24842676478698125 and parameters: {'learning_rate': 0.10210929642438267, 'n_estimators': 752, 'max_depth': 6}. Best is trial 13 with value: 0.19254196963264464.\u001b[0m\n",
      "\u001b[32m[I 2022-11-25 12:41:15,955]\u001b[0m Trial 18 finished with value: 0.36937577247175396 and parameters: {'learning_rate': 0.025523333599717122, 'n_estimators': 115, 'max_depth': 9}. Best is trial 13 with value: 0.19254196963264464.\u001b[0m\n",
      "\u001b[32m[I 2022-11-25 12:41:27,332]\u001b[0m Trial 19 finished with value: 0.20122262402142924 and parameters: {'learning_rate': 0.2476790862779956, 'n_estimators': 394, 'max_depth': 10}. Best is trial 13 with value: 0.19254196963264464.\u001b[0m\n",
      "\u001b[32m[I 2022-11-25 12:41:39,773]\u001b[0m Trial 20 finished with value: 0.20036706682297312 and parameters: {'learning_rate': 0.32306827244741154, 'n_estimators': 912, 'max_depth': 8}. Best is trial 13 with value: 0.19254196963264464.\u001b[0m\n",
      "\u001b[32m[I 2022-11-25 12:42:02,831]\u001b[0m Trial 21 finished with value: 0.19411401267745035 and parameters: {'learning_rate': 0.1721855940374007, 'n_estimators': 989, 'max_depth': 9}. Best is trial 13 with value: 0.19254196963264464.\u001b[0m\n",
      "\u001b[32m[I 2022-11-25 12:42:26,122]\u001b[0m Trial 22 finished with value: 0.20295718304051855 and parameters: {'learning_rate': 0.09334040185792877, 'n_estimators': 999, 'max_depth': 9}. Best is trial 13 with value: 0.19254196963264464.\u001b[0m\n",
      "\u001b[32m[I 2022-11-25 12:42:49,449]\u001b[0m Trial 23 finished with value: 0.19018344320413164 and parameters: {'learning_rate': 0.19523946124699898, 'n_estimators': 812, 'max_depth': 10}. Best is trial 23 with value: 0.19018344320413164.\u001b[0m\n",
      "\u001b[32m[I 2022-11-25 12:43:12,188]\u001b[0m Trial 24 finished with value: 0.20115358120909682 and parameters: {'learning_rate': 0.4580063540200612, 'n_estimators': 789, 'max_depth': 10}. Best is trial 23 with value: 0.19018344320413164.\u001b[0m\n",
      "\u001b[32m[I 2022-11-25 12:43:29,661]\u001b[0m Trial 25 finished with value: 0.35146087360174233 and parameters: {'learning_rate': 0.00572921659558951, 'n_estimators': 625, 'max_depth': 10}. Best is trial 23 with value: 0.19018344320413164.\u001b[0m\n",
      "\u001b[32m[I 2022-11-25 12:43:36,713]\u001b[0m Trial 26 finished with value: 0.21649218018026647 and parameters: {'learning_rate': 0.21160950873578027, 'n_estimators': 713, 'max_depth': 7}. Best is trial 23 with value: 0.19018344320413164.\u001b[0m\n",
      "\u001b[32m[I 2022-11-25 12:44:00,507]\u001b[0m Trial 27 finished with value: 0.19693032912534217 and parameters: {'learning_rate': 0.11051356354044471, 'n_estimators': 830, 'max_depth': 10}. Best is trial 23 with value: 0.19018344320413164.\u001b[0m\n",
      "\u001b[32m[I 2022-11-25 12:44:13,273]\u001b[0m Trial 28 finished with value: 0.2002563659302378 and parameters: {'learning_rate': 0.2734986679332117, 'n_estimators': 924, 'max_depth': 8}. Best is trial 23 with value: 0.19018344320413164.\u001b[0m\n",
      "\u001b[32m[I 2022-11-25 12:44:32,279]\u001b[0m Trial 29 finished with value: 0.22167609259935744 and parameters: {'learning_rate': 0.06336439528149944, 'n_estimators': 816, 'max_depth': 9}. Best is trial 23 with value: 0.19018344320413164.\u001b[0m\n",
      "\u001b[32m[I 2022-11-25 12:44:39,254]\u001b[0m Trial 30 finished with value: 0.2253522056807688 and parameters: {'learning_rate': 0.1896495489685728, 'n_estimators': 905, 'max_depth': 6}. Best is trial 23 with value: 0.19018344320413164.\u001b[0m\n",
      "\u001b[32m[I 2022-11-25 12:45:01,491]\u001b[0m Trial 31 finished with value: 0.19558807028247538 and parameters: {'learning_rate': 0.14943287253495427, 'n_estimators': 956, 'max_depth': 9}. Best is trial 23 with value: 0.19018344320413164.\u001b[0m\n",
      "\u001b[32m[I 2022-11-25 12:45:21,655]\u001b[0m Trial 32 finished with value: 0.1971441738237003 and parameters: {'learning_rate': 0.17125038767770415, 'n_estimators': 867, 'max_depth': 9}. Best is trial 23 with value: 0.19018344320413164.\u001b[0m\n",
      "\u001b[32m[I 2022-11-25 12:45:49,168]\u001b[0m Trial 33 finished with value: 0.1908852426883122 and parameters: {'learning_rate': 0.3269833473235263, 'n_estimators': 955, 'max_depth': 10}. Best is trial 23 with value: 0.19018344320413164.\u001b[0m\n",
      "\u001b[32m[I 2022-11-25 12:46:08,856]\u001b[0m Trial 34 finished with value: 0.19423241639763847 and parameters: {'learning_rate': 0.31283817579982026, 'n_estimators': 687, 'max_depth': 10}. Best is trial 23 with value: 0.19018344320413164.\u001b[0m\n",
      "\u001b[32m[I 2022-11-25 12:46:31,898]\u001b[0m Trial 35 finished with value: 0.19864561935088051 and parameters: {'learning_rate': 0.40872588954347994, 'n_estimators': 802, 'max_depth': 10}. Best is trial 23 with value: 0.19018344320413164.\u001b[0m\n",
      "\u001b[32m[I 2022-11-25 12:46:43,843]\u001b[0m Trial 36 finished with value: 0.20305738162123166 and parameters: {'learning_rate': 0.3214455481761228, 'n_estimators': 874, 'max_depth': 8}. Best is trial 23 with value: 0.19018344320413164.\u001b[0m\n",
      "\u001b[32m[I 2022-11-25 12:46:57,665]\u001b[0m Trial 37 finished with value: 0.20711440434401235 and parameters: {'learning_rate': 0.4863430532728391, 'n_estimators': 593, 'max_depth': 9}. Best is trial 23 with value: 0.19018344320413164.\u001b[0m\n",
      "\u001b[32m[I 2022-11-25 12:47:12,058]\u001b[0m Trial 38 finished with value: 0.2258071272867084 and parameters: {'learning_rate': 0.07165042171168615, 'n_estimators': 503, 'max_depth': 10}. Best is trial 23 with value: 0.19018344320413164.\u001b[0m\n",
      "\u001b[32m[I 2022-11-25 12:47:21,445]\u001b[0m Trial 39 finished with value: 0.2112508131148149 and parameters: {'learning_rate': 0.24569924156703996, 'n_estimators': 946, 'max_depth': 7}. Best is trial 23 with value: 0.19018344320413164.\u001b[0m\n",
      "\u001b[32m[I 2022-11-25 12:47:41,609]\u001b[0m Trial 40 finished with value: 0.24333605127801206 and parameters: {'learning_rate': 0.035336370182054454, 'n_estimators': 871, 'max_depth': 9}. Best is trial 23 with value: 0.19018344320413164.\u001b[0m\n",
      "\u001b[32m[I 2022-11-25 12:48:09,003]\u001b[0m Trial 41 finished with value: 0.19291802077429424 and parameters: {'learning_rate': 0.12048186269719764, 'n_estimators': 954, 'max_depth': 10}. Best is trial 23 with value: 0.19018344320413164.\u001b[0m\n",
      "\u001b[32m[I 2022-11-25 12:48:33,077]\u001b[0m Trial 42 finished with value: 0.19432717939857375 and parameters: {'learning_rate': 0.13104145630378297, 'n_estimators': 841, 'max_depth': 10}. Best is trial 23 with value: 0.19018344320413164.\u001b[0m\n",
      "\u001b[32m[I 2022-11-25 12:49:00,508]\u001b[0m Trial 43 finished with value: 0.19447963608044147 and parameters: {'learning_rate': 0.3659415498260397, 'n_estimators': 955, 'max_depth': 10}. Best is trial 23 with value: 0.19018344320413164.\u001b[0m\n",
      "\u001b[32m[I 2022-11-25 12:49:03,769]\u001b[0m Trial 44 finished with value: 0.31610321723970547 and parameters: {'learning_rate': 0.0518711902240359, 'n_estimators': 901, 'max_depth': 3}. Best is trial 23 with value: 0.19018344320413164.\u001b[0m\n",
      "\u001b[32m[I 2022-11-25 12:49:07,439]\u001b[0m Trial 45 finished with value: 0.34186419826715037 and parameters: {'learning_rate': 0.018844251787828656, 'n_estimators': 774, 'max_depth': 4}. Best is trial 23 with value: 0.19018344320413164.\u001b[0m\n",
      "\u001b[32m[I 2022-11-25 12:49:34,918]\u001b[0m Trial 46 finished with value: 0.1889507918710536 and parameters: {'learning_rate': 0.27900811556996097, 'n_estimators': 956, 'max_depth': 10}. Best is trial 46 with value: 0.1889507918710536.\u001b[0m\n",
      "\u001b[32m[I 2022-11-25 12:50:02,331]\u001b[0m Trial 47 finished with value: 0.1963453419284341 and parameters: {'learning_rate': 0.09247092851059682, 'n_estimators': 954, 'max_depth': 10}. Best is trial 46 with value: 0.1889507918710536.\u001b[0m\n",
      "\u001b[32m[I 2022-11-25 12:50:24,831]\u001b[0m Trial 48 finished with value: 0.20864033275575924 and parameters: {'learning_rate': 0.08163128992499717, 'n_estimators': 971, 'max_depth': 9}. Best is trial 46 with value: 0.1889507918710536.\u001b[0m\n",
      "\u001b[32m[I 2022-11-25 12:50:50,415]\u001b[0m Trial 49 finished with value: 0.18837766309506426 and parameters: {'learning_rate': 0.2126621136606656, 'n_estimators': 891, 'max_depth': 10}. Best is trial 49 with value: 0.18837766309506426.\u001b[0m\n",
      "\u001b[32m[I 2022-11-25 12:51:02,844]\u001b[0m Trial 50 finished with value: 0.20162589624724042 and parameters: {'learning_rate': 0.26338765935950065, 'n_estimators': 912, 'max_depth': 8}. Best is trial 49 with value: 0.18837766309506426.\u001b[0m\n",
      "\u001b[32m[I 2022-11-25 12:51:28,781]\u001b[0m Trial 51 finished with value: 0.1871123427132693 and parameters: {'learning_rate': 0.2092401876135517, 'n_estimators': 903, 'max_depth': 10}. Best is trial 51 with value: 0.1871123427132693.\u001b[0m\n",
      "\u001b[32m[I 2022-11-25 12:51:54,713]\u001b[0m Trial 52 finished with value: 0.19029641857103072 and parameters: {'learning_rate': 0.14852174214270888, 'n_estimators': 900, 'max_depth': 10}. Best is trial 51 with value: 0.1871123427132693.\u001b[0m\n",
      "\u001b[32m[I 2022-11-25 12:52:19,211]\u001b[0m Trial 53 finished with value: 0.19069554292522437 and parameters: {'learning_rate': 0.22102795865856, 'n_estimators': 853, 'max_depth': 10}. Best is trial 51 with value: 0.1871123427132693.\u001b[0m\n",
      "\u001b[32m[I 2022-11-25 12:52:40,097]\u001b[0m Trial 54 finished with value: 0.19203365293417118 and parameters: {'learning_rate': 0.20005874081470915, 'n_estimators': 726, 'max_depth': 10}. Best is trial 51 with value: 0.1871123427132693.\u001b[0m\n",
      "\u001b[32m[I 2022-11-25 12:52:59,958]\u001b[0m Trial 55 finished with value: 0.19405171066224952 and parameters: {'learning_rate': 0.23713337852821698, 'n_estimators': 851, 'max_depth': 9}. Best is trial 51 with value: 0.1871123427132693.\u001b[0m\n",
      "\u001b[32m[I 2022-11-25 12:53:25,538]\u001b[0m Trial 56 finished with value: 0.19160676074908967 and parameters: {'learning_rate': 0.14136817320035594, 'n_estimators': 890, 'max_depth': 10}. Best is trial 51 with value: 0.1871123427132693.\u001b[0m\n",
      "\u001b[32m[I 2022-11-25 12:53:35,508]\u001b[0m Trial 57 finished with value: 0.2108292513871747 and parameters: {'learning_rate': 0.19008589362884068, 'n_estimators': 427, 'max_depth': 9}. Best is trial 51 with value: 0.1871123427132693.\u001b[0m\n",
      "\u001b[32m[I 2022-11-25 12:53:58,644]\u001b[0m Trial 58 finished with value: 0.19059142710327992 and parameters: {'learning_rate': 0.16149452303421047, 'n_estimators': 803, 'max_depth': 10}. Best is trial 51 with value: 0.1871123427132693.\u001b[0m\n",
      "\u001b[32m[I 2022-11-25 12:54:20,871]\u001b[0m Trial 59 finished with value: 0.1984261562061129 and parameters: {'learning_rate': 0.10982990943181582, 'n_estimators': 776, 'max_depth': 10}. Best is trial 51 with value: 0.1871123427132693.\u001b[0m\n",
      "\u001b[32m[I 2022-11-25 12:54:30,246]\u001b[0m Trial 60 finished with value: 0.20432280477310585 and parameters: {'learning_rate': 0.27578942710377796, 'n_estimators': 323, 'max_depth': 10}. Best is trial 51 with value: 0.1871123427132693.\u001b[0m\n",
      "\u001b[32m[I 2022-11-25 12:54:53,769]\u001b[0m Trial 61 finished with value: 0.19052649272945132 and parameters: {'learning_rate': 0.16304586256491782, 'n_estimators': 821, 'max_depth': 10}. Best is trial 51 with value: 0.1871123427132693.\u001b[0m\n",
      "\u001b[32m[I 2022-11-25 12:55:17,182]\u001b[0m Trial 62 finished with value: 0.1919541444367305 and parameters: {'learning_rate': 0.16653925015169802, 'n_estimators': 815, 'max_depth': 10}. Best is trial 51 with value: 0.1871123427132693.\u001b[0m\n",
      "\u001b[33m[W 2022-11-25 12:55:28,764]\u001b[0m Trial 63 failed because of the following error: KeyboardInterrupt('')\u001b[0m\n",
      "Traceback (most recent call last):\n",
      "  File \"/home/studio-lab-user/.conda/envs/default/lib/python3.9/site-packages/optuna/study/_optimize.py\", line 196, in _run_trial\n",
      "    value_or_values = func(trial)\n",
      "  File \"/tmp/ipykernel_173/1494874464.py\", line 11, in objective\n",
      "    model.fit(X_partrain, y_partrain, eval_set = [(X_val, y_val)],\n",
      "  File \"/home/studio-lab-user/.conda/envs/default/lib/python3.9/site-packages/catboost/core.py\", line 5730, in fit\n",
      "    return self._fit(X, y, cat_features, text_features, embedding_features, None, sample_weight, None, None, None, None, baseline,\n",
      "  File \"/home/studio-lab-user/.conda/envs/default/lib/python3.9/site-packages/catboost/core.py\", line 2355, in _fit\n",
      "    self._train(\n",
      "  File \"/home/studio-lab-user/.conda/envs/default/lib/python3.9/site-packages/catboost/core.py\", line 1759, in _train\n",
      "    self._object._train(train_pool, test_pool, params, allow_clear_pool, init_model._object if init_model else None)\n",
      "  File \"_catboost.pyx\", line 4623, in _catboost._CatBoost._train\n",
      "  File \"_catboost.pyx\", line 4672, in _catboost._CatBoost._train\n",
      "KeyboardInterrupt\n"
     ]
    }
   ],
   "source": [
    "sampler = TPESampler(seed = 39)\n",
    "study = optuna.create_study(\n",
    "    study_name = \"cat_parameter_opt\",\n",
    "    direction = \"minimize\",\n",
    "    sampler = sampler)\n",
    "study.optimize(objective, n_trials = 100)"
   ]
  },
  {
   "cell_type": "code",
   "execution_count": 59,
   "id": "gpdt_A_1qduW",
   "metadata": {
    "executionInfo": {
     "elapsed": 6,
     "status": "ok",
     "timestamp": 1668058269063,
     "user": {
      "displayName": "신웅재",
      "userId": "10740416681947312578"
     },
     "user_tz": -540
    },
    "id": "gpdt_A_1qduW"
   },
   "outputs": [
    {
     "name": "stdout",
     "output_type": "stream",
     "text": [
      "Best Score : 0.19449510761199787\n",
      "Best trial : {'learning_rate': 0.22259744286979857, 'n_estimators': 702, 'max_depth': 10}\n"
     ]
    }
   ],
   "source": [
    "print(\"Best Score :\", study.best_value)\n",
    "print(\"Best trial :\", study.best_trial.params)"
   ]
  },
  {
   "cell_type": "code",
   "execution_count": 60,
   "id": "G32Xldnyqdli",
   "metadata": {
    "id": "G32Xldnyqdli"
   },
   "outputs": [
    {
     "data": {
      "application/vnd.plotly.v1+json": {
       "config": {
        "plotlyServerURL": "https://plot.ly"
       },
       "data": [
        {
         "mode": "markers",
         "name": "Objective Value",
         "type": "scatter",
         "x": [
          0,
          1,
          2,
          3,
          4,
          5,
          6,
          7,
          8,
          9,
          10,
          11,
          12,
          13,
          14,
          15,
          16,
          17,
          18,
          19,
          20,
          21,
          22,
          23,
          24,
          25,
          26,
          27,
          28,
          29,
          30,
          31,
          32,
          33,
          34,
          35,
          36,
          37,
          38,
          39,
          40,
          41,
          42,
          43,
          44,
          45,
          46,
          47,
          48,
          49,
          50,
          51,
          52,
          53,
          54,
          55,
          56,
          57,
          58,
          59,
          60,
          61,
          62,
          63,
          64,
          65,
          66,
          67,
          68,
          69,
          70,
          71,
          72,
          73,
          74,
          75,
          76,
          77,
          78,
          79,
          80,
          81,
          82,
          83,
          84,
          85,
          86,
          87,
          88,
          89,
          90,
          91,
          92,
          93,
          94,
          95,
          96,
          97,
          98,
          99
         ],
         "y": [
          0.22192908746518092,
          0.33385616052416056,
          0.2629383939779751,
          0.20003730059491115,
          0.20695239833395945,
          0.2366570123880118,
          0.29048982766754483,
          0.23903243956528067,
          0.2527097643749406,
          0.363042198343846,
          0.2336128919799432,
          0.21053255876605556,
          0.1989900865323424,
          0.20020867304514425,
          0.20683373204984146,
          0.23393614700135346,
          0.20920083828160863,
          0.2475313099257599,
          0.35236621616282054,
          0.19785205983605245,
          0.2743295318664835,
          0.1992741181806799,
          0.2001733692590521,
          0.20123826621656715,
          0.1983608272777889,
          0.20189363816819583,
          0.2222392862858067,
          0.2388000255092733,
          0.21423025043698432,
          0.21868034648615467,
          0.24066240747885093,
          0.19966176976611655,
          0.2151871963043917,
          0.1980443964467242,
          0.19789656099364072,
          0.19815403722719746,
          0.19984090412361996,
          0.2110597455962636,
          0.2011487038452523,
          0.21823936915608413,
          0.2055725266334379,
          0.19634573188551144,
          0.3268556850941651,
          0.2700458193126499,
          0.2038226810914836,
          0.24971678980165363,
          0.2043666030176169,
          0.22889024452300555,
          0.2058536286684937,
          0.20697167166963745,
          0.19807113897521816,
          0.19897447745844232,
          0.19821835425896664,
          0.1983217933562467,
          0.19888369985231555,
          0.20198535252500732,
          0.23392259477181823,
          0.2042313406714807,
          0.2074965818347809,
          0.2622988246567589,
          0.21837109836174187,
          0.19792717924941705,
          0.1986180410059858,
          0.20053104659629506,
          0.21188249590964534,
          0.20073425343704984,
          0.2056622934319059,
          0.20039582758026195,
          0.20395359945959673,
          0.2141964570604689,
          0.26630441876188843,
          0.19903331182985654,
          0.19803980134637642,
          0.19664461723952095,
          0.19866676848894568,
          0.20915941392933327,
          0.20568027747217643,
          0.22116881046469114,
          0.20419386326659875,
          0.2033891133416012,
          0.2356154438679674,
          0.20053690482122105,
          0.1980614774552134,
          0.19832128081345865,
          0.19989819056460406,
          0.20128777444161014,
          0.20100423526000202,
          0.19449510761199787,
          0.19618352774458758,
          0.2032834852924478,
          0.2506581722222099,
          0.1971405185422643,
          0.20513882227218083,
          0.19780115259790723,
          0.19864075499102438,
          0.19508141874074042,
          0.20447625889080243,
          0.19642288486888315,
          0.19712459161702156,
          0.19686465167362285
         ]
        },
        {
         "name": "Best Value",
         "type": "scatter",
         "x": [
          0,
          1,
          2,
          3,
          4,
          5,
          6,
          7,
          8,
          9,
          10,
          11,
          12,
          13,
          14,
          15,
          16,
          17,
          18,
          19,
          20,
          21,
          22,
          23,
          24,
          25,
          26,
          27,
          28,
          29,
          30,
          31,
          32,
          33,
          34,
          35,
          36,
          37,
          38,
          39,
          40,
          41,
          42,
          43,
          44,
          45,
          46,
          47,
          48,
          49,
          50,
          51,
          52,
          53,
          54,
          55,
          56,
          57,
          58,
          59,
          60,
          61,
          62,
          63,
          64,
          65,
          66,
          67,
          68,
          69,
          70,
          71,
          72,
          73,
          74,
          75,
          76,
          77,
          78,
          79,
          80,
          81,
          82,
          83,
          84,
          85,
          86,
          87,
          88,
          89,
          90,
          91,
          92,
          93,
          94,
          95,
          96,
          97,
          98,
          99
         ],
         "y": [
          0.22192908746518092,
          0.22192908746518092,
          0.22192908746518092,
          0.20003730059491115,
          0.20003730059491115,
          0.20003730059491115,
          0.20003730059491115,
          0.20003730059491115,
          0.20003730059491115,
          0.20003730059491115,
          0.20003730059491115,
          0.20003730059491115,
          0.1989900865323424,
          0.1989900865323424,
          0.1989900865323424,
          0.1989900865323424,
          0.1989900865323424,
          0.1989900865323424,
          0.1989900865323424,
          0.19785205983605245,
          0.19785205983605245,
          0.19785205983605245,
          0.19785205983605245,
          0.19785205983605245,
          0.19785205983605245,
          0.19785205983605245,
          0.19785205983605245,
          0.19785205983605245,
          0.19785205983605245,
          0.19785205983605245,
          0.19785205983605245,
          0.19785205983605245,
          0.19785205983605245,
          0.19785205983605245,
          0.19785205983605245,
          0.19785205983605245,
          0.19785205983605245,
          0.19785205983605245,
          0.19785205983605245,
          0.19785205983605245,
          0.19785205983605245,
          0.19634573188551144,
          0.19634573188551144,
          0.19634573188551144,
          0.19634573188551144,
          0.19634573188551144,
          0.19634573188551144,
          0.19634573188551144,
          0.19634573188551144,
          0.19634573188551144,
          0.19634573188551144,
          0.19634573188551144,
          0.19634573188551144,
          0.19634573188551144,
          0.19634573188551144,
          0.19634573188551144,
          0.19634573188551144,
          0.19634573188551144,
          0.19634573188551144,
          0.19634573188551144,
          0.19634573188551144,
          0.19634573188551144,
          0.19634573188551144,
          0.19634573188551144,
          0.19634573188551144,
          0.19634573188551144,
          0.19634573188551144,
          0.19634573188551144,
          0.19634573188551144,
          0.19634573188551144,
          0.19634573188551144,
          0.19634573188551144,
          0.19634573188551144,
          0.19634573188551144,
          0.19634573188551144,
          0.19634573188551144,
          0.19634573188551144,
          0.19634573188551144,
          0.19634573188551144,
          0.19634573188551144,
          0.19634573188551144,
          0.19634573188551144,
          0.19634573188551144,
          0.19634573188551144,
          0.19634573188551144,
          0.19634573188551144,
          0.19634573188551144,
          0.19449510761199787,
          0.19449510761199787,
          0.19449510761199787,
          0.19449510761199787,
          0.19449510761199787,
          0.19449510761199787,
          0.19449510761199787,
          0.19449510761199787,
          0.19449510761199787,
          0.19449510761199787,
          0.19449510761199787,
          0.19449510761199787,
          0.19449510761199787
         ]
        }
       ],
       "layout": {
        "template": {
         "data": {
          "bar": [
           {
            "error_x": {
             "color": "#2a3f5f"
            },
            "error_y": {
             "color": "#2a3f5f"
            },
            "marker": {
             "line": {
              "color": "#E5ECF6",
              "width": 0.5
             },
             "pattern": {
              "fillmode": "overlay",
              "size": 10,
              "solidity": 0.2
             }
            },
            "type": "bar"
           }
          ],
          "barpolar": [
           {
            "marker": {
             "line": {
              "color": "#E5ECF6",
              "width": 0.5
             },
             "pattern": {
              "fillmode": "overlay",
              "size": 10,
              "solidity": 0.2
             }
            },
            "type": "barpolar"
           }
          ],
          "carpet": [
           {
            "aaxis": {
             "endlinecolor": "#2a3f5f",
             "gridcolor": "white",
             "linecolor": "white",
             "minorgridcolor": "white",
             "startlinecolor": "#2a3f5f"
            },
            "baxis": {
             "endlinecolor": "#2a3f5f",
             "gridcolor": "white",
             "linecolor": "white",
             "minorgridcolor": "white",
             "startlinecolor": "#2a3f5f"
            },
            "type": "carpet"
           }
          ],
          "choropleth": [
           {
            "colorbar": {
             "outlinewidth": 0,
             "ticks": ""
            },
            "type": "choropleth"
           }
          ],
          "contour": [
           {
            "colorbar": {
             "outlinewidth": 0,
             "ticks": ""
            },
            "colorscale": [
             [
              0,
              "#0d0887"
             ],
             [
              0.1111111111111111,
              "#46039f"
             ],
             [
              0.2222222222222222,
              "#7201a8"
             ],
             [
              0.3333333333333333,
              "#9c179e"
             ],
             [
              0.4444444444444444,
              "#bd3786"
             ],
             [
              0.5555555555555556,
              "#d8576b"
             ],
             [
              0.6666666666666666,
              "#ed7953"
             ],
             [
              0.7777777777777778,
              "#fb9f3a"
             ],
             [
              0.8888888888888888,
              "#fdca26"
             ],
             [
              1,
              "#f0f921"
             ]
            ],
            "type": "contour"
           }
          ],
          "contourcarpet": [
           {
            "colorbar": {
             "outlinewidth": 0,
             "ticks": ""
            },
            "type": "contourcarpet"
           }
          ],
          "heatmap": [
           {
            "colorbar": {
             "outlinewidth": 0,
             "ticks": ""
            },
            "colorscale": [
             [
              0,
              "#0d0887"
             ],
             [
              0.1111111111111111,
              "#46039f"
             ],
             [
              0.2222222222222222,
              "#7201a8"
             ],
             [
              0.3333333333333333,
              "#9c179e"
             ],
             [
              0.4444444444444444,
              "#bd3786"
             ],
             [
              0.5555555555555556,
              "#d8576b"
             ],
             [
              0.6666666666666666,
              "#ed7953"
             ],
             [
              0.7777777777777778,
              "#fb9f3a"
             ],
             [
              0.8888888888888888,
              "#fdca26"
             ],
             [
              1,
              "#f0f921"
             ]
            ],
            "type": "heatmap"
           }
          ],
          "heatmapgl": [
           {
            "colorbar": {
             "outlinewidth": 0,
             "ticks": ""
            },
            "colorscale": [
             [
              0,
              "#0d0887"
             ],
             [
              0.1111111111111111,
              "#46039f"
             ],
             [
              0.2222222222222222,
              "#7201a8"
             ],
             [
              0.3333333333333333,
              "#9c179e"
             ],
             [
              0.4444444444444444,
              "#bd3786"
             ],
             [
              0.5555555555555556,
              "#d8576b"
             ],
             [
              0.6666666666666666,
              "#ed7953"
             ],
             [
              0.7777777777777778,
              "#fb9f3a"
             ],
             [
              0.8888888888888888,
              "#fdca26"
             ],
             [
              1,
              "#f0f921"
             ]
            ],
            "type": "heatmapgl"
           }
          ],
          "histogram": [
           {
            "marker": {
             "pattern": {
              "fillmode": "overlay",
              "size": 10,
              "solidity": 0.2
             }
            },
            "type": "histogram"
           }
          ],
          "histogram2d": [
           {
            "colorbar": {
             "outlinewidth": 0,
             "ticks": ""
            },
            "colorscale": [
             [
              0,
              "#0d0887"
             ],
             [
              0.1111111111111111,
              "#46039f"
             ],
             [
              0.2222222222222222,
              "#7201a8"
             ],
             [
              0.3333333333333333,
              "#9c179e"
             ],
             [
              0.4444444444444444,
              "#bd3786"
             ],
             [
              0.5555555555555556,
              "#d8576b"
             ],
             [
              0.6666666666666666,
              "#ed7953"
             ],
             [
              0.7777777777777778,
              "#fb9f3a"
             ],
             [
              0.8888888888888888,
              "#fdca26"
             ],
             [
              1,
              "#f0f921"
             ]
            ],
            "type": "histogram2d"
           }
          ],
          "histogram2dcontour": [
           {
            "colorbar": {
             "outlinewidth": 0,
             "ticks": ""
            },
            "colorscale": [
             [
              0,
              "#0d0887"
             ],
             [
              0.1111111111111111,
              "#46039f"
             ],
             [
              0.2222222222222222,
              "#7201a8"
             ],
             [
              0.3333333333333333,
              "#9c179e"
             ],
             [
              0.4444444444444444,
              "#bd3786"
             ],
             [
              0.5555555555555556,
              "#d8576b"
             ],
             [
              0.6666666666666666,
              "#ed7953"
             ],
             [
              0.7777777777777778,
              "#fb9f3a"
             ],
             [
              0.8888888888888888,
              "#fdca26"
             ],
             [
              1,
              "#f0f921"
             ]
            ],
            "type": "histogram2dcontour"
           }
          ],
          "mesh3d": [
           {
            "colorbar": {
             "outlinewidth": 0,
             "ticks": ""
            },
            "type": "mesh3d"
           }
          ],
          "parcoords": [
           {
            "line": {
             "colorbar": {
              "outlinewidth": 0,
              "ticks": ""
             }
            },
            "type": "parcoords"
           }
          ],
          "pie": [
           {
            "automargin": true,
            "type": "pie"
           }
          ],
          "scatter": [
           {
            "fillpattern": {
             "fillmode": "overlay",
             "size": 10,
             "solidity": 0.2
            },
            "type": "scatter"
           }
          ],
          "scatter3d": [
           {
            "line": {
             "colorbar": {
              "outlinewidth": 0,
              "ticks": ""
             }
            },
            "marker": {
             "colorbar": {
              "outlinewidth": 0,
              "ticks": ""
             }
            },
            "type": "scatter3d"
           }
          ],
          "scattercarpet": [
           {
            "marker": {
             "colorbar": {
              "outlinewidth": 0,
              "ticks": ""
             }
            },
            "type": "scattercarpet"
           }
          ],
          "scattergeo": [
           {
            "marker": {
             "colorbar": {
              "outlinewidth": 0,
              "ticks": ""
             }
            },
            "type": "scattergeo"
           }
          ],
          "scattergl": [
           {
            "marker": {
             "colorbar": {
              "outlinewidth": 0,
              "ticks": ""
             }
            },
            "type": "scattergl"
           }
          ],
          "scattermapbox": [
           {
            "marker": {
             "colorbar": {
              "outlinewidth": 0,
              "ticks": ""
             }
            },
            "type": "scattermapbox"
           }
          ],
          "scatterpolar": [
           {
            "marker": {
             "colorbar": {
              "outlinewidth": 0,
              "ticks": ""
             }
            },
            "type": "scatterpolar"
           }
          ],
          "scatterpolargl": [
           {
            "marker": {
             "colorbar": {
              "outlinewidth": 0,
              "ticks": ""
             }
            },
            "type": "scatterpolargl"
           }
          ],
          "scatterternary": [
           {
            "marker": {
             "colorbar": {
              "outlinewidth": 0,
              "ticks": ""
             }
            },
            "type": "scatterternary"
           }
          ],
          "surface": [
           {
            "colorbar": {
             "outlinewidth": 0,
             "ticks": ""
            },
            "colorscale": [
             [
              0,
              "#0d0887"
             ],
             [
              0.1111111111111111,
              "#46039f"
             ],
             [
              0.2222222222222222,
              "#7201a8"
             ],
             [
              0.3333333333333333,
              "#9c179e"
             ],
             [
              0.4444444444444444,
              "#bd3786"
             ],
             [
              0.5555555555555556,
              "#d8576b"
             ],
             [
              0.6666666666666666,
              "#ed7953"
             ],
             [
              0.7777777777777778,
              "#fb9f3a"
             ],
             [
              0.8888888888888888,
              "#fdca26"
             ],
             [
              1,
              "#f0f921"
             ]
            ],
            "type": "surface"
           }
          ],
          "table": [
           {
            "cells": {
             "fill": {
              "color": "#EBF0F8"
             },
             "line": {
              "color": "white"
             }
            },
            "header": {
             "fill": {
              "color": "#C8D4E3"
             },
             "line": {
              "color": "white"
             }
            },
            "type": "table"
           }
          ]
         },
         "layout": {
          "annotationdefaults": {
           "arrowcolor": "#2a3f5f",
           "arrowhead": 0,
           "arrowwidth": 1
          },
          "autotypenumbers": "strict",
          "coloraxis": {
           "colorbar": {
            "outlinewidth": 0,
            "ticks": ""
           }
          },
          "colorscale": {
           "diverging": [
            [
             0,
             "#8e0152"
            ],
            [
             0.1,
             "#c51b7d"
            ],
            [
             0.2,
             "#de77ae"
            ],
            [
             0.3,
             "#f1b6da"
            ],
            [
             0.4,
             "#fde0ef"
            ],
            [
             0.5,
             "#f7f7f7"
            ],
            [
             0.6,
             "#e6f5d0"
            ],
            [
             0.7,
             "#b8e186"
            ],
            [
             0.8,
             "#7fbc41"
            ],
            [
             0.9,
             "#4d9221"
            ],
            [
             1,
             "#276419"
            ]
           ],
           "sequential": [
            [
             0,
             "#0d0887"
            ],
            [
             0.1111111111111111,
             "#46039f"
            ],
            [
             0.2222222222222222,
             "#7201a8"
            ],
            [
             0.3333333333333333,
             "#9c179e"
            ],
            [
             0.4444444444444444,
             "#bd3786"
            ],
            [
             0.5555555555555556,
             "#d8576b"
            ],
            [
             0.6666666666666666,
             "#ed7953"
            ],
            [
             0.7777777777777778,
             "#fb9f3a"
            ],
            [
             0.8888888888888888,
             "#fdca26"
            ],
            [
             1,
             "#f0f921"
            ]
           ],
           "sequentialminus": [
            [
             0,
             "#0d0887"
            ],
            [
             0.1111111111111111,
             "#46039f"
            ],
            [
             0.2222222222222222,
             "#7201a8"
            ],
            [
             0.3333333333333333,
             "#9c179e"
            ],
            [
             0.4444444444444444,
             "#bd3786"
            ],
            [
             0.5555555555555556,
             "#d8576b"
            ],
            [
             0.6666666666666666,
             "#ed7953"
            ],
            [
             0.7777777777777778,
             "#fb9f3a"
            ],
            [
             0.8888888888888888,
             "#fdca26"
            ],
            [
             1,
             "#f0f921"
            ]
           ]
          },
          "colorway": [
           "#636efa",
           "#EF553B",
           "#00cc96",
           "#ab63fa",
           "#FFA15A",
           "#19d3f3",
           "#FF6692",
           "#B6E880",
           "#FF97FF",
           "#FECB52"
          ],
          "font": {
           "color": "#2a3f5f"
          },
          "geo": {
           "bgcolor": "white",
           "lakecolor": "white",
           "landcolor": "#E5ECF6",
           "showlakes": true,
           "showland": true,
           "subunitcolor": "white"
          },
          "hoverlabel": {
           "align": "left"
          },
          "hovermode": "closest",
          "mapbox": {
           "style": "light"
          },
          "paper_bgcolor": "white",
          "plot_bgcolor": "#E5ECF6",
          "polar": {
           "angularaxis": {
            "gridcolor": "white",
            "linecolor": "white",
            "ticks": ""
           },
           "bgcolor": "#E5ECF6",
           "radialaxis": {
            "gridcolor": "white",
            "linecolor": "white",
            "ticks": ""
           }
          },
          "scene": {
           "xaxis": {
            "backgroundcolor": "#E5ECF6",
            "gridcolor": "white",
            "gridwidth": 2,
            "linecolor": "white",
            "showbackground": true,
            "ticks": "",
            "zerolinecolor": "white"
           },
           "yaxis": {
            "backgroundcolor": "#E5ECF6",
            "gridcolor": "white",
            "gridwidth": 2,
            "linecolor": "white",
            "showbackground": true,
            "ticks": "",
            "zerolinecolor": "white"
           },
           "zaxis": {
            "backgroundcolor": "#E5ECF6",
            "gridcolor": "white",
            "gridwidth": 2,
            "linecolor": "white",
            "showbackground": true,
            "ticks": "",
            "zerolinecolor": "white"
           }
          },
          "shapedefaults": {
           "line": {
            "color": "#2a3f5f"
           }
          },
          "ternary": {
           "aaxis": {
            "gridcolor": "white",
            "linecolor": "white",
            "ticks": ""
           },
           "baxis": {
            "gridcolor": "white",
            "linecolor": "white",
            "ticks": ""
           },
           "bgcolor": "#E5ECF6",
           "caxis": {
            "gridcolor": "white",
            "linecolor": "white",
            "ticks": ""
           }
          },
          "title": {
           "x": 0.05
          },
          "xaxis": {
           "automargin": true,
           "gridcolor": "white",
           "linecolor": "white",
           "ticks": "",
           "title": {
            "standoff": 15
           },
           "zerolinecolor": "white",
           "zerolinewidth": 2
          },
          "yaxis": {
           "automargin": true,
           "gridcolor": "white",
           "linecolor": "white",
           "ticks": "",
           "title": {
            "standoff": 15
           },
           "zerolinecolor": "white",
           "zerolinewidth": 2
          }
         }
        },
        "title": {
         "text": "Optimization History Plot"
        },
        "xaxis": {
         "title": {
          "text": "Trial"
         }
        },
        "yaxis": {
         "title": {
          "text": "Objective Value"
         }
        }
       }
      },
      "text/html": [
       "<div>                            <div id=\"309a1bca-499d-49db-b91c-3aa50db654f3\" class=\"plotly-graph-div\" style=\"height:525px; width:100%;\"></div>            <script type=\"text/javascript\">                require([\"plotly\"], function(Plotly) {                    window.PLOTLYENV=window.PLOTLYENV || {};                                    if (document.getElementById(\"309a1bca-499d-49db-b91c-3aa50db654f3\")) {                    Plotly.newPlot(                        \"309a1bca-499d-49db-b91c-3aa50db654f3\",                        [{\"mode\":\"markers\",\"name\":\"Objective Value\",\"x\":[0,1,2,3,4,5,6,7,8,9,10,11,12,13,14,15,16,17,18,19,20,21,22,23,24,25,26,27,28,29,30,31,32,33,34,35,36,37,38,39,40,41,42,43,44,45,46,47,48,49,50,51,52,53,54,55,56,57,58,59,60,61,62,63,64,65,66,67,68,69,70,71,72,73,74,75,76,77,78,79,80,81,82,83,84,85,86,87,88,89,90,91,92,93,94,95,96,97,98,99],\"y\":[0.22192908746518092,0.33385616052416056,0.2629383939779751,0.20003730059491115,0.20695239833395945,0.2366570123880118,0.29048982766754483,0.23903243956528067,0.2527097643749406,0.363042198343846,0.2336128919799432,0.21053255876605556,0.1989900865323424,0.20020867304514425,0.20683373204984146,0.23393614700135346,0.20920083828160863,0.2475313099257599,0.35236621616282054,0.19785205983605245,0.2743295318664835,0.1992741181806799,0.2001733692590521,0.20123826621656715,0.1983608272777889,0.20189363816819583,0.2222392862858067,0.2388000255092733,0.21423025043698432,0.21868034648615467,0.24066240747885093,0.19966176976611655,0.2151871963043917,0.1980443964467242,0.19789656099364072,0.19815403722719746,0.19984090412361996,0.2110597455962636,0.2011487038452523,0.21823936915608413,0.2055725266334379,0.19634573188551144,0.3268556850941651,0.2700458193126499,0.2038226810914836,0.24971678980165363,0.2043666030176169,0.22889024452300555,0.2058536286684937,0.20697167166963745,0.19807113897521816,0.19897447745844232,0.19821835425896664,0.1983217933562467,0.19888369985231555,0.20198535252500732,0.23392259477181823,0.2042313406714807,0.2074965818347809,0.2622988246567589,0.21837109836174187,0.19792717924941705,0.1986180410059858,0.20053104659629506,0.21188249590964534,0.20073425343704984,0.2056622934319059,0.20039582758026195,0.20395359945959673,0.2141964570604689,0.26630441876188843,0.19903331182985654,0.19803980134637642,0.19664461723952095,0.19866676848894568,0.20915941392933327,0.20568027747217643,0.22116881046469114,0.20419386326659875,0.2033891133416012,0.2356154438679674,0.20053690482122105,0.1980614774552134,0.19832128081345865,0.19989819056460406,0.20128777444161014,0.20100423526000202,0.19449510761199787,0.19618352774458758,0.2032834852924478,0.2506581722222099,0.1971405185422643,0.20513882227218083,0.19780115259790723,0.19864075499102438,0.19508141874074042,0.20447625889080243,0.19642288486888315,0.19712459161702156,0.19686465167362285],\"type\":\"scatter\"},{\"name\":\"Best Value\",\"x\":[0,1,2,3,4,5,6,7,8,9,10,11,12,13,14,15,16,17,18,19,20,21,22,23,24,25,26,27,28,29,30,31,32,33,34,35,36,37,38,39,40,41,42,43,44,45,46,47,48,49,50,51,52,53,54,55,56,57,58,59,60,61,62,63,64,65,66,67,68,69,70,71,72,73,74,75,76,77,78,79,80,81,82,83,84,85,86,87,88,89,90,91,92,93,94,95,96,97,98,99],\"y\":[0.22192908746518092,0.22192908746518092,0.22192908746518092,0.20003730059491115,0.20003730059491115,0.20003730059491115,0.20003730059491115,0.20003730059491115,0.20003730059491115,0.20003730059491115,0.20003730059491115,0.20003730059491115,0.1989900865323424,0.1989900865323424,0.1989900865323424,0.1989900865323424,0.1989900865323424,0.1989900865323424,0.1989900865323424,0.19785205983605245,0.19785205983605245,0.19785205983605245,0.19785205983605245,0.19785205983605245,0.19785205983605245,0.19785205983605245,0.19785205983605245,0.19785205983605245,0.19785205983605245,0.19785205983605245,0.19785205983605245,0.19785205983605245,0.19785205983605245,0.19785205983605245,0.19785205983605245,0.19785205983605245,0.19785205983605245,0.19785205983605245,0.19785205983605245,0.19785205983605245,0.19785205983605245,0.19634573188551144,0.19634573188551144,0.19634573188551144,0.19634573188551144,0.19634573188551144,0.19634573188551144,0.19634573188551144,0.19634573188551144,0.19634573188551144,0.19634573188551144,0.19634573188551144,0.19634573188551144,0.19634573188551144,0.19634573188551144,0.19634573188551144,0.19634573188551144,0.19634573188551144,0.19634573188551144,0.19634573188551144,0.19634573188551144,0.19634573188551144,0.19634573188551144,0.19634573188551144,0.19634573188551144,0.19634573188551144,0.19634573188551144,0.19634573188551144,0.19634573188551144,0.19634573188551144,0.19634573188551144,0.19634573188551144,0.19634573188551144,0.19634573188551144,0.19634573188551144,0.19634573188551144,0.19634573188551144,0.19634573188551144,0.19634573188551144,0.19634573188551144,0.19634573188551144,0.19634573188551144,0.19634573188551144,0.19634573188551144,0.19634573188551144,0.19634573188551144,0.19634573188551144,0.19449510761199787,0.19449510761199787,0.19449510761199787,0.19449510761199787,0.19449510761199787,0.19449510761199787,0.19449510761199787,0.19449510761199787,0.19449510761199787,0.19449510761199787,0.19449510761199787,0.19449510761199787,0.19449510761199787],\"type\":\"scatter\"}],                        {\"title\":{\"text\":\"Optimization History Plot\"},\"xaxis\":{\"title\":{\"text\":\"Trial\"}},\"yaxis\":{\"title\":{\"text\":\"Objective Value\"}},\"template\":{\"data\":{\"histogram2dcontour\":[{\"type\":\"histogram2dcontour\",\"colorbar\":{\"outlinewidth\":0,\"ticks\":\"\"},\"colorscale\":[[0.0,\"#0d0887\"],[0.1111111111111111,\"#46039f\"],[0.2222222222222222,\"#7201a8\"],[0.3333333333333333,\"#9c179e\"],[0.4444444444444444,\"#bd3786\"],[0.5555555555555556,\"#d8576b\"],[0.6666666666666666,\"#ed7953\"],[0.7777777777777778,\"#fb9f3a\"],[0.8888888888888888,\"#fdca26\"],[1.0,\"#f0f921\"]]}],\"choropleth\":[{\"type\":\"choropleth\",\"colorbar\":{\"outlinewidth\":0,\"ticks\":\"\"}}],\"histogram2d\":[{\"type\":\"histogram2d\",\"colorbar\":{\"outlinewidth\":0,\"ticks\":\"\"},\"colorscale\":[[0.0,\"#0d0887\"],[0.1111111111111111,\"#46039f\"],[0.2222222222222222,\"#7201a8\"],[0.3333333333333333,\"#9c179e\"],[0.4444444444444444,\"#bd3786\"],[0.5555555555555556,\"#d8576b\"],[0.6666666666666666,\"#ed7953\"],[0.7777777777777778,\"#fb9f3a\"],[0.8888888888888888,\"#fdca26\"],[1.0,\"#f0f921\"]]}],\"heatmap\":[{\"type\":\"heatmap\",\"colorbar\":{\"outlinewidth\":0,\"ticks\":\"\"},\"colorscale\":[[0.0,\"#0d0887\"],[0.1111111111111111,\"#46039f\"],[0.2222222222222222,\"#7201a8\"],[0.3333333333333333,\"#9c179e\"],[0.4444444444444444,\"#bd3786\"],[0.5555555555555556,\"#d8576b\"],[0.6666666666666666,\"#ed7953\"],[0.7777777777777778,\"#fb9f3a\"],[0.8888888888888888,\"#fdca26\"],[1.0,\"#f0f921\"]]}],\"heatmapgl\":[{\"type\":\"heatmapgl\",\"colorbar\":{\"outlinewidth\":0,\"ticks\":\"\"},\"colorscale\":[[0.0,\"#0d0887\"],[0.1111111111111111,\"#46039f\"],[0.2222222222222222,\"#7201a8\"],[0.3333333333333333,\"#9c179e\"],[0.4444444444444444,\"#bd3786\"],[0.5555555555555556,\"#d8576b\"],[0.6666666666666666,\"#ed7953\"],[0.7777777777777778,\"#fb9f3a\"],[0.8888888888888888,\"#fdca26\"],[1.0,\"#f0f921\"]]}],\"contourcarpet\":[{\"type\":\"contourcarpet\",\"colorbar\":{\"outlinewidth\":0,\"ticks\":\"\"}}],\"contour\":[{\"type\":\"contour\",\"colorbar\":{\"outlinewidth\":0,\"ticks\":\"\"},\"colorscale\":[[0.0,\"#0d0887\"],[0.1111111111111111,\"#46039f\"],[0.2222222222222222,\"#7201a8\"],[0.3333333333333333,\"#9c179e\"],[0.4444444444444444,\"#bd3786\"],[0.5555555555555556,\"#d8576b\"],[0.6666666666666666,\"#ed7953\"],[0.7777777777777778,\"#fb9f3a\"],[0.8888888888888888,\"#fdca26\"],[1.0,\"#f0f921\"]]}],\"surface\":[{\"type\":\"surface\",\"colorbar\":{\"outlinewidth\":0,\"ticks\":\"\"},\"colorscale\":[[0.0,\"#0d0887\"],[0.1111111111111111,\"#46039f\"],[0.2222222222222222,\"#7201a8\"],[0.3333333333333333,\"#9c179e\"],[0.4444444444444444,\"#bd3786\"],[0.5555555555555556,\"#d8576b\"],[0.6666666666666666,\"#ed7953\"],[0.7777777777777778,\"#fb9f3a\"],[0.8888888888888888,\"#fdca26\"],[1.0,\"#f0f921\"]]}],\"mesh3d\":[{\"type\":\"mesh3d\",\"colorbar\":{\"outlinewidth\":0,\"ticks\":\"\"}}],\"scatter\":[{\"fillpattern\":{\"fillmode\":\"overlay\",\"size\":10,\"solidity\":0.2},\"type\":\"scatter\"}],\"parcoords\":[{\"type\":\"parcoords\",\"line\":{\"colorbar\":{\"outlinewidth\":0,\"ticks\":\"\"}}}],\"scatterpolargl\":[{\"type\":\"scatterpolargl\",\"marker\":{\"colorbar\":{\"outlinewidth\":0,\"ticks\":\"\"}}}],\"bar\":[{\"error_x\":{\"color\":\"#2a3f5f\"},\"error_y\":{\"color\":\"#2a3f5f\"},\"marker\":{\"line\":{\"color\":\"#E5ECF6\",\"width\":0.5},\"pattern\":{\"fillmode\":\"overlay\",\"size\":10,\"solidity\":0.2}},\"type\":\"bar\"}],\"scattergeo\":[{\"type\":\"scattergeo\",\"marker\":{\"colorbar\":{\"outlinewidth\":0,\"ticks\":\"\"}}}],\"scatterpolar\":[{\"type\":\"scatterpolar\",\"marker\":{\"colorbar\":{\"outlinewidth\":0,\"ticks\":\"\"}}}],\"histogram\":[{\"marker\":{\"pattern\":{\"fillmode\":\"overlay\",\"size\":10,\"solidity\":0.2}},\"type\":\"histogram\"}],\"scattergl\":[{\"type\":\"scattergl\",\"marker\":{\"colorbar\":{\"outlinewidth\":0,\"ticks\":\"\"}}}],\"scatter3d\":[{\"type\":\"scatter3d\",\"line\":{\"colorbar\":{\"outlinewidth\":0,\"ticks\":\"\"}},\"marker\":{\"colorbar\":{\"outlinewidth\":0,\"ticks\":\"\"}}}],\"scattermapbox\":[{\"type\":\"scattermapbox\",\"marker\":{\"colorbar\":{\"outlinewidth\":0,\"ticks\":\"\"}}}],\"scatterternary\":[{\"type\":\"scatterternary\",\"marker\":{\"colorbar\":{\"outlinewidth\":0,\"ticks\":\"\"}}}],\"scattercarpet\":[{\"type\":\"scattercarpet\",\"marker\":{\"colorbar\":{\"outlinewidth\":0,\"ticks\":\"\"}}}],\"carpet\":[{\"aaxis\":{\"endlinecolor\":\"#2a3f5f\",\"gridcolor\":\"white\",\"linecolor\":\"white\",\"minorgridcolor\":\"white\",\"startlinecolor\":\"#2a3f5f\"},\"baxis\":{\"endlinecolor\":\"#2a3f5f\",\"gridcolor\":\"white\",\"linecolor\":\"white\",\"minorgridcolor\":\"white\",\"startlinecolor\":\"#2a3f5f\"},\"type\":\"carpet\"}],\"table\":[{\"cells\":{\"fill\":{\"color\":\"#EBF0F8\"},\"line\":{\"color\":\"white\"}},\"header\":{\"fill\":{\"color\":\"#C8D4E3\"},\"line\":{\"color\":\"white\"}},\"type\":\"table\"}],\"barpolar\":[{\"marker\":{\"line\":{\"color\":\"#E5ECF6\",\"width\":0.5},\"pattern\":{\"fillmode\":\"overlay\",\"size\":10,\"solidity\":0.2}},\"type\":\"barpolar\"}],\"pie\":[{\"automargin\":true,\"type\":\"pie\"}]},\"layout\":{\"autotypenumbers\":\"strict\",\"colorway\":[\"#636efa\",\"#EF553B\",\"#00cc96\",\"#ab63fa\",\"#FFA15A\",\"#19d3f3\",\"#FF6692\",\"#B6E880\",\"#FF97FF\",\"#FECB52\"],\"font\":{\"color\":\"#2a3f5f\"},\"hovermode\":\"closest\",\"hoverlabel\":{\"align\":\"left\"},\"paper_bgcolor\":\"white\",\"plot_bgcolor\":\"#E5ECF6\",\"polar\":{\"bgcolor\":\"#E5ECF6\",\"angularaxis\":{\"gridcolor\":\"white\",\"linecolor\":\"white\",\"ticks\":\"\"},\"radialaxis\":{\"gridcolor\":\"white\",\"linecolor\":\"white\",\"ticks\":\"\"}},\"ternary\":{\"bgcolor\":\"#E5ECF6\",\"aaxis\":{\"gridcolor\":\"white\",\"linecolor\":\"white\",\"ticks\":\"\"},\"baxis\":{\"gridcolor\":\"white\",\"linecolor\":\"white\",\"ticks\":\"\"},\"caxis\":{\"gridcolor\":\"white\",\"linecolor\":\"white\",\"ticks\":\"\"}},\"coloraxis\":{\"colorbar\":{\"outlinewidth\":0,\"ticks\":\"\"}},\"colorscale\":{\"sequential\":[[0.0,\"#0d0887\"],[0.1111111111111111,\"#46039f\"],[0.2222222222222222,\"#7201a8\"],[0.3333333333333333,\"#9c179e\"],[0.4444444444444444,\"#bd3786\"],[0.5555555555555556,\"#d8576b\"],[0.6666666666666666,\"#ed7953\"],[0.7777777777777778,\"#fb9f3a\"],[0.8888888888888888,\"#fdca26\"],[1.0,\"#f0f921\"]],\"sequentialminus\":[[0.0,\"#0d0887\"],[0.1111111111111111,\"#46039f\"],[0.2222222222222222,\"#7201a8\"],[0.3333333333333333,\"#9c179e\"],[0.4444444444444444,\"#bd3786\"],[0.5555555555555556,\"#d8576b\"],[0.6666666666666666,\"#ed7953\"],[0.7777777777777778,\"#fb9f3a\"],[0.8888888888888888,\"#fdca26\"],[1.0,\"#f0f921\"]],\"diverging\":[[0,\"#8e0152\"],[0.1,\"#c51b7d\"],[0.2,\"#de77ae\"],[0.3,\"#f1b6da\"],[0.4,\"#fde0ef\"],[0.5,\"#f7f7f7\"],[0.6,\"#e6f5d0\"],[0.7,\"#b8e186\"],[0.8,\"#7fbc41\"],[0.9,\"#4d9221\"],[1,\"#276419\"]]},\"xaxis\":{\"gridcolor\":\"white\",\"linecolor\":\"white\",\"ticks\":\"\",\"title\":{\"standoff\":15},\"zerolinecolor\":\"white\",\"automargin\":true,\"zerolinewidth\":2},\"yaxis\":{\"gridcolor\":\"white\",\"linecolor\":\"white\",\"ticks\":\"\",\"title\":{\"standoff\":15},\"zerolinecolor\":\"white\",\"automargin\":true,\"zerolinewidth\":2},\"scene\":{\"xaxis\":{\"backgroundcolor\":\"#E5ECF6\",\"gridcolor\":\"white\",\"linecolor\":\"white\",\"showbackground\":true,\"ticks\":\"\",\"zerolinecolor\":\"white\",\"gridwidth\":2},\"yaxis\":{\"backgroundcolor\":\"#E5ECF6\",\"gridcolor\":\"white\",\"linecolor\":\"white\",\"showbackground\":true,\"ticks\":\"\",\"zerolinecolor\":\"white\",\"gridwidth\":2},\"zaxis\":{\"backgroundcolor\":\"#E5ECF6\",\"gridcolor\":\"white\",\"linecolor\":\"white\",\"showbackground\":true,\"ticks\":\"\",\"zerolinecolor\":\"white\",\"gridwidth\":2}},\"shapedefaults\":{\"line\":{\"color\":\"#2a3f5f\"}},\"annotationdefaults\":{\"arrowcolor\":\"#2a3f5f\",\"arrowhead\":0,\"arrowwidth\":1},\"geo\":{\"bgcolor\":\"white\",\"landcolor\":\"#E5ECF6\",\"subunitcolor\":\"white\",\"showland\":true,\"showlakes\":true,\"lakecolor\":\"white\"},\"title\":{\"x\":0.05},\"mapbox\":{\"style\":\"light\"}}}},                        {\"responsive\": true}                    ).then(function(){\n",
       "                            \n",
       "var gd = document.getElementById('309a1bca-499d-49db-b91c-3aa50db654f3');\n",
       "var x = new MutationObserver(function (mutations, observer) {{\n",
       "        var display = window.getComputedStyle(gd).display;\n",
       "        if (!display || display === 'none') {{\n",
       "            console.log([gd, 'removed!']);\n",
       "            Plotly.purge(gd);\n",
       "            observer.disconnect();\n",
       "        }}\n",
       "}});\n",
       "\n",
       "// Listen for the removal of the full notebook cells\n",
       "var notebookContainer = gd.closest('#notebook-container');\n",
       "if (notebookContainer) {{\n",
       "    x.observe(notebookContainer, {childList: true});\n",
       "}}\n",
       "\n",
       "// Listen for the clearing of the current output cell\n",
       "var outputEl = gd.closest('.output');\n",
       "if (outputEl) {{\n",
       "    x.observe(outputEl, {childList: true});\n",
       "}}\n",
       "\n",
       "                        })                };                });            </script>        </div>"
      ]
     },
     "metadata": {},
     "output_type": "display_data"
    }
   ],
   "source": [
    "# 시각화\n",
    "optuna.visualization.plot_optimization_history(study)"
   ]
  },
  {
   "cell_type": "code",
   "execution_count": 61,
   "id": "18zrs7HiqYuH",
   "metadata": {
    "id": "18zrs7HiqYuH"
   },
   "outputs": [
    {
     "data": {
      "application/vnd.plotly.v1+json": {
       "config": {
        "plotlyServerURL": "https://plot.ly"
       },
       "data": [
        {
         "dimensions": [
          {
           "label": "Objective Value",
           "range": [
            0.19449510761199787,
            0.363042198343846
           ],
           "values": [
            0.22192908746518092,
            0.33385616052416056,
            0.2629383939779751,
            0.20003730059491115,
            0.20695239833395945,
            0.2366570123880118,
            0.29048982766754483,
            0.23903243956528067,
            0.2527097643749406,
            0.363042198343846,
            0.2336128919799432,
            0.21053255876605556,
            0.1989900865323424,
            0.20020867304514425,
            0.20683373204984146,
            0.23393614700135346,
            0.20920083828160863,
            0.2475313099257599,
            0.35236621616282054,
            0.19785205983605245,
            0.2743295318664835,
            0.1992741181806799,
            0.2001733692590521,
            0.20123826621656715,
            0.1983608272777889,
            0.20189363816819583,
            0.2222392862858067,
            0.2388000255092733,
            0.21423025043698432,
            0.21868034648615467,
            0.24066240747885093,
            0.19966176976611655,
            0.2151871963043917,
            0.1980443964467242,
            0.19789656099364072,
            0.19815403722719746,
            0.19984090412361996,
            0.2110597455962636,
            0.2011487038452523,
            0.21823936915608413,
            0.2055725266334379,
            0.19634573188551144,
            0.3268556850941651,
            0.2700458193126499,
            0.2038226810914836,
            0.24971678980165363,
            0.2043666030176169,
            0.22889024452300555,
            0.2058536286684937,
            0.20697167166963745,
            0.19807113897521816,
            0.19897447745844232,
            0.19821835425896664,
            0.1983217933562467,
            0.19888369985231555,
            0.20198535252500732,
            0.23392259477181823,
            0.2042313406714807,
            0.2074965818347809,
            0.2622988246567589,
            0.21837109836174187,
            0.19792717924941705,
            0.1986180410059858,
            0.20053104659629506,
            0.21188249590964534,
            0.20073425343704984,
            0.2056622934319059,
            0.20039582758026195,
            0.20395359945959673,
            0.2141964570604689,
            0.26630441876188843,
            0.19903331182985654,
            0.19803980134637642,
            0.19664461723952095,
            0.19866676848894568,
            0.20915941392933327,
            0.20568027747217643,
            0.22116881046469114,
            0.20419386326659875,
            0.2033891133416012,
            0.2356154438679674,
            0.20053690482122105,
            0.1980614774552134,
            0.19832128081345865,
            0.19989819056460406,
            0.20128777444161014,
            0.20100423526000202,
            0.19449510761199787,
            0.19618352774458758,
            0.2032834852924478,
            0.2506581722222099,
            0.1971405185422643,
            0.20513882227218083,
            0.19780115259790723,
            0.19864075499102438,
            0.19508141874074042,
            0.20447625889080243,
            0.19642288486888315,
            0.19712459161702156,
            0.19686465167362285
           ]
          },
          {
           "label": "learning_rate",
           "range": [
            -2.2600913604317956,
            -0.30543804110815437
           ],
           "ticktext": [
            "0.00549",
            "0.01",
            "0.1",
            "0.495"
           ],
           "tickvals": [
            -2.2600913604317956,
            -2,
            -1,
            -0.30543804110815437
           ],
           "values": [
            -1.2072516833732718,
            -2.0569302620035788,
            -1.3732131840438442,
            -0.4497022347186541,
            -0.4618597115449018,
            -0.40850975798514744,
            -1.1163281900138968,
            -0.5914329010403425,
            -1.3302170513050429,
            -1.9867383563542267,
            -0.8500021050845656,
            -0.3292974970294006,
            -0.7678719866427046,
            -0.8043618296775088,
            -0.8092883829368323,
            -1.529861789990077,
            -0.6592298192504839,
            -1.0285137330098146,
            -1.5930626030930477,
            -0.969831722824894,
            -1.7409817572505395,
            -0.9756599487610225,
            -1.0181843983156973,
            -0.8706485222162172,
            -0.6671705140001325,
            -0.6009059224159576,
            -0.6773456388068079,
            -1.2351866232045814,
            -0.7087038020694987,
            -1.13159413546411,
            -0.9447766004139343,
            -0.9760250359452546,
            -1.1585485931595172,
            -0.5524815058725232,
            -0.5162515874046223,
            -0.5210340754591056,
            -0.4887880561142446,
            -0.3144571379719491,
            -0.5612833384893832,
            -0.42232418617972367,
            -0.4824715884576302,
            -0.5870680178060581,
            -2.2600913604317956,
            -0.5529365244305022,
            -0.3860894854233382,
            -0.5383145854052057,
            -0.718403312475637,
            -0.8882729757018974,
            -0.30543804110815437,
            -0.39209268803605857,
            -0.7826370000009331,
            -0.7505875012359133,
            -0.6181459330496577,
            -0.7933123856473046,
            -0.48354931742714546,
            -0.6236530801615773,
            -1.4297346243751459,
            -0.8876475861607904,
            -0.5506891442270105,
            -1.083703972852476,
            -0.8019202097990911,
            -0.6872949051055015,
            -0.6765653830142971,
            -0.4418146496061519,
            -0.7435881243680563,
            -0.6298952417108327,
            -0.5105402224393739,
            -0.8257006183683515,
            -0.3665220152828079,
            -0.9438889039415819,
            -1.7778239846923218,
            -0.6153680228807413,
            -0.7065704690545185,
            -0.70403185753225,
            -0.6936511303688354,
            -0.8491309195402954,
            -0.7250393885072327,
            -1.2392326491630488,
            -0.9196593764918859,
            -1.0103744387261717,
            -0.5782454484635886,
            -0.44010458796444696,
            -0.6606165695238401,
            -0.6649142232365681,
            -0.7715465180280501,
            -0.7240314079425596,
            -0.5953265105497789,
            -0.6524798290126078,
            -0.5144883500174791,
            -0.45949229567875627,
            -0.510750941039643,
            -0.6610601468315678,
            -0.3553526707926364,
            -0.5724885639593493,
            -0.5929625132551772,
            -0.6387483692698495,
            -0.40721618163199175,
            -0.6423795509214933,
            -0.6336029287090149,
            -0.5746032626222279
           ]
          },
          {
           "label": "max_depth",
           "range": [
            3,
            10
           ],
           "values": [
            9,
            7,
            8,
            10,
            9,
            5,
            3,
            5,
            7,
            4,
            10,
            10,
            9,
            9,
            8,
            10,
            8,
            6,
            9,
            10,
            8,
            10,
            10,
            9,
            10,
            9,
            7,
            10,
            8,
            9,
            6,
            10,
            9,
            10,
            10,
            10,
            10,
            9,
            10,
            7,
            9,
            10,
            10,
            3,
            10,
            4,
            9,
            8,
            10,
            9,
            10,
            10,
            10,
            10,
            10,
            9,
            10,
            9,
            10,
            5,
            8,
            10,
            10,
            10,
            9,
            10,
            9,
            10,
            10,
            9,
            10,
            10,
            10,
            10,
            10,
            9,
            10,
            9,
            10,
            10,
            6,
            10,
            10,
            10,
            10,
            10,
            9,
            10,
            10,
            9,
            4,
            10,
            10,
            10,
            10,
            10,
            9,
            10,
            10,
            10
           ]
          },
          {
           "label": "n_estimators",
           "range": [
            115,
            1000
           ],
           "values": [
            818,
            642,
            524,
            834,
            473,
            665,
            875,
            748,
            860,
            574,
            208,
            357,
            1000,
            994,
            993,
            933,
            752,
            780,
            115,
            925,
            931,
            893,
            911,
            998,
            698,
            712,
            643,
            419,
            588,
            815,
            809,
            910,
            937,
            688,
            726,
            681,
            531,
            629,
            471,
            695,
            625,
            696,
            743,
            589,
            848,
            778,
            670,
            502,
            746,
            554,
            670,
            681,
            614,
            718,
            786,
            653,
            738,
            855,
            330,
            780,
            598,
            622,
            670,
            716,
            494,
            549,
            570,
            651,
            967,
            640,
            810,
            622,
            606,
            706,
            720,
            698,
            439,
            878,
            597,
            767,
            530,
            685,
            656,
            660,
            613,
            566,
            741,
            702,
            722,
            710,
            795,
            763,
            830,
            732,
            728,
            758,
            774,
            764,
            753,
            756
           ]
          }
         ],
         "labelangle": 30,
         "labelside": "bottom",
         "line": {
          "color": [
           0.22192908746518092,
           0.33385616052416056,
           0.2629383939779751,
           0.20003730059491115,
           0.20695239833395945,
           0.2366570123880118,
           0.29048982766754483,
           0.23903243956528067,
           0.2527097643749406,
           0.363042198343846,
           0.2336128919799432,
           0.21053255876605556,
           0.1989900865323424,
           0.20020867304514425,
           0.20683373204984146,
           0.23393614700135346,
           0.20920083828160863,
           0.2475313099257599,
           0.35236621616282054,
           0.19785205983605245,
           0.2743295318664835,
           0.1992741181806799,
           0.2001733692590521,
           0.20123826621656715,
           0.1983608272777889,
           0.20189363816819583,
           0.2222392862858067,
           0.2388000255092733,
           0.21423025043698432,
           0.21868034648615467,
           0.24066240747885093,
           0.19966176976611655,
           0.2151871963043917,
           0.1980443964467242,
           0.19789656099364072,
           0.19815403722719746,
           0.19984090412361996,
           0.2110597455962636,
           0.2011487038452523,
           0.21823936915608413,
           0.2055725266334379,
           0.19634573188551144,
           0.3268556850941651,
           0.2700458193126499,
           0.2038226810914836,
           0.24971678980165363,
           0.2043666030176169,
           0.22889024452300555,
           0.2058536286684937,
           0.20697167166963745,
           0.19807113897521816,
           0.19897447745844232,
           0.19821835425896664,
           0.1983217933562467,
           0.19888369985231555,
           0.20198535252500732,
           0.23392259477181823,
           0.2042313406714807,
           0.2074965818347809,
           0.2622988246567589,
           0.21837109836174187,
           0.19792717924941705,
           0.1986180410059858,
           0.20053104659629506,
           0.21188249590964534,
           0.20073425343704984,
           0.2056622934319059,
           0.20039582758026195,
           0.20395359945959673,
           0.2141964570604689,
           0.26630441876188843,
           0.19903331182985654,
           0.19803980134637642,
           0.19664461723952095,
           0.19866676848894568,
           0.20915941392933327,
           0.20568027747217643,
           0.22116881046469114,
           0.20419386326659875,
           0.2033891133416012,
           0.2356154438679674,
           0.20053690482122105,
           0.1980614774552134,
           0.19832128081345865,
           0.19989819056460406,
           0.20128777444161014,
           0.20100423526000202,
           0.19449510761199787,
           0.19618352774458758,
           0.2032834852924478,
           0.2506581722222099,
           0.1971405185422643,
           0.20513882227218083,
           0.19780115259790723,
           0.19864075499102438,
           0.19508141874074042,
           0.20447625889080243,
           0.19642288486888315,
           0.19712459161702156,
           0.19686465167362285
          ],
          "colorbar": {
           "title": {
            "text": "Objective Value"
           }
          },
          "colorscale": [
           [
            0,
            "rgb(247,251,255)"
           ],
           [
            0.125,
            "rgb(222,235,247)"
           ],
           [
            0.25,
            "rgb(198,219,239)"
           ],
           [
            0.375,
            "rgb(158,202,225)"
           ],
           [
            0.5,
            "rgb(107,174,214)"
           ],
           [
            0.625,
            "rgb(66,146,198)"
           ],
           [
            0.75,
            "rgb(33,113,181)"
           ],
           [
            0.875,
            "rgb(8,81,156)"
           ],
           [
            1,
            "rgb(8,48,107)"
           ]
          ],
          "reversescale": true,
          "showscale": true
         },
         "type": "parcoords"
        }
       ],
       "layout": {
        "template": {
         "data": {
          "bar": [
           {
            "error_x": {
             "color": "#2a3f5f"
            },
            "error_y": {
             "color": "#2a3f5f"
            },
            "marker": {
             "line": {
              "color": "#E5ECF6",
              "width": 0.5
             },
             "pattern": {
              "fillmode": "overlay",
              "size": 10,
              "solidity": 0.2
             }
            },
            "type": "bar"
           }
          ],
          "barpolar": [
           {
            "marker": {
             "line": {
              "color": "#E5ECF6",
              "width": 0.5
             },
             "pattern": {
              "fillmode": "overlay",
              "size": 10,
              "solidity": 0.2
             }
            },
            "type": "barpolar"
           }
          ],
          "carpet": [
           {
            "aaxis": {
             "endlinecolor": "#2a3f5f",
             "gridcolor": "white",
             "linecolor": "white",
             "minorgridcolor": "white",
             "startlinecolor": "#2a3f5f"
            },
            "baxis": {
             "endlinecolor": "#2a3f5f",
             "gridcolor": "white",
             "linecolor": "white",
             "minorgridcolor": "white",
             "startlinecolor": "#2a3f5f"
            },
            "type": "carpet"
           }
          ],
          "choropleth": [
           {
            "colorbar": {
             "outlinewidth": 0,
             "ticks": ""
            },
            "type": "choropleth"
           }
          ],
          "contour": [
           {
            "colorbar": {
             "outlinewidth": 0,
             "ticks": ""
            },
            "colorscale": [
             [
              0,
              "#0d0887"
             ],
             [
              0.1111111111111111,
              "#46039f"
             ],
             [
              0.2222222222222222,
              "#7201a8"
             ],
             [
              0.3333333333333333,
              "#9c179e"
             ],
             [
              0.4444444444444444,
              "#bd3786"
             ],
             [
              0.5555555555555556,
              "#d8576b"
             ],
             [
              0.6666666666666666,
              "#ed7953"
             ],
             [
              0.7777777777777778,
              "#fb9f3a"
             ],
             [
              0.8888888888888888,
              "#fdca26"
             ],
             [
              1,
              "#f0f921"
             ]
            ],
            "type": "contour"
           }
          ],
          "contourcarpet": [
           {
            "colorbar": {
             "outlinewidth": 0,
             "ticks": ""
            },
            "type": "contourcarpet"
           }
          ],
          "heatmap": [
           {
            "colorbar": {
             "outlinewidth": 0,
             "ticks": ""
            },
            "colorscale": [
             [
              0,
              "#0d0887"
             ],
             [
              0.1111111111111111,
              "#46039f"
             ],
             [
              0.2222222222222222,
              "#7201a8"
             ],
             [
              0.3333333333333333,
              "#9c179e"
             ],
             [
              0.4444444444444444,
              "#bd3786"
             ],
             [
              0.5555555555555556,
              "#d8576b"
             ],
             [
              0.6666666666666666,
              "#ed7953"
             ],
             [
              0.7777777777777778,
              "#fb9f3a"
             ],
             [
              0.8888888888888888,
              "#fdca26"
             ],
             [
              1,
              "#f0f921"
             ]
            ],
            "type": "heatmap"
           }
          ],
          "heatmapgl": [
           {
            "colorbar": {
             "outlinewidth": 0,
             "ticks": ""
            },
            "colorscale": [
             [
              0,
              "#0d0887"
             ],
             [
              0.1111111111111111,
              "#46039f"
             ],
             [
              0.2222222222222222,
              "#7201a8"
             ],
             [
              0.3333333333333333,
              "#9c179e"
             ],
             [
              0.4444444444444444,
              "#bd3786"
             ],
             [
              0.5555555555555556,
              "#d8576b"
             ],
             [
              0.6666666666666666,
              "#ed7953"
             ],
             [
              0.7777777777777778,
              "#fb9f3a"
             ],
             [
              0.8888888888888888,
              "#fdca26"
             ],
             [
              1,
              "#f0f921"
             ]
            ],
            "type": "heatmapgl"
           }
          ],
          "histogram": [
           {
            "marker": {
             "pattern": {
              "fillmode": "overlay",
              "size": 10,
              "solidity": 0.2
             }
            },
            "type": "histogram"
           }
          ],
          "histogram2d": [
           {
            "colorbar": {
             "outlinewidth": 0,
             "ticks": ""
            },
            "colorscale": [
             [
              0,
              "#0d0887"
             ],
             [
              0.1111111111111111,
              "#46039f"
             ],
             [
              0.2222222222222222,
              "#7201a8"
             ],
             [
              0.3333333333333333,
              "#9c179e"
             ],
             [
              0.4444444444444444,
              "#bd3786"
             ],
             [
              0.5555555555555556,
              "#d8576b"
             ],
             [
              0.6666666666666666,
              "#ed7953"
             ],
             [
              0.7777777777777778,
              "#fb9f3a"
             ],
             [
              0.8888888888888888,
              "#fdca26"
             ],
             [
              1,
              "#f0f921"
             ]
            ],
            "type": "histogram2d"
           }
          ],
          "histogram2dcontour": [
           {
            "colorbar": {
             "outlinewidth": 0,
             "ticks": ""
            },
            "colorscale": [
             [
              0,
              "#0d0887"
             ],
             [
              0.1111111111111111,
              "#46039f"
             ],
             [
              0.2222222222222222,
              "#7201a8"
             ],
             [
              0.3333333333333333,
              "#9c179e"
             ],
             [
              0.4444444444444444,
              "#bd3786"
             ],
             [
              0.5555555555555556,
              "#d8576b"
             ],
             [
              0.6666666666666666,
              "#ed7953"
             ],
             [
              0.7777777777777778,
              "#fb9f3a"
             ],
             [
              0.8888888888888888,
              "#fdca26"
             ],
             [
              1,
              "#f0f921"
             ]
            ],
            "type": "histogram2dcontour"
           }
          ],
          "mesh3d": [
           {
            "colorbar": {
             "outlinewidth": 0,
             "ticks": ""
            },
            "type": "mesh3d"
           }
          ],
          "parcoords": [
           {
            "line": {
             "colorbar": {
              "outlinewidth": 0,
              "ticks": ""
             }
            },
            "type": "parcoords"
           }
          ],
          "pie": [
           {
            "automargin": true,
            "type": "pie"
           }
          ],
          "scatter": [
           {
            "fillpattern": {
             "fillmode": "overlay",
             "size": 10,
             "solidity": 0.2
            },
            "type": "scatter"
           }
          ],
          "scatter3d": [
           {
            "line": {
             "colorbar": {
              "outlinewidth": 0,
              "ticks": ""
             }
            },
            "marker": {
             "colorbar": {
              "outlinewidth": 0,
              "ticks": ""
             }
            },
            "type": "scatter3d"
           }
          ],
          "scattercarpet": [
           {
            "marker": {
             "colorbar": {
              "outlinewidth": 0,
              "ticks": ""
             }
            },
            "type": "scattercarpet"
           }
          ],
          "scattergeo": [
           {
            "marker": {
             "colorbar": {
              "outlinewidth": 0,
              "ticks": ""
             }
            },
            "type": "scattergeo"
           }
          ],
          "scattergl": [
           {
            "marker": {
             "colorbar": {
              "outlinewidth": 0,
              "ticks": ""
             }
            },
            "type": "scattergl"
           }
          ],
          "scattermapbox": [
           {
            "marker": {
             "colorbar": {
              "outlinewidth": 0,
              "ticks": ""
             }
            },
            "type": "scattermapbox"
           }
          ],
          "scatterpolar": [
           {
            "marker": {
             "colorbar": {
              "outlinewidth": 0,
              "ticks": ""
             }
            },
            "type": "scatterpolar"
           }
          ],
          "scatterpolargl": [
           {
            "marker": {
             "colorbar": {
              "outlinewidth": 0,
              "ticks": ""
             }
            },
            "type": "scatterpolargl"
           }
          ],
          "scatterternary": [
           {
            "marker": {
             "colorbar": {
              "outlinewidth": 0,
              "ticks": ""
             }
            },
            "type": "scatterternary"
           }
          ],
          "surface": [
           {
            "colorbar": {
             "outlinewidth": 0,
             "ticks": ""
            },
            "colorscale": [
             [
              0,
              "#0d0887"
             ],
             [
              0.1111111111111111,
              "#46039f"
             ],
             [
              0.2222222222222222,
              "#7201a8"
             ],
             [
              0.3333333333333333,
              "#9c179e"
             ],
             [
              0.4444444444444444,
              "#bd3786"
             ],
             [
              0.5555555555555556,
              "#d8576b"
             ],
             [
              0.6666666666666666,
              "#ed7953"
             ],
             [
              0.7777777777777778,
              "#fb9f3a"
             ],
             [
              0.8888888888888888,
              "#fdca26"
             ],
             [
              1,
              "#f0f921"
             ]
            ],
            "type": "surface"
           }
          ],
          "table": [
           {
            "cells": {
             "fill": {
              "color": "#EBF0F8"
             },
             "line": {
              "color": "white"
             }
            },
            "header": {
             "fill": {
              "color": "#C8D4E3"
             },
             "line": {
              "color": "white"
             }
            },
            "type": "table"
           }
          ]
         },
         "layout": {
          "annotationdefaults": {
           "arrowcolor": "#2a3f5f",
           "arrowhead": 0,
           "arrowwidth": 1
          },
          "autotypenumbers": "strict",
          "coloraxis": {
           "colorbar": {
            "outlinewidth": 0,
            "ticks": ""
           }
          },
          "colorscale": {
           "diverging": [
            [
             0,
             "#8e0152"
            ],
            [
             0.1,
             "#c51b7d"
            ],
            [
             0.2,
             "#de77ae"
            ],
            [
             0.3,
             "#f1b6da"
            ],
            [
             0.4,
             "#fde0ef"
            ],
            [
             0.5,
             "#f7f7f7"
            ],
            [
             0.6,
             "#e6f5d0"
            ],
            [
             0.7,
             "#b8e186"
            ],
            [
             0.8,
             "#7fbc41"
            ],
            [
             0.9,
             "#4d9221"
            ],
            [
             1,
             "#276419"
            ]
           ],
           "sequential": [
            [
             0,
             "#0d0887"
            ],
            [
             0.1111111111111111,
             "#46039f"
            ],
            [
             0.2222222222222222,
             "#7201a8"
            ],
            [
             0.3333333333333333,
             "#9c179e"
            ],
            [
             0.4444444444444444,
             "#bd3786"
            ],
            [
             0.5555555555555556,
             "#d8576b"
            ],
            [
             0.6666666666666666,
             "#ed7953"
            ],
            [
             0.7777777777777778,
             "#fb9f3a"
            ],
            [
             0.8888888888888888,
             "#fdca26"
            ],
            [
             1,
             "#f0f921"
            ]
           ],
           "sequentialminus": [
            [
             0,
             "#0d0887"
            ],
            [
             0.1111111111111111,
             "#46039f"
            ],
            [
             0.2222222222222222,
             "#7201a8"
            ],
            [
             0.3333333333333333,
             "#9c179e"
            ],
            [
             0.4444444444444444,
             "#bd3786"
            ],
            [
             0.5555555555555556,
             "#d8576b"
            ],
            [
             0.6666666666666666,
             "#ed7953"
            ],
            [
             0.7777777777777778,
             "#fb9f3a"
            ],
            [
             0.8888888888888888,
             "#fdca26"
            ],
            [
             1,
             "#f0f921"
            ]
           ]
          },
          "colorway": [
           "#636efa",
           "#EF553B",
           "#00cc96",
           "#ab63fa",
           "#FFA15A",
           "#19d3f3",
           "#FF6692",
           "#B6E880",
           "#FF97FF",
           "#FECB52"
          ],
          "font": {
           "color": "#2a3f5f"
          },
          "geo": {
           "bgcolor": "white",
           "lakecolor": "white",
           "landcolor": "#E5ECF6",
           "showlakes": true,
           "showland": true,
           "subunitcolor": "white"
          },
          "hoverlabel": {
           "align": "left"
          },
          "hovermode": "closest",
          "mapbox": {
           "style": "light"
          },
          "paper_bgcolor": "white",
          "plot_bgcolor": "#E5ECF6",
          "polar": {
           "angularaxis": {
            "gridcolor": "white",
            "linecolor": "white",
            "ticks": ""
           },
           "bgcolor": "#E5ECF6",
           "radialaxis": {
            "gridcolor": "white",
            "linecolor": "white",
            "ticks": ""
           }
          },
          "scene": {
           "xaxis": {
            "backgroundcolor": "#E5ECF6",
            "gridcolor": "white",
            "gridwidth": 2,
            "linecolor": "white",
            "showbackground": true,
            "ticks": "",
            "zerolinecolor": "white"
           },
           "yaxis": {
            "backgroundcolor": "#E5ECF6",
            "gridcolor": "white",
            "gridwidth": 2,
            "linecolor": "white",
            "showbackground": true,
            "ticks": "",
            "zerolinecolor": "white"
           },
           "zaxis": {
            "backgroundcolor": "#E5ECF6",
            "gridcolor": "white",
            "gridwidth": 2,
            "linecolor": "white",
            "showbackground": true,
            "ticks": "",
            "zerolinecolor": "white"
           }
          },
          "shapedefaults": {
           "line": {
            "color": "#2a3f5f"
           }
          },
          "ternary": {
           "aaxis": {
            "gridcolor": "white",
            "linecolor": "white",
            "ticks": ""
           },
           "baxis": {
            "gridcolor": "white",
            "linecolor": "white",
            "ticks": ""
           },
           "bgcolor": "#E5ECF6",
           "caxis": {
            "gridcolor": "white",
            "linecolor": "white",
            "ticks": ""
           }
          },
          "title": {
           "x": 0.05
          },
          "xaxis": {
           "automargin": true,
           "gridcolor": "white",
           "linecolor": "white",
           "ticks": "",
           "title": {
            "standoff": 15
           },
           "zerolinecolor": "white",
           "zerolinewidth": 2
          },
          "yaxis": {
           "automargin": true,
           "gridcolor": "white",
           "linecolor": "white",
           "ticks": "",
           "title": {
            "standoff": 15
           },
           "zerolinecolor": "white",
           "zerolinewidth": 2
          }
         }
        },
        "title": {
         "text": "Parallel Coordinate Plot"
        }
       }
      },
      "text/html": [
       "<div>                            <div id=\"f17a6978-8b6f-48ad-9c9b-f49b25b2ccdd\" class=\"plotly-graph-div\" style=\"height:525px; width:100%;\"></div>            <script type=\"text/javascript\">                require([\"plotly\"], function(Plotly) {                    window.PLOTLYENV=window.PLOTLYENV || {};                                    if (document.getElementById(\"f17a6978-8b6f-48ad-9c9b-f49b25b2ccdd\")) {                    Plotly.newPlot(                        \"f17a6978-8b6f-48ad-9c9b-f49b25b2ccdd\",                        [{\"dimensions\":[{\"label\":\"Objective Value\",\"range\":[0.19449510761199787,0.363042198343846],\"values\":[0.22192908746518092,0.33385616052416056,0.2629383939779751,0.20003730059491115,0.20695239833395945,0.2366570123880118,0.29048982766754483,0.23903243956528067,0.2527097643749406,0.363042198343846,0.2336128919799432,0.21053255876605556,0.1989900865323424,0.20020867304514425,0.20683373204984146,0.23393614700135346,0.20920083828160863,0.2475313099257599,0.35236621616282054,0.19785205983605245,0.2743295318664835,0.1992741181806799,0.2001733692590521,0.20123826621656715,0.1983608272777889,0.20189363816819583,0.2222392862858067,0.2388000255092733,0.21423025043698432,0.21868034648615467,0.24066240747885093,0.19966176976611655,0.2151871963043917,0.1980443964467242,0.19789656099364072,0.19815403722719746,0.19984090412361996,0.2110597455962636,0.2011487038452523,0.21823936915608413,0.2055725266334379,0.19634573188551144,0.3268556850941651,0.2700458193126499,0.2038226810914836,0.24971678980165363,0.2043666030176169,0.22889024452300555,0.2058536286684937,0.20697167166963745,0.19807113897521816,0.19897447745844232,0.19821835425896664,0.1983217933562467,0.19888369985231555,0.20198535252500732,0.23392259477181823,0.2042313406714807,0.2074965818347809,0.2622988246567589,0.21837109836174187,0.19792717924941705,0.1986180410059858,0.20053104659629506,0.21188249590964534,0.20073425343704984,0.2056622934319059,0.20039582758026195,0.20395359945959673,0.2141964570604689,0.26630441876188843,0.19903331182985654,0.19803980134637642,0.19664461723952095,0.19866676848894568,0.20915941392933327,0.20568027747217643,0.22116881046469114,0.20419386326659875,0.2033891133416012,0.2356154438679674,0.20053690482122105,0.1980614774552134,0.19832128081345865,0.19989819056460406,0.20128777444161014,0.20100423526000202,0.19449510761199787,0.19618352774458758,0.2032834852924478,0.2506581722222099,0.1971405185422643,0.20513882227218083,0.19780115259790723,0.19864075499102438,0.19508141874074042,0.20447625889080243,0.19642288486888315,0.19712459161702156,0.19686465167362285]},{\"label\":\"learning_rate\",\"range\":[-2.2600913604317956,-0.30543804110815437],\"ticktext\":[\"0.00549\",\"0.01\",\"0.1\",\"0.495\"],\"tickvals\":[-2.2600913604317956,-2,-1,-0.30543804110815437],\"values\":[-1.2072516833732718,-2.0569302620035788,-1.3732131840438442,-0.4497022347186541,-0.4618597115449018,-0.40850975798514744,-1.1163281900138968,-0.5914329010403425,-1.3302170513050429,-1.9867383563542267,-0.8500021050845656,-0.3292974970294006,-0.7678719866427046,-0.8043618296775088,-0.8092883829368323,-1.529861789990077,-0.6592298192504839,-1.0285137330098146,-1.5930626030930477,-0.969831722824894,-1.7409817572505395,-0.9756599487610225,-1.0181843983156973,-0.8706485222162172,-0.6671705140001325,-0.6009059224159576,-0.6773456388068079,-1.2351866232045814,-0.7087038020694987,-1.13159413546411,-0.9447766004139343,-0.9760250359452546,-1.1585485931595172,-0.5524815058725232,-0.5162515874046223,-0.5210340754591056,-0.4887880561142446,-0.3144571379719491,-0.5612833384893832,-0.42232418617972367,-0.4824715884576302,-0.5870680178060581,-2.2600913604317956,-0.5529365244305022,-0.3860894854233382,-0.5383145854052057,-0.718403312475637,-0.8882729757018974,-0.30543804110815437,-0.39209268803605857,-0.7826370000009331,-0.7505875012359133,-0.6181459330496577,-0.7933123856473046,-0.48354931742714546,-0.6236530801615773,-1.4297346243751459,-0.8876475861607904,-0.5506891442270105,-1.083703972852476,-0.8019202097990911,-0.6872949051055015,-0.6765653830142971,-0.4418146496061519,-0.7435881243680563,-0.6298952417108327,-0.5105402224393739,-0.8257006183683515,-0.3665220152828079,-0.9438889039415819,-1.7778239846923218,-0.6153680228807413,-0.7065704690545185,-0.70403185753225,-0.6936511303688354,-0.8491309195402954,-0.7250393885072327,-1.2392326491630488,-0.9196593764918859,-1.0103744387261717,-0.5782454484635886,-0.44010458796444696,-0.6606165695238401,-0.6649142232365681,-0.7715465180280501,-0.7240314079425596,-0.5953265105497789,-0.6524798290126078,-0.5144883500174791,-0.45949229567875627,-0.510750941039643,-0.6610601468315678,-0.3553526707926364,-0.5724885639593493,-0.5929625132551772,-0.6387483692698495,-0.40721618163199175,-0.6423795509214933,-0.6336029287090149,-0.5746032626222279]},{\"label\":\"max_depth\",\"range\":[3,10],\"values\":[9,7,8,10,9,5,3,5,7,4,10,10,9,9,8,10,8,6,9,10,8,10,10,9,10,9,7,10,8,9,6,10,9,10,10,10,10,9,10,7,9,10,10,3,10,4,9,8,10,9,10,10,10,10,10,9,10,9,10,5,8,10,10,10,9,10,9,10,10,9,10,10,10,10,10,9,10,9,10,10,6,10,10,10,10,10,9,10,10,9,4,10,10,10,10,10,9,10,10,10]},{\"label\":\"n_estimators\",\"range\":[115,1000],\"values\":[818,642,524,834,473,665,875,748,860,574,208,357,1000,994,993,933,752,780,115,925,931,893,911,998,698,712,643,419,588,815,809,910,937,688,726,681,531,629,471,695,625,696,743,589,848,778,670,502,746,554,670,681,614,718,786,653,738,855,330,780,598,622,670,716,494,549,570,651,967,640,810,622,606,706,720,698,439,878,597,767,530,685,656,660,613,566,741,702,722,710,795,763,830,732,728,758,774,764,753,756]}],\"labelangle\":30,\"labelside\":\"bottom\",\"line\":{\"color\":[0.22192908746518092,0.33385616052416056,0.2629383939779751,0.20003730059491115,0.20695239833395945,0.2366570123880118,0.29048982766754483,0.23903243956528067,0.2527097643749406,0.363042198343846,0.2336128919799432,0.21053255876605556,0.1989900865323424,0.20020867304514425,0.20683373204984146,0.23393614700135346,0.20920083828160863,0.2475313099257599,0.35236621616282054,0.19785205983605245,0.2743295318664835,0.1992741181806799,0.2001733692590521,0.20123826621656715,0.1983608272777889,0.20189363816819583,0.2222392862858067,0.2388000255092733,0.21423025043698432,0.21868034648615467,0.24066240747885093,0.19966176976611655,0.2151871963043917,0.1980443964467242,0.19789656099364072,0.19815403722719746,0.19984090412361996,0.2110597455962636,0.2011487038452523,0.21823936915608413,0.2055725266334379,0.19634573188551144,0.3268556850941651,0.2700458193126499,0.2038226810914836,0.24971678980165363,0.2043666030176169,0.22889024452300555,0.2058536286684937,0.20697167166963745,0.19807113897521816,0.19897447745844232,0.19821835425896664,0.1983217933562467,0.19888369985231555,0.20198535252500732,0.23392259477181823,0.2042313406714807,0.2074965818347809,0.2622988246567589,0.21837109836174187,0.19792717924941705,0.1986180410059858,0.20053104659629506,0.21188249590964534,0.20073425343704984,0.2056622934319059,0.20039582758026195,0.20395359945959673,0.2141964570604689,0.26630441876188843,0.19903331182985654,0.19803980134637642,0.19664461723952095,0.19866676848894568,0.20915941392933327,0.20568027747217643,0.22116881046469114,0.20419386326659875,0.2033891133416012,0.2356154438679674,0.20053690482122105,0.1980614774552134,0.19832128081345865,0.19989819056460406,0.20128777444161014,0.20100423526000202,0.19449510761199787,0.19618352774458758,0.2032834852924478,0.2506581722222099,0.1971405185422643,0.20513882227218083,0.19780115259790723,0.19864075499102438,0.19508141874074042,0.20447625889080243,0.19642288486888315,0.19712459161702156,0.19686465167362285],\"colorbar\":{\"title\":{\"text\":\"Objective Value\"}},\"colorscale\":[[0.0,\"rgb(247,251,255)\"],[0.125,\"rgb(222,235,247)\"],[0.25,\"rgb(198,219,239)\"],[0.375,\"rgb(158,202,225)\"],[0.5,\"rgb(107,174,214)\"],[0.625,\"rgb(66,146,198)\"],[0.75,\"rgb(33,113,181)\"],[0.875,\"rgb(8,81,156)\"],[1.0,\"rgb(8,48,107)\"]],\"reversescale\":true,\"showscale\":true},\"type\":\"parcoords\"}],                        {\"title\":{\"text\":\"Parallel Coordinate Plot\"},\"template\":{\"data\":{\"histogram2dcontour\":[{\"type\":\"histogram2dcontour\",\"colorbar\":{\"outlinewidth\":0,\"ticks\":\"\"},\"colorscale\":[[0.0,\"#0d0887\"],[0.1111111111111111,\"#46039f\"],[0.2222222222222222,\"#7201a8\"],[0.3333333333333333,\"#9c179e\"],[0.4444444444444444,\"#bd3786\"],[0.5555555555555556,\"#d8576b\"],[0.6666666666666666,\"#ed7953\"],[0.7777777777777778,\"#fb9f3a\"],[0.8888888888888888,\"#fdca26\"],[1.0,\"#f0f921\"]]}],\"choropleth\":[{\"type\":\"choropleth\",\"colorbar\":{\"outlinewidth\":0,\"ticks\":\"\"}}],\"histogram2d\":[{\"type\":\"histogram2d\",\"colorbar\":{\"outlinewidth\":0,\"ticks\":\"\"},\"colorscale\":[[0.0,\"#0d0887\"],[0.1111111111111111,\"#46039f\"],[0.2222222222222222,\"#7201a8\"],[0.3333333333333333,\"#9c179e\"],[0.4444444444444444,\"#bd3786\"],[0.5555555555555556,\"#d8576b\"],[0.6666666666666666,\"#ed7953\"],[0.7777777777777778,\"#fb9f3a\"],[0.8888888888888888,\"#fdca26\"],[1.0,\"#f0f921\"]]}],\"heatmap\":[{\"type\":\"heatmap\",\"colorbar\":{\"outlinewidth\":0,\"ticks\":\"\"},\"colorscale\":[[0.0,\"#0d0887\"],[0.1111111111111111,\"#46039f\"],[0.2222222222222222,\"#7201a8\"],[0.3333333333333333,\"#9c179e\"],[0.4444444444444444,\"#bd3786\"],[0.5555555555555556,\"#d8576b\"],[0.6666666666666666,\"#ed7953\"],[0.7777777777777778,\"#fb9f3a\"],[0.8888888888888888,\"#fdca26\"],[1.0,\"#f0f921\"]]}],\"heatmapgl\":[{\"type\":\"heatmapgl\",\"colorbar\":{\"outlinewidth\":0,\"ticks\":\"\"},\"colorscale\":[[0.0,\"#0d0887\"],[0.1111111111111111,\"#46039f\"],[0.2222222222222222,\"#7201a8\"],[0.3333333333333333,\"#9c179e\"],[0.4444444444444444,\"#bd3786\"],[0.5555555555555556,\"#d8576b\"],[0.6666666666666666,\"#ed7953\"],[0.7777777777777778,\"#fb9f3a\"],[0.8888888888888888,\"#fdca26\"],[1.0,\"#f0f921\"]]}],\"contourcarpet\":[{\"type\":\"contourcarpet\",\"colorbar\":{\"outlinewidth\":0,\"ticks\":\"\"}}],\"contour\":[{\"type\":\"contour\",\"colorbar\":{\"outlinewidth\":0,\"ticks\":\"\"},\"colorscale\":[[0.0,\"#0d0887\"],[0.1111111111111111,\"#46039f\"],[0.2222222222222222,\"#7201a8\"],[0.3333333333333333,\"#9c179e\"],[0.4444444444444444,\"#bd3786\"],[0.5555555555555556,\"#d8576b\"],[0.6666666666666666,\"#ed7953\"],[0.7777777777777778,\"#fb9f3a\"],[0.8888888888888888,\"#fdca26\"],[1.0,\"#f0f921\"]]}],\"surface\":[{\"type\":\"surface\",\"colorbar\":{\"outlinewidth\":0,\"ticks\":\"\"},\"colorscale\":[[0.0,\"#0d0887\"],[0.1111111111111111,\"#46039f\"],[0.2222222222222222,\"#7201a8\"],[0.3333333333333333,\"#9c179e\"],[0.4444444444444444,\"#bd3786\"],[0.5555555555555556,\"#d8576b\"],[0.6666666666666666,\"#ed7953\"],[0.7777777777777778,\"#fb9f3a\"],[0.8888888888888888,\"#fdca26\"],[1.0,\"#f0f921\"]]}],\"mesh3d\":[{\"type\":\"mesh3d\",\"colorbar\":{\"outlinewidth\":0,\"ticks\":\"\"}}],\"scatter\":[{\"fillpattern\":{\"fillmode\":\"overlay\",\"size\":10,\"solidity\":0.2},\"type\":\"scatter\"}],\"parcoords\":[{\"type\":\"parcoords\",\"line\":{\"colorbar\":{\"outlinewidth\":0,\"ticks\":\"\"}}}],\"scatterpolargl\":[{\"type\":\"scatterpolargl\",\"marker\":{\"colorbar\":{\"outlinewidth\":0,\"ticks\":\"\"}}}],\"bar\":[{\"error_x\":{\"color\":\"#2a3f5f\"},\"error_y\":{\"color\":\"#2a3f5f\"},\"marker\":{\"line\":{\"color\":\"#E5ECF6\",\"width\":0.5},\"pattern\":{\"fillmode\":\"overlay\",\"size\":10,\"solidity\":0.2}},\"type\":\"bar\"}],\"scattergeo\":[{\"type\":\"scattergeo\",\"marker\":{\"colorbar\":{\"outlinewidth\":0,\"ticks\":\"\"}}}],\"scatterpolar\":[{\"type\":\"scatterpolar\",\"marker\":{\"colorbar\":{\"outlinewidth\":0,\"ticks\":\"\"}}}],\"histogram\":[{\"marker\":{\"pattern\":{\"fillmode\":\"overlay\",\"size\":10,\"solidity\":0.2}},\"type\":\"histogram\"}],\"scattergl\":[{\"type\":\"scattergl\",\"marker\":{\"colorbar\":{\"outlinewidth\":0,\"ticks\":\"\"}}}],\"scatter3d\":[{\"type\":\"scatter3d\",\"line\":{\"colorbar\":{\"outlinewidth\":0,\"ticks\":\"\"}},\"marker\":{\"colorbar\":{\"outlinewidth\":0,\"ticks\":\"\"}}}],\"scattermapbox\":[{\"type\":\"scattermapbox\",\"marker\":{\"colorbar\":{\"outlinewidth\":0,\"ticks\":\"\"}}}],\"scatterternary\":[{\"type\":\"scatterternary\",\"marker\":{\"colorbar\":{\"outlinewidth\":0,\"ticks\":\"\"}}}],\"scattercarpet\":[{\"type\":\"scattercarpet\",\"marker\":{\"colorbar\":{\"outlinewidth\":0,\"ticks\":\"\"}}}],\"carpet\":[{\"aaxis\":{\"endlinecolor\":\"#2a3f5f\",\"gridcolor\":\"white\",\"linecolor\":\"white\",\"minorgridcolor\":\"white\",\"startlinecolor\":\"#2a3f5f\"},\"baxis\":{\"endlinecolor\":\"#2a3f5f\",\"gridcolor\":\"white\",\"linecolor\":\"white\",\"minorgridcolor\":\"white\",\"startlinecolor\":\"#2a3f5f\"},\"type\":\"carpet\"}],\"table\":[{\"cells\":{\"fill\":{\"color\":\"#EBF0F8\"},\"line\":{\"color\":\"white\"}},\"header\":{\"fill\":{\"color\":\"#C8D4E3\"},\"line\":{\"color\":\"white\"}},\"type\":\"table\"}],\"barpolar\":[{\"marker\":{\"line\":{\"color\":\"#E5ECF6\",\"width\":0.5},\"pattern\":{\"fillmode\":\"overlay\",\"size\":10,\"solidity\":0.2}},\"type\":\"barpolar\"}],\"pie\":[{\"automargin\":true,\"type\":\"pie\"}]},\"layout\":{\"autotypenumbers\":\"strict\",\"colorway\":[\"#636efa\",\"#EF553B\",\"#00cc96\",\"#ab63fa\",\"#FFA15A\",\"#19d3f3\",\"#FF6692\",\"#B6E880\",\"#FF97FF\",\"#FECB52\"],\"font\":{\"color\":\"#2a3f5f\"},\"hovermode\":\"closest\",\"hoverlabel\":{\"align\":\"left\"},\"paper_bgcolor\":\"white\",\"plot_bgcolor\":\"#E5ECF6\",\"polar\":{\"bgcolor\":\"#E5ECF6\",\"angularaxis\":{\"gridcolor\":\"white\",\"linecolor\":\"white\",\"ticks\":\"\"},\"radialaxis\":{\"gridcolor\":\"white\",\"linecolor\":\"white\",\"ticks\":\"\"}},\"ternary\":{\"bgcolor\":\"#E5ECF6\",\"aaxis\":{\"gridcolor\":\"white\",\"linecolor\":\"white\",\"ticks\":\"\"},\"baxis\":{\"gridcolor\":\"white\",\"linecolor\":\"white\",\"ticks\":\"\"},\"caxis\":{\"gridcolor\":\"white\",\"linecolor\":\"white\",\"ticks\":\"\"}},\"coloraxis\":{\"colorbar\":{\"outlinewidth\":0,\"ticks\":\"\"}},\"colorscale\":{\"sequential\":[[0.0,\"#0d0887\"],[0.1111111111111111,\"#46039f\"],[0.2222222222222222,\"#7201a8\"],[0.3333333333333333,\"#9c179e\"],[0.4444444444444444,\"#bd3786\"],[0.5555555555555556,\"#d8576b\"],[0.6666666666666666,\"#ed7953\"],[0.7777777777777778,\"#fb9f3a\"],[0.8888888888888888,\"#fdca26\"],[1.0,\"#f0f921\"]],\"sequentialminus\":[[0.0,\"#0d0887\"],[0.1111111111111111,\"#46039f\"],[0.2222222222222222,\"#7201a8\"],[0.3333333333333333,\"#9c179e\"],[0.4444444444444444,\"#bd3786\"],[0.5555555555555556,\"#d8576b\"],[0.6666666666666666,\"#ed7953\"],[0.7777777777777778,\"#fb9f3a\"],[0.8888888888888888,\"#fdca26\"],[1.0,\"#f0f921\"]],\"diverging\":[[0,\"#8e0152\"],[0.1,\"#c51b7d\"],[0.2,\"#de77ae\"],[0.3,\"#f1b6da\"],[0.4,\"#fde0ef\"],[0.5,\"#f7f7f7\"],[0.6,\"#e6f5d0\"],[0.7,\"#b8e186\"],[0.8,\"#7fbc41\"],[0.9,\"#4d9221\"],[1,\"#276419\"]]},\"xaxis\":{\"gridcolor\":\"white\",\"linecolor\":\"white\",\"ticks\":\"\",\"title\":{\"standoff\":15},\"zerolinecolor\":\"white\",\"automargin\":true,\"zerolinewidth\":2},\"yaxis\":{\"gridcolor\":\"white\",\"linecolor\":\"white\",\"ticks\":\"\",\"title\":{\"standoff\":15},\"zerolinecolor\":\"white\",\"automargin\":true,\"zerolinewidth\":2},\"scene\":{\"xaxis\":{\"backgroundcolor\":\"#E5ECF6\",\"gridcolor\":\"white\",\"linecolor\":\"white\",\"showbackground\":true,\"ticks\":\"\",\"zerolinecolor\":\"white\",\"gridwidth\":2},\"yaxis\":{\"backgroundcolor\":\"#E5ECF6\",\"gridcolor\":\"white\",\"linecolor\":\"white\",\"showbackground\":true,\"ticks\":\"\",\"zerolinecolor\":\"white\",\"gridwidth\":2},\"zaxis\":{\"backgroundcolor\":\"#E5ECF6\",\"gridcolor\":\"white\",\"linecolor\":\"white\",\"showbackground\":true,\"ticks\":\"\",\"zerolinecolor\":\"white\",\"gridwidth\":2}},\"shapedefaults\":{\"line\":{\"color\":\"#2a3f5f\"}},\"annotationdefaults\":{\"arrowcolor\":\"#2a3f5f\",\"arrowhead\":0,\"arrowwidth\":1},\"geo\":{\"bgcolor\":\"white\",\"landcolor\":\"#E5ECF6\",\"subunitcolor\":\"white\",\"showland\":true,\"showlakes\":true,\"lakecolor\":\"white\"},\"title\":{\"x\":0.05},\"mapbox\":{\"style\":\"light\"}}}},                        {\"responsive\": true}                    ).then(function(){\n",
       "                            \n",
       "var gd = document.getElementById('f17a6978-8b6f-48ad-9c9b-f49b25b2ccdd');\n",
       "var x = new MutationObserver(function (mutations, observer) {{\n",
       "        var display = window.getComputedStyle(gd).display;\n",
       "        if (!display || display === 'none') {{\n",
       "            console.log([gd, 'removed!']);\n",
       "            Plotly.purge(gd);\n",
       "            observer.disconnect();\n",
       "        }}\n",
       "}});\n",
       "\n",
       "// Listen for the removal of the full notebook cells\n",
       "var notebookContainer = gd.closest('#notebook-container');\n",
       "if (notebookContainer) {{\n",
       "    x.observe(notebookContainer, {childList: true});\n",
       "}}\n",
       "\n",
       "// Listen for the clearing of the current output cell\n",
       "var outputEl = gd.closest('.output');\n",
       "if (outputEl) {{\n",
       "    x.observe(outputEl, {childList: true});\n",
       "}}\n",
       "\n",
       "                        })                };                });            </script>        </div>"
      ]
     },
     "metadata": {},
     "output_type": "display_data"
    }
   ],
   "source": [
    "# 파라미터들과의 관계\n",
    "optuna.visualization.plot_parallel_coordinate(study)"
   ]
  },
  {
   "cell_type": "code",
   "execution_count": 62,
   "id": "b6349e33-6dd1-414e-840d-8290e37f76b5",
   "metadata": {},
   "outputs": [
    {
     "data": {
      "application/vnd.plotly.v1+json": {
       "config": {
        "plotlyServerURL": "https://plot.ly"
       },
       "data": [
        {
         "cliponaxis": false,
         "hovertemplate": [
          "n_estimators (IntDistribution): 0.03122558031951329<extra></extra>",
          "max_depth (IntDistribution): 0.3940626932809625<extra></extra>",
          "learning_rate (FloatDistribution): 0.5747117263995241<extra></extra>"
         ],
         "marker": {
          "color": "rgb(66,146,198)"
         },
         "orientation": "h",
         "text": [
          "0.03",
          "0.39",
          "0.57"
         ],
         "textposition": "outside",
         "type": "bar",
         "x": [
          0.03122558031951329,
          0.3940626932809625,
          0.5747117263995241
         ],
         "y": [
          "n_estimators",
          "max_depth",
          "learning_rate"
         ]
        }
       ],
       "layout": {
        "showlegend": false,
        "template": {
         "data": {
          "bar": [
           {
            "error_x": {
             "color": "#2a3f5f"
            },
            "error_y": {
             "color": "#2a3f5f"
            },
            "marker": {
             "line": {
              "color": "#E5ECF6",
              "width": 0.5
             },
             "pattern": {
              "fillmode": "overlay",
              "size": 10,
              "solidity": 0.2
             }
            },
            "type": "bar"
           }
          ],
          "barpolar": [
           {
            "marker": {
             "line": {
              "color": "#E5ECF6",
              "width": 0.5
             },
             "pattern": {
              "fillmode": "overlay",
              "size": 10,
              "solidity": 0.2
             }
            },
            "type": "barpolar"
           }
          ],
          "carpet": [
           {
            "aaxis": {
             "endlinecolor": "#2a3f5f",
             "gridcolor": "white",
             "linecolor": "white",
             "minorgridcolor": "white",
             "startlinecolor": "#2a3f5f"
            },
            "baxis": {
             "endlinecolor": "#2a3f5f",
             "gridcolor": "white",
             "linecolor": "white",
             "minorgridcolor": "white",
             "startlinecolor": "#2a3f5f"
            },
            "type": "carpet"
           }
          ],
          "choropleth": [
           {
            "colorbar": {
             "outlinewidth": 0,
             "ticks": ""
            },
            "type": "choropleth"
           }
          ],
          "contour": [
           {
            "colorbar": {
             "outlinewidth": 0,
             "ticks": ""
            },
            "colorscale": [
             [
              0,
              "#0d0887"
             ],
             [
              0.1111111111111111,
              "#46039f"
             ],
             [
              0.2222222222222222,
              "#7201a8"
             ],
             [
              0.3333333333333333,
              "#9c179e"
             ],
             [
              0.4444444444444444,
              "#bd3786"
             ],
             [
              0.5555555555555556,
              "#d8576b"
             ],
             [
              0.6666666666666666,
              "#ed7953"
             ],
             [
              0.7777777777777778,
              "#fb9f3a"
             ],
             [
              0.8888888888888888,
              "#fdca26"
             ],
             [
              1,
              "#f0f921"
             ]
            ],
            "type": "contour"
           }
          ],
          "contourcarpet": [
           {
            "colorbar": {
             "outlinewidth": 0,
             "ticks": ""
            },
            "type": "contourcarpet"
           }
          ],
          "heatmap": [
           {
            "colorbar": {
             "outlinewidth": 0,
             "ticks": ""
            },
            "colorscale": [
             [
              0,
              "#0d0887"
             ],
             [
              0.1111111111111111,
              "#46039f"
             ],
             [
              0.2222222222222222,
              "#7201a8"
             ],
             [
              0.3333333333333333,
              "#9c179e"
             ],
             [
              0.4444444444444444,
              "#bd3786"
             ],
             [
              0.5555555555555556,
              "#d8576b"
             ],
             [
              0.6666666666666666,
              "#ed7953"
             ],
             [
              0.7777777777777778,
              "#fb9f3a"
             ],
             [
              0.8888888888888888,
              "#fdca26"
             ],
             [
              1,
              "#f0f921"
             ]
            ],
            "type": "heatmap"
           }
          ],
          "heatmapgl": [
           {
            "colorbar": {
             "outlinewidth": 0,
             "ticks": ""
            },
            "colorscale": [
             [
              0,
              "#0d0887"
             ],
             [
              0.1111111111111111,
              "#46039f"
             ],
             [
              0.2222222222222222,
              "#7201a8"
             ],
             [
              0.3333333333333333,
              "#9c179e"
             ],
             [
              0.4444444444444444,
              "#bd3786"
             ],
             [
              0.5555555555555556,
              "#d8576b"
             ],
             [
              0.6666666666666666,
              "#ed7953"
             ],
             [
              0.7777777777777778,
              "#fb9f3a"
             ],
             [
              0.8888888888888888,
              "#fdca26"
             ],
             [
              1,
              "#f0f921"
             ]
            ],
            "type": "heatmapgl"
           }
          ],
          "histogram": [
           {
            "marker": {
             "pattern": {
              "fillmode": "overlay",
              "size": 10,
              "solidity": 0.2
             }
            },
            "type": "histogram"
           }
          ],
          "histogram2d": [
           {
            "colorbar": {
             "outlinewidth": 0,
             "ticks": ""
            },
            "colorscale": [
             [
              0,
              "#0d0887"
             ],
             [
              0.1111111111111111,
              "#46039f"
             ],
             [
              0.2222222222222222,
              "#7201a8"
             ],
             [
              0.3333333333333333,
              "#9c179e"
             ],
             [
              0.4444444444444444,
              "#bd3786"
             ],
             [
              0.5555555555555556,
              "#d8576b"
             ],
             [
              0.6666666666666666,
              "#ed7953"
             ],
             [
              0.7777777777777778,
              "#fb9f3a"
             ],
             [
              0.8888888888888888,
              "#fdca26"
             ],
             [
              1,
              "#f0f921"
             ]
            ],
            "type": "histogram2d"
           }
          ],
          "histogram2dcontour": [
           {
            "colorbar": {
             "outlinewidth": 0,
             "ticks": ""
            },
            "colorscale": [
             [
              0,
              "#0d0887"
             ],
             [
              0.1111111111111111,
              "#46039f"
             ],
             [
              0.2222222222222222,
              "#7201a8"
             ],
             [
              0.3333333333333333,
              "#9c179e"
             ],
             [
              0.4444444444444444,
              "#bd3786"
             ],
             [
              0.5555555555555556,
              "#d8576b"
             ],
             [
              0.6666666666666666,
              "#ed7953"
             ],
             [
              0.7777777777777778,
              "#fb9f3a"
             ],
             [
              0.8888888888888888,
              "#fdca26"
             ],
             [
              1,
              "#f0f921"
             ]
            ],
            "type": "histogram2dcontour"
           }
          ],
          "mesh3d": [
           {
            "colorbar": {
             "outlinewidth": 0,
             "ticks": ""
            },
            "type": "mesh3d"
           }
          ],
          "parcoords": [
           {
            "line": {
             "colorbar": {
              "outlinewidth": 0,
              "ticks": ""
             }
            },
            "type": "parcoords"
           }
          ],
          "pie": [
           {
            "automargin": true,
            "type": "pie"
           }
          ],
          "scatter": [
           {
            "fillpattern": {
             "fillmode": "overlay",
             "size": 10,
             "solidity": 0.2
            },
            "type": "scatter"
           }
          ],
          "scatter3d": [
           {
            "line": {
             "colorbar": {
              "outlinewidth": 0,
              "ticks": ""
             }
            },
            "marker": {
             "colorbar": {
              "outlinewidth": 0,
              "ticks": ""
             }
            },
            "type": "scatter3d"
           }
          ],
          "scattercarpet": [
           {
            "marker": {
             "colorbar": {
              "outlinewidth": 0,
              "ticks": ""
             }
            },
            "type": "scattercarpet"
           }
          ],
          "scattergeo": [
           {
            "marker": {
             "colorbar": {
              "outlinewidth": 0,
              "ticks": ""
             }
            },
            "type": "scattergeo"
           }
          ],
          "scattergl": [
           {
            "marker": {
             "colorbar": {
              "outlinewidth": 0,
              "ticks": ""
             }
            },
            "type": "scattergl"
           }
          ],
          "scattermapbox": [
           {
            "marker": {
             "colorbar": {
              "outlinewidth": 0,
              "ticks": ""
             }
            },
            "type": "scattermapbox"
           }
          ],
          "scatterpolar": [
           {
            "marker": {
             "colorbar": {
              "outlinewidth": 0,
              "ticks": ""
             }
            },
            "type": "scatterpolar"
           }
          ],
          "scatterpolargl": [
           {
            "marker": {
             "colorbar": {
              "outlinewidth": 0,
              "ticks": ""
             }
            },
            "type": "scatterpolargl"
           }
          ],
          "scatterternary": [
           {
            "marker": {
             "colorbar": {
              "outlinewidth": 0,
              "ticks": ""
             }
            },
            "type": "scatterternary"
           }
          ],
          "surface": [
           {
            "colorbar": {
             "outlinewidth": 0,
             "ticks": ""
            },
            "colorscale": [
             [
              0,
              "#0d0887"
             ],
             [
              0.1111111111111111,
              "#46039f"
             ],
             [
              0.2222222222222222,
              "#7201a8"
             ],
             [
              0.3333333333333333,
              "#9c179e"
             ],
             [
              0.4444444444444444,
              "#bd3786"
             ],
             [
              0.5555555555555556,
              "#d8576b"
             ],
             [
              0.6666666666666666,
              "#ed7953"
             ],
             [
              0.7777777777777778,
              "#fb9f3a"
             ],
             [
              0.8888888888888888,
              "#fdca26"
             ],
             [
              1,
              "#f0f921"
             ]
            ],
            "type": "surface"
           }
          ],
          "table": [
           {
            "cells": {
             "fill": {
              "color": "#EBF0F8"
             },
             "line": {
              "color": "white"
             }
            },
            "header": {
             "fill": {
              "color": "#C8D4E3"
             },
             "line": {
              "color": "white"
             }
            },
            "type": "table"
           }
          ]
         },
         "layout": {
          "annotationdefaults": {
           "arrowcolor": "#2a3f5f",
           "arrowhead": 0,
           "arrowwidth": 1
          },
          "autotypenumbers": "strict",
          "coloraxis": {
           "colorbar": {
            "outlinewidth": 0,
            "ticks": ""
           }
          },
          "colorscale": {
           "diverging": [
            [
             0,
             "#8e0152"
            ],
            [
             0.1,
             "#c51b7d"
            ],
            [
             0.2,
             "#de77ae"
            ],
            [
             0.3,
             "#f1b6da"
            ],
            [
             0.4,
             "#fde0ef"
            ],
            [
             0.5,
             "#f7f7f7"
            ],
            [
             0.6,
             "#e6f5d0"
            ],
            [
             0.7,
             "#b8e186"
            ],
            [
             0.8,
             "#7fbc41"
            ],
            [
             0.9,
             "#4d9221"
            ],
            [
             1,
             "#276419"
            ]
           ],
           "sequential": [
            [
             0,
             "#0d0887"
            ],
            [
             0.1111111111111111,
             "#46039f"
            ],
            [
             0.2222222222222222,
             "#7201a8"
            ],
            [
             0.3333333333333333,
             "#9c179e"
            ],
            [
             0.4444444444444444,
             "#bd3786"
            ],
            [
             0.5555555555555556,
             "#d8576b"
            ],
            [
             0.6666666666666666,
             "#ed7953"
            ],
            [
             0.7777777777777778,
             "#fb9f3a"
            ],
            [
             0.8888888888888888,
             "#fdca26"
            ],
            [
             1,
             "#f0f921"
            ]
           ],
           "sequentialminus": [
            [
             0,
             "#0d0887"
            ],
            [
             0.1111111111111111,
             "#46039f"
            ],
            [
             0.2222222222222222,
             "#7201a8"
            ],
            [
             0.3333333333333333,
             "#9c179e"
            ],
            [
             0.4444444444444444,
             "#bd3786"
            ],
            [
             0.5555555555555556,
             "#d8576b"
            ],
            [
             0.6666666666666666,
             "#ed7953"
            ],
            [
             0.7777777777777778,
             "#fb9f3a"
            ],
            [
             0.8888888888888888,
             "#fdca26"
            ],
            [
             1,
             "#f0f921"
            ]
           ]
          },
          "colorway": [
           "#636efa",
           "#EF553B",
           "#00cc96",
           "#ab63fa",
           "#FFA15A",
           "#19d3f3",
           "#FF6692",
           "#B6E880",
           "#FF97FF",
           "#FECB52"
          ],
          "font": {
           "color": "#2a3f5f"
          },
          "geo": {
           "bgcolor": "white",
           "lakecolor": "white",
           "landcolor": "#E5ECF6",
           "showlakes": true,
           "showland": true,
           "subunitcolor": "white"
          },
          "hoverlabel": {
           "align": "left"
          },
          "hovermode": "closest",
          "mapbox": {
           "style": "light"
          },
          "paper_bgcolor": "white",
          "plot_bgcolor": "#E5ECF6",
          "polar": {
           "angularaxis": {
            "gridcolor": "white",
            "linecolor": "white",
            "ticks": ""
           },
           "bgcolor": "#E5ECF6",
           "radialaxis": {
            "gridcolor": "white",
            "linecolor": "white",
            "ticks": ""
           }
          },
          "scene": {
           "xaxis": {
            "backgroundcolor": "#E5ECF6",
            "gridcolor": "white",
            "gridwidth": 2,
            "linecolor": "white",
            "showbackground": true,
            "ticks": "",
            "zerolinecolor": "white"
           },
           "yaxis": {
            "backgroundcolor": "#E5ECF6",
            "gridcolor": "white",
            "gridwidth": 2,
            "linecolor": "white",
            "showbackground": true,
            "ticks": "",
            "zerolinecolor": "white"
           },
           "zaxis": {
            "backgroundcolor": "#E5ECF6",
            "gridcolor": "white",
            "gridwidth": 2,
            "linecolor": "white",
            "showbackground": true,
            "ticks": "",
            "zerolinecolor": "white"
           }
          },
          "shapedefaults": {
           "line": {
            "color": "#2a3f5f"
           }
          },
          "ternary": {
           "aaxis": {
            "gridcolor": "white",
            "linecolor": "white",
            "ticks": ""
           },
           "baxis": {
            "gridcolor": "white",
            "linecolor": "white",
            "ticks": ""
           },
           "bgcolor": "#E5ECF6",
           "caxis": {
            "gridcolor": "white",
            "linecolor": "white",
            "ticks": ""
           }
          },
          "title": {
           "x": 0.05
          },
          "xaxis": {
           "automargin": true,
           "gridcolor": "white",
           "linecolor": "white",
           "ticks": "",
           "title": {
            "standoff": 15
           },
           "zerolinecolor": "white",
           "zerolinewidth": 2
          },
          "yaxis": {
           "automargin": true,
           "gridcolor": "white",
           "linecolor": "white",
           "ticks": "",
           "title": {
            "standoff": 15
           },
           "zerolinecolor": "white",
           "zerolinewidth": 2
          }
         }
        },
        "title": {
         "text": "Hyperparameter Importances"
        },
        "xaxis": {
         "title": {
          "text": "Importance for Objective Value"
         }
        },
        "yaxis": {
         "title": {
          "text": "Hyperparameter"
         }
        }
       }
      },
      "text/html": [
       "<div>                            <div id=\"6dcb6a05-11fc-44e1-924d-735e1ec0ef5f\" class=\"plotly-graph-div\" style=\"height:525px; width:100%;\"></div>            <script type=\"text/javascript\">                require([\"plotly\"], function(Plotly) {                    window.PLOTLYENV=window.PLOTLYENV || {};                                    if (document.getElementById(\"6dcb6a05-11fc-44e1-924d-735e1ec0ef5f\")) {                    Plotly.newPlot(                        \"6dcb6a05-11fc-44e1-924d-735e1ec0ef5f\",                        [{\"cliponaxis\":false,\"hovertemplate\":[\"n_estimators (IntDistribution): 0.03122558031951329<extra></extra>\",\"max_depth (IntDistribution): 0.3940626932809625<extra></extra>\",\"learning_rate (FloatDistribution): 0.5747117263995241<extra></extra>\"],\"marker\":{\"color\":\"rgb(66,146,198)\"},\"orientation\":\"h\",\"text\":[\"0.03\",\"0.39\",\"0.57\"],\"textposition\":\"outside\",\"x\":[0.03122558031951329,0.3940626932809625,0.5747117263995241],\"y\":[\"n_estimators\",\"max_depth\",\"learning_rate\"],\"type\":\"bar\"}],                        {\"showlegend\":false,\"title\":{\"text\":\"Hyperparameter Importances\"},\"xaxis\":{\"title\":{\"text\":\"Importance for Objective Value\"}},\"yaxis\":{\"title\":{\"text\":\"Hyperparameter\"}},\"template\":{\"data\":{\"histogram2dcontour\":[{\"type\":\"histogram2dcontour\",\"colorbar\":{\"outlinewidth\":0,\"ticks\":\"\"},\"colorscale\":[[0.0,\"#0d0887\"],[0.1111111111111111,\"#46039f\"],[0.2222222222222222,\"#7201a8\"],[0.3333333333333333,\"#9c179e\"],[0.4444444444444444,\"#bd3786\"],[0.5555555555555556,\"#d8576b\"],[0.6666666666666666,\"#ed7953\"],[0.7777777777777778,\"#fb9f3a\"],[0.8888888888888888,\"#fdca26\"],[1.0,\"#f0f921\"]]}],\"choropleth\":[{\"type\":\"choropleth\",\"colorbar\":{\"outlinewidth\":0,\"ticks\":\"\"}}],\"histogram2d\":[{\"type\":\"histogram2d\",\"colorbar\":{\"outlinewidth\":0,\"ticks\":\"\"},\"colorscale\":[[0.0,\"#0d0887\"],[0.1111111111111111,\"#46039f\"],[0.2222222222222222,\"#7201a8\"],[0.3333333333333333,\"#9c179e\"],[0.4444444444444444,\"#bd3786\"],[0.5555555555555556,\"#d8576b\"],[0.6666666666666666,\"#ed7953\"],[0.7777777777777778,\"#fb9f3a\"],[0.8888888888888888,\"#fdca26\"],[1.0,\"#f0f921\"]]}],\"heatmap\":[{\"type\":\"heatmap\",\"colorbar\":{\"outlinewidth\":0,\"ticks\":\"\"},\"colorscale\":[[0.0,\"#0d0887\"],[0.1111111111111111,\"#46039f\"],[0.2222222222222222,\"#7201a8\"],[0.3333333333333333,\"#9c179e\"],[0.4444444444444444,\"#bd3786\"],[0.5555555555555556,\"#d8576b\"],[0.6666666666666666,\"#ed7953\"],[0.7777777777777778,\"#fb9f3a\"],[0.8888888888888888,\"#fdca26\"],[1.0,\"#f0f921\"]]}],\"heatmapgl\":[{\"type\":\"heatmapgl\",\"colorbar\":{\"outlinewidth\":0,\"ticks\":\"\"},\"colorscale\":[[0.0,\"#0d0887\"],[0.1111111111111111,\"#46039f\"],[0.2222222222222222,\"#7201a8\"],[0.3333333333333333,\"#9c179e\"],[0.4444444444444444,\"#bd3786\"],[0.5555555555555556,\"#d8576b\"],[0.6666666666666666,\"#ed7953\"],[0.7777777777777778,\"#fb9f3a\"],[0.8888888888888888,\"#fdca26\"],[1.0,\"#f0f921\"]]}],\"contourcarpet\":[{\"type\":\"contourcarpet\",\"colorbar\":{\"outlinewidth\":0,\"ticks\":\"\"}}],\"contour\":[{\"type\":\"contour\",\"colorbar\":{\"outlinewidth\":0,\"ticks\":\"\"},\"colorscale\":[[0.0,\"#0d0887\"],[0.1111111111111111,\"#46039f\"],[0.2222222222222222,\"#7201a8\"],[0.3333333333333333,\"#9c179e\"],[0.4444444444444444,\"#bd3786\"],[0.5555555555555556,\"#d8576b\"],[0.6666666666666666,\"#ed7953\"],[0.7777777777777778,\"#fb9f3a\"],[0.8888888888888888,\"#fdca26\"],[1.0,\"#f0f921\"]]}],\"surface\":[{\"type\":\"surface\",\"colorbar\":{\"outlinewidth\":0,\"ticks\":\"\"},\"colorscale\":[[0.0,\"#0d0887\"],[0.1111111111111111,\"#46039f\"],[0.2222222222222222,\"#7201a8\"],[0.3333333333333333,\"#9c179e\"],[0.4444444444444444,\"#bd3786\"],[0.5555555555555556,\"#d8576b\"],[0.6666666666666666,\"#ed7953\"],[0.7777777777777778,\"#fb9f3a\"],[0.8888888888888888,\"#fdca26\"],[1.0,\"#f0f921\"]]}],\"mesh3d\":[{\"type\":\"mesh3d\",\"colorbar\":{\"outlinewidth\":0,\"ticks\":\"\"}}],\"scatter\":[{\"fillpattern\":{\"fillmode\":\"overlay\",\"size\":10,\"solidity\":0.2},\"type\":\"scatter\"}],\"parcoords\":[{\"type\":\"parcoords\",\"line\":{\"colorbar\":{\"outlinewidth\":0,\"ticks\":\"\"}}}],\"scatterpolargl\":[{\"type\":\"scatterpolargl\",\"marker\":{\"colorbar\":{\"outlinewidth\":0,\"ticks\":\"\"}}}],\"bar\":[{\"error_x\":{\"color\":\"#2a3f5f\"},\"error_y\":{\"color\":\"#2a3f5f\"},\"marker\":{\"line\":{\"color\":\"#E5ECF6\",\"width\":0.5},\"pattern\":{\"fillmode\":\"overlay\",\"size\":10,\"solidity\":0.2}},\"type\":\"bar\"}],\"scattergeo\":[{\"type\":\"scattergeo\",\"marker\":{\"colorbar\":{\"outlinewidth\":0,\"ticks\":\"\"}}}],\"scatterpolar\":[{\"type\":\"scatterpolar\",\"marker\":{\"colorbar\":{\"outlinewidth\":0,\"ticks\":\"\"}}}],\"histogram\":[{\"marker\":{\"pattern\":{\"fillmode\":\"overlay\",\"size\":10,\"solidity\":0.2}},\"type\":\"histogram\"}],\"scattergl\":[{\"type\":\"scattergl\",\"marker\":{\"colorbar\":{\"outlinewidth\":0,\"ticks\":\"\"}}}],\"scatter3d\":[{\"type\":\"scatter3d\",\"line\":{\"colorbar\":{\"outlinewidth\":0,\"ticks\":\"\"}},\"marker\":{\"colorbar\":{\"outlinewidth\":0,\"ticks\":\"\"}}}],\"scattermapbox\":[{\"type\":\"scattermapbox\",\"marker\":{\"colorbar\":{\"outlinewidth\":0,\"ticks\":\"\"}}}],\"scatterternary\":[{\"type\":\"scatterternary\",\"marker\":{\"colorbar\":{\"outlinewidth\":0,\"ticks\":\"\"}}}],\"scattercarpet\":[{\"type\":\"scattercarpet\",\"marker\":{\"colorbar\":{\"outlinewidth\":0,\"ticks\":\"\"}}}],\"carpet\":[{\"aaxis\":{\"endlinecolor\":\"#2a3f5f\",\"gridcolor\":\"white\",\"linecolor\":\"white\",\"minorgridcolor\":\"white\",\"startlinecolor\":\"#2a3f5f\"},\"baxis\":{\"endlinecolor\":\"#2a3f5f\",\"gridcolor\":\"white\",\"linecolor\":\"white\",\"minorgridcolor\":\"white\",\"startlinecolor\":\"#2a3f5f\"},\"type\":\"carpet\"}],\"table\":[{\"cells\":{\"fill\":{\"color\":\"#EBF0F8\"},\"line\":{\"color\":\"white\"}},\"header\":{\"fill\":{\"color\":\"#C8D4E3\"},\"line\":{\"color\":\"white\"}},\"type\":\"table\"}],\"barpolar\":[{\"marker\":{\"line\":{\"color\":\"#E5ECF6\",\"width\":0.5},\"pattern\":{\"fillmode\":\"overlay\",\"size\":10,\"solidity\":0.2}},\"type\":\"barpolar\"}],\"pie\":[{\"automargin\":true,\"type\":\"pie\"}]},\"layout\":{\"autotypenumbers\":\"strict\",\"colorway\":[\"#636efa\",\"#EF553B\",\"#00cc96\",\"#ab63fa\",\"#FFA15A\",\"#19d3f3\",\"#FF6692\",\"#B6E880\",\"#FF97FF\",\"#FECB52\"],\"font\":{\"color\":\"#2a3f5f\"},\"hovermode\":\"closest\",\"hoverlabel\":{\"align\":\"left\"},\"paper_bgcolor\":\"white\",\"plot_bgcolor\":\"#E5ECF6\",\"polar\":{\"bgcolor\":\"#E5ECF6\",\"angularaxis\":{\"gridcolor\":\"white\",\"linecolor\":\"white\",\"ticks\":\"\"},\"radialaxis\":{\"gridcolor\":\"white\",\"linecolor\":\"white\",\"ticks\":\"\"}},\"ternary\":{\"bgcolor\":\"#E5ECF6\",\"aaxis\":{\"gridcolor\":\"white\",\"linecolor\":\"white\",\"ticks\":\"\"},\"baxis\":{\"gridcolor\":\"white\",\"linecolor\":\"white\",\"ticks\":\"\"},\"caxis\":{\"gridcolor\":\"white\",\"linecolor\":\"white\",\"ticks\":\"\"}},\"coloraxis\":{\"colorbar\":{\"outlinewidth\":0,\"ticks\":\"\"}},\"colorscale\":{\"sequential\":[[0.0,\"#0d0887\"],[0.1111111111111111,\"#46039f\"],[0.2222222222222222,\"#7201a8\"],[0.3333333333333333,\"#9c179e\"],[0.4444444444444444,\"#bd3786\"],[0.5555555555555556,\"#d8576b\"],[0.6666666666666666,\"#ed7953\"],[0.7777777777777778,\"#fb9f3a\"],[0.8888888888888888,\"#fdca26\"],[1.0,\"#f0f921\"]],\"sequentialminus\":[[0.0,\"#0d0887\"],[0.1111111111111111,\"#46039f\"],[0.2222222222222222,\"#7201a8\"],[0.3333333333333333,\"#9c179e\"],[0.4444444444444444,\"#bd3786\"],[0.5555555555555556,\"#d8576b\"],[0.6666666666666666,\"#ed7953\"],[0.7777777777777778,\"#fb9f3a\"],[0.8888888888888888,\"#fdca26\"],[1.0,\"#f0f921\"]],\"diverging\":[[0,\"#8e0152\"],[0.1,\"#c51b7d\"],[0.2,\"#de77ae\"],[0.3,\"#f1b6da\"],[0.4,\"#fde0ef\"],[0.5,\"#f7f7f7\"],[0.6,\"#e6f5d0\"],[0.7,\"#b8e186\"],[0.8,\"#7fbc41\"],[0.9,\"#4d9221\"],[1,\"#276419\"]]},\"xaxis\":{\"gridcolor\":\"white\",\"linecolor\":\"white\",\"ticks\":\"\",\"title\":{\"standoff\":15},\"zerolinecolor\":\"white\",\"automargin\":true,\"zerolinewidth\":2},\"yaxis\":{\"gridcolor\":\"white\",\"linecolor\":\"white\",\"ticks\":\"\",\"title\":{\"standoff\":15},\"zerolinecolor\":\"white\",\"automargin\":true,\"zerolinewidth\":2},\"scene\":{\"xaxis\":{\"backgroundcolor\":\"#E5ECF6\",\"gridcolor\":\"white\",\"linecolor\":\"white\",\"showbackground\":true,\"ticks\":\"\",\"zerolinecolor\":\"white\",\"gridwidth\":2},\"yaxis\":{\"backgroundcolor\":\"#E5ECF6\",\"gridcolor\":\"white\",\"linecolor\":\"white\",\"showbackground\":true,\"ticks\":\"\",\"zerolinecolor\":\"white\",\"gridwidth\":2},\"zaxis\":{\"backgroundcolor\":\"#E5ECF6\",\"gridcolor\":\"white\",\"linecolor\":\"white\",\"showbackground\":true,\"ticks\":\"\",\"zerolinecolor\":\"white\",\"gridwidth\":2}},\"shapedefaults\":{\"line\":{\"color\":\"#2a3f5f\"}},\"annotationdefaults\":{\"arrowcolor\":\"#2a3f5f\",\"arrowhead\":0,\"arrowwidth\":1},\"geo\":{\"bgcolor\":\"white\",\"landcolor\":\"#E5ECF6\",\"subunitcolor\":\"white\",\"showland\":true,\"showlakes\":true,\"lakecolor\":\"white\"},\"title\":{\"x\":0.05},\"mapbox\":{\"style\":\"light\"}}}},                        {\"responsive\": true}                    ).then(function(){\n",
       "                            \n",
       "var gd = document.getElementById('6dcb6a05-11fc-44e1-924d-735e1ec0ef5f');\n",
       "var x = new MutationObserver(function (mutations, observer) {{\n",
       "        var display = window.getComputedStyle(gd).display;\n",
       "        if (!display || display === 'none') {{\n",
       "            console.log([gd, 'removed!']);\n",
       "            Plotly.purge(gd);\n",
       "            observer.disconnect();\n",
       "        }}\n",
       "}});\n",
       "\n",
       "// Listen for the removal of the full notebook cells\n",
       "var notebookContainer = gd.closest('#notebook-container');\n",
       "if (notebookContainer) {{\n",
       "    x.observe(notebookContainer, {childList: true});\n",
       "}}\n",
       "\n",
       "// Listen for the clearing of the current output cell\n",
       "var outputEl = gd.closest('.output');\n",
       "if (outputEl) {{\n",
       "    x.observe(outputEl, {childList: true});\n",
       "}}\n",
       "\n",
       "                        })                };                });            </script>        </div>"
      ]
     },
     "metadata": {},
     "output_type": "display_data"
    }
   ],
   "source": [
    "# 하이퍼파라미터 중요도\n",
    "optuna.visualization.plot_param_importances(study)"
   ]
  },
  {
   "cell_type": "code",
   "execution_count": null,
   "id": "aa403a60-2d6e-48b2-b01b-250819878234",
   "metadata": {},
   "outputs": [],
   "source": []
  },
  {
   "cell_type": "code",
   "execution_count": 20,
   "id": "6686f093-0c54-4e59-995d-71084031fe58",
   "metadata": {},
   "outputs": [
    {
     "name": "stdout",
     "output_type": "stream",
     "text": [
      "(25826,)\n",
      "(6041,)\n",
      "training model for CV #1\n",
      "training model for CV #2\n",
      "training model for CV #3\n",
      "training model for CV #4\n",
      "training model for CV #5\n"
     ]
    }
   ],
   "source": [
    "n_fold = 5\n",
    "cv = KFold(n_splits = n_fold, shuffle = True, random_state = 39)\n",
    "\n",
    "cat_val = np.zeros((X_train2.shape[0]))\n",
    "cat_test = np.zeros((X_test.shape[0]))\n",
    "\n",
    "print(cat_val.shape)\n",
    "print(cat_test.shape)\n",
    "\n",
    "for i, (i_trn, i_val) in enumerate(cv.split(X_train2, y_train2), 1):\n",
    "    print(f'training model for CV #{i}')\n",
    "    optuna_cat = CatBoostRegressor(\n",
    "        random_state = 39,\n",
    "        learning_rate = 0.2092401876135517, \n",
    "        n_estimators = 903, \n",
    "        max_depth = 10)\n",
    "\n",
    "    optuna_cat.fit(X_train2.loc[i_trn, :], y_train2[i_trn], verbose = False)\n",
    "\n",
    "    cat_val[i_val] = optuna_cat.predict(X_train2.loc[i_val, :])\n",
    "    cat_test += optuna_cat.predict(X_test) / n_fold"
   ]
  },
  {
   "cell_type": "code",
   "execution_count": 21,
   "id": "9e244681-f133-4d12-b3f3-535612e7245e",
   "metadata": {},
   "outputs": [
    {
     "data": {
      "text/html": [
       "<div>\n",
       "<style scoped>\n",
       "    .dataframe tbody tr th:only-of-type {\n",
       "        vertical-align: middle;\n",
       "    }\n",
       "\n",
       "    .dataframe tbody tr th {\n",
       "        vertical-align: top;\n",
       "    }\n",
       "\n",
       "    .dataframe thead th {\n",
       "        text-align: right;\n",
       "    }\n",
       "</style>\n",
       "<table border=\"1\" class=\"dataframe\">\n",
       "  <thead>\n",
       "    <tr style=\"text-align: right;\">\n",
       "      <th></th>\n",
       "      <th>threshold</th>\n",
       "      <th>score</th>\n",
       "    </tr>\n",
       "  </thead>\n",
       "  <tbody>\n",
       "    <tr>\n",
       "      <th>0</th>\n",
       "      <td>0.00</td>\n",
       "      <td>0.720824</td>\n",
       "    </tr>\n",
       "    <tr>\n",
       "      <th>1</th>\n",
       "      <td>0.02</td>\n",
       "      <td>0.728555</td>\n",
       "    </tr>\n",
       "    <tr>\n",
       "      <th>2</th>\n",
       "      <td>0.04</td>\n",
       "      <td>0.736536</td>\n",
       "    </tr>\n",
       "    <tr>\n",
       "      <th>3</th>\n",
       "      <td>0.06</td>\n",
       "      <td>0.746098</td>\n",
       "    </tr>\n",
       "    <tr>\n",
       "      <th>4</th>\n",
       "      <td>0.08</td>\n",
       "      <td>0.755769</td>\n",
       "    </tr>\n",
       "    <tr>\n",
       "      <th>5</th>\n",
       "      <td>0.10</td>\n",
       "      <td>0.764596</td>\n",
       "    </tr>\n",
       "    <tr>\n",
       "      <th>6</th>\n",
       "      <td>0.12</td>\n",
       "      <td>0.773775</td>\n",
       "    </tr>\n",
       "    <tr>\n",
       "      <th>7</th>\n",
       "      <td>0.14</td>\n",
       "      <td>0.782498</td>\n",
       "    </tr>\n",
       "    <tr>\n",
       "      <th>8</th>\n",
       "      <td>0.16</td>\n",
       "      <td>0.791106</td>\n",
       "    </tr>\n",
       "    <tr>\n",
       "      <th>9</th>\n",
       "      <td>0.18</td>\n",
       "      <td>0.801819</td>\n",
       "    </tr>\n",
       "    <tr>\n",
       "      <th>10</th>\n",
       "      <td>0.20</td>\n",
       "      <td>0.812092</td>\n",
       "    </tr>\n",
       "    <tr>\n",
       "      <th>11</th>\n",
       "      <td>0.22</td>\n",
       "      <td>0.822544</td>\n",
       "    </tr>\n",
       "    <tr>\n",
       "      <th>12</th>\n",
       "      <td>0.24</td>\n",
       "      <td>0.831860</td>\n",
       "    </tr>\n",
       "    <tr>\n",
       "      <th>13</th>\n",
       "      <td>0.26</td>\n",
       "      <td>0.841201</td>\n",
       "    </tr>\n",
       "    <tr>\n",
       "      <th>14</th>\n",
       "      <td>0.28</td>\n",
       "      <td>0.850588</td>\n",
       "    </tr>\n",
       "    <tr>\n",
       "      <th>15</th>\n",
       "      <td>0.30</td>\n",
       "      <td>0.858668</td>\n",
       "    </tr>\n",
       "    <tr>\n",
       "      <th>16</th>\n",
       "      <td>0.32</td>\n",
       "      <td>0.867291</td>\n",
       "    </tr>\n",
       "    <tr>\n",
       "      <th>17</th>\n",
       "      <td>0.34</td>\n",
       "      <td>0.875069</td>\n",
       "    </tr>\n",
       "    <tr>\n",
       "      <th>18</th>\n",
       "      <td>0.36</td>\n",
       "      <td>0.881572</td>\n",
       "    </tr>\n",
       "    <tr>\n",
       "      <th>19</th>\n",
       "      <td>0.38</td>\n",
       "      <td>0.889123</td>\n",
       "    </tr>\n",
       "    <tr>\n",
       "      <th>20</th>\n",
       "      <td>0.40</td>\n",
       "      <td>0.894342</td>\n",
       "    </tr>\n",
       "    <tr>\n",
       "      <th>21</th>\n",
       "      <td>0.42</td>\n",
       "      <td>0.900698</td>\n",
       "    </tr>\n",
       "    <tr>\n",
       "      <th>22</th>\n",
       "      <td>0.44</td>\n",
       "      <td>0.906612</td>\n",
       "    </tr>\n",
       "    <tr>\n",
       "      <th>23</th>\n",
       "      <td>0.46</td>\n",
       "      <td>0.910340</td>\n",
       "    </tr>\n",
       "    <tr>\n",
       "      <th>24</th>\n",
       "      <td>0.48</td>\n",
       "      <td>0.914456</td>\n",
       "    </tr>\n",
       "    <tr>\n",
       "      <th>25</th>\n",
       "      <td>0.50</td>\n",
       "      <td>0.918430</td>\n",
       "    </tr>\n",
       "    <tr>\n",
       "      <th>26</th>\n",
       "      <td>0.52</td>\n",
       "      <td>0.921637</td>\n",
       "    </tr>\n",
       "    <tr>\n",
       "      <th>27</th>\n",
       "      <td>0.54</td>\n",
       "      <td>0.923631</td>\n",
       "    </tr>\n",
       "    <tr>\n",
       "      <th>28</th>\n",
       "      <td>0.56</td>\n",
       "      <td>0.925185</td>\n",
       "    </tr>\n",
       "    <tr>\n",
       "      <th>29</th>\n",
       "      <td>0.58</td>\n",
       "      <td>0.925152</td>\n",
       "    </tr>\n",
       "    <tr>\n",
       "      <th>30</th>\n",
       "      <td>0.60</td>\n",
       "      <td>0.923335</td>\n",
       "    </tr>\n",
       "    <tr>\n",
       "      <th>31</th>\n",
       "      <td>0.62</td>\n",
       "      <td>0.921715</td>\n",
       "    </tr>\n",
       "    <tr>\n",
       "      <th>32</th>\n",
       "      <td>0.64</td>\n",
       "      <td>0.918551</td>\n",
       "    </tr>\n",
       "    <tr>\n",
       "      <th>33</th>\n",
       "      <td>0.66</td>\n",
       "      <td>0.913293</td>\n",
       "    </tr>\n",
       "    <tr>\n",
       "      <th>34</th>\n",
       "      <td>0.68</td>\n",
       "      <td>0.907200</td>\n",
       "    </tr>\n",
       "    <tr>\n",
       "      <th>35</th>\n",
       "      <td>0.70</td>\n",
       "      <td>0.900033</td>\n",
       "    </tr>\n",
       "    <tr>\n",
       "      <th>36</th>\n",
       "      <td>0.72</td>\n",
       "      <td>0.888509</td>\n",
       "    </tr>\n",
       "    <tr>\n",
       "      <th>37</th>\n",
       "      <td>0.74</td>\n",
       "      <td>0.875736</td>\n",
       "    </tr>\n",
       "    <tr>\n",
       "      <th>38</th>\n",
       "      <td>0.76</td>\n",
       "      <td>0.861840</td>\n",
       "    </tr>\n",
       "    <tr>\n",
       "      <th>39</th>\n",
       "      <td>0.78</td>\n",
       "      <td>0.845578</td>\n",
       "    </tr>\n",
       "    <tr>\n",
       "      <th>40</th>\n",
       "      <td>0.80</td>\n",
       "      <td>0.827331</td>\n",
       "    </tr>\n",
       "    <tr>\n",
       "      <th>41</th>\n",
       "      <td>0.82</td>\n",
       "      <td>0.804708</td>\n",
       "    </tr>\n",
       "    <tr>\n",
       "      <th>42</th>\n",
       "      <td>0.84</td>\n",
       "      <td>0.779392</td>\n",
       "    </tr>\n",
       "    <tr>\n",
       "      <th>43</th>\n",
       "      <td>0.86</td>\n",
       "      <td>0.746020</td>\n",
       "    </tr>\n",
       "    <tr>\n",
       "      <th>44</th>\n",
       "      <td>0.88</td>\n",
       "      <td>0.705613</td>\n",
       "    </tr>\n",
       "    <tr>\n",
       "      <th>45</th>\n",
       "      <td>0.90</td>\n",
       "      <td>0.659761</td>\n",
       "    </tr>\n",
       "    <tr>\n",
       "      <th>46</th>\n",
       "      <td>0.92</td>\n",
       "      <td>0.610603</td>\n",
       "    </tr>\n",
       "    <tr>\n",
       "      <th>47</th>\n",
       "      <td>0.94</td>\n",
       "      <td>0.548598</td>\n",
       "    </tr>\n",
       "    <tr>\n",
       "      <th>48</th>\n",
       "      <td>0.96</td>\n",
       "      <td>0.481041</td>\n",
       "    </tr>\n",
       "    <tr>\n",
       "      <th>49</th>\n",
       "      <td>0.98</td>\n",
       "      <td>0.404680</td>\n",
       "    </tr>\n",
       "  </tbody>\n",
       "</table>\n",
       "</div>"
      ],
      "text/plain": [
       "    threshold     score\n",
       "0        0.00  0.720824\n",
       "1        0.02  0.728555\n",
       "2        0.04  0.736536\n",
       "3        0.06  0.746098\n",
       "4        0.08  0.755769\n",
       "5        0.10  0.764596\n",
       "6        0.12  0.773775\n",
       "7        0.14  0.782498\n",
       "8        0.16  0.791106\n",
       "9        0.18  0.801819\n",
       "10       0.20  0.812092\n",
       "11       0.22  0.822544\n",
       "12       0.24  0.831860\n",
       "13       0.26  0.841201\n",
       "14       0.28  0.850588\n",
       "15       0.30  0.858668\n",
       "16       0.32  0.867291\n",
       "17       0.34  0.875069\n",
       "18       0.36  0.881572\n",
       "19       0.38  0.889123\n",
       "20       0.40  0.894342\n",
       "21       0.42  0.900698\n",
       "22       0.44  0.906612\n",
       "23       0.46  0.910340\n",
       "24       0.48  0.914456\n",
       "25       0.50  0.918430\n",
       "26       0.52  0.921637\n",
       "27       0.54  0.923631\n",
       "28       0.56  0.925185\n",
       "29       0.58  0.925152\n",
       "30       0.60  0.923335\n",
       "31       0.62  0.921715\n",
       "32       0.64  0.918551\n",
       "33       0.66  0.913293\n",
       "34       0.68  0.907200\n",
       "35       0.70  0.900033\n",
       "36       0.72  0.888509\n",
       "37       0.74  0.875736\n",
       "38       0.76  0.861840\n",
       "39       0.78  0.845578\n",
       "40       0.80  0.827331\n",
       "41       0.82  0.804708\n",
       "42       0.84  0.779392\n",
       "43       0.86  0.746020\n",
       "44       0.88  0.705613\n",
       "45       0.90  0.659761\n",
       "46       0.92  0.610603\n",
       "47       0.94  0.548598\n",
       "48       0.96  0.481041\n",
       "49       0.98  0.404680"
      ]
     },
     "execution_count": 21,
     "metadata": {},
     "output_type": "execute_result"
    }
   ],
   "source": [
    "scores = []\n",
    "for threshold in range(50) :\n",
    "    threshold = threshold / 50\n",
    "    pred = cat_val\n",
    "    pred = np.where(pred >= threshold, 1, 0)\n",
    "    score = f1_score(y_train, pred)\n",
    "    scores.append(score)\n",
    "\n",
    "temp1 = pd.DataFrame(np.linspace(0, 0.98, 50), columns = ['threshold'])\n",
    "temp2 = pd.DataFrame(scores, columns = ['score'])\n",
    "scores = pd.concat([temp1, temp2], axis = 1)\n",
    "scores\n"
   ]
  },
  {
   "cell_type": "code",
   "execution_count": 22,
   "id": "563c9ed2-5aa7-4d8c-85a0-4b2f2e6b51eb",
   "metadata": {},
   "outputs": [
    {
     "data": {
      "text/plain": [
       "Counter({0.0: 5488, 1.0: 553})"
      ]
     },
     "execution_count": 22,
     "metadata": {},
     "output_type": "execute_result"
    }
   ],
   "source": [
    "answer = np.zeros(cat_test.shape[0])\n",
    "\n",
    "for i in range(cat_test.shape[0]) :\n",
    "  if cat_test[i] >= 0.56 :\n",
    "    answer[i] = 1\n",
    "\n",
    "Counter(answer)"
   ]
  },
  {
   "cell_type": "code",
   "execution_count": 23,
   "id": "3dac8eb4-d8e1-4641-aaeb-8e7afc0567a6",
   "metadata": {},
   "outputs": [],
   "source": [
    "# 제출\n",
    "\n",
    "submission_preds = answer\n",
    "submission = pd.read_csv('/home/studio-lab-user/MYDATA/Construction Machine Oil/open/sample_submission.csv')\n",
    "submission['Y_LABEL'] = submission_preds\n",
    "submission.to_csv('/home/studio-lab-user/MYDATA/Construction Machine Oil/결과/submission_catboost_ADASYN1.csv', index = False)"
   ]
  },
  {
   "cell_type": "code",
   "execution_count": null,
   "id": "0fdd7893-ff8c-4253-823e-deb466d22ab3",
   "metadata": {},
   "outputs": [],
   "source": []
  },
  {
   "cell_type": "code",
   "execution_count": null,
   "id": "52270f92-99f9-4acb-ac7e-5cda10bb7163",
   "metadata": {},
   "outputs": [],
   "source": []
  },
  {
   "cell_type": "code",
   "execution_count": null,
   "id": "4ad6bd31-a769-478c-97b2-f0e7a76ec8de",
   "metadata": {},
   "outputs": [],
   "source": []
  },
  {
   "cell_type": "code",
   "execution_count": null,
   "id": "adf493ca-a2e9-47fa-a29c-1b72c2fcb48f",
   "metadata": {},
   "outputs": [],
   "source": []
  },
  {
   "cell_type": "code",
   "execution_count": null,
   "id": "a5e84158-5930-42c9-a75b-fab5876a19ca",
   "metadata": {},
   "outputs": [],
   "source": []
  },
  {
   "cell_type": "code",
   "execution_count": null,
   "id": "0d396f65-8636-4b45-b995-7ebc5c2f677d",
   "metadata": {},
   "outputs": [],
   "source": []
  },
  {
   "cell_type": "code",
   "execution_count": null,
   "id": "cb68f7d7-0122-4a8c-b72a-a11ef241da96",
   "metadata": {},
   "outputs": [],
   "source": []
  },
  {
   "cell_type": "code",
   "execution_count": null,
   "id": "581c1307-6707-43fd-bafb-f3c763936941",
   "metadata": {},
   "outputs": [],
   "source": []
  },
  {
   "cell_type": "code",
   "execution_count": null,
   "id": "d6b43dcb-5a7a-4ac8-a031-e0c0c414f60d",
   "metadata": {},
   "outputs": [],
   "source": []
  },
  {
   "cell_type": "code",
   "execution_count": null,
   "id": "15267131-167a-451d-8bb2-5077719daf74",
   "metadata": {},
   "outputs": [],
   "source": []
  },
  {
   "cell_type": "code",
   "execution_count": null,
   "id": "d1074e92-d543-4c12-9ef4-97c26a9e74d4",
   "metadata": {},
   "outputs": [],
   "source": []
  },
  {
   "cell_type": "code",
   "execution_count": null,
   "id": "1a43b93f-3357-42c0-b027-9ba54e696b35",
   "metadata": {},
   "outputs": [],
   "source": []
  },
  {
   "cell_type": "code",
   "execution_count": null,
   "id": "87cbe5a8-5157-46e1-a778-63ba8c100cdf",
   "metadata": {},
   "outputs": [],
   "source": []
  },
  {
   "cell_type": "code",
   "execution_count": null,
   "id": "7e1f2152-2c8c-46d4-8ee0-64ccb6f6d6c5",
   "metadata": {},
   "outputs": [],
   "source": []
  },
  {
   "cell_type": "code",
   "execution_count": null,
   "id": "25158db1-d96d-4a69-b527-6c5f3aafb557",
   "metadata": {},
   "outputs": [],
   "source": []
  },
  {
   "cell_type": "code",
   "execution_count": null,
   "id": "e7cef174-b16c-4c86-af9b-81256fa7aaa1",
   "metadata": {},
   "outputs": [],
   "source": []
  }
 ],
 "metadata": {
  "colab": {
   "collapsed_sections": [],
   "provenance": []
  },
  "gpuClass": "standard",
  "kernelspec": {
   "display_name": "Python 3 (ipykernel)",
   "language": "python",
   "name": "python3"
  },
  "language_info": {
   "codemirror_mode": {
    "name": "ipython",
    "version": 3
   },
   "file_extension": ".py",
   "mimetype": "text/x-python",
   "name": "python",
   "nbconvert_exporter": "python",
   "pygments_lexer": "ipython3",
   "version": "3.9.13"
  }
 },
 "nbformat": 4,
 "nbformat_minor": 5
}
